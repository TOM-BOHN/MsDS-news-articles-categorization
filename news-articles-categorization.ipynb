{
 "cells": [
  {
   "cell_type": "code",
   "execution_count": 1,
   "id": "233b5e3c",
   "metadata": {
    "_cell_guid": "b1076dfc-b9ad-4769-8c92-a6c4dae69d19",
    "_uuid": "8f2839f25d086af736a60e9eeb907d3b93b6e0e5",
    "execution": {
     "iopub.execute_input": "2023-09-07T20:33:51.627579Z",
     "iopub.status.busy": "2023-09-07T20:33:51.627029Z",
     "iopub.status.idle": "2023-09-07T20:33:51.634145Z",
     "shell.execute_reply": "2023-09-07T20:33:51.632530Z"
    },
    "papermill": {
     "duration": 0.051245,
     "end_time": "2023-09-07T20:33:51.637434",
     "exception": false,
     "start_time": "2023-09-07T20:33:51.586189",
     "status": "completed"
    },
    "tags": []
   },
   "outputs": [],
   "source": [
    "# This Python 3 environment comes with many helpful analytics libraries installed\n",
    "# It is defined by the kaggle/python Docker image: https://github.com/kaggle/docker-python"
   ]
  },
  {
   "cell_type": "markdown",
   "id": "21e96216",
   "metadata": {
    "papermill": {
     "duration": 0.029436,
     "end_time": "2023-09-07T20:33:51.691905",
     "exception": false,
     "start_time": "2023-09-07T20:33:51.662469",
     "status": "completed"
    },
    "tags": []
   },
   "source": [
    "# News Articles Categorization\n",
    "**Thomas Bohn**   --   **2023-08-25**\n",
    "\n",
    "A report focused on modeling news artical categorization for BBC News focused on the application of natural language processing, unsupervised learning with matrxi factorization, and a comparison to supervised learning.\n",
    "\n",
    "--  [Main Report](https://github.com/TOM-BOHN/MsDS-news-articles-categorization/blob/main/news-articles-categorization.ipynb)  --  [Github Repo](https://github.com/TOM-BOHN/MsDS-news-articles-categorization)  --  [Presentation Slides](TBD)  --  [Presentation Video](TBD) --"
   ]
  },
  {
   "cell_type": "markdown",
   "id": "dbd0b4a3",
   "metadata": {
    "papermill": {
     "duration": 0.024543,
     "end_time": "2023-09-07T20:33:51.744311",
     "exception": false,
     "start_time": "2023-09-07T20:33:51.719768",
     "status": "completed"
    },
    "tags": []
   },
   "source": [
    "# 1.&nbsp;Introduction"
   ]
  },
  {
   "cell_type": "code",
   "execution_count": null,
   "id": "275be4c7",
   "metadata": {
    "papermill": {
     "duration": 0.023953,
     "end_time": "2023-09-07T20:33:51.792717",
     "exception": false,
     "start_time": "2023-09-07T20:33:51.768764",
     "status": "completed"
    },
    "tags": []
   },
   "outputs": [],
   "source": []
  },
  {
   "cell_type": "markdown",
   "id": "8817b857",
   "metadata": {
    "papermill": {
     "duration": 0.032893,
     "end_time": "2023-09-07T20:33:51.851382",
     "exception": false,
     "start_time": "2023-09-07T20:33:51.818489",
     "status": "completed"
    },
    "tags": []
   },
   "source": [
    "## Python Libraries\n",
    "\n",
    "The following python libraries are used in this notebook."
   ]
  },
  {
   "cell_type": "code",
   "execution_count": 2,
   "id": "2c3c2bab",
   "metadata": {
    "execution": {
     "iopub.execute_input": "2023-09-07T20:33:51.907231Z",
     "iopub.status.busy": "2023-09-07T20:33:51.906595Z",
     "iopub.status.idle": "2023-09-07T20:33:55.129859Z",
     "shell.execute_reply": "2023-09-07T20:33:55.128355Z"
    },
    "papermill": {
     "duration": 3.251872,
     "end_time": "2023-09-07T20:33:55.133020",
     "exception": false,
     "start_time": "2023-09-07T20:33:51.881148",
     "status": "completed"
    },
    "tags": []
   },
   "outputs": [
    {
     "name": "stderr",
     "output_type": "stream",
     "text": [
      "/opt/conda/lib/python3.10/site-packages/scipy/__init__.py:146: UserWarning: A NumPy version >=1.16.5 and <1.23.0 is required for this version of SciPy (detected version 1.23.5\n",
      "  warnings.warn(f\"A NumPy version >={np_minversion} and <{np_maxversion}\"\n"
     ]
    }
   ],
   "source": [
    "# File Connection and File Manipulation\n",
    "import os\n",
    "# from google.colab import drive\n",
    "\n",
    "# Basic Data Science Toolkits\n",
    "import pandas as pd\n",
    "import numpy as np\n",
    "import math\n",
    "import time\n",
    "import itertools as it\n",
    "\n",
    "# Data Vizualization\n",
    "import matplotlib.pyplot as plt\n",
    "from matplotlib.colors import Normalize\n",
    "from matplotlib import ticker\n",
    "import seaborn as sns\n",
    "\n",
    "# Text Mining\n",
    "import string\n",
    "from textblob import TextBlob\n",
    "\n",
    "\n",
    "#NLP Text Cleanup\n",
    "import re\n",
    "import nltk\n",
    "import nltk.corpus\n",
    "from nltk.corpus import stopwords\n",
    "\n",
    "# NLP Tokenizer and Lemmatizer\n",
    "import nltk\n",
    "import nltk.corpus\n",
    "from nltk.corpus import wordnet\n",
    "from nltk.tokenize import word_tokenize\n",
    "from nltk.stem import WordNetLemmatizer\n",
    "from string import digits\n",
    "\n",
    "# Feature Engineering\n",
    "import sklearn\n",
    "from sklearn.feature_extraction.text import TfidfVectorizer\n",
    "\n",
    "#Data Model Unsupervised NFM\n",
    "import sklearn\n",
    "from sklearn.decomposition import NMF\n",
    "\n",
    "#Data Model Unsupervised SVD\n",
    "import sklearn\n",
    "from sklearn.decomposition import TruncatedSVD\n",
    "\n",
    "# Data Models\n",
    "import sklearn\n",
    "from sklearn.ensemble import RandomForestClassifier\n",
    "\n",
    "# Data Model Scores\n",
    "from sklearn.metrics import roc_auc_score\n",
    "from sklearn.metrics import accuracy_score\n",
    "from sklearn.metrics import precision_score\n",
    "from sklearn.metrics import recall_score\n",
    "from sklearn.metrics import f1_score\n",
    "from sklearn.metrics import roc_curve\n",
    "\n",
    "# Import Data Model Evaluations\n",
    "from sklearn.model_selection import train_test_split\n",
    "from sklearn.datasets import make_classification\n",
    "from sklearn.metrics import make_scorer\n",
    "\n",
    "# Cross Validation, Grid Search, and K-Fold\n",
    "from sklearn.model_selection import cross_validate\n",
    "from sklearn.model_selection import cross_val_score\n",
    "from sklearn.model_selection import GridSearchCV\n",
    "from sklearn.model_selection import RepeatedStratifiedKFold"
   ]
  },
  {
   "cell_type": "markdown",
   "id": "5ad7c4e0",
   "metadata": {
    "papermill": {
     "duration": 0.022364,
     "end_time": "2023-09-07T20:33:55.178884",
     "exception": false,
     "start_time": "2023-09-07T20:33:55.156520",
     "status": "completed"
    },
    "tags": []
   },
   "source": [
    "## Installing NLTK Data"
   ]
  },
  {
   "cell_type": "code",
   "execution_count": 3,
   "id": "4514c801",
   "metadata": {
    "execution": {
     "iopub.execute_input": "2023-09-07T20:33:55.228029Z",
     "iopub.status.busy": "2023-09-07T20:33:55.226435Z",
     "iopub.status.idle": "2023-09-07T20:34:00.121036Z",
     "shell.execute_reply": "2023-09-07T20:34:00.119634Z"
    },
    "papermill": {
     "duration": 4.922083,
     "end_time": "2023-09-07T20:34:00.124154",
     "exception": false,
     "start_time": "2023-09-07T20:33:55.202071",
     "status": "completed"
    },
    "tags": []
   },
   "outputs": [
    {
     "data": {
      "text/plain": [
       "['The', 'Fulton', 'County', 'Grand', 'Jury', 'said', ...]"
      ]
     },
     "execution_count": 3,
     "metadata": {},
     "output_type": "execute_result"
    }
   ],
   "source": [
    "#Install the necessary datasets/models for specific functions to work\n",
    "nltk.download('popular', quiet=True)\n",
    "# Test to confirm the download worked\n",
    "from nltk.corpus import brown\n",
    "brown.words()\n",
    "#dir(nltk)"
   ]
  },
  {
   "cell_type": "code",
   "execution_count": 4,
   "id": "a688c910",
   "metadata": {
    "execution": {
     "iopub.execute_input": "2023-09-07T20:34:00.176637Z",
     "iopub.status.busy": "2023-09-07T20:34:00.176193Z",
     "iopub.status.idle": "2023-09-07T20:34:01.671894Z",
     "shell.execute_reply": "2023-09-07T20:34:01.669702Z"
    },
    "papermill": {
     "duration": 1.526496,
     "end_time": "2023-09-07T20:34:01.675837",
     "exception": false,
     "start_time": "2023-09-07T20:34:00.149341",
     "status": "completed"
    },
    "tags": []
   },
   "outputs": [
    {
     "name": "stdout",
     "output_type": "stream",
     "text": [
      "/usr/share/nltk_data/corpora\n",
      "/usr/share/nltk_data/corpora/wordnet\n"
     ]
    }
   ],
   "source": [
    "# unzip the wordnet file as a workaround for a bug\n",
    "!unzip -q -o /usr/share/nltk_data/corpora/wordnet.zip -d /usr/share/nltk_data/corpora/\n",
    "# verify that paths exist\n",
    "#!ls /usr/share/nltk_data/corpora\n",
    "print(nltk.find('corpora'))\n",
    "print(nltk.find('corpora/wordnet'))"
   ]
  },
  {
   "cell_type": "markdown",
   "id": "61d7e088",
   "metadata": {
    "papermill": {
     "duration": 0.024051,
     "end_time": "2023-09-07T20:34:01.724453",
     "exception": false,
     "start_time": "2023-09-07T20:34:01.700402",
     "status": "completed"
    },
    "tags": []
   },
   "source": [
    "## Global Variables\n",
    "\n",
    "The following are global variables referenced in this notebook."
   ]
  },
  {
   "cell_type": "code",
   "execution_count": 5,
   "id": "c001ff39",
   "metadata": {
    "execution": {
     "iopub.execute_input": "2023-09-07T20:34:01.776940Z",
     "iopub.status.busy": "2023-09-07T20:34:01.776438Z",
     "iopub.status.idle": "2023-09-07T20:34:01.784904Z",
     "shell.execute_reply": "2023-09-07T20:34:01.783311Z"
    },
    "papermill": {
     "duration": 0.038328,
     "end_time": "2023-09-07T20:34:01.787560",
     "exception": false,
     "start_time": "2023-09-07T20:34:01.749232",
     "status": "completed"
    },
    "tags": []
   },
   "outputs": [
    {
     "name": "stdout",
     "output_type": "stream",
     "text": [
      "Level of Detail for functions is set to: 2\n"
     ]
    }
   ],
   "source": [
    "# Global Debug flag used to turn on and off more chatty blocks of code\n",
    "gDEBUG = False\n",
    "if gDEBUG: print('Debug is set to:', gDEBUG)\n",
    "# Global Level of Detail of table stats and details\n",
    "gLOD = 2\n",
    "print('Level of Detail for functions is set to:', gLOD)"
   ]
  },
  {
   "cell_type": "markdown",
   "id": "b336c919",
   "metadata": {
    "papermill": {
     "duration": 0.025253,
     "end_time": "2023-09-07T20:34:01.837777",
     "exception": false,
     "start_time": "2023-09-07T20:34:01.812524",
     "status": "completed"
    },
    "tags": []
   },
   "source": [
    "# 2.&nbsp;Data Source"
   ]
  },
  {
   "cell_type": "code",
   "execution_count": 6,
   "id": "209b0867",
   "metadata": {
    "execution": {
     "iopub.execute_input": "2023-09-07T20:34:01.890110Z",
     "iopub.status.busy": "2023-09-07T20:34:01.889689Z",
     "iopub.status.idle": "2023-09-07T20:34:01.898514Z",
     "shell.execute_reply": "2023-09-07T20:34:01.897499Z"
    },
    "papermill": {
     "duration": 0.038606,
     "end_time": "2023-09-07T20:34:01.901472",
     "exception": false,
     "start_time": "2023-09-07T20:34:01.862866",
     "status": "completed"
    },
    "tags": []
   },
   "outputs": [
    {
     "name": "stdout",
     "output_type": "stream",
     "text": [
      "/kaggle/input/learn-ai-bbc/BBC News Train.csv\n",
      "/kaggle/input/learn-ai-bbc/BBC News Sample Solution.csv\n",
      "/kaggle/input/learn-ai-bbc/BBC News Test.csv\n"
     ]
    }
   ],
   "source": [
    "# Input data files are available in the read-only \"../input/\" directory\n",
    "# List all files under the input directory\n",
    "for dirname, _, filenames in os.walk('/kaggle/input'):\n",
    "    for filename in filenames:\n",
    "        print(os.path.join(dirname, filename))"
   ]
  },
  {
   "cell_type": "code",
   "execution_count": 7,
   "id": "f4fd87fb",
   "metadata": {
    "execution": {
     "iopub.execute_input": "2023-09-07T20:34:01.954833Z",
     "iopub.status.busy": "2023-09-07T20:34:01.954449Z",
     "iopub.status.idle": "2023-09-07T20:34:01.960289Z",
     "shell.execute_reply": "2023-09-07T20:34:01.958929Z"
    },
    "papermill": {
     "duration": 0.036202,
     "end_time": "2023-09-07T20:34:01.963234",
     "exception": false,
     "start_time": "2023-09-07T20:34:01.927032",
     "status": "completed"
    },
    "tags": []
   },
   "outputs": [],
   "source": [
    "#label file paths\n",
    "path_dir = '/kaggle/input/learn-ai-bbc/'\n",
    "train_path = path_dir + 'BBC News Train.csv'\n",
    "test_path = path_dir + 'BBC News Test.csv'\n",
    "sample_solution_path = path_dir + 'BBC News Sample Solution.csv'"
   ]
  },
  {
   "cell_type": "code",
   "execution_count": 8,
   "id": "13d41bc3",
   "metadata": {
    "execution": {
     "iopub.execute_input": "2023-09-07T20:34:02.021517Z",
     "iopub.status.busy": "2023-09-07T20:34:02.021073Z",
     "iopub.status.idle": "2023-09-07T20:34:02.244288Z",
     "shell.execute_reply": "2023-09-07T20:34:02.242366Z"
    },
    "papermill": {
     "duration": 0.259601,
     "end_time": "2023-09-07T20:34:02.247440",
     "exception": false,
     "start_time": "2023-09-07T20:34:01.987839",
     "status": "completed"
    },
    "tags": []
   },
   "outputs": [],
   "source": [
    "#import data\n",
    "df_train = pd.read_csv(train_path)\n",
    "df_test = pd.read_csv(test_path)\n",
    "df_sample_solution = pd.read_csv(sample_solution_path)\n",
    "\n",
    "#assign names to tables\n",
    "df_train.name = 'df_train'\n",
    "df_test.name = 'df_test'\n",
    "df_sample_solution.name = 'df_sample_solution'"
   ]
  },
  {
   "cell_type": "code",
   "execution_count": 9,
   "id": "14ca1695",
   "metadata": {
    "execution": {
     "iopub.execute_input": "2023-09-07T20:34:02.300395Z",
     "iopub.status.busy": "2023-09-07T20:34:02.299450Z",
     "iopub.status.idle": "2023-09-07T20:34:02.310918Z",
     "shell.execute_reply": "2023-09-07T20:34:02.309680Z"
    },
    "papermill": {
     "duration": 0.040692,
     "end_time": "2023-09-07T20:34:02.314175",
     "exception": false,
     "start_time": "2023-09-07T20:34:02.273483",
     "status": "completed"
    },
    "tags": []
   },
   "outputs": [],
   "source": [
    "# Create a function to print key table details\n",
    "def quick_table_details (df_name, df, level_of_detail = 10):\n",
    "  # describe the shape and column summary\n",
    "  if level_of_detail >= 1:\n",
    "    print('\\n####', df_name, '####')\n",
    "    num_rows = df.shape[0]\n",
    "    num_cols = df.shape[1]\n",
    "    print('number of features (columns) = ' + str(num_cols))\n",
    "    print('number of observations (rows) = ' + str(num_rows))\n",
    "    print('----------------------------', '\\n')\n",
    "  # print the datatype counts\n",
    "  if level_of_detail >= 2:\n",
    "    print('DataType Counts:')\n",
    "    print(df.dtypes.value_counts())\n",
    "    print('----------------------------', '\\n')\n",
    "  # print a full list of column names\n",
    "  if level_of_detail >= 3:\n",
    "    print('Columns:')\n",
    "    print(df.columns)\n",
    "    print('----------------------------', '\\n')\n",
    "  #  expanded table details\n",
    "  if level_of_detail >= 4:\n",
    "    print('Description:')\n",
    "    print(df.describe(include='all'))\n",
    "    print('----------------------------', '\\n')\n",
    "    print('Info:')\n",
    "    print(df.info())\n",
    "    print('----------------------------', '\\n')\n",
    "  #  table records preview\n",
    "  if level_of_detail >= 5:\n",
    "    print('Table Preview:')\n",
    "    x_records = 3\n",
    "    print(df.head(x_records))\n",
    "    print('....')\n",
    "    print(df.tail(x_records))\n",
    "    print('----------------------------', '\\n')\n",
    "        "
   ]
  },
  {
   "cell_type": "code",
   "execution_count": 10,
   "id": "eaff8eae",
   "metadata": {
    "execution": {
     "iopub.execute_input": "2023-09-07T20:34:02.365909Z",
     "iopub.status.busy": "2023-09-07T20:34:02.365489Z",
     "iopub.status.idle": "2023-09-07T20:34:02.473283Z",
     "shell.execute_reply": "2023-09-07T20:34:02.471737Z"
    },
    "papermill": {
     "duration": 0.139615,
     "end_time": "2023-09-07T20:34:02.478326",
     "exception": false,
     "start_time": "2023-09-07T20:34:02.338711",
     "status": "completed"
    },
    "tags": []
   },
   "outputs": [
    {
     "name": "stdout",
     "output_type": "stream",
     "text": [
      "\n",
      "#### df_train ####\n",
      "number of features (columns) = 3\n",
      "number of observations (rows) = 1490\n",
      "---------------------------- \n",
      "\n",
      "DataType Counts:\n",
      "object    2\n",
      "int64     1\n",
      "dtype: int64\n",
      "---------------------------- \n",
      "\n",
      "Columns:\n",
      "Index(['ArticleId', 'Text', 'Category'], dtype='object')\n",
      "---------------------------- \n",
      "\n",
      "Description:\n",
      "          ArticleId                                               Text  \\\n",
      "count   1490.000000                                               1490   \n",
      "unique          NaN                                               1440   \n",
      "top             NaN  microsoft seeking spyware trojan microsoft is ...   \n",
      "freq            NaN                                                  2   \n",
      "mean    1119.696644                                                NaN   \n",
      "std      641.826283                                                NaN   \n",
      "min        2.000000                                                NaN   \n",
      "25%      565.250000                                                NaN   \n",
      "50%     1112.500000                                                NaN   \n",
      "75%     1680.750000                                                NaN   \n",
      "max     2224.000000                                                NaN   \n",
      "\n",
      "       Category  \n",
      "count      1490  \n",
      "unique        5  \n",
      "top       sport  \n",
      "freq        346  \n",
      "mean        NaN  \n",
      "std         NaN  \n",
      "min         NaN  \n",
      "25%         NaN  \n",
      "50%         NaN  \n",
      "75%         NaN  \n",
      "max         NaN  \n",
      "---------------------------- \n",
      "\n",
      "Info:\n",
      "<class 'pandas.core.frame.DataFrame'>\n",
      "RangeIndex: 1490 entries, 0 to 1489\n",
      "Data columns (total 3 columns):\n",
      " #   Column     Non-Null Count  Dtype \n",
      "---  ------     --------------  ----- \n",
      " 0   ArticleId  1490 non-null   int64 \n",
      " 1   Text       1490 non-null   object\n",
      " 2   Category   1490 non-null   object\n",
      "dtypes: int64(1), object(2)\n",
      "memory usage: 35.0+ KB\n",
      "None\n",
      "---------------------------- \n",
      "\n",
      "Table Preview:\n",
      "   ArticleId                                               Text  Category\n",
      "0       1833  worldcom ex-boss launches defence lawyers defe...  business\n",
      "1        154  german business confidence slides german busin...  business\n",
      "2       1101  bbc poll indicates economic gloom citizens in ...  business\n",
      "....\n",
      "      ArticleId                                               Text  Category\n",
      "1487       1590  weak dollar hits reuters revenues at media gro...  business\n",
      "1488       1587  apple ipod family expands market apple has exp...      tech\n",
      "1489        538  santy worm makes unwelcome visit thousands of ...      tech\n",
      "---------------------------- \n",
      "\n",
      "\n",
      "#### df_test ####\n",
      "number of features (columns) = 2\n",
      "number of observations (rows) = 735\n",
      "---------------------------- \n",
      "\n",
      "DataType Counts:\n",
      "int64     1\n",
      "object    1\n",
      "dtype: int64\n",
      "---------------------------- \n",
      "\n",
      "Columns:\n",
      "Index(['ArticleId', 'Text'], dtype='object')\n",
      "---------------------------- \n",
      "\n",
      "Description:\n",
      "          ArticleId                                               Text\n",
      "count    735.000000                                                735\n",
      "unique          NaN                                                722\n",
      "top             NaN  boothroyd calls for lords speaker betty boothr...\n",
      "freq            NaN                                                  2\n",
      "mean    1099.424490                                                NaN\n",
      "std      643.925514                                                NaN\n",
      "min        1.000000                                                NaN\n",
      "25%      545.500000                                                NaN\n",
      "50%     1116.000000                                                NaN\n",
      "75%     1657.500000                                                NaN\n",
      "max     2225.000000                                                NaN\n",
      "---------------------------- \n",
      "\n",
      "Info:\n",
      "<class 'pandas.core.frame.DataFrame'>\n",
      "RangeIndex: 735 entries, 0 to 734\n",
      "Data columns (total 2 columns):\n",
      " #   Column     Non-Null Count  Dtype \n",
      "---  ------     --------------  ----- \n",
      " 0   ArticleId  735 non-null    int64 \n",
      " 1   Text       735 non-null    object\n",
      "dtypes: int64(1), object(1)\n",
      "memory usage: 11.6+ KB\n",
      "None\n",
      "---------------------------- \n",
      "\n",
      "Table Preview:\n",
      "   ArticleId                                               Text\n",
      "0       1018  qpr keeper day heads for preston queens park r...\n",
      "1       1319  software watching while you work software that...\n",
      "2       1138  d arcy injury adds to ireland woe gordon d arc...\n",
      "....\n",
      "     ArticleId                                               Text\n",
      "732       1704  sport betting rules in spotlight a group of mp...\n",
      "733        206  alfa romeos  to get gm engines  fiat is to sto...\n",
      "734        471  citizenship event for 18s touted citizenship c...\n",
      "---------------------------- \n",
      "\n",
      "\n",
      "#### df_sample_solution ####\n",
      "number of features (columns) = 2\n",
      "number of observations (rows) = 735\n",
      "---------------------------- \n",
      "\n",
      "DataType Counts:\n",
      "int64     1\n",
      "object    1\n",
      "dtype: int64\n",
      "---------------------------- \n",
      "\n",
      "Columns:\n",
      "Index(['ArticleId', 'Category'], dtype='object')\n",
      "---------------------------- \n",
      "\n",
      "Description:\n",
      "          ArticleId Category\n",
      "count    735.000000      735\n",
      "unique          NaN        5\n",
      "top             NaN    sport\n",
      "freq            NaN      147\n",
      "mean    1099.424490      NaN\n",
      "std      643.925514      NaN\n",
      "min        1.000000      NaN\n",
      "25%      545.500000      NaN\n",
      "50%     1116.000000      NaN\n",
      "75%     1657.500000      NaN\n",
      "max     2225.000000      NaN\n",
      "---------------------------- \n",
      "\n",
      "Info:\n",
      "<class 'pandas.core.frame.DataFrame'>\n",
      "RangeIndex: 735 entries, 0 to 734\n",
      "Data columns (total 2 columns):\n",
      " #   Column     Non-Null Count  Dtype \n",
      "---  ------     --------------  ----- \n",
      " 0   ArticleId  735 non-null    int64 \n",
      " 1   Category   735 non-null    object\n",
      "dtypes: int64(1), object(1)\n",
      "memory usage: 11.6+ KB\n",
      "None\n",
      "---------------------------- \n",
      "\n",
      "Table Preview:\n",
      "   ArticleId  Category\n",
      "0       1018     sport\n",
      "1       1319      tech\n",
      "2       1138  business\n",
      "....\n",
      "     ArticleId       Category\n",
      "732       1704       business\n",
      "733        206  entertainment\n",
      "734        471       politics\n",
      "---------------------------- \n",
      "\n"
     ]
    }
   ],
   "source": [
    "quick_table_details (df_train.name, df_train, level_of_detail = 10)\n",
    "quick_table_details (df_test.name, df_test, level_of_detail = 10)\n",
    "quick_table_details (df_sample_solution.name, df_sample_solution, level_of_detail = 10)"
   ]
  },
  {
   "cell_type": "markdown",
   "id": "84ab3fbb",
   "metadata": {
    "papermill": {
     "duration": 0.028168,
     "end_time": "2023-09-07T20:34:02.531397",
     "exception": false,
     "start_time": "2023-09-07T20:34:02.503229",
     "status": "completed"
    },
    "tags": []
   },
   "source": []
  },
  {
   "cell_type": "markdown",
   "id": "51139046",
   "metadata": {
    "papermill": {
     "duration": 0.024302,
     "end_time": "2023-09-07T20:34:02.580179",
     "exception": false,
     "start_time": "2023-09-07T20:34:02.555877",
     "status": "completed"
    },
    "tags": []
   },
   "source": []
  },
  {
   "cell_type": "markdown",
   "id": "357130eb",
   "metadata": {
    "papermill": {
     "duration": 0.024051,
     "end_time": "2023-09-07T20:34:02.628612",
     "exception": false,
     "start_time": "2023-09-07T20:34:02.604561",
     "status": "completed"
    },
    "tags": []
   },
   "source": [
    "# 3.&nbsp;Exploratory Data Analysis (EDA)"
   ]
  },
  {
   "cell_type": "markdown",
   "id": "b02e46ec",
   "metadata": {
    "papermill": {
     "duration": 0.023772,
     "end_time": "2023-09-07T20:34:02.678071",
     "exception": false,
     "start_time": "2023-09-07T20:34:02.654299",
     "status": "completed"
    },
    "tags": []
   },
   "source": [
    "## Review the Distribution of Categories"
   ]
  },
  {
   "cell_type": "code",
   "execution_count": 11,
   "id": "7ca74b27",
   "metadata": {
    "execution": {
     "iopub.execute_input": "2023-09-07T20:34:02.731809Z",
     "iopub.status.busy": "2023-09-07T20:34:02.731368Z",
     "iopub.status.idle": "2023-09-07T20:34:02.738032Z",
     "shell.execute_reply": "2023-09-07T20:34:02.737097Z"
    },
    "papermill": {
     "duration": 0.037279,
     "end_time": "2023-09-07T20:34:02.741016",
     "exception": false,
     "start_time": "2023-09-07T20:34:02.703737",
     "status": "completed"
    },
    "tags": []
   },
   "outputs": [
    {
     "name": "stdout",
     "output_type": "stream",
     "text": [
      "columns in df_train: Index(['ArticleId', 'Text', 'Category'], dtype='object')\n",
      "columns in df_test: Index(['ArticleId', 'Text'], dtype='object')\n",
      "columns in df_sample_solution: Index(['ArticleId', 'Category'], dtype='object')\n"
     ]
    }
   ],
   "source": [
    "print('columns in df_train:', df_train.columns)\n",
    "print('columns in df_test:', df_test.columns)\n",
    "print('columns in df_sample_solution:', df_sample_solution.columns)"
   ]
  },
  {
   "cell_type": "code",
   "execution_count": 12,
   "id": "73b88d90",
   "metadata": {
    "execution": {
     "iopub.execute_input": "2023-09-07T20:34:02.794201Z",
     "iopub.status.busy": "2023-09-07T20:34:02.793781Z",
     "iopub.status.idle": "2023-09-07T20:34:02.816781Z",
     "shell.execute_reply": "2023-09-07T20:34:02.815578Z"
    },
    "papermill": {
     "duration": 0.052932,
     "end_time": "2023-09-07T20:34:02.819519",
     "exception": false,
     "start_time": "2023-09-07T20:34:02.766587",
     "status": "completed"
    },
    "tags": []
   },
   "outputs": [
    {
     "name": "stdout",
     "output_type": "stream",
     "text": [
      "        Category  Count  Pct of Total Pct of Total Text\n",
      "0          sport    346          0.23              23 %\n",
      "1       business    336          0.23              23 %\n",
      "2       politics    274          0.18              18 %\n",
      "3  entertainment    273          0.18              18 %\n",
      "4           tech    261          0.18              18 %\n"
     ]
    }
   ],
   "source": [
    "def count_field(df, field = 'Category'):\n",
    "    df_cat_count = pd.DataFrame(df[field].value_counts()).reset_index()\n",
    "    df_cat_count = df_cat_count.rename(columns={'Category': 'Count', 'index': 'Category'})\n",
    "    df_cat_count = df_cat_count.sort_values(by = ['Count'], ascending = False)\n",
    "    df_cat_count['Pct of Total'] = round(df_cat_count['Count'] / df_cat_count['Count'].sum(), 2)\n",
    "    df_cat_count['Pct of Total Text'] = (df_cat_count['Pct of Total'] * 100).apply(int).apply(str) + ' %'\n",
    "    return df_cat_count\n",
    "\n",
    "df_cat_count_train = count_field(df = df_train, field = 'Category')\n",
    "df_cat_count_df_sample_solution = count_field(df = df_sample_solution, field = 'Category')\n",
    "\n",
    "print(df_cat_count_train)"
   ]
  },
  {
   "cell_type": "code",
   "execution_count": 13,
   "id": "f23f1ae6",
   "metadata": {
    "execution": {
     "iopub.execute_input": "2023-09-07T20:34:02.870693Z",
     "iopub.status.busy": "2023-09-07T20:34:02.870267Z",
     "iopub.status.idle": "2023-09-07T20:34:02.880941Z",
     "shell.execute_reply": "2023-09-07T20:34:02.879781Z"
    },
    "papermill": {
     "duration": 0.040002,
     "end_time": "2023-09-07T20:34:02.884132",
     "exception": false,
     "start_time": "2023-09-07T20:34:02.844130",
     "status": "completed"
    },
    "tags": []
   },
   "outputs": [],
   "source": [
    "def shape_df_for_stacked_barchart(df, group_by, stack_by, normalize=True):\n",
    "  df_chart = (df\n",
    "              .groupby(group_by)[stack_by]\n",
    "              .value_counts(normalize = normalize)\n",
    "              .round(2)\n",
    "              .unstack())\n",
    "  return df_chart\n",
    "\n",
    "def create_single_stacked_bar(df, group_by, stack_by, fig_size = (5,5), normalize=True):\n",
    "  df_chart = shape_df_for_stacked_barchart(df = df, group_by = group_by, stack_by = stack_by, normalize = normalize)\n",
    "  if gDEBUG: print(df_chart, '\\n')\n",
    "  fig, ax = plt.subplots(figsize = fig_size)\n",
    "  # plot the chart\n",
    "  chart = df_chart.plot.bar(stacked = True,\n",
    "                    ax = ax,\n",
    "                    width = 0.3,\n",
    "                    edgecolor = \"black\")\n",
    "  # Customising legend\n",
    "  ax.legend(fontsize = 10, title_fontsize = 10)\n",
    "\n",
    "  ax.set_title(group_by, fontsize=10)\n",
    "  ax.set_xlabel(group_by, fontsize=8)\n",
    "  ax.set_ylabel('Record Count', fontsize=8)\n",
    "  return fig"
   ]
  },
  {
   "cell_type": "code",
   "execution_count": 14,
   "id": "7f7456e1",
   "metadata": {
    "execution": {
     "iopub.execute_input": "2023-09-07T20:34:02.936678Z",
     "iopub.status.busy": "2023-09-07T20:34:02.936263Z",
     "iopub.status.idle": "2023-09-07T20:34:03.527749Z",
     "shell.execute_reply": "2023-09-07T20:34:03.526163Z"
    },
    "papermill": {
     "duration": 0.621355,
     "end_time": "2023-09-07T20:34:03.530478",
     "exception": false,
     "start_time": "2023-09-07T20:34:02.909123",
     "status": "completed"
    },
    "tags": []
   },
   "outputs": [
    {
     "name": "stdout",
     "output_type": "stream",
     "text": [
      "[-] the catgory of sport makes up 23 % of the data.\n",
      "[-] the catgory of business makes up 23 % of the data.\n",
      "[-] the catgory of politics makes up 18 % of the data.\n",
      "[-] the catgory of entertainment makes up 18 % of the data.\n",
      "[-] the catgory of tech makes up 18 % of the data.\n"
     ]
    },
    {
     "data": {
      "image/png": "[encoded data removed]",
      "text/plain": [
       "<Figure size 400x400 with 1 Axes>"
      ]
     },
     "metadata": {},
     "output_type": "display_data"
    }
   ],
   "source": [
    "# Summarize the target in the dataset\n",
    "chart = create_single_stacked_bar(df = df_train, group_by = 'Category', stack_by = 'Category', fig_size = (4,4), normalize = False)\n",
    "table = shape_df_for_stacked_barchart(df = df_train, group_by = 'Category', stack_by = 'Category', normalize = False)\n",
    "\n",
    "for i in range(len(df_cat_count_train)):\n",
    "    print('[-] the catgory of', df_cat_count_train['Category'].iloc[i], 'makes up',\n",
    "           df_cat_count_train['Pct of Total Text'].iloc[i], 'of the data.')"
   ]
  },
  {
   "cell_type": "markdown",
   "id": "78aef8a1",
   "metadata": {
    "papermill": {
     "duration": 0.024711,
     "end_time": "2023-09-07T20:34:03.581490",
     "exception": false,
     "start_time": "2023-09-07T20:34:03.556779",
     "status": "completed"
    },
    "tags": []
   },
   "source": [
    "## Review of the Text"
   ]
  },
  {
   "cell_type": "code",
   "execution_count": 15,
   "id": "65e172f3",
   "metadata": {
    "execution": {
     "iopub.execute_input": "2023-09-07T20:34:03.633327Z",
     "iopub.status.busy": "2023-09-07T20:34:03.632840Z",
     "iopub.status.idle": "2023-09-07T20:34:04.535886Z",
     "shell.execute_reply": "2023-09-07T20:34:04.534192Z"
    },
    "papermill": {
     "duration": 0.932367,
     "end_time": "2023-09-07T20:34:04.538684",
     "exception": false,
     "start_time": "2023-09-07T20:34:03.606317",
     "status": "completed"
    },
    "tags": []
   },
   "outputs": [
    {
     "data": {
      "text/plain": [
       "Text(0, 0.5, 'Record Count')"
      ]
     },
     "execution_count": 15,
     "metadata": {},
     "output_type": "execute_result"
    },
    {
     "data": {
      "image/png": "[encoded data removed]",
      "text/plain": [
       "<Figure size 600x300 with 1 Axes>"
      ]
     },
     "metadata": {},
     "output_type": "display_data"
    }
   ],
   "source": [
    "# add a length column to the dataframe\n",
    "df_train['Text Length'] = df_train['Text'].apply(len)\n",
    "#create a figure\n",
    "fig, ax = plt.subplots(figsize = (6,3))\n",
    "# create a histogram of the length of text\n",
    "#chart = plt.hist(x = df_s['Text Length'])\n",
    "chart = sns.histplot(x = df_train['Text Length'], kde=True)\n",
    "# Customising legend\n",
    "ax.set_title('Histogram of Text Length', fontsize=10)\n",
    "ax.set_xlabel('Text Length', fontsize=8)\n",
    "ax.set_ylabel('Record Count', fontsize=8)"
   ]
  },
  {
   "cell_type": "code",
   "execution_count": 16,
   "id": "32cda524",
   "metadata": {
    "execution": {
     "iopub.execute_input": "2023-09-07T20:34:04.600131Z",
     "iopub.status.busy": "2023-09-07T20:34:04.599646Z",
     "iopub.status.idle": "2023-09-07T20:34:04.877054Z",
     "shell.execute_reply": "2023-09-07T20:34:04.875581Z"
    },
    "papermill": {
     "duration": 0.307717,
     "end_time": "2023-09-07T20:34:04.880026",
     "exception": false,
     "start_time": "2023-09-07T20:34:04.572309",
     "status": "completed"
    },
    "tags": []
   },
   "outputs": [
    {
     "data": {
      "text/plain": [
       "Text(0.5, 1.0, 'Boxplot of Text Length')"
      ]
     },
     "execution_count": 16,
     "metadata": {},
     "output_type": "execute_result"
    },
    {
     "data": {
      "image/png": "[encoded data removed]",
      "text/plain": [
       "<Figure size 600x300 with 1 Axes>"
      ]
     },
     "metadata": {},
     "output_type": "display_data"
    }
   ],
   "source": [
    "# add a length column to the dataframe\n",
    "df_train['Text Length'] = df_train['Text'].apply(len)\n",
    "df_test['Text Length'] = df_test['Text'].apply(len)\n",
    "#create a figure\n",
    "fig, ax = plt.subplots(figsize = (6,3))\n",
    "# create a boxplot of the length of text\n",
    "chart = sns.boxplot(x = df_train['Text Length'])\n",
    "ax.set_title('Boxplot of Text Length', fontsize=10)"
   ]
  },
  {
   "cell_type": "code",
   "execution_count": 17,
   "id": "d08cda15",
   "metadata": {
    "execution": {
     "iopub.execute_input": "2023-09-07T20:34:04.936375Z",
     "iopub.status.busy": "2023-09-07T20:34:04.935864Z",
     "iopub.status.idle": "2023-09-07T20:34:18.050582Z",
     "shell.execute_reply": "2023-09-07T20:34:18.049016Z"
    },
    "papermill": {
     "duration": 13.146374,
     "end_time": "2023-09-07T20:34:18.053578",
     "exception": false,
     "start_time": "2023-09-07T20:34:04.907204",
     "status": "completed"
    },
    "tags": []
   },
   "outputs": [
    {
     "data": {
      "text/plain": [
       "Text(0.5, 1.0, 'Boxplot of Word Count')"
      ]
     },
     "execution_count": 17,
     "metadata": {},
     "output_type": "execute_result"
    },
    {
     "data": {
      "image/png": "[encoded data removed]",
      "text/plain": [
       "<Figure size 600x300 with 1 Axes>"
      ]
     },
     "metadata": {},
     "output_type": "display_data"
    }
   ],
   "source": [
    "# define a function to add the word count to a dataframe\n",
    "def add_word_count(df):\n",
    "    df['Text Tokens'] = df.apply(lambda row: nltk.word_tokenize(row['Text']), axis=1)\n",
    "    df['Word Count'] = df['Text Tokens'].apply(len)\n",
    "    df.drop(columns = ['Text Tokens'], inplace=True)\n",
    "    return df\n",
    "# add a length column to the dataframe for wordcount\n",
    "df_train = add_word_count(df = df_train)\n",
    "df_test = add_word_count(df = df_test)\n",
    "#create a figure\n",
    "fig, ax = plt.subplots(figsize = (6,3))\n",
    "# create a boxplot of the length of text\n",
    "chart = sns.boxplot(x = df_train['Word Count'])\n",
    "ax.set_title('Boxplot of Word Count', fontsize=10)"
   ]
  },
  {
   "cell_type": "markdown",
   "id": "63f85b5c",
   "metadata": {
    "papermill": {
     "duration": 0.025769,
     "end_time": "2023-09-07T20:34:18.106706",
     "exception": false,
     "start_time": "2023-09-07T20:34:18.080937",
     "status": "completed"
    },
    "tags": []
   },
   "source": [
    "# 4.&nbsp;Data Cleansing"
   ]
  },
  {
   "cell_type": "markdown",
   "id": "2f18b67c",
   "metadata": {
    "papermill": {
     "duration": 0.025632,
     "end_time": "2023-09-07T20:34:18.158574",
     "exception": false,
     "start_time": "2023-09-07T20:34:18.132942",
     "status": "completed"
    },
    "tags": []
   },
   "source": [
    "## Data Type Munging"
   ]
  },
  {
   "cell_type": "code",
   "execution_count": 18,
   "id": "e8b2f6f2",
   "metadata": {
    "execution": {
     "iopub.execute_input": "2023-09-07T20:34:18.214333Z",
     "iopub.status.busy": "2023-09-07T20:34:18.213763Z",
     "iopub.status.idle": "2023-09-07T20:34:18.228041Z",
     "shell.execute_reply": "2023-09-07T20:34:18.226715Z"
    },
    "papermill": {
     "duration": 0.046626,
     "end_time": "2023-09-07T20:34:18.231046",
     "exception": false,
     "start_time": "2023-09-07T20:34:18.184420",
     "status": "completed"
    },
    "tags": []
   },
   "outputs": [],
   "source": [
    "# convert a list of fields to a specific datatype\n",
    "def convert_dtype_basic(df, data_type, col_list, LOD = 10):\n",
    "  print('## Updating the datatypes in dataframe =', df.name,'##')\n",
    "  for field in col_list:\n",
    "    if field in df.columns:\n",
    "      # drop the fields\n",
    "      df[field] = df[field].astype(data_type)\n",
    "      print('[-]', 'field =', field, 'change to datatype =', data_type)\n",
    "    else:\n",
    "      # display a message that the drop did not work\n",
    "      print('[!]', 'field =', field, 'is not in the DataFrame.')\n",
    "  print()\n",
    "  return df\n",
    "\n",
    "# create a function to review how many fields still need to be mapped to a datatype\n",
    "def dtype_review_update(df, completed_list):\n",
    "  all_cols = df.columns\n",
    "  remaining_cols = set(all_cols)\n",
    "  # remove any field on the completed list from the remaining col list\n",
    "  for i in range(len(completed_list)):\n",
    "    remaining_cols = remaining_cols - set(completed_list[i])\n",
    "  remaining_cols = list(remaining_cols)\n",
    "\n",
    "  #Pritn a summary of columns remaining\n",
    "  print('There are', len(remaining_cols), 'columns to still map.')\n",
    "  print('List of remaining columns:', remaining_cols)\n",
    "  print()\n",
    "  if gDEBUG: print(df_s.dtypes[remaining_cols])\n",
    "  if gDEBUG: print()\n",
    "\n",
    "  return remaining_cols\n",
    "    \n",
    "# display a summary message once the datatype mapping is completed\n",
    "def dtype_update_completed(df, dtype_list, completed_list):\n",
    "  df_dtype_count = df.dtypes.value_counts()\n",
    "  #print(df_dtype_count)\n",
    "  print('Completed update of data type for', len(df.columns), 'columns.')\n",
    "  for i in range(df_dtype_count.shape[0]):\n",
    "      print('-- Corrected or validated data type for', df_dtype_count.iloc[i], list(df_dtype_count.index)[i], 'columns.')\n",
    "  print()\n",
    "  if gDEBUG: print(df.info())\n",
    "  if gDEBUG: print('')"
   ]
  },
  {
   "cell_type": "code",
   "execution_count": 19,
   "id": "e2ef3b3b",
   "metadata": {
    "execution": {
     "iopub.execute_input": "2023-09-07T20:34:18.289052Z",
     "iopub.status.busy": "2023-09-07T20:34:18.288607Z",
     "iopub.status.idle": "2023-09-07T20:34:18.310637Z",
     "shell.execute_reply": "2023-09-07T20:34:18.309227Z"
    },
    "papermill": {
     "duration": 0.055358,
     "end_time": "2023-09-07T20:34:18.313824",
     "exception": false,
     "start_time": "2023-09-07T20:34:18.258466",
     "status": "completed"
    },
    "tags": []
   },
   "outputs": [
    {
     "name": "stdout",
     "output_type": "stream",
     "text": [
      "## Updating the datatypes in dataframe = df_train ##\n",
      "[-] field = ArticleId change to datatype = object\n",
      "[-] field = Text change to datatype = object\n",
      "\n",
      "## Updating the datatypes in dataframe = df_train ##\n",
      "[-] field = Category change to datatype = category\n",
      "\n",
      "## Updating the datatypes in dataframe = df_test ##\n",
      "[-] field = ArticleId change to datatype = object\n",
      "[-] field = Text change to datatype = object\n",
      "\n",
      "## Updating the datatypes in dataframe = df_test ##\n",
      "[!] field = Category is not in the DataFrame.\n",
      "\n",
      "## Updating the datatypes in dataframe = df_sample_solution ##\n",
      "[-] field = ArticleId change to datatype = object\n",
      "[!] field = Text is not in the DataFrame.\n",
      "\n",
      "## Updating the datatypes in dataframe = df_sample_solution ##\n",
      "[-] field = Category change to datatype = category\n",
      "\n",
      "There are 2 columns to still map.\n",
      "List of remaining columns: ['Word Count', 'Text Length']\n",
      "\n",
      "There are 2 columns to still map.\n",
      "List of remaining columns: ['Word Count', 'Text Length']\n",
      "\n",
      "There are 0 columns to still map.\n",
      "List of remaining columns: []\n",
      "\n",
      "Completed update of data type for 5 columns.\n",
      "-- Corrected or validated data type for 2 object columns.\n",
      "-- Corrected or validated data type for 2 int64 columns.\n",
      "-- Corrected or validated data type for 1 category columns.\n",
      "\n",
      "Completed update of data type for 4 columns.\n",
      "-- Corrected or validated data type for 2 object columns.\n",
      "-- Corrected or validated data type for 2 int64 columns.\n",
      "\n",
      "Completed update of data type for 2 columns.\n",
      "-- Corrected or validated data type for 1 object columns.\n",
      "-- Corrected or validated data type for 1 category columns.\n",
      "\n"
     ]
    }
   ],
   "source": [
    "# Convert String, Categoriy fields\n",
    "str_cols = ['ArticleId', 'Text']\n",
    "cat_cols = ['Category']\n",
    "# df_train\n",
    "df_train = convert_dtype_basic(df = df_train, data_type = 'object', col_list = str_cols)\n",
    "df_train = convert_dtype_basic(df = df_train, data_type = 'category', col_list = cat_cols)\n",
    "# df_test\n",
    "df_test = convert_dtype_basic(df = df_test, data_type = 'object', col_list = str_cols)\n",
    "df_test = convert_dtype_basic(df = df_test, data_type = 'category', col_list = cat_cols)\n",
    "# df_sample_solution\n",
    "df_sample_solution = convert_dtype_basic(df = df_sample_solution, data_type = 'object', col_list = str_cols)\n",
    "df_sample_solution = convert_dtype_basic(df = df_sample_solution, data_type = 'category', col_list = cat_cols)\n",
    "\n",
    "# check the progress of datatype mapping\n",
    "completed_list = [str_cols, cat_cols]\n",
    "# there should be no fields left to map\n",
    "fields_to_review = dtype_review_update(df = df_train, completed_list = completed_list)\n",
    "fields_to_review = dtype_review_update(df = df_test, completed_list = completed_list)\n",
    "fields_to_review = dtype_review_update(df = df_sample_solution, completed_list = completed_list)\n",
    "\n",
    "# display a the datatype mapping complete message and summary\n",
    "dtype_list = ['string', 'category']\n",
    "dtype_update_completed(df = df_train, dtype_list = dtype_list, completed_list = completed_list)\n",
    "dtype_update_completed(df = df_test, dtype_list = dtype_list, completed_list = completed_list)\n",
    "dtype_update_completed(df = df_sample_solution, dtype_list = dtype_list, completed_list = completed_list)"
   ]
  },
  {
   "cell_type": "markdown",
   "id": "757d266a",
   "metadata": {
    "papermill": {
     "duration": 0.028921,
     "end_time": "2023-09-07T20:34:18.370168",
     "exception": false,
     "start_time": "2023-09-07T20:34:18.341247",
     "status": "completed"
    },
    "tags": []
   },
   "source": [
    "## Check for Null Values"
   ]
  },
  {
   "cell_type": "code",
   "execution_count": 20,
   "id": "61aac76c",
   "metadata": {
    "execution": {
     "iopub.execute_input": "2023-09-07T20:34:18.428124Z",
     "iopub.status.busy": "2023-09-07T20:34:18.427691Z",
     "iopub.status.idle": "2023-09-07T20:34:18.434690Z",
     "shell.execute_reply": "2023-09-07T20:34:18.433790Z"
    },
    "papermill": {
     "duration": 0.03916,
     "end_time": "2023-09-07T20:34:18.436949",
     "exception": false,
     "start_time": "2023-09-07T20:34:18.397789",
     "status": "completed"
    },
    "tags": []
   },
   "outputs": [],
   "source": [
    "# Inspect observations (rows) with null values\n",
    "def count_all_rows_with_null(df):\n",
    "  df_null = df.isnull()\n",
    "  df_null['null_count'] = df_null.sum(axis=1)\n",
    "  df_null['null_flag'] = df_null['null_count'].apply(lambda x: 1 if x > 0 else 0)\n",
    "\n",
    "  df_null = df_null[df_null['null_count'] > 0]\n",
    "  print(df.name, 'count of observations with nulls:',df_null['null_flag'].sum())"
   ]
  },
  {
   "cell_type": "code",
   "execution_count": 21,
   "id": "211c1f01",
   "metadata": {
    "execution": {
     "iopub.execute_input": "2023-09-07T20:34:18.494137Z",
     "iopub.status.busy": "2023-09-07T20:34:18.493679Z",
     "iopub.status.idle": "2023-09-07T20:34:18.518660Z",
     "shell.execute_reply": "2023-09-07T20:34:18.517122Z"
    },
    "papermill": {
     "duration": 0.057751,
     "end_time": "2023-09-07T20:34:18.521793",
     "exception": false,
     "start_time": "2023-09-07T20:34:18.464042",
     "status": "completed"
    },
    "tags": []
   },
   "outputs": [
    {
     "name": "stdout",
     "output_type": "stream",
     "text": [
      "df_train count of observations with nulls: 0\n",
      "df_test count of observations with nulls: 0\n",
      "df_sample_solution count of observations with nulls: 0\n"
     ]
    }
   ],
   "source": [
    "# Count all null records\n",
    "count_all_rows_with_null(df = df_train)\n",
    "count_all_rows_with_null(df = df_test)\n",
    "count_all_rows_with_null(df = df_sample_solution)"
   ]
  },
  {
   "cell_type": "markdown",
   "id": "29bb0eaa",
   "metadata": {
    "papermill": {
     "duration": 0.028319,
     "end_time": "2023-09-07T20:34:18.579468",
     "exception": false,
     "start_time": "2023-09-07T20:34:18.551149",
     "status": "completed"
    },
    "tags": []
   },
   "source": [
    "## Clean Text for Modeling"
   ]
  },
  {
   "cell_type": "code",
   "execution_count": 22,
   "id": "3e640ca8",
   "metadata": {
    "execution": {
     "iopub.execute_input": "2023-09-07T20:34:18.639611Z",
     "iopub.status.busy": "2023-09-07T20:34:18.639191Z",
     "iopub.status.idle": "2023-09-07T20:34:18.648473Z",
     "shell.execute_reply": "2023-09-07T20:34:18.647154Z"
    },
    "papermill": {
     "duration": 0.041802,
     "end_time": "2023-09-07T20:34:18.651020",
     "exception": false,
     "start_time": "2023-09-07T20:34:18.609218",
     "status": "completed"
    },
    "tags": []
   },
   "outputs": [],
   "source": [
    "# Create a funtion to clean a dataframe with text\n",
    "def clean_text(df, text_col):\n",
    "    \n",
    "    # removes punctuation\n",
    "    df['no_punct'] = df[text_col].apply(\n",
    "        lambda row: re.sub(r'[^\\w\\s]+', '', row))\n",
    "    \n",
    "    # removes numbers\n",
    "    df['no_punct_num'] = df['no_punct'].apply(\n",
    "        lambda row: re.sub(r'[0-9]+', '', row))\n",
    "    \n",
    "    # removes stop words, e.g. a, an, and, but, in, on, the...\n",
    "    stop_words = stopwords.words('english')\n",
    "    df['no_stopwords'] = df['no_punct_num'].apply(\n",
    "        lambda x: ' '.join([word for word in x.split() if word not in (stop_words)]))\n",
    "    \n",
    "    # removes extra spaces\n",
    "    df['Clean Text'] = df['no_stopwords'].apply(\n",
    "        lambda x: re.sub(' +', ' ', x))\n",
    "    \n",
    "    return"
   ]
  },
  {
   "cell_type": "code",
   "execution_count": 23,
   "id": "4a915b88",
   "metadata": {
    "execution": {
     "iopub.execute_input": "2023-09-07T20:34:18.711192Z",
     "iopub.status.busy": "2023-09-07T20:34:18.710702Z",
     "iopub.status.idle": "2023-09-07T20:34:21.410849Z",
     "shell.execute_reply": "2023-09-07T20:34:21.409948Z"
    },
    "papermill": {
     "duration": 2.733782,
     "end_time": "2023-09-07T20:34:21.413302",
     "exception": false,
     "start_time": "2023-09-07T20:34:18.679520",
     "status": "completed"
    },
    "tags": []
   },
   "outputs": [
    {
     "data": {
      "text/html": [
       "<div>\n",
       "<style scoped>\n",
       "    .dataframe tbody tr th:only-of-type {\n",
       "        vertical-align: middle;\n",
       "    }\n",
       "\n",
       "    .dataframe tbody tr th {\n",
       "        vertical-align: top;\n",
       "    }\n",
       "\n",
       "    .dataframe thead th {\n",
       "        text-align: right;\n",
       "    }\n",
       "</style>\n",
       "<table border=\"1\" class=\"dataframe\">\n",
       "  <thead>\n",
       "    <tr style=\"text-align: right;\">\n",
       "      <th></th>\n",
       "      <th>ArticleId</th>\n",
       "      <th>Text</th>\n",
       "      <th>Category</th>\n",
       "      <th>Text Length</th>\n",
       "      <th>Word Count</th>\n",
       "      <th>no_punct</th>\n",
       "      <th>no_punct_num</th>\n",
       "      <th>no_stopwords</th>\n",
       "      <th>Clean Text</th>\n",
       "    </tr>\n",
       "  </thead>\n",
       "  <tbody>\n",
       "    <tr>\n",
       "      <th>0</th>\n",
       "      <td>1833</td>\n",
       "      <td>worldcom ex-boss launches defence lawyers defe...</td>\n",
       "      <td>business</td>\n",
       "      <td>1866</td>\n",
       "      <td>316</td>\n",
       "      <td>worldcom exboss launches defence lawyers defen...</td>\n",
       "      <td>worldcom exboss launches defence lawyers defen...</td>\n",
       "      <td>worldcom exboss launches defence lawyers defen...</td>\n",
       "      <td>worldcom exboss launches defence lawyers defen...</td>\n",
       "    </tr>\n",
       "    <tr>\n",
       "      <th>1</th>\n",
       "      <td>154</td>\n",
       "      <td>german business confidence slides german busin...</td>\n",
       "      <td>business</td>\n",
       "      <td>2016</td>\n",
       "      <td>342</td>\n",
       "      <td>german business confidence slides german busin...</td>\n",
       "      <td>german business confidence slides german busin...</td>\n",
       "      <td>german business confidence slides german busin...</td>\n",
       "      <td>german business confidence slides german busin...</td>\n",
       "    </tr>\n",
       "    <tr>\n",
       "      <th>2</th>\n",
       "      <td>1101</td>\n",
       "      <td>bbc poll indicates economic gloom citizens in ...</td>\n",
       "      <td>business</td>\n",
       "      <td>3104</td>\n",
       "      <td>544</td>\n",
       "      <td>bbc poll indicates economic gloom citizens in ...</td>\n",
       "      <td>bbc poll indicates economic gloom citizens in ...</td>\n",
       "      <td>bbc poll indicates economic gloom citizens maj...</td>\n",
       "      <td>bbc poll indicates economic gloom citizens maj...</td>\n",
       "    </tr>\n",
       "    <tr>\n",
       "      <th>3</th>\n",
       "      <td>1976</td>\n",
       "      <td>lifestyle  governs mobile choice  faster  bett...</td>\n",
       "      <td>tech</td>\n",
       "      <td>3618</td>\n",
       "      <td>670</td>\n",
       "      <td>lifestyle  governs mobile choice  faster  bett...</td>\n",
       "      <td>lifestyle  governs mobile choice  faster  bett...</td>\n",
       "      <td>lifestyle governs mobile choice faster better ...</td>\n",
       "      <td>lifestyle governs mobile choice faster better ...</td>\n",
       "    </tr>\n",
       "    <tr>\n",
       "      <th>4</th>\n",
       "      <td>917</td>\n",
       "      <td>enron bosses in $168m payout eighteen former e...</td>\n",
       "      <td>business</td>\n",
       "      <td>2190</td>\n",
       "      <td>382</td>\n",
       "      <td>enron bosses in 168m payout eighteen former en...</td>\n",
       "      <td>enron bosses in m payout eighteen former enron...</td>\n",
       "      <td>enron bosses payout eighteen former enron dire...</td>\n",
       "      <td>enron bosses payout eighteen former enron dire...</td>\n",
       "    </tr>\n",
       "  </tbody>\n",
       "</table>\n",
       "</div>"
      ],
      "text/plain": [
       "  ArticleId                                               Text  Category  \\\n",
       "0      1833  worldcom ex-boss launches defence lawyers defe...  business   \n",
       "1       154  german business confidence slides german busin...  business   \n",
       "2      1101  bbc poll indicates economic gloom citizens in ...  business   \n",
       "3      1976  lifestyle  governs mobile choice  faster  bett...      tech   \n",
       "4       917  enron bosses in $168m payout eighteen former e...  business   \n",
       "\n",
       "   Text Length  Word Count                                           no_punct  \\\n",
       "0         1866         316  worldcom exboss launches defence lawyers defen...   \n",
       "1         2016         342  german business confidence slides german busin...   \n",
       "2         3104         544  bbc poll indicates economic gloom citizens in ...   \n",
       "3         3618         670  lifestyle  governs mobile choice  faster  bett...   \n",
       "4         2190         382  enron bosses in 168m payout eighteen former en...   \n",
       "\n",
       "                                        no_punct_num  \\\n",
       "0  worldcom exboss launches defence lawyers defen...   \n",
       "1  german business confidence slides german busin...   \n",
       "2  bbc poll indicates economic gloom citizens in ...   \n",
       "3  lifestyle  governs mobile choice  faster  bett...   \n",
       "4  enron bosses in m payout eighteen former enron...   \n",
       "\n",
       "                                        no_stopwords  \\\n",
       "0  worldcom exboss launches defence lawyers defen...   \n",
       "1  german business confidence slides german busin...   \n",
       "2  bbc poll indicates economic gloom citizens maj...   \n",
       "3  lifestyle governs mobile choice faster better ...   \n",
       "4  enron bosses payout eighteen former enron dire...   \n",
       "\n",
       "                                          Clean Text  \n",
       "0  worldcom exboss launches defence lawyers defen...  \n",
       "1  german business confidence slides german busin...  \n",
       "2  bbc poll indicates economic gloom citizens maj...  \n",
       "3  lifestyle governs mobile choice faster better ...  \n",
       "4  enron bosses payout eighteen former enron dire...  "
      ]
     },
     "execution_count": 23,
     "metadata": {},
     "output_type": "execute_result"
    }
   ],
   "source": [
    "# add a length column to the dataframe\n",
    "df_train['Text Length'] = df_train['Text'].apply(len)\n",
    "df_test['Text Length'] = df_test['Text'].apply(len)\n",
    "\n",
    "# Using 'clean_text' function to clean 'Text' column\n",
    "clean_text(df = df_train, text_col = 'Text')\n",
    "clean_text(df = df_test, text_col = 'Text')\n",
    "df_train.head()"
   ]
  },
  {
   "cell_type": "code",
   "execution_count": 24,
   "id": "e2b0d2e2",
   "metadata": {
    "execution": {
     "iopub.execute_input": "2023-09-07T20:34:21.471917Z",
     "iopub.status.busy": "2023-09-07T20:34:21.471477Z",
     "iopub.status.idle": "2023-09-07T20:34:21.478731Z",
     "shell.execute_reply": "2023-09-07T20:34:21.477460Z"
    },
    "papermill": {
     "duration": 0.040863,
     "end_time": "2023-09-07T20:34:21.482035",
     "exception": false,
     "start_time": "2023-09-07T20:34:21.441172",
     "status": "completed"
    },
    "tags": []
   },
   "outputs": [
    {
     "name": "stdout",
     "output_type": "stream",
     "text": [
      "worldcom ex-boss launches defence lawyers defending former worldcom chief bernie ebbers against a battery of fraud charges have called a company whistleblower as their first witness.  cynthia cooper  worldcom s ex-head of internal accounting  alerted directors to irregular accounting practices at the us telecoms giant in 2002. her warnings led to the collapse of the firm following the discovery of an $11bn (£5.7bn) accounting fraud. mr ebbers has pleaded not guilty to charges of fraud and conspiracy.  prosecution lawyers have argued that mr ebbers orchestrated a series of accounting tricks at worldcom  ordering employees to hide expenses and inflate revenues to meet wall street earnings estimates. but ms cooper  who now runs her own consulting business  told a jury in new york on wednesday that external auditors arthur andersen had approved worldcom s accounting in early 2001 and 2002. she said andersen had given a  green light  to the procedures and practices used by worldcom. mr ebber s lawyers have said he was unaware of the fraud  arguing that auditors did not alert him to any problems.  ms cooper also said that during shareholder meetings mr ebbers often passed over technical questions to the company s finance chief  giving only  brief  answers himself. the prosecution s star witness  former worldcom financial chief scott sullivan  has said that mr ebbers ordered accounting adjustments at the firm  telling him to  hit our books . however  ms cooper said mr sullivan had not mentioned  anything uncomfortable  about worldcom s accounting during a 2001 audit committee meeting. mr ebbers could face a jail sentence of 85 years if convicted of all the charges he is facing. worldcom emerged from bankruptcy protection in 2004  and is now known as mci. last week  mci agreed to a buyout by verizon communications in a deal valued at $6.75bn.\n",
      "\n",
      "## change to ##\n",
      "\n",
      "worldcom exboss launches defence lawyers defending former worldcom chief bernie ebbers battery fraud charges called company whistleblower first witness cynthia cooper worldcom exhead internal accounting alerted directors irregular accounting practices us telecoms giant warnings led collapse firm following discovery bn bn accounting fraud mr ebbers pleaded guilty charges fraud conspiracy prosecution lawyers argued mr ebbers orchestrated series accounting tricks worldcom ordering employees hide expenses inflate revenues meet wall street earnings estimates ms cooper runs consulting business told jury new york wednesday external auditors arthur andersen approved worldcom accounting early said andersen given green light procedures practices used worldcom mr ebber lawyers said unaware fraud arguing auditors alert problems ms cooper also said shareholder meetings mr ebbers often passed technical questions company finance chief giving brief answers prosecution star witness former worldcom financial chief scott sullivan said mr ebbers ordered accounting adjustments firm telling hit books however ms cooper said mr sullivan mentioned anything uncomfortable worldcom accounting audit committee meeting mr ebbers could face jail sentence years convicted charges facing worldcom emerged bankruptcy protection known mci last week mci agreed buyout verizon communications deal valued bn\n"
     ]
    }
   ],
   "source": [
    "print(df_train['Text'][0])\n",
    "print('\\n## change to ##\\n')\n",
    "print(df_train['Clean Text'][0])"
   ]
  },
  {
   "cell_type": "code",
   "execution_count": 25,
   "id": "af864a60",
   "metadata": {
    "execution": {
     "iopub.execute_input": "2023-09-07T20:34:21.539217Z",
     "iopub.status.busy": "2023-09-07T20:34:21.538706Z",
     "iopub.status.idle": "2023-09-07T20:34:27.388887Z",
     "shell.execute_reply": "2023-09-07T20:34:27.387930Z"
    },
    "papermill": {
     "duration": 5.881624,
     "end_time": "2023-09-07T20:34:27.391602",
     "exception": false,
     "start_time": "2023-09-07T20:34:21.509978",
     "status": "completed"
    },
    "tags": []
   },
   "outputs": [
    {
     "data": {
      "text/html": [
       "<div>\n",
       "<style scoped>\n",
       "    .dataframe tbody tr th:only-of-type {\n",
       "        vertical-align: middle;\n",
       "    }\n",
       "\n",
       "    .dataframe tbody tr th {\n",
       "        vertical-align: top;\n",
       "    }\n",
       "\n",
       "    .dataframe thead th {\n",
       "        text-align: right;\n",
       "    }\n",
       "</style>\n",
       "<table border=\"1\" class=\"dataframe\">\n",
       "  <thead>\n",
       "    <tr style=\"text-align: right;\">\n",
       "      <th></th>\n",
       "      <th>ArticleId</th>\n",
       "      <th>Text</th>\n",
       "      <th>Category</th>\n",
       "      <th>Text Length</th>\n",
       "      <th>Word Count</th>\n",
       "      <th>Text Length (Old)</th>\n",
       "      <th>Word Count (Old)</th>\n",
       "    </tr>\n",
       "  </thead>\n",
       "  <tbody>\n",
       "    <tr>\n",
       "      <th>0</th>\n",
       "      <td>1833</td>\n",
       "      <td>worldcom exboss launches defence lawyers defen...</td>\n",
       "      <td>business</td>\n",
       "      <td>1388</td>\n",
       "      <td>185</td>\n",
       "      <td>1866</td>\n",
       "      <td>316</td>\n",
       "    </tr>\n",
       "    <tr>\n",
       "      <th>1</th>\n",
       "      <td>154</td>\n",
       "      <td>german business confidence slides german busin...</td>\n",
       "      <td>business</td>\n",
       "      <td>1474</td>\n",
       "      <td>194</td>\n",
       "      <td>2016</td>\n",
       "      <td>342</td>\n",
       "    </tr>\n",
       "    <tr>\n",
       "      <th>2</th>\n",
       "      <td>1101</td>\n",
       "      <td>bbc poll indicates economic gloom citizens maj...</td>\n",
       "      <td>business</td>\n",
       "      <td>2061</td>\n",
       "      <td>267</td>\n",
       "      <td>3104</td>\n",
       "      <td>544</td>\n",
       "    </tr>\n",
       "    <tr>\n",
       "      <th>3</th>\n",
       "      <td>1976</td>\n",
       "      <td>lifestyle governs mobile choice faster better ...</td>\n",
       "      <td>tech</td>\n",
       "      <td>2381</td>\n",
       "      <td>344</td>\n",
       "      <td>3618</td>\n",
       "      <td>670</td>\n",
       "    </tr>\n",
       "    <tr>\n",
       "      <th>4</th>\n",
       "      <td>917</td>\n",
       "      <td>enron bosses payout eighteen former enron dire...</td>\n",
       "      <td>business</td>\n",
       "      <td>1517</td>\n",
       "      <td>198</td>\n",
       "      <td>2190</td>\n",
       "      <td>382</td>\n",
       "    </tr>\n",
       "  </tbody>\n",
       "</table>\n",
       "</div>"
      ],
      "text/plain": [
       "  ArticleId                                               Text  Category  \\\n",
       "0      1833  worldcom exboss launches defence lawyers defen...  business   \n",
       "1       154  german business confidence slides german busin...  business   \n",
       "2      1101  bbc poll indicates economic gloom citizens maj...  business   \n",
       "3      1976  lifestyle governs mobile choice faster better ...      tech   \n",
       "4       917  enron bosses payout eighteen former enron dire...  business   \n",
       "\n",
       "   Text Length  Word Count  Text Length (Old)  Word Count (Old)  \n",
       "0         1388         185               1866               316  \n",
       "1         1474         194               2016               342  \n",
       "2         2061         267               3104               544  \n",
       "3         2381         344               3618               670  \n",
       "4         1517         198               2190               382  "
      ]
     },
     "execution_count": 25,
     "metadata": {},
     "output_type": "execute_result"
    }
   ],
   "source": [
    "# Create a funtion to remove temp columns and track text changes\n",
    "def clean_text_columns(df):\n",
    "    # Update the Old or Prior Values\n",
    "    df['Text Length (Old)'] = df['Text Length']\n",
    "    df['Word Count (Old)'] = df['Word Count']\n",
    "    # Calculate the New Values\n",
    "    df['Text'] = df['Clean Text']\n",
    "    df['Text Length'] = df['Text'].apply(len)\n",
    "    df['Text Tokens Temp'] = df.apply(lambda row: nltk.word_tokenize(row['Text']), axis=1)\n",
    "    df['Word Count'] = df['Text Tokens Temp'].apply(len)\n",
    "    df.drop(columns = ['Text Tokens Temp'], inplace=True)\n",
    "    df.drop(columns = ['no_punct','no_punct_num','no_stopwords', 'Clean Text'], inplace=True)\n",
    "    \n",
    "    return\n",
    "    \n",
    "    \n",
    "clean_text_columns(df = df_train)\n",
    "clean_text_columns(df = df_test)\n",
    "df_train.head()"
   ]
  },
  {
   "cell_type": "markdown",
   "id": "24c7184f",
   "metadata": {
    "papermill": {
     "duration": 0.028039,
     "end_time": "2023-09-07T20:34:27.448644",
     "exception": false,
     "start_time": "2023-09-07T20:34:27.420605",
     "status": "completed"
    },
    "tags": []
   },
   "source": [
    "## Remove Outliers Based on Text Length"
   ]
  },
  {
   "cell_type": "code",
   "execution_count": 26,
   "id": "e91c632b",
   "metadata": {
    "execution": {
     "iopub.execute_input": "2023-09-07T20:34:27.509485Z",
     "iopub.status.busy": "2023-09-07T20:34:27.508197Z",
     "iopub.status.idle": "2023-09-07T20:34:27.522557Z",
     "shell.execute_reply": "2023-09-07T20:34:27.521137Z"
    },
    "papermill": {
     "duration": 0.047731,
     "end_time": "2023-09-07T20:34:27.525590",
     "exception": false,
     "start_time": "2023-09-07T20:34:27.477859",
     "status": "completed"
    },
    "tags": []
   },
   "outputs": [],
   "source": [
    "def remove_outliers(df):\n",
    "    # IQR\n",
    "    Q1 = np.percentile(df['Word Count'], 25, method='midpoint')\n",
    "    Q3 = np.percentile(df['Word Count'], 75, method='midpoint')\n",
    "    IQR = Q3 - Q1\n",
    "    print('Q1: ', int(round(Q1,0)))\n",
    "    print('Q3: ', int(round(Q3,0)))\n",
    "    print('IQR:', int(round(IQR,0)))\n",
    "    print()\n",
    "\n",
    "    # Above Upper bound\n",
    "    upper_limit = int(Q3 + (1.5 * IQR))\n",
    "    upper_array = np.where(df['Word Count'] >= upper_limit)[0]\n",
    "    print(\"Upper Bound:\",upper_limit)\n",
    "    print('Upper Bound Outlier Count:', len(upper_array))\n",
    "    print('Upper Bound Outlier List:', upper_array)\n",
    "    print()\n",
    "\n",
    "    #Below Lower bound\n",
    "    lower_limit = int(Q1 - (1.5 * IQR))\n",
    "    lower_array = np.where(df['Word Count'] <= lower_limit)[0]\n",
    "    print('Lower Bound:', lower_limit)\n",
    "    print('Lower Bound Outlier Count:', len(lower_array))\n",
    "    print('Lower Bound Outlier List:', lower_array)\n",
    "    print()\n",
    "\n",
    "    # Remove the outliers\n",
    "    print('Old Shape:', df.shape)\n",
    "    old_rec_count = df.shape[0]\n",
    "    df.drop(index=upper_array, inplace=True)\n",
    "    df.drop(index=lower_array, inplace=True)\n",
    "    new_rec_count = df.shape[0]\n",
    "\n",
    "    print('Dropped', round((((old_rec_count - new_rec_count) / old_rec_count) * 100), 2), '% of the records.')\n",
    "    print('New Shape:', df.shape)\n",
    "    \n",
    "    return df"
   ]
  },
  {
   "cell_type": "code",
   "execution_count": 27,
   "id": "b6cf472d",
   "metadata": {
    "execution": {
     "iopub.execute_input": "2023-09-07T20:34:27.586545Z",
     "iopub.status.busy": "2023-09-07T20:34:27.586016Z",
     "iopub.status.idle": "2023-09-07T20:34:27.597208Z",
     "shell.execute_reply": "2023-09-07T20:34:27.595885Z"
    },
    "papermill": {
     "duration": 0.045396,
     "end_time": "2023-09-07T20:34:27.599969",
     "exception": false,
     "start_time": "2023-09-07T20:34:27.554573",
     "status": "completed"
    },
    "tags": []
   },
   "outputs": [
    {
     "name": "stdout",
     "output_type": "stream",
     "text": [
      "Q1:  139\n",
      "Q3:  262\n",
      "IQR: 122\n",
      "\n",
      "Upper Bound: 445\n",
      "Upper Bound Outlier Count: 35\n",
      "Upper Bound Outlier List: [  26   27   63   88   99  106  120  242  264  279  329  364  372  396\n",
      "  431  451  454  476  521  565  826  829  893  898  956  987  997 1057\n",
      " 1122 1167 1258 1371 1417 1439 1464]\n",
      "\n",
      "Lower Bound: -44\n",
      "Lower Bound Outlier Count: 0\n",
      "Lower Bound Outlier List: []\n",
      "\n",
      "Old Shape: (1490, 7)\n",
      "Dropped 2.35 % of the records.\n",
      "New Shape: (1455, 7)\n"
     ]
    }
   ],
   "source": [
    "df_train = remove_outliers(df = df_train)"
   ]
  },
  {
   "cell_type": "markdown",
   "id": "3c01a53f",
   "metadata": {
    "papermill": {
     "duration": 0.031079,
     "end_time": "2023-09-07T20:34:27.659666",
     "exception": false,
     "start_time": "2023-09-07T20:34:27.628587",
     "status": "completed"
    },
    "tags": []
   },
   "source": [
    "## Lemmatization of Text\n",
    "\n",
    "Lemmatization, https://en.wikipedia.org/wiki/Lemmatization\n",
    "WordNet, https://en.wikipedia.org/wiki/WordNet\n",
    "Natural Language Toolkit (NLTK), https://www.nltk.org/index.html\n",
    "nltk.stem.wordnet, https://www.nltk.org/_modules/nltk/stem/wordnet.html\n",
    "\n",
    "Per wikipedia, \"Lemmatisation in linguistics is the process of grouping together the inflected forms of a word so they can be analysed as a single item, identified by the word's lemma, or dictionary form.\" [] This will be useful in our vectorization as it will begin to standardize different version of the same word to a common representation of the word, resulting in a reduction of linguistic noise in the text documents.\n",
    "\n",
    "To accomplish this function, the NLTK (Natural Language Toolkit) library will be used. This library \"provides easy-to-use interfaces to over 50 corpora and lexical resources such as WordNet, along with a suite of text processing libraries for classification, tokenization, stemming, tagging, parsing, and semantic reasoning, wrappers for industrial-strength NLP libraries.\" [] Specifically, we will be using the WordNet Lemmatizer to return the specific lemma defined in WordNet. WordNet is \"a lexical database of semantic relations between words that links words into semantic relations\" [] that is commonly used in automatic text analysis and AI applications. It is freely availible for download."
   ]
  },
  {
   "cell_type": "code",
   "execution_count": 28,
   "id": "5685230e",
   "metadata": {
    "execution": {
     "iopub.execute_input": "2023-09-07T20:34:27.719781Z",
     "iopub.status.busy": "2023-09-07T20:34:27.718667Z",
     "iopub.status.idle": "2023-09-07T20:34:27.729689Z",
     "shell.execute_reply": "2023-09-07T20:34:27.728019Z"
    },
    "papermill": {
     "duration": 0.044192,
     "end_time": "2023-09-07T20:34:27.732930",
     "exception": false,
     "start_time": "2023-09-07T20:34:27.688738",
     "status": "completed"
    },
    "tags": []
   },
   "outputs": [],
   "source": [
    "# tokenize text function\n",
    "wordnet_lemmatizer = WordNetLemmatizer()\n",
    "def lemmatizer(text):\n",
    "    ''' \n",
    "    A helper function to lemmatize an entire sentence/string\n",
    "    '''\n",
    "    lem = [wordnet_lemmatizer.lemmatize(word.lower()) for word in text] \n",
    "    return lem\n",
    "\n",
    "def tokenize_lemmatize(dataframe, text_col):\n",
    "    '''\n",
    "    A helper function to tokenize then lemmatize the string.\n",
    "    Also, add column which counts the number of words in that string.\n",
    "    '''\n",
    "    dataframe['Tokenized Text'] = dataframe.apply(lambda row: nltk.word_tokenize(row[text_col]), axis=1)\n",
    "    dataframe['Lemmatized Text'] = dataframe['Tokenized Text'].apply(lambda string: lemmatizer(string))\n",
    "    return"
   ]
  },
  {
   "cell_type": "code",
   "execution_count": 29,
   "id": "57ab07e2",
   "metadata": {
    "execution": {
     "iopub.execute_input": "2023-09-07T20:34:27.793134Z",
     "iopub.status.busy": "2023-09-07T20:34:27.792635Z",
     "iopub.status.idle": "2023-09-07T20:34:39.519540Z",
     "shell.execute_reply": "2023-09-07T20:34:39.518136Z"
    },
    "papermill": {
     "duration": 11.761381,
     "end_time": "2023-09-07T20:34:39.523298",
     "exception": false,
     "start_time": "2023-09-07T20:34:27.761917",
     "status": "completed"
    },
    "tags": []
   },
   "outputs": [
    {
     "data": {
      "text/html": [
       "<div>\n",
       "<style scoped>\n",
       "    .dataframe tbody tr th:only-of-type {\n",
       "        vertical-align: middle;\n",
       "    }\n",
       "\n",
       "    .dataframe tbody tr th {\n",
       "        vertical-align: top;\n",
       "    }\n",
       "\n",
       "    .dataframe thead th {\n",
       "        text-align: right;\n",
       "    }\n",
       "</style>\n",
       "<table border=\"1\" class=\"dataframe\">\n",
       "  <thead>\n",
       "    <tr style=\"text-align: right;\">\n",
       "      <th></th>\n",
       "      <th>ArticleId</th>\n",
       "      <th>Text</th>\n",
       "      <th>Category</th>\n",
       "      <th>Text Length</th>\n",
       "      <th>Word Count</th>\n",
       "      <th>Text Length (Old)</th>\n",
       "      <th>Word Count (Old)</th>\n",
       "      <th>Tokenized Text</th>\n",
       "      <th>Lemmatized Text</th>\n",
       "    </tr>\n",
       "  </thead>\n",
       "  <tbody>\n",
       "    <tr>\n",
       "      <th>0</th>\n",
       "      <td>1833</td>\n",
       "      <td>worldcom exboss launches defence lawyers defen...</td>\n",
       "      <td>business</td>\n",
       "      <td>1388</td>\n",
       "      <td>185</td>\n",
       "      <td>1866</td>\n",
       "      <td>316</td>\n",
       "      <td>[worldcom, exboss, launches, defence, lawyers,...</td>\n",
       "      <td>[worldcom, exboss, launch, defence, lawyer, de...</td>\n",
       "    </tr>\n",
       "    <tr>\n",
       "      <th>1</th>\n",
       "      <td>154</td>\n",
       "      <td>german business confidence slides german busin...</td>\n",
       "      <td>business</td>\n",
       "      <td>1474</td>\n",
       "      <td>194</td>\n",
       "      <td>2016</td>\n",
       "      <td>342</td>\n",
       "      <td>[german, business, confidence, slides, german,...</td>\n",
       "      <td>[german, business, confidence, slide, german, ...</td>\n",
       "    </tr>\n",
       "    <tr>\n",
       "      <th>2</th>\n",
       "      <td>1101</td>\n",
       "      <td>bbc poll indicates economic gloom citizens maj...</td>\n",
       "      <td>business</td>\n",
       "      <td>2061</td>\n",
       "      <td>267</td>\n",
       "      <td>3104</td>\n",
       "      <td>544</td>\n",
       "      <td>[bbc, poll, indicates, economic, gloom, citize...</td>\n",
       "      <td>[bbc, poll, indicates, economic, gloom, citize...</td>\n",
       "    </tr>\n",
       "    <tr>\n",
       "      <th>3</th>\n",
       "      <td>1976</td>\n",
       "      <td>lifestyle governs mobile choice faster better ...</td>\n",
       "      <td>tech</td>\n",
       "      <td>2381</td>\n",
       "      <td>344</td>\n",
       "      <td>3618</td>\n",
       "      <td>670</td>\n",
       "      <td>[lifestyle, governs, mobile, choice, faster, b...</td>\n",
       "      <td>[lifestyle, governs, mobile, choice, faster, b...</td>\n",
       "    </tr>\n",
       "    <tr>\n",
       "      <th>4</th>\n",
       "      <td>917</td>\n",
       "      <td>enron bosses payout eighteen former enron dire...</td>\n",
       "      <td>business</td>\n",
       "      <td>1517</td>\n",
       "      <td>198</td>\n",
       "      <td>2190</td>\n",
       "      <td>382</td>\n",
       "      <td>[enron, bosses, payout, eighteen, former, enro...</td>\n",
       "      <td>[enron, boss, payout, eighteen, former, enron,...</td>\n",
       "    </tr>\n",
       "  </tbody>\n",
       "</table>\n",
       "</div>"
      ],
      "text/plain": [
       "  ArticleId                                               Text  Category  \\\n",
       "0      1833  worldcom exboss launches defence lawyers defen...  business   \n",
       "1       154  german business confidence slides german busin...  business   \n",
       "2      1101  bbc poll indicates economic gloom citizens maj...  business   \n",
       "3      1976  lifestyle governs mobile choice faster better ...      tech   \n",
       "4       917  enron bosses payout eighteen former enron dire...  business   \n",
       "\n",
       "   Text Length  Word Count  Text Length (Old)  Word Count (Old)  \\\n",
       "0         1388         185               1866               316   \n",
       "1         1474         194               2016               342   \n",
       "2         2061         267               3104               544   \n",
       "3         2381         344               3618               670   \n",
       "4         1517         198               2190               382   \n",
       "\n",
       "                                      Tokenized Text  \\\n",
       "0  [worldcom, exboss, launches, defence, lawyers,...   \n",
       "1  [german, business, confidence, slides, german,...   \n",
       "2  [bbc, poll, indicates, economic, gloom, citize...   \n",
       "3  [lifestyle, governs, mobile, choice, faster, b...   \n",
       "4  [enron, bosses, payout, eighteen, former, enro...   \n",
       "\n",
       "                                     Lemmatized Text  \n",
       "0  [worldcom, exboss, launch, defence, lawyer, de...  \n",
       "1  [german, business, confidence, slide, german, ...  \n",
       "2  [bbc, poll, indicates, economic, gloom, citize...  \n",
       "3  [lifestyle, governs, mobile, choice, faster, b...  \n",
       "4  [enron, boss, payout, eighteen, former, enron,...  "
      ]
     },
     "execution_count": 29,
     "metadata": {},
     "output_type": "execute_result"
    }
   ],
   "source": [
    "# Using 'clean_text' function to clean 'Text' column\n",
    "tokenize_lemmatize(df_train, 'Text')\n",
    "tokenize_lemmatize(df_test, 'Text')\n",
    "df_train.head()"
   ]
  },
  {
   "cell_type": "code",
   "execution_count": 30,
   "id": "738815ab",
   "metadata": {
    "execution": {
     "iopub.execute_input": "2023-09-07T20:34:39.582052Z",
     "iopub.status.busy": "2023-09-07T20:34:39.581537Z",
     "iopub.status.idle": "2023-09-07T20:34:39.589810Z",
     "shell.execute_reply": "2023-09-07T20:34:39.588361Z"
    },
    "papermill": {
     "duration": 0.040794,
     "end_time": "2023-09-07T20:34:39.592253",
     "exception": false,
     "start_time": "2023-09-07T20:34:39.551459",
     "status": "completed"
    },
    "tags": []
   },
   "outputs": [
    {
     "name": "stdout",
     "output_type": "stream",
     "text": [
      "worldcom exboss launches defence lawyers defending former worldcom chief bernie ebbers battery fraud charges called company whistleblower first witness cynthia cooper worldcom exhead internal accounting alerted directors irregular accounting practices us telecoms giant warnings led collapse firm following discovery bn bn accounting fraud mr ebbers pleaded guilty charges fraud conspiracy prosecution lawyers argued mr ebbers orchestrated series accounting tricks worldcom ordering employees hide expenses inflate revenues meet wall street earnings estimates ms cooper runs consulting business told jury new york wednesday external auditors arthur andersen approved worldcom accounting early said andersen given green light procedures practices used worldcom mr ebber lawyers said unaware fraud arguing auditors alert problems ms cooper also said shareholder meetings mr ebbers often passed technical questions company finance chief giving brief answers prosecution star witness former worldcom financial chief scott sullivan said mr ebbers ordered accounting adjustments firm telling hit books however ms cooper said mr sullivan mentioned anything uncomfortable worldcom accounting audit committee meeting mr ebbers could face jail sentence years convicted charges facing worldcom emerged bankruptcy protection known mci last week mci agreed buyout verizon communications deal valued bn\n",
      "\n",
      "## change to ##\n",
      "\n",
      "['worldcom', 'exboss', 'launch', 'defence', 'lawyer', 'defending', 'former', 'worldcom', 'chief', 'bernie', 'ebbers', 'battery', 'fraud', 'charge', 'called', 'company', 'whistleblower', 'first', 'witness', 'cynthia', 'cooper', 'worldcom', 'exhead', 'internal', 'accounting', 'alerted', 'director', 'irregular', 'accounting', 'practice', 'u', 'telecom', 'giant', 'warning', 'led', 'collapse', 'firm', 'following', 'discovery', 'bn', 'bn', 'accounting', 'fraud', 'mr', 'ebbers', 'pleaded', 'guilty', 'charge', 'fraud', 'conspiracy', 'prosecution', 'lawyer', 'argued', 'mr', 'ebbers', 'orchestrated', 'series', 'accounting', 'trick', 'worldcom', 'ordering', 'employee', 'hide', 'expense', 'inflate', 'revenue', 'meet', 'wall', 'street', 'earnings', 'estimate', 'm', 'cooper', 'run', 'consulting', 'business', 'told', 'jury', 'new', 'york', 'wednesday', 'external', 'auditor', 'arthur', 'andersen', 'approved', 'worldcom', 'accounting', 'early', 'said', 'andersen', 'given', 'green', 'light', 'procedure', 'practice', 'used', 'worldcom', 'mr', 'ebber', 'lawyer', 'said', 'unaware', 'fraud', 'arguing', 'auditor', 'alert', 'problem', 'm', 'cooper', 'also', 'said', 'shareholder', 'meeting', 'mr', 'ebbers', 'often', 'passed', 'technical', 'question', 'company', 'finance', 'chief', 'giving', 'brief', 'answer', 'prosecution', 'star', 'witness', 'former', 'worldcom', 'financial', 'chief', 'scott', 'sullivan', 'said', 'mr', 'ebbers', 'ordered', 'accounting', 'adjustment', 'firm', 'telling', 'hit', 'book', 'however', 'm', 'cooper', 'said', 'mr', 'sullivan', 'mentioned', 'anything', 'uncomfortable', 'worldcom', 'accounting', 'audit', 'committee', 'meeting', 'mr', 'ebbers', 'could', 'face', 'jail', 'sentence', 'year', 'convicted', 'charge', 'facing', 'worldcom', 'emerged', 'bankruptcy', 'protection', 'known', 'mci', 'last', 'week', 'mci', 'agreed', 'buyout', 'verizon', 'communication', 'deal', 'valued', 'bn']\n"
     ]
    }
   ],
   "source": [
    "print(df_train['Text'][0])\n",
    "print('\\n## change to ##\\n')\n",
    "print(df_train['Lemmatized Text'][0])"
   ]
  },
  {
   "cell_type": "code",
   "execution_count": 31,
   "id": "1ea30aa1",
   "metadata": {
    "execution": {
     "iopub.execute_input": "2023-09-07T20:34:39.651814Z",
     "iopub.status.busy": "2023-09-07T20:34:39.651307Z",
     "iopub.status.idle": "2023-09-07T20:34:39.752048Z",
     "shell.execute_reply": "2023-09-07T20:34:39.750356Z"
    },
    "papermill": {
     "duration": 0.134691,
     "end_time": "2023-09-07T20:34:39.755338",
     "exception": false,
     "start_time": "2023-09-07T20:34:39.620647",
     "status": "completed"
    },
    "tags": []
   },
   "outputs": [
    {
     "data": {
      "text/html": [
       "<div>\n",
       "<style scoped>\n",
       "    .dataframe tbody tr th:only-of-type {\n",
       "        vertical-align: middle;\n",
       "    }\n",
       "\n",
       "    .dataframe tbody tr th {\n",
       "        vertical-align: top;\n",
       "    }\n",
       "\n",
       "    .dataframe thead th {\n",
       "        text-align: right;\n",
       "    }\n",
       "</style>\n",
       "<table border=\"1\" class=\"dataframe\">\n",
       "  <thead>\n",
       "    <tr style=\"text-align: right;\">\n",
       "      <th></th>\n",
       "      <th>ArticleId</th>\n",
       "      <th>Text</th>\n",
       "      <th>Category</th>\n",
       "      <th>Text Length</th>\n",
       "      <th>Word Count</th>\n",
       "      <th>Text Length (Old)</th>\n",
       "      <th>Word Count (Old)</th>\n",
       "      <th>Lemmatized Text</th>\n",
       "    </tr>\n",
       "  </thead>\n",
       "  <tbody>\n",
       "    <tr>\n",
       "      <th>0</th>\n",
       "      <td>1833</td>\n",
       "      <td>worldcom exboss launch defence lawyer defendin...</td>\n",
       "      <td>business</td>\n",
       "      <td>1354</td>\n",
       "      <td>185</td>\n",
       "      <td>1388</td>\n",
       "      <td>185</td>\n",
       "      <td>[worldcom, exboss, launch, defence, lawyer, de...</td>\n",
       "    </tr>\n",
       "    <tr>\n",
       "      <th>1</th>\n",
       "      <td>154</td>\n",
       "      <td>german business confidence slide german busine...</td>\n",
       "      <td>business</td>\n",
       "      <td>1448</td>\n",
       "      <td>194</td>\n",
       "      <td>1474</td>\n",
       "      <td>194</td>\n",
       "      <td>[german, business, confidence, slide, german, ...</td>\n",
       "    </tr>\n",
       "    <tr>\n",
       "      <th>2</th>\n",
       "      <td>1101</td>\n",
       "      <td>bbc poll indicates economic gloom citizen majo...</td>\n",
       "      <td>business</td>\n",
       "      <td>2006</td>\n",
       "      <td>267</td>\n",
       "      <td>2061</td>\n",
       "      <td>267</td>\n",
       "      <td>[bbc, poll, indicates, economic, gloom, citize...</td>\n",
       "    </tr>\n",
       "    <tr>\n",
       "      <th>3</th>\n",
       "      <td>1976</td>\n",
       "      <td>lifestyle governs mobile choice faster better ...</td>\n",
       "      <td>tech</td>\n",
       "      <td>2311</td>\n",
       "      <td>344</td>\n",
       "      <td>2381</td>\n",
       "      <td>344</td>\n",
       "      <td>[lifestyle, governs, mobile, choice, faster, b...</td>\n",
       "    </tr>\n",
       "    <tr>\n",
       "      <th>4</th>\n",
       "      <td>917</td>\n",
       "      <td>enron boss payout eighteen former enron direct...</td>\n",
       "      <td>business</td>\n",
       "      <td>1488</td>\n",
       "      <td>198</td>\n",
       "      <td>1517</td>\n",
       "      <td>198</td>\n",
       "      <td>[enron, boss, payout, eighteen, former, enron,...</td>\n",
       "    </tr>\n",
       "  </tbody>\n",
       "</table>\n",
       "</div>"
      ],
      "text/plain": [
       "  ArticleId                                               Text  Category  \\\n",
       "0      1833  worldcom exboss launch defence lawyer defendin...  business   \n",
       "1       154  german business confidence slide german busine...  business   \n",
       "2      1101  bbc poll indicates economic gloom citizen majo...  business   \n",
       "3      1976  lifestyle governs mobile choice faster better ...      tech   \n",
       "4       917  enron boss payout eighteen former enron direct...  business   \n",
       "\n",
       "   Text Length  Word Count  Text Length (Old)  Word Count (Old)  \\\n",
       "0         1354         185               1388               185   \n",
       "1         1448         194               1474               194   \n",
       "2         2006         267               2061               267   \n",
       "3         2311         344               2381               344   \n",
       "4         1488         198               1517               198   \n",
       "\n",
       "                                     Lemmatized Text  \n",
       "0  [worldcom, exboss, launch, defence, lawyer, de...  \n",
       "1  [german, business, confidence, slide, german, ...  \n",
       "2  [bbc, poll, indicates, economic, gloom, citize...  \n",
       "3  [lifestyle, governs, mobile, choice, faster, b...  \n",
       "4  [enron, boss, payout, eighteen, former, enron,...  "
      ]
     },
     "execution_count": 31,
     "metadata": {},
     "output_type": "execute_result"
    }
   ],
   "source": [
    "# Create a funtion to remove temp columns and track text changes\n",
    "def clean_tokenize_lemmatize_columns(df):\n",
    "    # Update the Old or Prior Values\n",
    "    df['Text Length (Old)'] = df['Text Length']\n",
    "    df['Word Count (Old)'] = df['Word Count']\n",
    "    # Calculate the New Values\n",
    "    df['Text'] = df.apply(lambda row: ' '.join(row['Lemmatized Text']), axis=1)\n",
    "    df['Text Length'] = df['Text'].apply(len)\n",
    "    df['Word Count'] = df['Lemmatized Text'].apply(len)\n",
    "    # remove any staging fields\n",
    "    df.drop(columns = ['Tokenized Text'], inplace=True)\n",
    "\n",
    "    return df\n",
    "\n",
    "\n",
    "df_train = clean_tokenize_lemmatize_columns(df = df_train)\n",
    "df_test = clean_tokenize_lemmatize_columns(df = df_test)\n",
    "df_train.head()"
   ]
  },
  {
   "cell_type": "markdown",
   "id": "9c78ef8a",
   "metadata": {
    "papermill": {
     "duration": 0.027899,
     "end_time": "2023-09-07T20:34:39.812579",
     "exception": false,
     "start_time": "2023-09-07T20:34:39.784680",
     "status": "completed"
    },
    "tags": []
   },
   "source": [
    "# 5.&nbsp;Feature Engineering"
   ]
  },
  {
   "cell_type": "markdown",
   "id": "aabc7bba",
   "metadata": {
    "papermill": {
     "duration": 0.027749,
     "end_time": "2023-09-07T20:34:39.868765",
     "exception": false,
     "start_time": "2023-09-07T20:34:39.841016",
     "status": "completed"
    },
    "tags": []
   },
   "source": [
    "In this section the text fields will be transformed into matrix form. This will be completed using TfidfVectorizer in the sci-kit learn library. The TfidfVectorizer is equivalent to CountVectorizer followed by TfidfTransformer. In the first step where CountVectorizer is executed, the process the collection of text documents are converted to a sparse matrix of token counts. The result is the creation of feature equivelent to the voaculary size found by analyzing the collection of text documents []. In the second step where TfidfTransformer is executed, the full count matrix is transformed to a normalized tf or tf-idf representation. \"Tf means term-frequency while tf-idf means term-frequency times inverse document-frequency.\" [] The goal of this step is to scale down the impact of tokens that occur with a high frequency in the collection of text documents, focus on more rare tokens with a higher level of information.\n",
    "\n",
    "sklearn.feature_extraction.text.TfidfVectorizer, https://scikit-learn.org/stable/modules/generated/sklearn.feature_extraction.text.TfidfVectorizer.html\n",
    "sklearn.feature_extraction.text.CountVectorizer, https://scikit-learn.org/stable/modules/generated/sklearn.feature_extraction.text.CountVectorizer.html\n",
    "sklearn.feature_extraction.text.TfidfTransformer, https://scikit-learn.org/stable/modules/generated/sklearn.feature_extraction.text.TfidfTransformer.html#"
   ]
  },
  {
   "cell_type": "code",
   "execution_count": 32,
   "id": "c1d9970d",
   "metadata": {
    "execution": {
     "iopub.execute_input": "2023-09-07T20:34:39.927704Z",
     "iopub.status.busy": "2023-09-07T20:34:39.927287Z",
     "iopub.status.idle": "2023-09-07T20:34:41.773308Z",
     "shell.execute_reply": "2023-09-07T20:34:41.771474Z"
    },
    "papermill": {
     "duration": 1.879223,
     "end_time": "2023-09-07T20:34:41.776099",
     "exception": false,
     "start_time": "2023-09-07T20:34:39.896876",
     "status": "completed"
    },
    "tags": []
   },
   "outputs": [
    {
     "name": "stdout",
     "output_type": "stream",
     "text": [
      "df_train : (1455, 8527)\n",
      "df_test : (735, 8527)\n"
     ]
    }
   ],
   "source": [
    "# configure the term-frequency times inverse document-frequency model\n",
    "tfidf = TfidfVectorizer(sublinear_tf = True,\n",
    "                        stop_words = 'english',\n",
    "                        ngram_range = (1, 2),\n",
    "                        min_df = 5,\n",
    "                        norm = 'l2',\n",
    "                        encoding = 'latin-1',\n",
    "                        lowercase = True)\n",
    "\n",
    "# fit and transform the training dataset\n",
    "ft_train = tfidf.fit_transform(df_train['Text']).toarray()\n",
    "print(df_train.name, ':', ft_train.shape)\n",
    "\n",
    "# fit and transform the testing dataset\n",
    "ft_test = tfidf.transform(df_test['Text']).toarray()\n",
    "print(df_test.name, ':', ft_test.shape)"
   ]
  },
  {
   "cell_type": "code",
   "execution_count": 33,
   "id": "8aeac731",
   "metadata": {
    "execution": {
     "iopub.execute_input": "2023-09-07T20:34:41.837251Z",
     "iopub.status.busy": "2023-09-07T20:34:41.836760Z",
     "iopub.status.idle": "2023-09-07T20:34:41.842431Z",
     "shell.execute_reply": "2023-09-07T20:34:41.840821Z"
    },
    "papermill": {
     "duration": 0.039403,
     "end_time": "2023-09-07T20:34:41.845234",
     "exception": false,
     "start_time": "2023-09-07T20:34:41.805831",
     "status": "completed"
    },
    "tags": []
   },
   "outputs": [],
   "source": [
    "#from sklearn.manifold import TSNE\n",
    "\n"
   ]
  },
  {
   "cell_type": "markdown",
   "id": "308e7d15",
   "metadata": {
    "papermill": {
     "duration": 0.029634,
     "end_time": "2023-09-07T20:34:41.905330",
     "exception": false,
     "start_time": "2023-09-07T20:34:41.875696",
     "status": "completed"
    },
    "tags": []
   },
   "source": [
    "# 6.&nbsp;Model: Unsupervised: None-Negative Matrix Factorization (NMF)"
   ]
  },
  {
   "cell_type": "markdown",
   "id": "e730f8c8",
   "metadata": {
    "papermill": {
     "duration": 0.030425,
     "end_time": "2023-09-07T20:34:41.965388",
     "exception": false,
     "start_time": "2023-09-07T20:34:41.934963",
     "status": "completed"
    },
    "tags": []
   },
   "source": [
    "Non-Negative Matrix Factorization (NMF).\n",
    "\n",
    "Find two non-negative matrices, i.e. matrices with all non-negative elements, (W, H) whose product approximates the non-negative matrix X. This factorization can be used for example for dimensionality reduction, source separation or topic extraction.\n",
    "\n",
    "\n",
    "sklearn.decomposition.NMF, https://scikit-learn.org/stable/modules/generated/sklearn.decomposition.NMF.html"
   ]
  },
  {
   "cell_type": "code",
   "execution_count": 34,
   "id": "a8ff3160",
   "metadata": {
    "execution": {
     "iopub.execute_input": "2023-09-07T20:34:42.031058Z",
     "iopub.status.busy": "2023-09-07T20:34:42.030641Z",
     "iopub.status.idle": "2023-09-07T20:34:42.037605Z",
     "shell.execute_reply": "2023-09-07T20:34:42.036403Z"
    },
    "papermill": {
     "duration": 0.045553,
     "end_time": "2023-09-07T20:34:42.040149",
     "exception": false,
     "start_time": "2023-09-07T20:34:41.994596",
     "status": "completed"
    },
    "tags": []
   },
   "outputs": [],
   "source": [
    "def predict(w_matrix):\n",
    "    sortedW = np.argsort(w_matrix)\n",
    "    n_predictions, maxValue = sortedW.shape\n",
    "    predictions = [[sortedW[i][maxValue - 1]] for i in range(n_predictions)]\n",
    "    topics = np.empty(n_predictions, dtype = np.int64)\n",
    "    for i in range(n_predictions):\n",
    "        topics[i] = predictions[i][0]\n",
    "    return topics"
   ]
  },
  {
   "cell_type": "code",
   "execution_count": 35,
   "id": "59cb034e",
   "metadata": {
    "execution": {
     "iopub.execute_input": "2023-09-07T20:34:42.099500Z",
     "iopub.status.busy": "2023-09-07T20:34:42.099077Z",
     "iopub.status.idle": "2023-09-07T20:34:42.107634Z",
     "shell.execute_reply": "2023-09-07T20:34:42.106183Z"
    },
    "papermill": {
     "duration": 0.041156,
     "end_time": "2023-09-07T20:34:42.110365",
     "exception": false,
     "start_time": "2023-09-07T20:34:42.069209",
     "status": "completed"
    },
    "tags": []
   },
   "outputs": [],
   "source": [
    "#Function to build a map of true labels to predicted labels\n",
    "def build_label_map(true_label, pred_label, LOD = 0):\n",
    "    true_label = true_label\n",
    "    pred_label = pred_label\n",
    "    n = len(true_label)\n",
    "    label_map = dict(zip(true_label, pred_label))\n",
    "    if(LOD >= 1):\n",
    "        print('label_map :', label_map)\n",
    "        print('        n :', n, '\\n')\n",
    "    return label_map\n",
    "\n",
    "#Function to map labels for the label dataframe using the mapping function\n",
    "def map_label_to_data(label, label_map, LOD = 0):\n",
    "    df_mapped = label\n",
    "    df_mapped['mapped_label'] = df_mapped['Category']\n",
    "    df_mapped = df_mapped.replace({'mapped_label': label_map})\n",
    "    if(LOD >= 1):\n",
    "        print(df_mapped)\n",
    "    return df_mapped"
   ]
  },
  {
   "cell_type": "code",
   "execution_count": 36,
   "id": "df6929aa",
   "metadata": {
    "execution": {
     "iopub.execute_input": "2023-09-07T20:34:42.170712Z",
     "iopub.status.busy": "2023-09-07T20:34:42.170259Z",
     "iopub.status.idle": "2023-09-07T20:34:42.179283Z",
     "shell.execute_reply": "2023-09-07T20:34:42.177968Z"
    },
    "papermill": {
     "duration": 0.042919,
     "end_time": "2023-09-07T20:34:42.181835",
     "exception": false,
     "start_time": "2023-09-07T20:34:42.138916",
     "status": "completed"
    },
    "tags": []
   },
   "outputs": [
    {
     "name": "stdout",
     "output_type": "stream",
     "text": [
      "The true label mapping for the feature data: \n",
      "\n",
      "label_map : {'business': 0, 'entertainment': 1, 'politics': 2, 'sport': 3, 'tech': 4}\n",
      "        n : 5 \n",
      "\n"
     ]
    }
   ],
   "source": [
    "true_label_txt = ['business', 'entertainment', 'politics', 'sport', 'tech']\n",
    "\n",
    "def true_label_mapping(true_label, LOD = 0):\n",
    "    true_label_num = range(len(true_label_txt))\n",
    "    if(LOD >= 1):\n",
    "        print('The true label mapping for the feature data:', '\\n')\n",
    "    true_label_map = build_label_map(true_label = true_label_txt, pred_label = true_label_num, LOD = LOD)\n",
    "    return true_label_map\n",
    "\n",
    "true_label_map = true_label_mapping(true_label_txt, LOD = 1)"
   ]
  },
  {
   "cell_type": "code",
   "execution_count": 37,
   "id": "2b221b93",
   "metadata": {
    "execution": {
     "iopub.execute_input": "2023-09-07T20:34:42.241592Z",
     "iopub.status.busy": "2023-09-07T20:34:42.241120Z",
     "iopub.status.idle": "2023-09-07T20:34:42.266201Z",
     "shell.execute_reply": "2023-09-07T20:34:42.264827Z"
    },
    "papermill": {
     "duration": 0.058155,
     "end_time": "2023-09-07T20:34:42.268643",
     "exception": false,
     "start_time": "2023-09-07T20:34:42.210488",
     "status": "completed"
    },
    "tags": []
   },
   "outputs": [],
   "source": [
    "def label_permute_compare(ytdf, yp, n=5, LOD  = 0):\n",
    "    \"\"\"\n",
    "    ytdf: labels dataframe object\n",
    "    yp: clustering label prediction output\n",
    "    Returns permuted label order and accuracy. \n",
    "    Example output: (3, 4, 1, 2, 0), 0.74 \n",
    "    \"\"\"\n",
    "    # your code here\n",
    "    if(LOD >= 1):\n",
    "        print()\n",
    "        print('--------------------------------')\n",
    "    # Create a df with the matched label and predicted label\n",
    "    df_tvp = pd.DataFrame()\n",
    "    df_tvp['ytdf'] = ytdf.iloc[:, 0]\n",
    "    df_tvp['yp'] = yp\n",
    "    df_tvp['record_count'] = 1\n",
    "    # Create a flag for each label based on the specific n (wide table)\n",
    "    for i in range(5):\n",
    "        df_tvp[i] = (df_tvp['yp'] == i)\n",
    "    # Drop the predicted label that makes the table skinny\n",
    "    df_tvp = df_tvp.drop(['yp'], axis=1)\n",
    "    # Display the raw table for mapping\n",
    "    def print_wide_df(df):\n",
    "        print()\n",
    "        print('wide df display:')\n",
    "        print(df.head())\n",
    "        print('...')\n",
    "        print(df.tail())\n",
    "    #print_wide_df(df = df_tvp)\n",
    "    \n",
    "    # Summerize the table based on the true label\n",
    "    df_agg = df_tvp.groupby(['ytdf']).agg('sum')\n",
    "    df_agg = df_agg.reset_index()\n",
    "    # Select the winning label and the count of the winning label\n",
    "    df_agg['py_map'] = df_agg.apply(lambda row: dict(zip(range(len(row.iloc[2:])), row.iloc[2:])), axis = 1)\n",
    "    ytdf_order = df_agg['ytdf']\n",
    "    df_agg.insert(1, 'ytdf_order', ytdf_order)\n",
    "    df_agg = df_agg.replace({'ytdf_order': true_label_mapping(true_label_txt, LOD = LOD)})\n",
    "    df_agg.insert(3, 'py', None)\n",
    "    df_agg.insert(4, 'py_count', None)\n",
    "    df_agg.insert(5, 'py_acc', None)\n",
    "    df_agg = df_agg.sort_values(by = 'ytdf_order')\n",
    "    # Display the summary table for mapping\n",
    "    def print_summary_df(df):\n",
    "        print('\\n', 'summary df display:')\n",
    "        print(df)\n",
    "        print('\\n')\n",
    "    #if(LOD >= 1): print_summary_df(df = df_agg)\n",
    "\n",
    "    # build options and test every option perm\n",
    "    options = list(it.permutations(range(n)))\n",
    "    # set base case\n",
    "    acc = 0\n",
    "    # iterate over options and test for best option\n",
    "    if(LOD >= 1): print('Optimizing the Label Mapping to Maximize Accuracy:')\n",
    "    for case in options:\n",
    "        df_test = df_agg.copy()\n",
    "        df_test['py'] = list(case)\n",
    "        df_test['py_count'] = df_test.apply(lambda row: row.iloc[-1][row.iloc[3]], axis = 1)\n",
    "        df_test['py_acc'] = df_test['py_count'] / df_test['record_count']\n",
    "        \n",
    "        # Calculate the final overall accuracy\n",
    "        total_test = df_test['record_count'].agg('sum')\n",
    "        match_test = df_test['py_count'].agg('sum')\n",
    "        acc_test = match_test / total_test\n",
    "        \n",
    "        if acc_test > acc:\n",
    "            # Record the current best overall accuracy\n",
    "            if(LOD >= 1):\n",
    "                print('[+] accuracy increased from',\n",
    "                      '{:.3f}'.format(round(acc, 3)),\n",
    "                      'to',\n",
    "                      '{:.3f}'.format(round(acc_test, 3)),\n",
    "                      'with new label mapping:', case)\n",
    "            acc = acc_test\n",
    "            total_obs = total_test\n",
    "            match_obs = match_test\n",
    "            # Update the current best mapping and stats\n",
    "            df_agg = df_test.copy()\n",
    "            # Create the permuted label order list for the current best\n",
    "            permuted_label = tuple(df_agg['py'])\n",
    "\n",
    "    # Display Best Overall Accuracy\n",
    "    if(LOD >= 1):\n",
    "        print()\n",
    "        print('Best Overall Permuted Label Set with Highest Accuracy:')\n",
    "        print('[.] total          :', total_obs),\n",
    "        print('[.] matched        :', match_obs),\n",
    "        print('[.] accuracy       :', round(acc,4))\n",
    "        print('[.] permuted label :', permuted_label)\n",
    "        print('--------------------------------', '\\n')\n",
    "    # Display the summary table\n",
    "    #print_summary_df(df = df_agg)\n",
    "\n",
    "    #return the label and accuracy\n",
    "    return permuted_label, acc"
   ]
  },
  {
   "cell_type": "code",
   "execution_count": 38,
   "id": "9e3b9af3",
   "metadata": {
    "execution": {
     "iopub.execute_input": "2023-09-07T20:34:42.331768Z",
     "iopub.status.busy": "2023-09-07T20:34:42.331394Z",
     "iopub.status.idle": "2023-09-07T20:34:42.343584Z",
     "shell.execute_reply": "2023-09-07T20:34:42.342545Z"
    },
    "papermill": {
     "duration": 0.048083,
     "end_time": "2023-09-07T20:34:42.346495",
     "exception": false,
     "start_time": "2023-09-07T20:34:42.298412",
     "status": "completed"
    },
    "tags": []
   },
   "outputs": [],
   "source": [
    "# display confusion matrix here \n",
    "# your code here\n",
    "\n",
    "def display_confusion_matrix(y_true, y_pred, label_map, accuracy, LOD = 0):\n",
    "    from sklearn.metrics import confusion_matrix\n",
    "    n = len(label_map)\n",
    "    cm = confusion_matrix(y_true, y_pred, labels = range(n))\n",
    "    cf_matrix = pd.DataFrame(cm)\n",
    "    cf_key = 'key: ' + str(sorted(((v, k) for k, v in label_map.items()), reverse=False))\n",
    "    \n",
    "    # Unpack the label dictionary for axis labels\n",
    "    axis_label = [None] * len(label_map)\n",
    "    for key, value in label_map.items():\n",
    "        axis_label[value] = key\n",
    "    \n",
    "    # Print the summary and text based details\n",
    "    if(LOD >= 1):\n",
    "        print()\n",
    "        print('## Initial Model ##', '\\n')\n",
    "        print('Accuracy = ', round(accuracy, 4), '\\n')\n",
    "        print('Confusion Matrix (Text)')\n",
    "        print('\\n', cf_key, '\\n', '\\n', cf_matrix, '\\n', sep = '')\n",
    "        print('Confusion Matrix (Image)')\n",
    "    \n",
    "    # Create a visual heatmap\n",
    "    f = plt.figure(figsize=(4,4))\n",
    "    plt.subplot(1, 1, 1)\n",
    "    cm_viz = sns.heatmap(cf_matrix, xticklabels=axis_label, yticklabels=axis_label,\n",
    "            annot=True, fmt='d', cmap='Blues')\n",
    "    plt.title(\"Confusion Matrix\")\n",
    "    plt.xlabel('Predicted Category')\n",
    "    plt.ylabel('True Category')\n",
    "    \n",
    "    return cf_key, cf_matrix"
   ]
  },
  {
   "cell_type": "code",
   "execution_count": 39,
   "id": "87d26082",
   "metadata": {
    "execution": {
     "iopub.execute_input": "2023-09-07T20:34:42.411281Z",
     "iopub.status.busy": "2023-09-07T20:34:42.410798Z",
     "iopub.status.idle": "2023-09-07T20:35:35.832231Z",
     "shell.execute_reply": "2023-09-07T20:35:35.830260Z"
    },
    "papermill": {
     "duration": 53.515211,
     "end_time": "2023-09-07T20:35:35.892872",
     "exception": false,
     "start_time": "2023-09-07T20:34:42.377661",
     "status": "completed"
    },
    "tags": []
   },
   "outputs": [
    {
     "data": {
      "text/html": [
       "<style>#sk-container-id-1 {color: black;background-color: white;}#sk-container-id-1 pre{padding: 0;}#sk-container-id-1 div.sk-toggleable {background-color: white;}#sk-container-id-1 label.sk-toggleable__label {cursor: pointer;display: block;width: 100%;margin-bottom: 0;padding: 0.3em;box-sizing: border-box;text-align: center;}#sk-container-id-1 label.sk-toggleable__label-arrow:before {content: \"▸\";float: left;margin-right: 0.25em;color: #696969;}#sk-container-id-1 label.sk-toggleable__label-arrow:hover:before {color: black;}#sk-container-id-1 div.sk-estimator:hover label.sk-toggleable__label-arrow:before {color: black;}#sk-container-id-1 div.sk-toggleable__content {max-height: 0;max-width: 0;overflow: hidden;text-align: left;background-color: #f0f8ff;}#sk-container-id-1 div.sk-toggleable__content pre {margin: 0.2em;color: black;border-radius: 0.25em;background-color: #f0f8ff;}#sk-container-id-1 input.sk-toggleable__control:checked~div.sk-toggleable__content {max-height: 200px;max-width: 100%;overflow: auto;}#sk-container-id-1 input.sk-toggleable__control:checked~label.sk-toggleable__label-arrow:before {content: \"▾\";}#sk-container-id-1 div.sk-estimator input.sk-toggleable__control:checked~label.sk-toggleable__label {background-color: #d4ebff;}#sk-container-id-1 div.sk-label input.sk-toggleable__control:checked~label.sk-toggleable__label {background-color: #d4ebff;}#sk-container-id-1 input.sk-hidden--visually {border: 0;clip: rect(1px 1px 1px 1px);clip: rect(1px, 1px, 1px, 1px);height: 1px;margin: -1px;overflow: hidden;padding: 0;position: absolute;width: 1px;}#sk-container-id-1 div.sk-estimator {font-family: monospace;background-color: #f0f8ff;border: 1px dotted black;border-radius: 0.25em;box-sizing: border-box;margin-bottom: 0.5em;}#sk-container-id-1 div.sk-estimator:hover {background-color: #d4ebff;}#sk-container-id-1 div.sk-parallel-item::after {content: \"\";width: 100%;border-bottom: 1px solid gray;flex-grow: 1;}#sk-container-id-1 div.sk-label:hover label.sk-toggleable__label {background-color: #d4ebff;}#sk-container-id-1 div.sk-serial::before {content: \"\";position: absolute;border-left: 1px solid gray;box-sizing: border-box;top: 0;bottom: 0;left: 50%;z-index: 0;}#sk-container-id-1 div.sk-serial {display: flex;flex-direction: column;align-items: center;background-color: white;padding-right: 0.2em;padding-left: 0.2em;position: relative;}#sk-container-id-1 div.sk-item {position: relative;z-index: 1;}#sk-container-id-1 div.sk-parallel {display: flex;align-items: stretch;justify-content: center;background-color: white;position: relative;}#sk-container-id-1 div.sk-item::before, #sk-container-id-1 div.sk-parallel-item::before {content: \"\";position: absolute;border-left: 1px solid gray;box-sizing: border-box;top: 0;bottom: 0;left: 50%;z-index: -1;}#sk-container-id-1 div.sk-parallel-item {display: flex;flex-direction: column;z-index: 1;position: relative;background-color: white;}#sk-container-id-1 div.sk-parallel-item:first-child::after {align-self: flex-end;width: 50%;}#sk-container-id-1 div.sk-parallel-item:last-child::after {align-self: flex-start;width: 50%;}#sk-container-id-1 div.sk-parallel-item:only-child::after {width: 0;}#sk-container-id-1 div.sk-dashed-wrapped {border: 1px dashed gray;margin: 0 0.4em 0.5em 0.4em;box-sizing: border-box;padding-bottom: 0.4em;background-color: white;}#sk-container-id-1 div.sk-label label {font-family: monospace;font-weight: bold;display: inline-block;line-height: 1.2em;}#sk-container-id-1 div.sk-label-container {text-align: center;}#sk-container-id-1 div.sk-container {/* jupyter's `normalize.less` sets `[hidden] { display: none; }` but bootstrap.min.css set `[hidden] { display: none !important; }` so we also need the `!important` here to be able to override the default hidden behavior on the sphinx rendered scikit-learn.org. See: https://github.com/scikit-learn/scikit-learn/issues/21755 */display: inline-block !important;position: relative;}#sk-container-id-1 div.sk-text-repr-fallback {display: none;}</style><div id=\"sk-container-id-1\" class=\"sk-top-container\"><div class=\"sk-text-repr-fallback\"><pre>NMF(beta_loss=&#x27;kullback-leibler&#x27;, n_components=5, random_state=42, solver=&#x27;mu&#x27;)</pre><b>In a Jupyter environment, please rerun this cell to show the HTML representation or trust the notebook. <br />On GitHub, the HTML representation is unable to render, please try loading this page with nbviewer.org.</b></div><div class=\"sk-container\" hidden><div class=\"sk-item\"><div class=\"sk-estimator sk-toggleable\"><input class=\"sk-toggleable__control sk-hidden--visually\" id=\"sk-estimator-id-1\" type=\"checkbox\" checked><label for=\"sk-estimator-id-1\" class=\"sk-toggleable__label sk-toggleable__label-arrow\">NMF</label><div class=\"sk-toggleable__content\"><pre>NMF(beta_loss=&#x27;kullback-leibler&#x27;, n_components=5, random_state=42, solver=&#x27;mu&#x27;)</pre></div></div></div></div></div>"
      ],
      "text/plain": [
       "NMF(beta_loss='kullback-leibler', n_components=5, random_state=42, solver='mu')"
      ]
     },
     "execution_count": 39,
     "metadata": {},
     "output_type": "execute_result"
    }
   ],
   "source": [
    "# Creating NMF model and fitting in data\n",
    "nmf_model = NMF(\n",
    "    n_components = 5, \n",
    "    solver       = 'mu',\n",
    "    beta_loss    = 'kullback-leibler',\n",
    "    random_state = 42)\n",
    "\n",
    "nmf_model.fit(ft_train)"
   ]
  },
  {
   "cell_type": "code",
   "execution_count": 40,
   "id": "dbb89fb2",
   "metadata": {
    "execution": {
     "iopub.execute_input": "2023-09-07T20:35:35.970895Z",
     "iopub.status.busy": "2023-09-07T20:35:35.970411Z",
     "iopub.status.idle": "2023-09-07T20:35:44.965451Z",
     "shell.execute_reply": "2023-09-07T20:35:44.964271Z"
    },
    "papermill": {
     "duration": 9.029926,
     "end_time": "2023-09-07T20:35:44.967926",
     "exception": false,
     "start_time": "2023-09-07T20:35:35.938000",
     "status": "completed"
    },
    "tags": []
   },
   "outputs": [
    {
     "name": "stdout",
     "output_type": "stream",
     "text": [
      "\n",
      "--------------------------------\n",
      "The true label mapping for the feature data: \n",
      "\n",
      "label_map : {'business': 0, 'entertainment': 1, 'politics': 2, 'sport': 3, 'tech': 4}\n",
      "        n : 5 \n",
      "\n",
      "Optimizing the Label Mapping to Maximize Accuracy:\n",
      "[+] accuracy increased from 0.000 to 0.192 with new label mapping: (0, 1, 2, 3, 4)\n",
      "[+] accuracy increased from 0.192 to 0.197 with new label mapping: (0, 1, 2, 4, 3)\n",
      "[+] accuracy increased from 0.197 to 0.243 with new label mapping: (0, 2, 3, 1, 4)\n",
      "[+] accuracy increased from 0.243 to 0.247 with new label mapping: (0, 2, 4, 1, 3)\n",
      "[+] accuracy increased from 0.247 to 0.601 with new label mapping: (0, 3, 2, 1, 4)\n",
      "[+] accuracy increased from 0.601 to 0.638 with new label mapping: (4, 0, 2, 1, 3)\n",
      "[+] accuracy increased from 0.638 to 0.964 with new label mapping: (4, 3, 2, 1, 0)\n",
      "\n",
      "Best Overall Permuted Label Set with Highest Accuracy:\n",
      "[.] total          : 1455\n",
      "[.] matched        : 1403\n",
      "[.] accuracy       : 0.9643\n",
      "[.] permuted label : (4, 3, 2, 1, 0)\n",
      "-------------------------------- \n",
      "\n",
      "Training: Model Accuracy Summary:\n",
      "Label Order : (4, 3, 2, 1, 0)\n",
      "Accuracy    : 0.9643 \n",
      "\n"
     ]
    }
   ],
   "source": [
    "# Summarize model results\n",
    "yhat_nmf_train = predict(nmf_model.transform(ft_train))\n",
    "label_order_nmf_train, accuracy_nmf_train = label_permute_compare(\n",
    "                                                ytdf = pd.DataFrame(df_train['Category']),\n",
    "                                                yp   = yhat_nmf_train,\n",
    "                                                n    = 5,\n",
    "                                                LOD  = 1)\n",
    "\n",
    "print('Training: Model Accuracy Summary:')\n",
    "print('Label Order :', label_order_nmf_train)\n",
    "print('Accuracy    :', round(accuracy_nmf_train,4), '\\n')"
   ]
  },
  {
   "cell_type": "code",
   "execution_count": 41,
   "id": "43533f73",
   "metadata": {
    "execution": {
     "iopub.execute_input": "2023-09-07T20:35:45.033192Z",
     "iopub.status.busy": "2023-09-07T20:35:45.031754Z",
     "iopub.status.idle": "2023-09-07T20:35:45.538871Z",
     "shell.execute_reply": "2023-09-07T20:35:45.537624Z"
    },
    "papermill": {
     "duration": 0.544573,
     "end_time": "2023-09-07T20:35:45.541866",
     "exception": false,
     "start_time": "2023-09-07T20:35:44.997293",
     "status": "completed"
    },
    "tags": []
   },
   "outputs": [
    {
     "name": "stdout",
     "output_type": "stream",
     "text": [
      "label_map : {'business': 4, 'entertainment': 3, 'politics': 2, 'sport': 1, 'tech': 0}\n",
      "        n : 5 \n",
      "\n",
      "\n",
      "           Category mapped_label\n",
      "0          business            4\n",
      "1          business            4\n",
      "2          business            4\n",
      "3              tech            0\n",
      "4          business            4\n",
      "...             ...          ...\n",
      "1485  entertainment            3\n",
      "1486  entertainment            3\n",
      "1487       business            4\n",
      "1488           tech            0\n",
      "1489           tech            0\n",
      "\n",
      "[1455 rows x 2 columns]\n",
      "\n",
      "## Initial Model ## \n",
      "\n",
      "Accuracy =  0.9643 \n",
      "\n",
      "Confusion Matrix (Text)\n",
      "\n",
      "key: [(0, 'tech'), (1, 'sport'), (2, 'politics'), (3, 'entertainment'), (4, 'business')]\n",
      "\n",
      "     0    1    2    3    4\n",
      "0  233    0    2    7    2\n",
      "1    0  337    1    0    1\n",
      "2    1    1  266    1    2\n",
      "3    9    0    2  257    1\n",
      "4   12    1    8    1  310\n",
      "\n",
      "Confusion Matrix (Image)\n"
     ]
    },
    {
     "data": {
      "image/png": "[encoded data removed]",
      "text/plain": [
       "<Figure size 400x400 with 2 Axes>"
      ]
     },
     "metadata": {},
     "output_type": "display_data"
    }
   ],
   "source": [
    "#Map labels to new label numbers\n",
    "label_map_nmf_train = build_label_map(\n",
    "                        true_label = true_label_txt,\n",
    "                        pred_label = label_order_nmf_train,\n",
    "                        LOD        = 1)\n",
    "print()\n",
    "#Map validate labels to new number lables\n",
    "df_mapped_nmf_train = map_label_to_data(\n",
    "                        label     = pd.DataFrame(df_train['Category']),\n",
    "                        label_map = label_map_nmf_train,\n",
    "                        LOD       = 1)\n",
    "\n",
    "# Print out summary\n",
    "cf_key, cf_matrix = display_confusion_matrix(\n",
    "                        y_true    = df_mapped_nmf_train['mapped_label'],\n",
    "                        y_pred    = yhat_nmf_train,\n",
    "                        label_map = label_map_nmf_train,\n",
    "                        accuracy  = accuracy_nmf_train,\n",
    "                        LOD       = 1\n",
    ")"
   ]
  },
  {
   "cell_type": "code",
   "execution_count": 42,
   "id": "9601cdab",
   "metadata": {
    "execution": {
     "iopub.execute_input": "2023-09-07T20:35:45.607588Z",
     "iopub.status.busy": "2023-09-07T20:35:45.606253Z",
     "iopub.status.idle": "2023-09-07T20:35:45.622859Z",
     "shell.execute_reply": "2023-09-07T20:35:45.621503Z"
    },
    "papermill": {
     "duration": 0.052567,
     "end_time": "2023-09-07T20:35:45.625800",
     "exception": false,
     "start_time": "2023-09-07T20:35:45.573233",
     "status": "completed"
    },
    "tags": []
   },
   "outputs": [
    {
     "data": {
      "text/html": [
       "<div>\n",
       "<style scoped>\n",
       "    .dataframe tbody tr th:only-of-type {\n",
       "        vertical-align: middle;\n",
       "    }\n",
       "\n",
       "    .dataframe tbody tr th {\n",
       "        vertical-align: top;\n",
       "    }\n",
       "\n",
       "    .dataframe thead th {\n",
       "        text-align: right;\n",
       "    }\n",
       "</style>\n",
       "<table border=\"1\" class=\"dataframe\">\n",
       "  <thead>\n",
       "    <tr style=\"text-align: right;\">\n",
       "      <th></th>\n",
       "      <th>Category</th>\n",
       "      <th>mapped_label</th>\n",
       "    </tr>\n",
       "  </thead>\n",
       "  <tbody>\n",
       "    <tr>\n",
       "      <th>0</th>\n",
       "      <td>business</td>\n",
       "      <td>4</td>\n",
       "    </tr>\n",
       "    <tr>\n",
       "      <th>1</th>\n",
       "      <td>business</td>\n",
       "      <td>4</td>\n",
       "    </tr>\n",
       "    <tr>\n",
       "      <th>2</th>\n",
       "      <td>business</td>\n",
       "      <td>4</td>\n",
       "    </tr>\n",
       "    <tr>\n",
       "      <th>3</th>\n",
       "      <td>tech</td>\n",
       "      <td>0</td>\n",
       "    </tr>\n",
       "    <tr>\n",
       "      <th>4</th>\n",
       "      <td>business</td>\n",
       "      <td>4</td>\n",
       "    </tr>\n",
       "    <tr>\n",
       "      <th>...</th>\n",
       "      <td>...</td>\n",
       "      <td>...</td>\n",
       "    </tr>\n",
       "    <tr>\n",
       "      <th>1485</th>\n",
       "      <td>entertainment</td>\n",
       "      <td>3</td>\n",
       "    </tr>\n",
       "    <tr>\n",
       "      <th>1486</th>\n",
       "      <td>entertainment</td>\n",
       "      <td>3</td>\n",
       "    </tr>\n",
       "    <tr>\n",
       "      <th>1487</th>\n",
       "      <td>business</td>\n",
       "      <td>4</td>\n",
       "    </tr>\n",
       "    <tr>\n",
       "      <th>1488</th>\n",
       "      <td>tech</td>\n",
       "      <td>0</td>\n",
       "    </tr>\n",
       "    <tr>\n",
       "      <th>1489</th>\n",
       "      <td>tech</td>\n",
       "      <td>0</td>\n",
       "    </tr>\n",
       "  </tbody>\n",
       "</table>\n",
       "<p>1455 rows × 2 columns</p>\n",
       "</div>"
      ],
      "text/plain": [
       "           Category mapped_label\n",
       "0          business            4\n",
       "1          business            4\n",
       "2          business            4\n",
       "3              tech            0\n",
       "4          business            4\n",
       "...             ...          ...\n",
       "1485  entertainment            3\n",
       "1486  entertainment            3\n",
       "1487       business            4\n",
       "1488           tech            0\n",
       "1489           tech            0\n",
       "\n",
       "[1455 rows x 2 columns]"
      ]
     },
     "execution_count": 42,
     "metadata": {},
     "output_type": "execute_result"
    }
   ],
   "source": [
    "df_mapped_nmf_train"
   ]
  },
  {
   "cell_type": "markdown",
   "id": "a82588dd",
   "metadata": {
    "papermill": {
     "duration": 0.030946,
     "end_time": "2023-09-07T20:35:45.689233",
     "exception": false,
     "start_time": "2023-09-07T20:35:45.658287",
     "status": "completed"
    },
    "tags": []
   },
   "source": [
    "## Create Kaggle Submission File\n"
   ]
  },
  {
   "cell_type": "code",
   "execution_count": 43,
   "id": "65538841",
   "metadata": {
    "execution": {
     "iopub.execute_input": "2023-09-07T20:35:45.753552Z",
     "iopub.status.busy": "2023-09-07T20:35:45.753127Z",
     "iopub.status.idle": "2023-09-07T20:35:45.759559Z",
     "shell.execute_reply": "2023-09-07T20:35:45.758584Z"
    },
    "papermill": {
     "duration": 0.042324,
     "end_time": "2023-09-07T20:35:45.762555",
     "exception": false,
     "start_time": "2023-09-07T20:35:45.720231",
     "status": "completed"
    },
    "tags": []
   },
   "outputs": [
    {
     "name": "stdout",
     "output_type": "stream",
     "text": [
      "label mapping: {'business': 4, 'entertainment': 3, 'politics': 2, 'sport': 1, 'tech': 0}\n",
      "inverted label mapping: {4: 'business', 3: 'entertainment', 2: 'politics', 1: 'sport', 0: 'tech'}\n"
     ]
    }
   ],
   "source": [
    "#invert label mapping dictionary\n",
    "print('label mapping:', label_map_nmf_train)\n",
    "inv_label_map_nmf_train = {v: k for k, v in label_map_nmf_train.items()}\n",
    "print('inverted label mapping:', inv_label_map_nmf_train)"
   ]
  },
  {
   "cell_type": "code",
   "execution_count": 44,
   "id": "96a82423",
   "metadata": {
    "execution": {
     "iopub.execute_input": "2023-09-07T20:35:45.828439Z",
     "iopub.status.busy": "2023-09-07T20:35:45.827298Z",
     "iopub.status.idle": "2023-09-07T20:35:50.257272Z",
     "shell.execute_reply": "2023-09-07T20:35:50.255481Z"
    },
    "papermill": {
     "duration": 4.467477,
     "end_time": "2023-09-07T20:35:50.261904",
     "exception": false,
     "start_time": "2023-09-07T20:35:45.794427",
     "status": "completed"
    },
    "tags": []
   },
   "outputs": [],
   "source": [
    "# predict the training data\n",
    "yhat_nmf_test = predict(nmf_model.transform(ft_test))\n",
    "\n",
    "#join df_test with predicted labels\n",
    "df_test_nmf_pred = df_test.copy()\n",
    "df_test_nmf_pred['mapped_label'] = yhat_nmf_test\n",
    "df_test_nmf_pred['Category'] = yhat_nmf_test\n",
    "df_test_nmf_pred = df_test_nmf_pred.replace({'Category': inv_label_map_nmf_train})\n",
    "df_test_nmf_pred.drop(columns = ['Text Length', 'Word Count', 'Text Length (Old)', 'Word Count (Old)', 'Lemmatized Text'], inplace=True)\n",
    "df_test_nmf_pred.drop(columns = ['Text', 'mapped_label'], inplace=True)"
   ]
  },
  {
   "cell_type": "code",
   "execution_count": 45,
   "id": "bb82ce5c",
   "metadata": {
    "execution": {
     "iopub.execute_input": "2023-09-07T20:35:50.379345Z",
     "iopub.status.busy": "2023-09-07T20:35:50.378860Z",
     "iopub.status.idle": "2023-09-07T20:35:50.403753Z",
     "shell.execute_reply": "2023-09-07T20:35:50.402751Z"
    },
    "papermill": {
     "duration": 0.076905,
     "end_time": "2023-09-07T20:35:50.406792",
     "exception": false,
     "start_time": "2023-09-07T20:35:50.329887",
     "status": "completed"
    },
    "tags": []
   },
   "outputs": [
    {
     "data": {
      "text/html": [
       "<div>\n",
       "<style scoped>\n",
       "    .dataframe tbody tr th:only-of-type {\n",
       "        vertical-align: middle;\n",
       "    }\n",
       "\n",
       "    .dataframe tbody tr th {\n",
       "        vertical-align: top;\n",
       "    }\n",
       "\n",
       "    .dataframe thead th {\n",
       "        text-align: right;\n",
       "    }\n",
       "</style>\n",
       "<table border=\"1\" class=\"dataframe\">\n",
       "  <thead>\n",
       "    <tr style=\"text-align: right;\">\n",
       "      <th></th>\n",
       "      <th>ArticleId</th>\n",
       "      <th>Category</th>\n",
       "    </tr>\n",
       "  </thead>\n",
       "  <tbody>\n",
       "    <tr>\n",
       "      <th>0</th>\n",
       "      <td>1018</td>\n",
       "      <td>sport</td>\n",
       "    </tr>\n",
       "    <tr>\n",
       "      <th>1</th>\n",
       "      <td>1319</td>\n",
       "      <td>tech</td>\n",
       "    </tr>\n",
       "    <tr>\n",
       "      <th>2</th>\n",
       "      <td>1138</td>\n",
       "      <td>sport</td>\n",
       "    </tr>\n",
       "    <tr>\n",
       "      <th>3</th>\n",
       "      <td>459</td>\n",
       "      <td>business</td>\n",
       "    </tr>\n",
       "    <tr>\n",
       "      <th>4</th>\n",
       "      <td>1020</td>\n",
       "      <td>sport</td>\n",
       "    </tr>\n",
       "    <tr>\n",
       "      <th>...</th>\n",
       "      <td>...</td>\n",
       "      <td>...</td>\n",
       "    </tr>\n",
       "    <tr>\n",
       "      <th>730</th>\n",
       "      <td>1923</td>\n",
       "      <td>business</td>\n",
       "    </tr>\n",
       "    <tr>\n",
       "      <th>731</th>\n",
       "      <td>373</td>\n",
       "      <td>entertainment</td>\n",
       "    </tr>\n",
       "    <tr>\n",
       "      <th>732</th>\n",
       "      <td>1704</td>\n",
       "      <td>politics</td>\n",
       "    </tr>\n",
       "    <tr>\n",
       "      <th>733</th>\n",
       "      <td>206</td>\n",
       "      <td>business</td>\n",
       "    </tr>\n",
       "    <tr>\n",
       "      <th>734</th>\n",
       "      <td>471</td>\n",
       "      <td>politics</td>\n",
       "    </tr>\n",
       "  </tbody>\n",
       "</table>\n",
       "<p>735 rows × 2 columns</p>\n",
       "</div>"
      ],
      "text/plain": [
       "     ArticleId       Category\n",
       "0         1018          sport\n",
       "1         1319           tech\n",
       "2         1138          sport\n",
       "3          459       business\n",
       "4         1020          sport\n",
       "..         ...            ...\n",
       "730       1923       business\n",
       "731        373  entertainment\n",
       "732       1704       politics\n",
       "733        206       business\n",
       "734        471       politics\n",
       "\n",
       "[735 rows x 2 columns]"
      ]
     },
     "execution_count": 45,
     "metadata": {},
     "output_type": "execute_result"
    }
   ],
   "source": [
    "# save the test results to a csv for sumbission\n",
    "df_test_nmf_pred.to_csv('/kaggle/working/nmf_submission.csv', index = False)\n",
    "\n",
    "\n",
    "df_saved_file = pd.read_csv('/kaggle/working/nmf_submission.csv')\n",
    "df_saved_file"
   ]
  },
  {
   "cell_type": "code",
   "execution_count": 46,
   "id": "6f47a1a0",
   "metadata": {
    "execution": {
     "iopub.execute_input": "2023-09-07T20:35:50.472348Z",
     "iopub.status.busy": "2023-09-07T20:35:50.471413Z",
     "iopub.status.idle": "2023-09-07T20:35:50.476857Z",
     "shell.execute_reply": "2023-09-07T20:35:50.475461Z"
    },
    "papermill": {
     "duration": 0.040967,
     "end_time": "2023-09-07T20:35:50.479705",
     "exception": false,
     "start_time": "2023-09-07T20:35:50.438738",
     "status": "completed"
    },
    "tags": []
   },
   "outputs": [],
   "source": [
    "#!kaggle competitions submit -c learn-ai-bbc -f nmf_submission.csv -m \"Submission via API\"\n",
    "#!kaggle competitions  leaderboard learn-ai-bbc --show"
   ]
  },
  {
   "cell_type": "markdown",
   "id": "3579a8dd",
   "metadata": {
    "papermill": {
     "duration": 0.031432,
     "end_time": "2023-09-07T20:35:50.542341",
     "exception": false,
     "start_time": "2023-09-07T20:35:50.510909",
     "status": "completed"
    },
    "tags": []
   },
   "source": [
    "# 7.&nbsp;Model: Unsupervised: Singular Value Decomposition (SVD)"
   ]
  },
  {
   "cell_type": "markdown",
   "id": "29ad76f8",
   "metadata": {
    "papermill": {
     "duration": 0.030763,
     "end_time": "2023-09-07T20:35:50.604073",
     "exception": false,
     "start_time": "2023-09-07T20:35:50.573310",
     "status": "completed"
    },
    "tags": []
   },
   "source": [
    "# 8.&nbsp; Model: Supervised: TBDsingular value decomposition (SVD)"
   ]
  },
  {
   "cell_type": "markdown",
   "id": "f2390eb5",
   "metadata": {
    "papermill": {
     "duration": 0.031514,
     "end_time": "2023-09-07T20:35:50.666425",
     "exception": false,
     "start_time": "2023-09-07T20:35:50.634911",
     "status": "completed"
    },
    "tags": []
   },
   "source": [
    "# 9.&nbsp; Model Comparison"
   ]
  },
  {
   "cell_type": "markdown",
   "id": "cadd5671",
   "metadata": {
    "papermill": {
     "duration": 0.030605,
     "end_time": "2023-09-07T20:35:50.728918",
     "exception": false,
     "start_time": "2023-09-07T20:35:50.698313",
     "status": "completed"
    },
    "tags": []
   },
   "source": [
    "# 10.&nbsp; Results"
   ]
  },
  {
   "cell_type": "markdown",
   "id": "1b313529",
   "metadata": {
    "papermill": {
     "duration": 0.03021,
     "end_time": "2023-09-07T20:35:50.789460",
     "exception": false,
     "start_time": "2023-09-07T20:35:50.759250",
     "status": "completed"
    },
    "tags": []
   },
   "source": [
    "# 11.&nbsp; References\n",
    "\n",
    "**Competition**\n",
    "- [] BBC News Classification: News Articles Categorization https://www.kaggle.com/competitions/learn-ai-bbc/overview\n",
    "\n",
    "**Documentation and References**\n",
    "- [] sklearn.decomposition.TruncatedSVD https://scikit-learn.org/stable/modules/generated/sklearn.decomposition.TruncatedSVD.html\n",
    "- [] Lemmatization, https://en.wikipedia.org/wiki/Lemmatization\n",
    "- []\n",
    "- []\n",
    "- []\n",
    "\n",
    "**Other Kaggle Reports**\n",
    "- [] Kaggle: bbc article classification https://www.kaggle.com/code/scrambledgabs/bbc-article-classification\n",
    "- [] Kaggle: BBC News Classification https://www.kaggle.com/code/conradkleykamp/bbc-news-classification#Unsupervised-Model:-Matrix-Factorization-(NMF)\n",
    "- [] Kaggle: Unsupervised - Matrix Factorization https://www.kaggle.com/code/mattison/unsupervised-matrix-factorization\n",
    "- [] Kaggle: Make a Classification for BBC News BY LSTM https://www.kaggle.com/code/mohamedbakrey/make-a-classification-for-bbc-news-by-lstm"
   ]
  },
  {
   "cell_type": "code",
   "execution_count": null,
   "id": "7796e389",
   "metadata": {
    "papermill": {
     "duration": 0.03049,
     "end_time": "2023-09-07T20:35:50.850448",
     "exception": false,
     "start_time": "2023-09-07T20:35:50.819958",
     "status": "completed"
    },
    "tags": []
   },
   "outputs": [],
   "source": []
  }
 ],
 "kernelspec": {
  "display_name": "Python 3",
  "language": "python",
  "name": "python3"
 },
 "language_info": {
  "codemirror_mode": {
   "name": "ipython",
   "version": 3
  },
  "file_extension": ".py",
  "mimetype": "text/x-python",
  "name": "python",
  "nbconvert_exporter": "python",
  "pygments_lexer": "ipython3",
  "version": "3.6.4"
 },
 "metadata": {
  "kernelspec": {
   "display_name": "Python 3",
   "language": "python",
   "name": "python3"
  },
  "language_info": {
   "codemirror_mode": {
    "name": "ipython",
    "version": 3
   },
   "file_extension": ".py",
   "mimetype": "text/x-python",
   "name": "python",
   "nbconvert_exporter": "python",
   "pygments_lexer": "ipython3",
   "version": "3.10.12"
  },
  "papermill": {
   "default_parameters": {},
   "duration": 137.240846,
   "end_time": "2023-09-07T20:35:53.664209",
   "environment_variables": {},
   "exception": null,
   "input_path": "__notebook__.ipynb",
   "output_path": "__notebook__.ipynb",
   "parameters": {},
   "start_time": "2023-09-07T20:33:36.423363",
   "version": "2.4.0"
  }
 },
 "nbformat": 4,
 "nbformat_minor": 5
}
