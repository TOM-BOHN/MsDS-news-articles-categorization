{
 "cells": [
  {
   "cell_type": "markdown",
   "id": "7e6ac421",
   "metadata": {
    "papermill": {
     "duration": 0.027132,
     "end_time": "2023-09-08T19:11:56.233937",
     "exception": false,
     "start_time": "2023-09-08T19:11:56.206805",
     "status": "completed"
    },
    "tags": []
   },
   "source": [
    "# News Articles Categorization\n",
    "**Thomas Bohn**   --   **2023-09-08**\n",
    "\n",
    "A report focused on modeling news artical categorization for BBC News focused on the application of natural language processing, unsupervised learning with matrix factorization, and a comparison to supervised learning.\n",
    "\n",
    "--  [Main Report](https://github.com/TOM-BOHN/MsDS-news-articles-categorization/blob/main/news-articles-categorization.ipynb)  --  [Github Repo](https://github.com/TOM-BOHN/MsDS-news-articles-categorization)  --  [Presentation Slides](TBD)  --  [Presentation Video](TBD) --"
   ]
  },
  {
   "cell_type": "markdown",
   "id": "66520572",
   "metadata": {
    "papermill": {
     "duration": 0.027886,
     "end_time": "2023-09-08T19:11:56.290155",
     "exception": false,
     "start_time": "2023-09-08T19:11:56.262269",
     "status": "completed"
    },
    "tags": []
   },
   "source": [
    "# 1.&nbsp;Introduction"
   ]
  },
  {
   "cell_type": "markdown",
   "id": "0a2fb253",
   "metadata": {
    "papermill": {
     "duration": 0.028062,
     "end_time": "2023-09-08T19:11:56.345440",
     "exception": false,
     "start_time": "2023-09-08T19:11:56.317378",
     "status": "completed"
    },
    "tags": []
   },
   "source": [
    "**Background**\n",
    "Text documents are one of the richest sources of data for businesses. By using Natural Language Processing (NLP) features can be created for supervised and unsupervised models. Unsupervised models are typically better at handling the larve volume of features created from text documents. [1]\n",
    "\n",
    "**Data Source**\n",
    "Use a public dataset from the BBC comprised of 2225 articles. More details on the datasource can be found here: [learn ai bbc](https://www.kaggle.com/competitions/learn-ai-bbc/overview) [1]. \n",
    "\n",
    "\n",
    "**Categories**\n",
    "The articles are labeled under one of 5 categories:\n",
    "- business\n",
    "- entertainment\n",
    "- politics\n",
    "- sport\n",
    "- tech\n",
    "\n",
    "**Overview of Observations**\n",
    "The dataset is broken into 1490 records for training and 735 for testing. Each observation is the full text of the article with an associated article id [1]. The text files need to be broaken out into features. The training dataset indicates the category. No category is provided for the test dataset.\n",
    "\n",
    "**Objective**\n",
    "The objective is to build an unsupervised Non-Negative Matrix Factorization (NMF) model. The model should be capable of accurately classify previously unseen news articles into one of the five categories. FInal evaluation will use Accuracy as a metric.\n",
    "\n",
    "**Report Overview**\n",
    "The project will cover 5 key phases:\n",
    "1. Exploratory Data Analysis (EDA)\n",
    "2. Data Cleaning\n",
    "3. Extracting Word Features with Natural Language Processing (MLP) Tools\n",
    "4. Building and Training an Unsupervised Non-Negative Matrix Factorization (NMF) Model\n",
    "5. Build and Compare a Random Forest Supervised Learning Model"
   ]
  },
  {
   "cell_type": "markdown",
   "id": "f3405588",
   "metadata": {
    "papermill": {
     "duration": 0.02749,
     "end_time": "2023-09-08T19:11:56.400498",
     "exception": false,
     "start_time": "2023-09-08T19:11:56.373008",
     "status": "completed"
    },
    "tags": []
   },
   "source": [
    "## Python Libraries\n",
    "\n",
    "The following python libraries are used in this notebook."
   ]
  },
  {
   "cell_type": "code",
   "execution_count": 1,
   "id": "4503dce4",
   "metadata": {
    "execution": {
     "iopub.execute_input": "2023-09-08T19:11:56.457598Z",
     "iopub.status.busy": "2023-09-08T19:11:56.457202Z",
     "iopub.status.idle": "2023-09-08T19:11:58.814802Z",
     "shell.execute_reply": "2023-09-08T19:11:58.813900Z"
    },
    "papermill": {
     "duration": 2.389477,
     "end_time": "2023-09-08T19:11:58.817387",
     "exception": false,
     "start_time": "2023-09-08T19:11:56.427910",
     "status": "completed"
    },
    "tags": []
   },
   "outputs": [
    {
     "name": "stderr",
     "output_type": "stream",
     "text": [
      "/opt/conda/lib/python3.10/site-packages/scipy/__init__.py:146: UserWarning: A NumPy version >=1.16.5 and <1.23.0 is required for this version of SciPy (detected version 1.23.5\n",
      "  warnings.warn(f\"A NumPy version >={np_minversion} and <{np_maxversion}\"\n"
     ]
    }
   ],
   "source": [
    "# File Connection and File Manipulation\n",
    "import os\n",
    "# from google.colab import drive\n",
    "\n",
    "# Basic Data Science Toolkits\n",
    "import pandas as pd\n",
    "import numpy as np\n",
    "import math\n",
    "import time\n",
    "import itertools as it\n",
    "\n",
    "# Data Vizualization\n",
    "import matplotlib.pyplot as plt\n",
    "from matplotlib.colors import Normalize\n",
    "from matplotlib import ticker\n",
    "import seaborn as sns\n",
    "\n",
    "# Text Mining\n",
    "import string\n",
    "from textblob import TextBlob\n",
    "\n",
    "\n",
    "#NLP Text Cleanup\n",
    "import re\n",
    "import nltk\n",
    "import nltk.corpus\n",
    "from nltk.corpus import stopwords\n",
    "\n",
    "# NLP Tokenizer and Lemmatizer\n",
    "import nltk\n",
    "import nltk.corpus\n",
    "from nltk.corpus import wordnet\n",
    "from nltk.tokenize import word_tokenize\n",
    "from nltk.stem import WordNetLemmatizer\n",
    "from string import digits\n",
    "\n",
    "# Feature Engineering\n",
    "import sklearn\n",
    "from sklearn.feature_extraction.text import TfidfVectorizer\n",
    "\n",
    "#Data Model Unsupervised NFM\n",
    "import sklearn\n",
    "from sklearn.decomposition import NMF\n",
    "\n",
    "# Data Models Unsupervised RF\n",
    "import sklearn\n",
    "from sklearn.ensemble import RandomForestClassifier\n",
    "\n",
    "# Import Data Model Evaluations\n",
    "from sklearn.model_selection import train_test_split\n",
    "\n",
    "# Cross Validation, Grid Search, and K-Fold\n",
    "from sklearn.model_selection import cross_validate\n",
    "from sklearn.model_selection import cross_val_score\n",
    "from sklearn.model_selection import GridSearchCV\n",
    "from sklearn.model_selection import RepeatedStratifiedKFold\n",
    "\n",
    "\n",
    "#from sklearn.datasets import make_classification\n",
    "#from sklearn.metrics import make_scorer\n",
    "\n",
    "# Data Model Scores\n",
    "#from sklearn.metrics import roc_auc_score\n",
    "#from sklearn.metrics import accuracy_score\n",
    "#from sklearn.metrics import precision_score\n",
    "#from sklearn.metrics import recall_score\n",
    "#from sklearn.metrics import f1_score\n",
    "#from sklearn.metrics import roc_curve\n",
    "\n",
    "#Data Model Unsupervised SVD\n",
    "#import sklearn\n",
    "#from sklearn.decomposition import TruncatedSVD"
   ]
  },
  {
   "cell_type": "markdown",
   "id": "08df22a0",
   "metadata": {
    "papermill": {
     "duration": 0.02701,
     "end_time": "2023-09-08T19:11:58.871714",
     "exception": false,
     "start_time": "2023-09-08T19:11:58.844704",
     "status": "completed"
    },
    "tags": []
   },
   "source": [
    "## Installing NLTK Data"
   ]
  },
  {
   "cell_type": "code",
   "execution_count": 2,
   "id": "fcc65749",
   "metadata": {
    "execution": {
     "iopub.execute_input": "2023-09-08T19:11:58.928346Z",
     "iopub.status.busy": "2023-09-08T19:11:58.927578Z",
     "iopub.status.idle": "2023-09-08T19:12:00.225687Z",
     "shell.execute_reply": "2023-09-08T19:12:00.224785Z"
    },
    "papermill": {
     "duration": 1.329277,
     "end_time": "2023-09-08T19:12:00.228047",
     "exception": false,
     "start_time": "2023-09-08T19:11:58.898770",
     "status": "completed"
    },
    "tags": []
   },
   "outputs": [
    {
     "data": {
      "text/plain": [
       "['The', 'Fulton', 'County', 'Grand', 'Jury', 'said', ...]"
      ]
     },
     "execution_count": 2,
     "metadata": {},
     "output_type": "execute_result"
    }
   ],
   "source": [
    "#Install the necessary datasets/models for specific functions to work\n",
    "nltk.download('popular', quiet=True)\n",
    "# Test to confirm the download worked\n",
    "from nltk.corpus import brown\n",
    "brown.words()\n",
    "#dir(nltk)"
   ]
  },
  {
   "cell_type": "code",
   "execution_count": 3,
   "id": "63e39cdf",
   "metadata": {
    "execution": {
     "iopub.execute_input": "2023-09-08T19:12:00.285944Z",
     "iopub.status.busy": "2023-09-08T19:12:00.285133Z",
     "iopub.status.idle": "2023-09-08T19:12:01.722344Z",
     "shell.execute_reply": "2023-09-08T19:12:01.720883Z"
    },
    "papermill": {
     "duration": 1.46939,
     "end_time": "2023-09-08T19:12:01.725171",
     "exception": false,
     "start_time": "2023-09-08T19:12:00.255781",
     "status": "completed"
    },
    "tags": []
   },
   "outputs": [
    {
     "name": "stdout",
     "output_type": "stream",
     "text": [
      "/usr/share/nltk_data/corpora\n",
      "/usr/share/nltk_data/corpora/wordnet\n"
     ]
    }
   ],
   "source": [
    "# unzip the wordnet file as a workaround for a bug\n",
    "!unzip -q -o /usr/share/nltk_data/corpora/wordnet.zip -d /usr/share/nltk_data/corpora/\n",
    "# verify that paths exist\n",
    "#!ls /usr/share/nltk_data/corpora\n",
    "print(nltk.find('corpora'))\n",
    "print(nltk.find('corpora/wordnet'))"
   ]
  },
  {
   "cell_type": "markdown",
   "id": "43a946e9",
   "metadata": {
    "papermill": {
     "duration": 0.027788,
     "end_time": "2023-09-08T19:12:01.780970",
     "exception": false,
     "start_time": "2023-09-08T19:12:01.753182",
     "status": "completed"
    },
    "tags": []
   },
   "source": [
    "## Global Variables\n",
    "\n",
    "The following are global variables referenced in this notebook."
   ]
  },
  {
   "cell_type": "code",
   "execution_count": 4,
   "id": "d9ff7ff3",
   "metadata": {
    "execution": {
     "iopub.execute_input": "2023-09-08T19:12:01.836293Z",
     "iopub.status.busy": "2023-09-08T19:12:01.835847Z",
     "iopub.status.idle": "2023-09-08T19:12:01.841926Z",
     "shell.execute_reply": "2023-09-08T19:12:01.840913Z"
    },
    "papermill": {
     "duration": 0.036983,
     "end_time": "2023-09-08T19:12:01.844422",
     "exception": false,
     "start_time": "2023-09-08T19:12:01.807439",
     "status": "completed"
    },
    "tags": []
   },
   "outputs": [
    {
     "name": "stdout",
     "output_type": "stream",
     "text": [
      "Level of Detail for functions is set to: 2\n"
     ]
    }
   ],
   "source": [
    "# Global Debug flag used to turn on and off more chatty blocks of code\n",
    "gDEBUG = False\n",
    "if gDEBUG: print('Debug is set to:', gDEBUG)\n",
    "# Global Level of Detail of table stats and details\n",
    "gLOD = 2\n",
    "print('Level of Detail for functions is set to:', gLOD)"
   ]
  },
  {
   "cell_type": "markdown",
   "id": "c288c93d",
   "metadata": {
    "papermill": {
     "duration": 0.026057,
     "end_time": "2023-09-08T19:12:01.897151",
     "exception": false,
     "start_time": "2023-09-08T19:12:01.871094",
     "status": "completed"
    },
    "tags": []
   },
   "source": [
    "# 2.&nbsp;Data Source"
   ]
  },
  {
   "cell_type": "code",
   "execution_count": 5,
   "id": "2b73e1ff",
   "metadata": {
    "execution": {
     "iopub.execute_input": "2023-09-08T19:12:01.951847Z",
     "iopub.status.busy": "2023-09-08T19:12:01.951480Z",
     "iopub.status.idle": "2023-09-08T19:12:01.959478Z",
     "shell.execute_reply": "2023-09-08T19:12:01.958465Z"
    },
    "papermill": {
     "duration": 0.037635,
     "end_time": "2023-09-08T19:12:01.961429",
     "exception": false,
     "start_time": "2023-09-08T19:12:01.923794",
     "status": "completed"
    },
    "tags": []
   },
   "outputs": [
    {
     "name": "stdout",
     "output_type": "stream",
     "text": [
      "/kaggle/input/learn-ai-bbc/BBC News Train.csv\n",
      "/kaggle/input/learn-ai-bbc/BBC News Sample Solution.csv\n",
      "/kaggle/input/learn-ai-bbc/BBC News Test.csv\n"
     ]
    }
   ],
   "source": [
    "# Input data files are available in the read-only \"../input/\" directory\n",
    "# List all files under the input directory\n",
    "for dirname, _, filenames in os.walk('/kaggle/input'):\n",
    "    for filename in filenames:\n",
    "        print(os.path.join(dirname, filename))"
   ]
  },
  {
   "cell_type": "code",
   "execution_count": 6,
   "id": "7ba22e70",
   "metadata": {
    "execution": {
     "iopub.execute_input": "2023-09-08T19:12:02.018238Z",
     "iopub.status.busy": "2023-09-08T19:12:02.017818Z",
     "iopub.status.idle": "2023-09-08T19:12:02.022700Z",
     "shell.execute_reply": "2023-09-08T19:12:02.021835Z"
    },
    "papermill": {
     "duration": 0.035968,
     "end_time": "2023-09-08T19:12:02.024727",
     "exception": false,
     "start_time": "2023-09-08T19:12:01.988759",
     "status": "completed"
    },
    "tags": []
   },
   "outputs": [],
   "source": [
    "#label file paths\n",
    "path_dir = '/kaggle/input/learn-ai-bbc/'\n",
    "train_path = path_dir + 'BBC News Train.csv'\n",
    "test_path = path_dir + 'BBC News Test.csv'\n",
    "sample_solution_path = path_dir + 'BBC News Sample Solution.csv'"
   ]
  },
  {
   "cell_type": "code",
   "execution_count": 7,
   "id": "dd80c410",
   "metadata": {
    "execution": {
     "iopub.execute_input": "2023-09-08T19:12:02.081278Z",
     "iopub.status.busy": "2023-09-08T19:12:02.080862Z",
     "iopub.status.idle": "2023-09-08T19:12:02.285079Z",
     "shell.execute_reply": "2023-09-08T19:12:02.284098Z"
    },
    "papermill": {
     "duration": 0.235272,
     "end_time": "2023-09-08T19:12:02.287718",
     "exception": false,
     "start_time": "2023-09-08T19:12:02.052446",
     "status": "completed"
    },
    "tags": []
   },
   "outputs": [],
   "source": [
    "#import data\n",
    "df_train = pd.read_csv(train_path)\n",
    "df_test = pd.read_csv(test_path)\n",
    "df_sample_solution = pd.read_csv(sample_solution_path)\n",
    "\n",
    "#assign names to tables\n",
    "df_train.name = 'df_train'\n",
    "df_test.name = 'df_test'\n",
    "df_sample_solution.name = 'df_sample_solution'"
   ]
  },
  {
   "cell_type": "code",
   "execution_count": 8,
   "id": "9df90b60",
   "metadata": {
    "execution": {
     "iopub.execute_input": "2023-09-08T19:12:02.345573Z",
     "iopub.status.busy": "2023-09-08T19:12:02.345157Z",
     "iopub.status.idle": "2023-09-08T19:12:02.355927Z",
     "shell.execute_reply": "2023-09-08T19:12:02.354849Z"
    },
    "papermill": {
     "duration": 0.042287,
     "end_time": "2023-09-08T19:12:02.358110",
     "exception": false,
     "start_time": "2023-09-08T19:12:02.315823",
     "status": "completed"
    },
    "tags": []
   },
   "outputs": [],
   "source": [
    "# Create a function to print key table details\n",
    "def quick_table_details (df_name, df, level_of_detail = 10):\n",
    "  # describe the shape and column summary\n",
    "  if level_of_detail >= 1:\n",
    "    print('\\n####', df_name, '####')\n",
    "    num_rows = df.shape[0]\n",
    "    num_cols = df.shape[1]\n",
    "    print('number of features (columns) = ' + str(num_cols))\n",
    "    print('number of observations (rows) = ' + str(num_rows))\n",
    "    print('----------------------------', '\\n')\n",
    "  # print the datatype counts\n",
    "  if level_of_detail >= 2:\n",
    "    print('DataType Counts:')\n",
    "    print(df.dtypes.value_counts())\n",
    "    print('----------------------------', '\\n')\n",
    "  # print a full list of column names\n",
    "  if level_of_detail >= 3:\n",
    "    print('Columns:')\n",
    "    print(df.columns)\n",
    "    print('----------------------------', '\\n')\n",
    "  #  expanded table details\n",
    "  if level_of_detail >= 4:\n",
    "    print('Description:')\n",
    "    print(df.describe(include='all'))\n",
    "    print('----------------------------', '\\n')\n",
    "    print('Info:')\n",
    "    print(df.info())\n",
    "    print('----------------------------', '\\n')\n",
    "  #  table records preview\n",
    "  if level_of_detail >= 5:\n",
    "    print('Table Preview:')\n",
    "    x_records = 3\n",
    "    print(df.head(x_records))\n",
    "    print('....')\n",
    "    print(df.tail(x_records))\n",
    "    print('----------------------------', '\\n')\n",
    "        "
   ]
  },
  {
   "cell_type": "code",
   "execution_count": 9,
   "id": "d67b9b7c",
   "metadata": {
    "execution": {
     "iopub.execute_input": "2023-09-08T19:12:02.418046Z",
     "iopub.status.busy": "2023-09-08T19:12:02.417594Z",
     "iopub.status.idle": "2023-09-08T19:12:02.504926Z",
     "shell.execute_reply": "2023-09-08T19:12:02.503988Z"
    },
    "papermill": {
     "duration": 0.122006,
     "end_time": "2023-09-08T19:12:02.508674",
     "exception": false,
     "start_time": "2023-09-08T19:12:02.386668",
     "status": "completed"
    },
    "tags": []
   },
   "outputs": [
    {
     "name": "stdout",
     "output_type": "stream",
     "text": [
      "\n",
      "#### df_train ####\n",
      "number of features (columns) = 3\n",
      "number of observations (rows) = 1490\n",
      "---------------------------- \n",
      "\n",
      "DataType Counts:\n",
      "object    2\n",
      "int64     1\n",
      "dtype: int64\n",
      "---------------------------- \n",
      "\n",
      "Columns:\n",
      "Index(['ArticleId', 'Text', 'Category'], dtype='object')\n",
      "---------------------------- \n",
      "\n",
      "Description:\n",
      "          ArticleId                                               Text  \\\n",
      "count   1490.000000                                               1490   \n",
      "unique          NaN                                               1440   \n",
      "top             NaN  microsoft seeking spyware trojan microsoft is ...   \n",
      "freq            NaN                                                  2   \n",
      "mean    1119.696644                                                NaN   \n",
      "std      641.826283                                                NaN   \n",
      "min        2.000000                                                NaN   \n",
      "25%      565.250000                                                NaN   \n",
      "50%     1112.500000                                                NaN   \n",
      "75%     1680.750000                                                NaN   \n",
      "max     2224.000000                                                NaN   \n",
      "\n",
      "       Category  \n",
      "count      1490  \n",
      "unique        5  \n",
      "top       sport  \n",
      "freq        346  \n",
      "mean        NaN  \n",
      "std         NaN  \n",
      "min         NaN  \n",
      "25%         NaN  \n",
      "50%         NaN  \n",
      "75%         NaN  \n",
      "max         NaN  \n",
      "---------------------------- \n",
      "\n",
      "Info:\n",
      "<class 'pandas.core.frame.DataFrame'>\n",
      "RangeIndex: 1490 entries, 0 to 1489\n",
      "Data columns (total 3 columns):\n",
      " #   Column     Non-Null Count  Dtype \n",
      "---  ------     --------------  ----- \n",
      " 0   ArticleId  1490 non-null   int64 \n",
      " 1   Text       1490 non-null   object\n",
      " 2   Category   1490 non-null   object\n",
      "dtypes: int64(1), object(2)\n",
      "memory usage: 35.0+ KB\n",
      "None\n",
      "---------------------------- \n",
      "\n",
      "Table Preview:\n",
      "   ArticleId                                               Text  Category\n",
      "0       1833  worldcom ex-boss launches defence lawyers defe...  business\n",
      "1        154  german business confidence slides german busin...  business\n",
      "2       1101  bbc poll indicates economic gloom citizens in ...  business\n",
      "....\n",
      "      ArticleId                                               Text  Category\n",
      "1487       1590  weak dollar hits reuters revenues at media gro...  business\n",
      "1488       1587  apple ipod family expands market apple has exp...      tech\n",
      "1489        538  santy worm makes unwelcome visit thousands of ...      tech\n",
      "---------------------------- \n",
      "\n",
      "\n",
      "#### df_test ####\n",
      "number of features (columns) = 2\n",
      "number of observations (rows) = 735\n",
      "---------------------------- \n",
      "\n",
      "DataType Counts:\n",
      "int64     1\n",
      "object    1\n",
      "dtype: int64\n",
      "---------------------------- \n",
      "\n",
      "Columns:\n",
      "Index(['ArticleId', 'Text'], dtype='object')\n",
      "---------------------------- \n",
      "\n",
      "Description:\n",
      "          ArticleId                                               Text\n",
      "count    735.000000                                                735\n",
      "unique          NaN                                                722\n",
      "top             NaN  boothroyd calls for lords speaker betty boothr...\n",
      "freq            NaN                                                  2\n",
      "mean    1099.424490                                                NaN\n",
      "std      643.925514                                                NaN\n",
      "min        1.000000                                                NaN\n",
      "25%      545.500000                                                NaN\n",
      "50%     1116.000000                                                NaN\n",
      "75%     1657.500000                                                NaN\n",
      "max     2225.000000                                                NaN\n",
      "---------------------------- \n",
      "\n",
      "Info:\n",
      "<class 'pandas.core.frame.DataFrame'>\n",
      "RangeIndex: 735 entries, 0 to 734\n",
      "Data columns (total 2 columns):\n",
      " #   Column     Non-Null Count  Dtype \n",
      "---  ------     --------------  ----- \n",
      " 0   ArticleId  735 non-null    int64 \n",
      " 1   Text       735 non-null    object\n",
      "dtypes: int64(1), object(1)\n",
      "memory usage: 11.6+ KB\n",
      "None\n",
      "---------------------------- \n",
      "\n",
      "Table Preview:\n",
      "   ArticleId                                               Text\n",
      "0       1018  qpr keeper day heads for preston queens park r...\n",
      "1       1319  software watching while you work software that...\n",
      "2       1138  d arcy injury adds to ireland woe gordon d arc...\n",
      "....\n",
      "     ArticleId                                               Text\n",
      "732       1704  sport betting rules in spotlight a group of mp...\n",
      "733        206  alfa romeos  to get gm engines  fiat is to sto...\n",
      "734        471  citizenship event for 18s touted citizenship c...\n",
      "---------------------------- \n",
      "\n",
      "\n",
      "#### df_sample_solution ####\n",
      "number of features (columns) = 2\n",
      "number of observations (rows) = 735\n",
      "---------------------------- \n",
      "\n",
      "DataType Counts:\n",
      "int64     1\n",
      "object    1\n",
      "dtype: int64\n",
      "---------------------------- \n",
      "\n",
      "Columns:\n",
      "Index(['ArticleId', 'Category'], dtype='object')\n",
      "---------------------------- \n",
      "\n",
      "Description:\n",
      "          ArticleId Category\n",
      "count    735.000000      735\n",
      "unique          NaN        5\n",
      "top             NaN    sport\n",
      "freq            NaN      147\n",
      "mean    1099.424490      NaN\n",
      "std      643.925514      NaN\n",
      "min        1.000000      NaN\n",
      "25%      545.500000      NaN\n",
      "50%     1116.000000      NaN\n",
      "75%     1657.500000      NaN\n",
      "max     2225.000000      NaN\n",
      "---------------------------- \n",
      "\n",
      "Info:\n",
      "<class 'pandas.core.frame.DataFrame'>\n",
      "RangeIndex: 735 entries, 0 to 734\n",
      "Data columns (total 2 columns):\n",
      " #   Column     Non-Null Count  Dtype \n",
      "---  ------     --------------  ----- \n",
      " 0   ArticleId  735 non-null    int64 \n",
      " 1   Category   735 non-null    object\n",
      "dtypes: int64(1), object(1)\n",
      "memory usage: 11.6+ KB\n",
      "None\n",
      "---------------------------- \n",
      "\n",
      "Table Preview:\n",
      "   ArticleId  Category\n",
      "0       1018     sport\n",
      "1       1319      tech\n",
      "2       1138  business\n",
      "....\n",
      "     ArticleId       Category\n",
      "732       1704       business\n",
      "733        206  entertainment\n",
      "734        471       politics\n",
      "---------------------------- \n",
      "\n"
     ]
    }
   ],
   "source": [
    "# Print summary details for the 3 tables in the datasource\n",
    "quick_table_details (df_train.name, df_train, level_of_detail = 10)\n",
    "quick_table_details (df_test.name, df_test, level_of_detail = 10)\n",
    "quick_table_details (df_sample_solution.name, df_sample_solution, level_of_detail = 10)"
   ]
  },
  {
   "cell_type": "markdown",
   "id": "28ee868c",
   "metadata": {
    "papermill": {
     "duration": 0.03033,
     "end_time": "2023-09-08T19:12:02.569868",
     "exception": false,
     "start_time": "2023-09-08T19:12:02.539538",
     "status": "completed"
    },
    "tags": []
   },
   "source": [
    "# 3.&nbsp;Exploratory Data Analysis (EDA)\n",
    "\n",
    "When exploring the data, the following explorations will be conducted:\n",
    "- Review the distribution of categories\n",
    "- Review the distribution of charecters in each article\n",
    "- Review the distribution of words in each article"
   ]
  },
  {
   "cell_type": "markdown",
   "id": "07c646fd",
   "metadata": {
    "papermill": {
     "duration": 0.027447,
     "end_time": "2023-09-08T19:12:02.627988",
     "exception": false,
     "start_time": "2023-09-08T19:12:02.600541",
     "status": "completed"
    },
    "tags": []
   },
   "source": [
    "## Review the Distribution of Categories"
   ]
  },
  {
   "cell_type": "code",
   "execution_count": 10,
   "id": "079fd308",
   "metadata": {
    "execution": {
     "iopub.execute_input": "2023-09-08T19:12:02.686479Z",
     "iopub.status.busy": "2023-09-08T19:12:02.685520Z",
     "iopub.status.idle": "2023-09-08T19:12:02.692997Z",
     "shell.execute_reply": "2023-09-08T19:12:02.691747Z"
    },
    "papermill": {
     "duration": 0.040075,
     "end_time": "2023-09-08T19:12:02.695071",
     "exception": false,
     "start_time": "2023-09-08T19:12:02.654996",
     "status": "completed"
    },
    "tags": []
   },
   "outputs": [
    {
     "name": "stdout",
     "output_type": "stream",
     "text": [
      "columns in df_train: Index(['ArticleId', 'Text', 'Category'], dtype='object')\n",
      "columns in df_test: Index(['ArticleId', 'Text'], dtype='object')\n",
      "columns in df_sample_solution: Index(['ArticleId', 'Category'], dtype='object')\n"
     ]
    }
   ],
   "source": [
    "#print column names for each table\n",
    "print('columns in df_train:', df_train.columns)\n",
    "print('columns in df_test:', df_test.columns)\n",
    "print('columns in df_sample_solution:', df_sample_solution.columns)"
   ]
  },
  {
   "cell_type": "code",
   "execution_count": 11,
   "id": "f41f9b04",
   "metadata": {
    "execution": {
     "iopub.execute_input": "2023-09-08T19:12:02.751152Z",
     "iopub.status.busy": "2023-09-08T19:12:02.750603Z",
     "iopub.status.idle": "2023-09-08T19:12:02.758295Z",
     "shell.execute_reply": "2023-09-08T19:12:02.757220Z"
    },
    "papermill": {
     "duration": 0.038519,
     "end_time": "2023-09-08T19:12:02.760461",
     "exception": false,
     "start_time": "2023-09-08T19:12:02.721942",
     "status": "completed"
    },
    "tags": []
   },
   "outputs": [],
   "source": [
    "# function to count the number of records in each category and stats\n",
    "def count_field(df, field = 'Category'):\n",
    "    df_cat_count = pd.DataFrame(df[field].value_counts()).reset_index()\n",
    "    df_cat_count = df_cat_count.rename(columns={'Category': 'Count', 'index': 'Category'})\n",
    "    df_cat_count = df_cat_count.sort_values(by = ['Count'], ascending = False)\n",
    "    df_cat_count['Pct of Total'] = round(df_cat_count['Count'] / df_cat_count['Count'].sum(), 2)\n",
    "    df_cat_count['Pct of Total Text'] = (df_cat_count['Pct of Total'] * 100).apply(int).apply(str) + ' %'\n",
    "    return df_cat_count"
   ]
  },
  {
   "cell_type": "code",
   "execution_count": 12,
   "id": "1659ee56",
   "metadata": {
    "execution": {
     "iopub.execute_input": "2023-09-08T19:12:02.819841Z",
     "iopub.status.busy": "2023-09-08T19:12:02.818854Z",
     "iopub.status.idle": "2023-09-08T19:12:02.840609Z",
     "shell.execute_reply": "2023-09-08T19:12:02.839500Z"
    },
    "papermill": {
     "duration": 0.054206,
     "end_time": "2023-09-08T19:12:02.843277",
     "exception": false,
     "start_time": "2023-09-08T19:12:02.789071",
     "status": "completed"
    },
    "tags": []
   },
   "outputs": [
    {
     "name": "stdout",
     "output_type": "stream",
     "text": [
      "        Category  Count  Pct of Total Pct of Total Text\n",
      "0          sport    346          0.23              23 %\n",
      "1       business    336          0.23              23 %\n",
      "2       politics    274          0.18              18 %\n",
      "3  entertainment    273          0.18              18 %\n",
      "4           tech    261          0.18              18 %\n"
     ]
    }
   ],
   "source": [
    "# calculate the count of records in each category\n",
    "df_cat_count_train = count_field(df = df_train, field = 'Category')\n",
    "df_cat_count_df_sample_solution = count_field(df = df_sample_solution, field = 'Category')\n",
    "\n",
    "print(df_cat_count_train)"
   ]
  },
  {
   "cell_type": "code",
   "execution_count": 13,
   "id": "0fb80cbc",
   "metadata": {
    "execution": {
     "iopub.execute_input": "2023-09-08T19:12:02.902167Z",
     "iopub.status.busy": "2023-09-08T19:12:02.901341Z",
     "iopub.status.idle": "2023-09-08T19:12:02.910808Z",
     "shell.execute_reply": "2023-09-08T19:12:02.909871Z"
    },
    "papermill": {
     "duration": 0.040768,
     "end_time": "2023-09-08T19:12:02.912891",
     "exception": false,
     "start_time": "2023-09-08T19:12:02.872123",
     "status": "completed"
    },
    "tags": []
   },
   "outputs": [],
   "source": [
    "# define a function to aggregate dataframe on a single category\n",
    "def shape_df_for_stacked_barchart(df, group_by, stack_by, normalize=True):\n",
    "  df_chart = (df\n",
    "              .groupby(group_by)[stack_by]\n",
    "              .value_counts(normalize = normalize)\n",
    "              .round(2)\n",
    "              .unstack())\n",
    "  return df_chart\n",
    "\n",
    "# defgine a function to plot a bar chart for a single category\n",
    "def create_single_stacked_bar(df, group_by, stack_by, fig_size = (5,5), normalize=True):\n",
    "  df_chart = shape_df_for_stacked_barchart(df = df, group_by = group_by, stack_by = stack_by, normalize = normalize)\n",
    "  if gDEBUG: print(df_chart, '\\n')\n",
    "  fig, ax = plt.subplots(figsize = fig_size)\n",
    "  # plot the chart\n",
    "  chart = df_chart.plot.bar(stacked = True,\n",
    "                    ax = ax,\n",
    "                    width = 0.3,\n",
    "                    edgecolor = \"black\")\n",
    "  # Customising legend\n",
    "  ax.legend(fontsize = 10, title_fontsize = 10)\n",
    "\n",
    "  ax.set_title(group_by, fontsize=10)\n",
    "  ax.set_xlabel(group_by, fontsize=8)\n",
    "  ax.set_ylabel('Record Count', fontsize=8)\n",
    "  return fig"
   ]
  },
  {
   "cell_type": "code",
   "execution_count": 14,
   "id": "987f41f6",
   "metadata": {
    "execution": {
     "iopub.execute_input": "2023-09-08T19:12:02.970225Z",
     "iopub.status.busy": "2023-09-08T19:12:02.969295Z",
     "iopub.status.idle": "2023-09-08T19:12:03.484236Z",
     "shell.execute_reply": "2023-09-08T19:12:03.482859Z"
    },
    "papermill": {
     "duration": 0.547396,
     "end_time": "2023-09-08T19:12:03.487686",
     "exception": false,
     "start_time": "2023-09-08T19:12:02.940290",
     "status": "completed"
    },
    "tags": []
   },
   "outputs": [
    {
     "name": "stdout",
     "output_type": "stream",
     "text": [
      "[-] the catgory of sport makes up 23 % of the data.\n",
      "[-] the catgory of business makes up 23 % of the data.\n",
      "[-] the catgory of politics makes up 18 % of the data.\n",
      "[-] the catgory of entertainment makes up 18 % of the data.\n",
      "[-] the catgory of tech makes up 18 % of the data.\n"
     ]
    },
    {
     "data": {
      "image/png": "[encoded data removed]",
      "text/plain": [
       "<Figure size 400x400 with 1 Axes>"
      ]
     },
     "metadata": {},
     "output_type": "display_data"
    }
   ],
   "source": [
    "# Summarize the target in the dataset\n",
    "chart = create_single_stacked_bar(df = df_train, group_by = 'Category', stack_by = 'Category', fig_size = (4,4), normalize = False)\n",
    "table = shape_df_for_stacked_barchart(df = df_train, group_by = 'Category', stack_by = 'Category', normalize = False)\n",
    "# Print a summary of the percent share of the total for each category\n",
    "for i in range(len(df_cat_count_train)):\n",
    "    print('[-] the catgory of', df_cat_count_train['Category'].iloc[i], 'makes up',\n",
    "           df_cat_count_train['Pct of Total Text'].iloc[i], 'of the data.')"
   ]
  },
  {
   "cell_type": "markdown",
   "id": "deafb91b",
   "metadata": {
    "papermill": {
     "duration": 0.030028,
     "end_time": "2023-09-08T19:12:03.546909",
     "exception": false,
     "start_time": "2023-09-08T19:12:03.516881",
     "status": "completed"
    },
    "tags": []
   },
   "source": [
    "Overall the data is evenly split between categories. There is between 18% and 23% of the data in each category. No additional work will be done to balance the records in these categories."
   ]
  },
  {
   "cell_type": "markdown",
   "id": "a1260643",
   "metadata": {
    "papermill": {
     "duration": 0.029157,
     "end_time": "2023-09-08T19:12:03.605347",
     "exception": false,
     "start_time": "2023-09-08T19:12:03.576190",
     "status": "completed"
    },
    "tags": []
   },
   "source": [
    "## Review of the Text"
   ]
  },
  {
   "cell_type": "code",
   "execution_count": 15,
   "id": "a87c7f25",
   "metadata": {
    "execution": {
     "iopub.execute_input": "2023-09-08T19:12:03.665464Z",
     "iopub.status.busy": "2023-09-08T19:12:03.664970Z",
     "iopub.status.idle": "2023-09-08T19:12:04.376631Z",
     "shell.execute_reply": "2023-09-08T19:12:04.375599Z"
    },
    "papermill": {
     "duration": 0.745893,
     "end_time": "2023-09-08T19:12:04.379376",
     "exception": false,
     "start_time": "2023-09-08T19:12:03.633483",
     "status": "completed"
    },
    "tags": []
   },
   "outputs": [
    {
     "data": {
      "text/plain": [
       "Text(0, 0.5, 'Record Count')"
      ]
     },
     "execution_count": 15,
     "metadata": {},
     "output_type": "execute_result"
    },
    {
     "data": {
      "image/png": "[encoded data removed]",
      "text/plain": [
       "<Figure size 600x300 with 1 Axes>"
      ]
     },
     "metadata": {},
     "output_type": "display_data"
    }
   ],
   "source": [
    "# add a length column to the dataframe\n",
    "df_train['Text Length'] = df_train['Text'].apply(len)\n",
    "#create a figure\n",
    "fig, ax = plt.subplots(figsize = (6,3))\n",
    "# create a histogram of the length of text\n",
    "#chart = plt.hist(x = df_s['Text Length'])\n",
    "chart = sns.histplot(x = df_train['Text Length'], kde=True)\n",
    "# Customising legend\n",
    "ax.set_title('Histogram of Text Length', fontsize=10)\n",
    "ax.set_xlabel('Text Length', fontsize=8)\n",
    "ax.set_ylabel('Record Count', fontsize=8)"
   ]
  },
  {
   "cell_type": "markdown",
   "id": "e69f03ae",
   "metadata": {
    "papermill": {
     "duration": 0.028779,
     "end_time": "2023-09-08T19:12:04.437897",
     "exception": false,
     "start_time": "2023-09-08T19:12:04.409118",
     "status": "completed"
    },
    "tags": []
   },
   "source": [
    "There is a slight skew to the the lenght of the articles with a long tail extending up to some very large values. Further analysis should be conducted to determine if there are outliers."
   ]
  },
  {
   "cell_type": "code",
   "execution_count": 16,
   "id": "0af961b0",
   "metadata": {
    "execution": {
     "iopub.execute_input": "2023-09-08T19:12:04.496995Z",
     "iopub.status.busy": "2023-09-08T19:12:04.496589Z",
     "iopub.status.idle": "2023-09-08T19:12:04.733516Z",
     "shell.execute_reply": "2023-09-08T19:12:04.732609Z"
    },
    "papermill": {
     "duration": 0.269598,
     "end_time": "2023-09-08T19:12:04.735716",
     "exception": false,
     "start_time": "2023-09-08T19:12:04.466118",
     "status": "completed"
    },
    "tags": []
   },
   "outputs": [
    {
     "data": {
      "text/plain": [
       "Text(0.5, 1.0, 'Boxplot of Text Length')"
      ]
     },
     "execution_count": 16,
     "metadata": {},
     "output_type": "execute_result"
    },
    {
     "data": {
      "image/png": "[encoded data removed]",
      "text/plain": [
       "<Figure size 600x300 with 1 Axes>"
      ]
     },
     "metadata": {},
     "output_type": "display_data"
    }
   ],
   "source": [
    "# add a length column to the dataframe\n",
    "df_train['Text Length'] = df_train['Text'].apply(len)\n",
    "df_test['Text Length'] = df_test['Text'].apply(len)\n",
    "#create a figure\n",
    "fig, ax = plt.subplots(figsize = (6,3))\n",
    "# create a boxplot of the length of text\n",
    "chart = sns.boxplot(x = df_train['Text Length'])\n",
    "ax.set_title('Boxplot of Text Length', fontsize=10)"
   ]
  },
  {
   "cell_type": "markdown",
   "id": "b60f3f97",
   "metadata": {
    "papermill": {
     "duration": 0.02929,
     "end_time": "2023-09-08T19:12:04.795407",
     "exception": false,
     "start_time": "2023-09-08T19:12:04.766117",
     "status": "completed"
    },
    "tags": []
   },
   "source": [
    "Reviewing a box plot, it is clear that many articles are candidates for outliers. A cutoff point will need to be identified, and outlier articles on length can be considered for dropping in the data cleansing steps."
   ]
  },
  {
   "cell_type": "code",
   "execution_count": 17,
   "id": "9862cfde",
   "metadata": {
    "execution": {
     "iopub.execute_input": "2023-09-08T19:12:04.855593Z",
     "iopub.status.busy": "2023-09-08T19:12:04.855142Z",
     "iopub.status.idle": "2023-09-08T19:12:17.122161Z",
     "shell.execute_reply": "2023-09-08T19:12:17.120771Z"
    },
    "papermill": {
     "duration": 12.300463,
     "end_time": "2023-09-08T19:12:17.124956",
     "exception": false,
     "start_time": "2023-09-08T19:12:04.824493",
     "status": "completed"
    },
    "tags": []
   },
   "outputs": [
    {
     "data": {
      "text/plain": [
       "Text(0.5, 1.0, 'Boxplot of Word Count')"
      ]
     },
     "execution_count": 17,
     "metadata": {},
     "output_type": "execute_result"
    },
    {
     "data": {
      "image/png": "[encoded data removed]",
      "text/plain": [
       "<Figure size 600x300 with 1 Axes>"
      ]
     },
     "metadata": {},
     "output_type": "display_data"
    }
   ],
   "source": [
    "# define a function to add the word count to a dataframe\n",
    "def add_word_count(df):\n",
    "    df['Text Tokens'] = df.apply(lambda row: nltk.word_tokenize(row['Text']), axis=1)\n",
    "    df['Word Count'] = df['Text Tokens'].apply(len)\n",
    "    df.drop(columns = ['Text Tokens'], inplace=True)\n",
    "    return df\n",
    "# add a length column to the dataframe for wordcount\n",
    "df_train = add_word_count(df = df_train)\n",
    "df_test = add_word_count(df = df_test)\n",
    "#create a figure\n",
    "fig, ax = plt.subplots(figsize = (6,3))\n",
    "# create a boxplot of the length of text\n",
    "chart = sns.boxplot(x = df_train['Word Count'])\n",
    "ax.set_title('Boxplot of Word Count', fontsize=10)"
   ]
  },
  {
   "cell_type": "markdown",
   "id": "c69f4992",
   "metadata": {
    "papermill": {
     "duration": 0.03102,
     "end_time": "2023-09-08T19:12:17.187656",
     "exception": false,
     "start_time": "2023-09-08T19:12:17.156636",
     "status": "completed"
    },
    "tags": []
   },
   "source": [
    "Revieweing the wordcount, we see a similar pattern displayed. Again, we should consider removing some the outlier values with large word counts relative the rest of the articles."
   ]
  },
  {
   "cell_type": "code",
   "execution_count": 18,
   "id": "55cb4582",
   "metadata": {
    "execution": {
     "iopub.execute_input": "2023-09-08T19:12:17.252475Z",
     "iopub.status.busy": "2023-09-08T19:12:17.252069Z",
     "iopub.status.idle": "2023-09-08T19:12:17.258407Z",
     "shell.execute_reply": "2023-09-08T19:12:17.257241Z"
    },
    "papermill": {
     "duration": 0.04124,
     "end_time": "2023-09-08T19:12:17.260679",
     "exception": false,
     "start_time": "2023-09-08T19:12:17.219439",
     "status": "completed"
    },
    "tags": []
   },
   "outputs": [
    {
     "name": "stdout",
     "output_type": "stream",
     "text": [
      "worldcom ex-boss launches defence lawyers defending former worldcom chief bernie ebbers against a battery of fraud charges have called a company whistleblower as their first witness.  cynthia cooper  worldcom s ex-head of internal accounting  alerted directors to irregular accounting practices at the us telecoms giant in 2002. her warnings led to the collapse of the firm following the discovery of an $11bn (£5.7bn) accounting fraud. mr ebbers has pleaded not guilty to charges of fraud and conspiracy.  prosecution lawyers have argued that mr ebbers orchestrated a series of accounting tricks at worldcom  ordering employees to hide expenses and inflate revenues to meet wall street earnings estimates. but ms cooper  who now runs her own consulting business  told a jury in new york on wednesday that external auditors arthur andersen had approved worldcom s accounting in early 2001 and 2002. she said andersen had given a  green light  to the procedures and practices used by worldcom. mr ebber s lawyers have said he was unaware of the fraud  arguing that auditors did not alert him to any problems.  ms cooper also said that during shareholder meetings mr ebbers often passed over technical questions to the company s finance chief  giving only  brief  answers himself. the prosecution s star witness  former worldcom financial chief scott sullivan  has said that mr ebbers ordered accounting adjustments at the firm  telling him to  hit our books . however  ms cooper said mr sullivan had not mentioned  anything uncomfortable  about worldcom s accounting during a 2001 audit committee meeting. mr ebbers could face a jail sentence of 85 years if convicted of all the charges he is facing. worldcom emerged from bankruptcy protection in 2004  and is now known as mci. last week  mci agreed to a buyout by verizon communications in a deal valued at $6.75bn.\n"
     ]
    }
   ],
   "source": [
    "# show the content of one Article in the data source\n",
    "print(df_train['Text'][0])"
   ]
  },
  {
   "cell_type": "markdown",
   "id": "a8085629",
   "metadata": {
    "papermill": {
     "duration": 0.029713,
     "end_time": "2023-09-08T19:12:17.321286",
     "exception": false,
     "start_time": "2023-09-08T19:12:17.291573",
     "status": "completed"
    },
    "tags": []
   },
   "source": [
    "The text included in the article field appears to be unformatted article text. It includes punctuation, common articles and connecting words, and conjugated or derivatives of a base word. The text will need to be cleansed to ensure it is prepared for modeling. An effort should be made to remove articles and punctuation that could add noise to the model. Words should be simplified to their base forms to ensure they can be properly matched."
   ]
  },
  {
   "cell_type": "markdown",
   "id": "7f83c9e5",
   "metadata": {
    "papermill": {
     "duration": 0.030323,
     "end_time": "2023-09-08T19:12:17.382492",
     "exception": false,
     "start_time": "2023-09-08T19:12:17.352169",
     "status": "completed"
    },
    "tags": []
   },
   "source": [
    "## Results of EDA\n",
    "\n",
    "After completing the initial exploratory data analysis and details related to the table, there are several data cleansing activities that could potentially improve data source. These include:\n",
    "- Data type munging\n",
    "- Checking for null values\n",
    "- Cleaning the Text field that describes the article\n",
    "- Remove any outliers based on word count or article length\n",
    "- Lemmatization of the text"
   ]
  },
  {
   "cell_type": "markdown",
   "id": "1028f686",
   "metadata": {
    "papermill": {
     "duration": 0.030411,
     "end_time": "2023-09-08T19:12:17.444028",
     "exception": false,
     "start_time": "2023-09-08T19:12:17.413617",
     "status": "completed"
    },
    "tags": []
   },
   "source": [
    "# 4.&nbsp;Data Cleansing\n",
    "\n",
    "Data cleaning identified in the exploratory data analysis will be executed in this section."
   ]
  },
  {
   "cell_type": "markdown",
   "id": "b4e4ec6b",
   "metadata": {
    "papermill": {
     "duration": 0.03037,
     "end_time": "2023-09-08T19:12:17.505330",
     "exception": false,
     "start_time": "2023-09-08T19:12:17.474960",
     "status": "completed"
    },
    "tags": []
   },
   "source": [
    "## Data Type Munging"
   ]
  },
  {
   "cell_type": "code",
   "execution_count": 19,
   "id": "1f0d1913",
   "metadata": {
    "execution": {
     "iopub.execute_input": "2023-09-08T19:12:17.571221Z",
     "iopub.status.busy": "2023-09-08T19:12:17.570457Z",
     "iopub.status.idle": "2023-09-08T19:12:17.582227Z",
     "shell.execute_reply": "2023-09-08T19:12:17.581082Z"
    },
    "papermill": {
     "duration": 0.04934,
     "end_time": "2023-09-08T19:12:17.584805",
     "exception": false,
     "start_time": "2023-09-08T19:12:17.535465",
     "status": "completed"
    },
    "tags": []
   },
   "outputs": [],
   "source": [
    "# convert a list of fields to a specific datatype\n",
    "def convert_dtype_basic(df, data_type, col_list, LOD = 10):\n",
    "  print('## Updating the datatypes in dataframe =', df.name,'##')\n",
    "  for field in col_list:\n",
    "    if field in df.columns:\n",
    "      # drop the fields\n",
    "      df[field] = df[field].astype(data_type)\n",
    "      print('[-]', 'field =', field, 'change to datatype =', data_type)\n",
    "    else:\n",
    "      # display a message that the drop did not work\n",
    "      print('[!]', 'field =', field, 'is not in the DataFrame.')\n",
    "  print()\n",
    "  return df\n",
    "\n",
    "# create a function to review how many fields still need to be mapped to a datatype\n",
    "def dtype_review_update(df, completed_list):\n",
    "  all_cols = df.columns\n",
    "  remaining_cols = set(all_cols)\n",
    "  # remove any field on the completed list from the remaining col list\n",
    "  for i in range(len(completed_list)):\n",
    "    remaining_cols = remaining_cols - set(completed_list[i])\n",
    "  remaining_cols = list(remaining_cols)\n",
    "\n",
    "  #Pritn a summary of columns remaining\n",
    "  print('There are', len(remaining_cols), 'columns to still map.')\n",
    "  print('List of remaining columns:', remaining_cols)\n",
    "  print()\n",
    "  if gDEBUG: print(df_s.dtypes[remaining_cols])\n",
    "  if gDEBUG: print()\n",
    "\n",
    "  return remaining_cols\n",
    "    \n",
    "# display a summary message once the datatype mapping is completed\n",
    "def dtype_update_completed(df, dtype_list, completed_list):\n",
    "  df_dtype_count = df.dtypes.value_counts()\n",
    "  #print(df_dtype_count)\n",
    "  print('Completed update of data type for', len(df.columns), 'columns.')\n",
    "  for i in range(df_dtype_count.shape[0]):\n",
    "      print('-- Corrected or validated data type for', df_dtype_count.iloc[i], list(df_dtype_count.index)[i], 'columns.')\n",
    "  print()\n",
    "  if gDEBUG: print(df.info())\n",
    "  if gDEBUG: print('')"
   ]
  },
  {
   "cell_type": "code",
   "execution_count": 20,
   "id": "050cd4b1",
   "metadata": {
    "_kg_hide-input": false,
    "execution": {
     "iopub.execute_input": "2023-09-08T19:12:17.645777Z",
     "iopub.status.busy": "2023-09-08T19:12:17.645383Z",
     "iopub.status.idle": "2023-09-08T19:12:17.665443Z",
     "shell.execute_reply": "2023-09-08T19:12:17.664286Z"
    },
    "papermill": {
     "duration": 0.053167,
     "end_time": "2023-09-08T19:12:17.667902",
     "exception": false,
     "start_time": "2023-09-08T19:12:17.614735",
     "status": "completed"
    },
    "tags": []
   },
   "outputs": [
    {
     "name": "stdout",
     "output_type": "stream",
     "text": [
      "## Updating the datatypes in dataframe = df_train ##\n",
      "[-] field = ArticleId change to datatype = object\n",
      "[-] field = Text change to datatype = object\n",
      "\n",
      "## Updating the datatypes in dataframe = df_train ##\n",
      "[-] field = Category change to datatype = category\n",
      "\n",
      "## Updating the datatypes in dataframe = df_test ##\n",
      "[-] field = ArticleId change to datatype = object\n",
      "[-] field = Text change to datatype = object\n",
      "\n",
      "## Updating the datatypes in dataframe = df_test ##\n",
      "[!] field = Category is not in the DataFrame.\n",
      "\n",
      "## Updating the datatypes in dataframe = df_sample_solution ##\n",
      "[-] field = ArticleId change to datatype = object\n",
      "[!] field = Text is not in the DataFrame.\n",
      "\n",
      "## Updating the datatypes in dataframe = df_sample_solution ##\n",
      "[-] field = Category change to datatype = category\n",
      "\n",
      "There are 2 columns to still map.\n",
      "List of remaining columns: ['Word Count', 'Text Length']\n",
      "\n",
      "There are 2 columns to still map.\n",
      "List of remaining columns: ['Word Count', 'Text Length']\n",
      "\n",
      "There are 0 columns to still map.\n",
      "List of remaining columns: []\n",
      "\n",
      "Completed update of data type for 5 columns.\n",
      "-- Corrected or validated data type for 2 object columns.\n",
      "-- Corrected or validated data type for 2 int64 columns.\n",
      "-- Corrected or validated data type for 1 category columns.\n",
      "\n",
      "Completed update of data type for 4 columns.\n",
      "-- Corrected or validated data type for 2 object columns.\n",
      "-- Corrected or validated data type for 2 int64 columns.\n",
      "\n",
      "Completed update of data type for 2 columns.\n",
      "-- Corrected or validated data type for 1 object columns.\n",
      "-- Corrected or validated data type for 1 category columns.\n",
      "\n"
     ]
    }
   ],
   "source": [
    "# Convert String, Categoriy fields\n",
    "str_cols = ['ArticleId', 'Text']\n",
    "cat_cols = ['Category']\n",
    "# df_train\n",
    "df_train = convert_dtype_basic(df = df_train, data_type = 'object', col_list = str_cols)\n",
    "df_train = convert_dtype_basic(df = df_train, data_type = 'category', col_list = cat_cols)\n",
    "# df_test\n",
    "df_test = convert_dtype_basic(df = df_test, data_type = 'object', col_list = str_cols)\n",
    "df_test = convert_dtype_basic(df = df_test, data_type = 'category', col_list = cat_cols)\n",
    "# df_sample_solution\n",
    "df_sample_solution = convert_dtype_basic(df = df_sample_solution, data_type = 'object', col_list = str_cols)\n",
    "df_sample_solution = convert_dtype_basic(df = df_sample_solution, data_type = 'category', col_list = cat_cols)\n",
    "\n",
    "# check the progress of datatype mapping\n",
    "completed_list = [str_cols, cat_cols]\n",
    "# there should be no fields left to map\n",
    "fields_to_review = dtype_review_update(df = df_train, completed_list = completed_list)\n",
    "fields_to_review = dtype_review_update(df = df_test, completed_list = completed_list)\n",
    "fields_to_review = dtype_review_update(df = df_sample_solution, completed_list = completed_list)\n",
    "\n",
    "# display a the datatype mapping complete message and summary\n",
    "dtype_list = ['string', 'category']\n",
    "dtype_update_completed(df = df_train, dtype_list = dtype_list, completed_list = completed_list)\n",
    "dtype_update_completed(df = df_test, dtype_list = dtype_list, completed_list = completed_list)\n",
    "dtype_update_completed(df = df_sample_solution, dtype_list = dtype_list, completed_list = completed_list)"
   ]
  },
  {
   "cell_type": "markdown",
   "id": "16e9788e",
   "metadata": {
    "papermill": {
     "duration": 0.029917,
     "end_time": "2023-09-08T19:12:17.728314",
     "exception": false,
     "start_time": "2023-09-08T19:12:17.698397",
     "status": "completed"
    },
    "tags": []
   },
   "source": [
    "## Check for Null Values"
   ]
  },
  {
   "cell_type": "code",
   "execution_count": 21,
   "id": "38ae269d",
   "metadata": {
    "execution": {
     "iopub.execute_input": "2023-09-08T19:12:17.792421Z",
     "iopub.status.busy": "2023-09-08T19:12:17.791720Z",
     "iopub.status.idle": "2023-09-08T19:12:17.797784Z",
     "shell.execute_reply": "2023-09-08T19:12:17.796990Z"
    },
    "papermill": {
     "duration": 0.040918,
     "end_time": "2023-09-08T19:12:17.799768",
     "exception": false,
     "start_time": "2023-09-08T19:12:17.758850",
     "status": "completed"
    },
    "tags": []
   },
   "outputs": [],
   "source": [
    "# Inspect observations (rows) with null values\n",
    "def count_all_rows_with_null(df):\n",
    "  df_null = df.isnull()\n",
    "  df_null['null_count'] = df_null.sum(axis=1)\n",
    "  df_null['null_flag'] = df_null['null_count'].apply(lambda x: 1 if x > 0 else 0)\n",
    "\n",
    "  df_null = df_null[df_null['null_count'] > 0]\n",
    "  print(df.name, 'count of observations with nulls:',df_null['null_flag'].sum())"
   ]
  },
  {
   "cell_type": "code",
   "execution_count": 22,
   "id": "2ee0c223",
   "metadata": {
    "execution": {
     "iopub.execute_input": "2023-09-08T19:12:17.862339Z",
     "iopub.status.busy": "2023-09-08T19:12:17.861587Z",
     "iopub.status.idle": "2023-09-08T19:12:17.878980Z",
     "shell.execute_reply": "2023-09-08T19:12:17.877561Z"
    },
    "papermill": {
     "duration": 0.051316,
     "end_time": "2023-09-08T19:12:17.881068",
     "exception": false,
     "start_time": "2023-09-08T19:12:17.829752",
     "status": "completed"
    },
    "tags": []
   },
   "outputs": [
    {
     "name": "stdout",
     "output_type": "stream",
     "text": [
      "df_train count of observations with nulls: 0\n",
      "df_test count of observations with nulls: 0\n",
      "df_sample_solution count of observations with nulls: 0\n"
     ]
    }
   ],
   "source": [
    "# Count all null records\n",
    "count_all_rows_with_null(df = df_train)\n",
    "count_all_rows_with_null(df = df_test)\n",
    "count_all_rows_with_null(df = df_sample_solution)"
   ]
  },
  {
   "cell_type": "markdown",
   "id": "c33add43",
   "metadata": {
    "papermill": {
     "duration": 0.028726,
     "end_time": "2023-09-08T19:12:17.939681",
     "exception": false,
     "start_time": "2023-09-08T19:12:17.910955",
     "status": "completed"
    },
    "tags": []
   },
   "source": [
    "## Clean Text for Modeling"
   ]
  },
  {
   "cell_type": "code",
   "execution_count": 23,
   "id": "f0f4fffe",
   "metadata": {
    "execution": {
     "iopub.execute_input": "2023-09-08T19:12:18.001539Z",
     "iopub.status.busy": "2023-09-08T19:12:18.000458Z",
     "iopub.status.idle": "2023-09-08T19:12:18.008781Z",
     "shell.execute_reply": "2023-09-08T19:12:18.008040Z"
    },
    "papermill": {
     "duration": 0.041499,
     "end_time": "2023-09-08T19:12:18.010866",
     "exception": false,
     "start_time": "2023-09-08T19:12:17.969367",
     "status": "completed"
    },
    "tags": []
   },
   "outputs": [],
   "source": [
    "# Create a funtion to clean a dataframe with text\n",
    "def clean_text(df, text_col):\n",
    "    # removes punctuation\n",
    "    df['no_punct'] = df[text_col].apply(\n",
    "        lambda row: re.sub(r'[^\\w\\s]+', '', row))\n",
    "    # removes numbers\n",
    "    df['no_punct_num'] = df['no_punct'].apply(\n",
    "        lambda row: re.sub(r'[0-9]+', '', row))\n",
    "    # removes stop words, e.g. a, an, and, but, in, on, the...\n",
    "    stop_words = stopwords.words('english')\n",
    "    df['no_stopwords'] = df['no_punct_num'].apply(\n",
    "        lambda x: ' '.join([word for word in x.split() if word not in (stop_words)]))\n",
    "    # removes extra spaces\n",
    "    df['Clean Text'] = df['no_stopwords'].apply(\n",
    "        lambda x: re.sub(' +', ' ', x))\n",
    "    return"
   ]
  },
  {
   "cell_type": "code",
   "execution_count": 24,
   "id": "412085a9",
   "metadata": {
    "execution": {
     "iopub.execute_input": "2023-09-08T19:12:18.071332Z",
     "iopub.status.busy": "2023-09-08T19:12:18.070618Z",
     "iopub.status.idle": "2023-09-08T19:12:20.622320Z",
     "shell.execute_reply": "2023-09-08T19:12:20.621163Z"
    },
    "papermill": {
     "duration": 2.584747,
     "end_time": "2023-09-08T19:12:20.624771",
     "exception": false,
     "start_time": "2023-09-08T19:12:18.040024",
     "status": "completed"
    },
    "tags": []
   },
   "outputs": [
    {
     "data": {
      "text/html": [
       "<div>\n",
       "<style scoped>\n",
       "    .dataframe tbody tr th:only-of-type {\n",
       "        vertical-align: middle;\n",
       "    }\n",
       "\n",
       "    .dataframe tbody tr th {\n",
       "        vertical-align: top;\n",
       "    }\n",
       "\n",
       "    .dataframe thead th {\n",
       "        text-align: right;\n",
       "    }\n",
       "</style>\n",
       "<table border=\"1\" class=\"dataframe\">\n",
       "  <thead>\n",
       "    <tr style=\"text-align: right;\">\n",
       "      <th></th>\n",
       "      <th>ArticleId</th>\n",
       "      <th>Text</th>\n",
       "      <th>Category</th>\n",
       "      <th>Text Length</th>\n",
       "      <th>Word Count</th>\n",
       "      <th>no_punct</th>\n",
       "      <th>no_punct_num</th>\n",
       "      <th>no_stopwords</th>\n",
       "      <th>Clean Text</th>\n",
       "    </tr>\n",
       "  </thead>\n",
       "  <tbody>\n",
       "    <tr>\n",
       "      <th>0</th>\n",
       "      <td>1833</td>\n",
       "      <td>worldcom ex-boss launches defence lawyers defe...</td>\n",
       "      <td>business</td>\n",
       "      <td>1866</td>\n",
       "      <td>316</td>\n",
       "      <td>worldcom exboss launches defence lawyers defen...</td>\n",
       "      <td>worldcom exboss launches defence lawyers defen...</td>\n",
       "      <td>worldcom exboss launches defence lawyers defen...</td>\n",
       "      <td>worldcom exboss launches defence lawyers defen...</td>\n",
       "    </tr>\n",
       "    <tr>\n",
       "      <th>1</th>\n",
       "      <td>154</td>\n",
       "      <td>german business confidence slides german busin...</td>\n",
       "      <td>business</td>\n",
       "      <td>2016</td>\n",
       "      <td>342</td>\n",
       "      <td>german business confidence slides german busin...</td>\n",
       "      <td>german business confidence slides german busin...</td>\n",
       "      <td>german business confidence slides german busin...</td>\n",
       "      <td>german business confidence slides german busin...</td>\n",
       "    </tr>\n",
       "    <tr>\n",
       "      <th>2</th>\n",
       "      <td>1101</td>\n",
       "      <td>bbc poll indicates economic gloom citizens in ...</td>\n",
       "      <td>business</td>\n",
       "      <td>3104</td>\n",
       "      <td>544</td>\n",
       "      <td>bbc poll indicates economic gloom citizens in ...</td>\n",
       "      <td>bbc poll indicates economic gloom citizens in ...</td>\n",
       "      <td>bbc poll indicates economic gloom citizens maj...</td>\n",
       "      <td>bbc poll indicates economic gloom citizens maj...</td>\n",
       "    </tr>\n",
       "    <tr>\n",
       "      <th>3</th>\n",
       "      <td>1976</td>\n",
       "      <td>lifestyle  governs mobile choice  faster  bett...</td>\n",
       "      <td>tech</td>\n",
       "      <td>3618</td>\n",
       "      <td>670</td>\n",
       "      <td>lifestyle  governs mobile choice  faster  bett...</td>\n",
       "      <td>lifestyle  governs mobile choice  faster  bett...</td>\n",
       "      <td>lifestyle governs mobile choice faster better ...</td>\n",
       "      <td>lifestyle governs mobile choice faster better ...</td>\n",
       "    </tr>\n",
       "    <tr>\n",
       "      <th>4</th>\n",
       "      <td>917</td>\n",
       "      <td>enron bosses in $168m payout eighteen former e...</td>\n",
       "      <td>business</td>\n",
       "      <td>2190</td>\n",
       "      <td>382</td>\n",
       "      <td>enron bosses in 168m payout eighteen former en...</td>\n",
       "      <td>enron bosses in m payout eighteen former enron...</td>\n",
       "      <td>enron bosses payout eighteen former enron dire...</td>\n",
       "      <td>enron bosses payout eighteen former enron dire...</td>\n",
       "    </tr>\n",
       "  </tbody>\n",
       "</table>\n",
       "</div>"
      ],
      "text/plain": [
       "  ArticleId                                               Text  Category  \\\n",
       "0      1833  worldcom ex-boss launches defence lawyers defe...  business   \n",
       "1       154  german business confidence slides german busin...  business   \n",
       "2      1101  bbc poll indicates economic gloom citizens in ...  business   \n",
       "3      1976  lifestyle  governs mobile choice  faster  bett...      tech   \n",
       "4       917  enron bosses in $168m payout eighteen former e...  business   \n",
       "\n",
       "   Text Length  Word Count                                           no_punct  \\\n",
       "0         1866         316  worldcom exboss launches defence lawyers defen...   \n",
       "1         2016         342  german business confidence slides german busin...   \n",
       "2         3104         544  bbc poll indicates economic gloom citizens in ...   \n",
       "3         3618         670  lifestyle  governs mobile choice  faster  bett...   \n",
       "4         2190         382  enron bosses in 168m payout eighteen former en...   \n",
       "\n",
       "                                        no_punct_num  \\\n",
       "0  worldcom exboss launches defence lawyers defen...   \n",
       "1  german business confidence slides german busin...   \n",
       "2  bbc poll indicates economic gloom citizens in ...   \n",
       "3  lifestyle  governs mobile choice  faster  bett...   \n",
       "4  enron bosses in m payout eighteen former enron...   \n",
       "\n",
       "                                        no_stopwords  \\\n",
       "0  worldcom exboss launches defence lawyers defen...   \n",
       "1  german business confidence slides german busin...   \n",
       "2  bbc poll indicates economic gloom citizens maj...   \n",
       "3  lifestyle governs mobile choice faster better ...   \n",
       "4  enron bosses payout eighteen former enron dire...   \n",
       "\n",
       "                                          Clean Text  \n",
       "0  worldcom exboss launches defence lawyers defen...  \n",
       "1  german business confidence slides german busin...  \n",
       "2  bbc poll indicates economic gloom citizens maj...  \n",
       "3  lifestyle governs mobile choice faster better ...  \n",
       "4  enron bosses payout eighteen former enron dire...  "
      ]
     },
     "execution_count": 24,
     "metadata": {},
     "output_type": "execute_result"
    }
   ],
   "source": [
    "# add a length column to the dataframe\n",
    "df_train['Text Length'] = df_train['Text'].apply(len)\n",
    "df_test['Text Length'] = df_test['Text'].apply(len)\n",
    "\n",
    "# Using 'clean_text' function to clean 'Text' column\n",
    "clean_text(df = df_train, text_col = 'Text')\n",
    "clean_text(df = df_test, text_col = 'Text')\n",
    "df_train.head()"
   ]
  },
  {
   "cell_type": "code",
   "execution_count": 25,
   "id": "d7dd467a",
   "metadata": {
    "execution": {
     "iopub.execute_input": "2023-09-08T19:12:20.687493Z",
     "iopub.status.busy": "2023-09-08T19:12:20.687085Z",
     "iopub.status.idle": "2023-09-08T19:12:20.693267Z",
     "shell.execute_reply": "2023-09-08T19:12:20.692260Z"
    },
    "papermill": {
     "duration": 0.040451,
     "end_time": "2023-09-08T19:12:20.696020",
     "exception": false,
     "start_time": "2023-09-08T19:12:20.655569",
     "status": "completed"
    },
    "tags": []
   },
   "outputs": [
    {
     "name": "stdout",
     "output_type": "stream",
     "text": [
      "worldcom ex-boss launches defence lawyers defending former worldcom chief bernie ebbers against a battery of fraud charges have called a company whistleblower as their first witness.  cynthia cooper  worldcom s ex-head of internal accounting  alerted directors to irregular accounting practices at the us telecoms giant in 2002. her warnings led to the collapse of the firm following the discovery of an $11bn (£5.7bn) accounting fraud. mr ebbers has pleaded not guilty to charges of fraud and conspiracy.  prosecution lawyers have argued that mr ebbers orchestrated a series of accounting tricks at worldcom  ordering employees to hide expenses and inflate revenues to meet wall street earnings estimates. but ms cooper  who now runs her own consulting business  told a jury in new york on wednesday that external auditors arthur andersen had approved worldcom s accounting in early 2001 and 2002. she said andersen had given a  green light  to the procedures and practices used by worldcom. mr ebber s lawyers have said he was unaware of the fraud  arguing that auditors did not alert him to any problems.  ms cooper also said that during shareholder meetings mr ebbers often passed over technical questions to the company s finance chief  giving only  brief  answers himself. the prosecution s star witness  former worldcom financial chief scott sullivan  has said that mr ebbers ordered accounting adjustments at the firm  telling him to  hit our books . however  ms cooper said mr sullivan had not mentioned  anything uncomfortable  about worldcom s accounting during a 2001 audit committee meeting. mr ebbers could face a jail sentence of 85 years if convicted of all the charges he is facing. worldcom emerged from bankruptcy protection in 2004  and is now known as mci. last week  mci agreed to a buyout by verizon communications in a deal valued at $6.75bn.\n",
      "\n",
      "## change to ##\n",
      "\n",
      "worldcom exboss launches defence lawyers defending former worldcom chief bernie ebbers battery fraud charges called company whistleblower first witness cynthia cooper worldcom exhead internal accounting alerted directors irregular accounting practices us telecoms giant warnings led collapse firm following discovery bn bn accounting fraud mr ebbers pleaded guilty charges fraud conspiracy prosecution lawyers argued mr ebbers orchestrated series accounting tricks worldcom ordering employees hide expenses inflate revenues meet wall street earnings estimates ms cooper runs consulting business told jury new york wednesday external auditors arthur andersen approved worldcom accounting early said andersen given green light procedures practices used worldcom mr ebber lawyers said unaware fraud arguing auditors alert problems ms cooper also said shareholder meetings mr ebbers often passed technical questions company finance chief giving brief answers prosecution star witness former worldcom financial chief scott sullivan said mr ebbers ordered accounting adjustments firm telling hit books however ms cooper said mr sullivan mentioned anything uncomfortable worldcom accounting audit committee meeting mr ebbers could face jail sentence years convicted charges facing worldcom emerged bankruptcy protection known mci last week mci agreed buyout verizon communications deal valued bn\n"
     ]
    }
   ],
   "source": [
    "# Preview the changes for the before and after text\n",
    "print(df_train['Text'][0])\n",
    "print('\\n## change to ##\\n')\n",
    "print(df_train['Clean Text'][0])"
   ]
  },
  {
   "cell_type": "code",
   "execution_count": 26,
   "id": "c2a5e7bc",
   "metadata": {
    "execution": {
     "iopub.execute_input": "2023-09-08T19:12:20.758866Z",
     "iopub.status.busy": "2023-09-08T19:12:20.758485Z",
     "iopub.status.idle": "2023-09-08T19:12:20.766640Z",
     "shell.execute_reply": "2023-09-08T19:12:20.765511Z"
    },
    "papermill": {
     "duration": 0.042161,
     "end_time": "2023-09-08T19:12:20.768738",
     "exception": false,
     "start_time": "2023-09-08T19:12:20.726577",
     "status": "completed"
    },
    "tags": []
   },
   "outputs": [],
   "source": [
    "# Create a funtion to remove temp columns and track text changes\n",
    "def clean_text_columns(df):\n",
    "    # Update the Old or Prior Values\n",
    "    df['Text Length (Old)'] = df['Text Length']\n",
    "    df['Word Count (Old)'] = df['Word Count']\n",
    "    # Calculate the New Values\n",
    "    df['Text'] = df['Clean Text']\n",
    "    df['Text Length'] = df['Text'].apply(len)\n",
    "    df['Text Tokens Temp'] = df.apply(lambda row: nltk.word_tokenize(row['Text']), axis=1)\n",
    "    df['Word Count'] = df['Text Tokens Temp'].apply(len)\n",
    "    df.drop(columns = ['Text Tokens Temp'], inplace=True)\n",
    "    df.drop(columns = ['no_punct','no_punct_num','no_stopwords', 'Clean Text'], inplace=True)\n",
    "    \n",
    "    return"
   ]
  },
  {
   "cell_type": "code",
   "execution_count": 27,
   "id": "c9c93bdc",
   "metadata": {
    "execution": {
     "iopub.execute_input": "2023-09-08T19:12:20.831388Z",
     "iopub.status.busy": "2023-09-08T19:12:20.830951Z",
     "iopub.status.idle": "2023-09-08T19:12:26.221974Z",
     "shell.execute_reply": "2023-09-08T19:12:26.220767Z"
    },
    "papermill": {
     "duration": 5.425058,
     "end_time": "2023-09-08T19:12:26.224410",
     "exception": false,
     "start_time": "2023-09-08T19:12:20.799352",
     "status": "completed"
    },
    "tags": []
   },
   "outputs": [
    {
     "data": {
      "text/html": [
       "<div>\n",
       "<style scoped>\n",
       "    .dataframe tbody tr th:only-of-type {\n",
       "        vertical-align: middle;\n",
       "    }\n",
       "\n",
       "    .dataframe tbody tr th {\n",
       "        vertical-align: top;\n",
       "    }\n",
       "\n",
       "    .dataframe thead th {\n",
       "        text-align: right;\n",
       "    }\n",
       "</style>\n",
       "<table border=\"1\" class=\"dataframe\">\n",
       "  <thead>\n",
       "    <tr style=\"text-align: right;\">\n",
       "      <th></th>\n",
       "      <th>ArticleId</th>\n",
       "      <th>Text</th>\n",
       "      <th>Category</th>\n",
       "      <th>Text Length</th>\n",
       "      <th>Word Count</th>\n",
       "      <th>Text Length (Old)</th>\n",
       "      <th>Word Count (Old)</th>\n",
       "    </tr>\n",
       "  </thead>\n",
       "  <tbody>\n",
       "    <tr>\n",
       "      <th>0</th>\n",
       "      <td>1833</td>\n",
       "      <td>worldcom exboss launches defence lawyers defen...</td>\n",
       "      <td>business</td>\n",
       "      <td>1388</td>\n",
       "      <td>185</td>\n",
       "      <td>1866</td>\n",
       "      <td>316</td>\n",
       "    </tr>\n",
       "    <tr>\n",
       "      <th>1</th>\n",
       "      <td>154</td>\n",
       "      <td>german business confidence slides german busin...</td>\n",
       "      <td>business</td>\n",
       "      <td>1474</td>\n",
       "      <td>194</td>\n",
       "      <td>2016</td>\n",
       "      <td>342</td>\n",
       "    </tr>\n",
       "    <tr>\n",
       "      <th>2</th>\n",
       "      <td>1101</td>\n",
       "      <td>bbc poll indicates economic gloom citizens maj...</td>\n",
       "      <td>business</td>\n",
       "      <td>2061</td>\n",
       "      <td>267</td>\n",
       "      <td>3104</td>\n",
       "      <td>544</td>\n",
       "    </tr>\n",
       "    <tr>\n",
       "      <th>3</th>\n",
       "      <td>1976</td>\n",
       "      <td>lifestyle governs mobile choice faster better ...</td>\n",
       "      <td>tech</td>\n",
       "      <td>2381</td>\n",
       "      <td>344</td>\n",
       "      <td>3618</td>\n",
       "      <td>670</td>\n",
       "    </tr>\n",
       "    <tr>\n",
       "      <th>4</th>\n",
       "      <td>917</td>\n",
       "      <td>enron bosses payout eighteen former enron dire...</td>\n",
       "      <td>business</td>\n",
       "      <td>1517</td>\n",
       "      <td>198</td>\n",
       "      <td>2190</td>\n",
       "      <td>382</td>\n",
       "    </tr>\n",
       "  </tbody>\n",
       "</table>\n",
       "</div>"
      ],
      "text/plain": [
       "  ArticleId                                               Text  Category  \\\n",
       "0      1833  worldcom exboss launches defence lawyers defen...  business   \n",
       "1       154  german business confidence slides german busin...  business   \n",
       "2      1101  bbc poll indicates economic gloom citizens maj...  business   \n",
       "3      1976  lifestyle governs mobile choice faster better ...      tech   \n",
       "4       917  enron bosses payout eighteen former enron dire...  business   \n",
       "\n",
       "   Text Length  Word Count  Text Length (Old)  Word Count (Old)  \n",
       "0         1388         185               1866               316  \n",
       "1         1474         194               2016               342  \n",
       "2         2061         267               3104               544  \n",
       "3         2381         344               3618               670  \n",
       "4         1517         198               2190               382  "
      ]
     },
     "execution_count": 27,
     "metadata": {},
     "output_type": "execute_result"
    }
   ],
   "source": [
    "# Remove temp columns from the dataframes and keep them tidy\n",
    "clean_text_columns(df = df_train)\n",
    "clean_text_columns(df = df_test)\n",
    "df_train.head()"
   ]
  },
  {
   "cell_type": "markdown",
   "id": "cf6749dc",
   "metadata": {
    "papermill": {
     "duration": 0.030637,
     "end_time": "2023-09-08T19:12:26.286206",
     "exception": false,
     "start_time": "2023-09-08T19:12:26.255569",
     "status": "completed"
    },
    "tags": []
   },
   "source": [
    "## Remove Outliers Based on Text Length"
   ]
  },
  {
   "cell_type": "code",
   "execution_count": 28,
   "id": "e83065c9",
   "metadata": {
    "execution": {
     "iopub.execute_input": "2023-09-08T19:12:26.350238Z",
     "iopub.status.busy": "2023-09-08T19:12:26.349437Z",
     "iopub.status.idle": "2023-09-08T19:12:26.360329Z",
     "shell.execute_reply": "2023-09-08T19:12:26.359610Z"
    },
    "papermill": {
     "duration": 0.045053,
     "end_time": "2023-09-08T19:12:26.362285",
     "exception": false,
     "start_time": "2023-09-08T19:12:26.317232",
     "status": "completed"
    },
    "tags": []
   },
   "outputs": [],
   "source": [
    "# function to identify outliers and remove them \n",
    "def remove_outliers(df):\n",
    "    # IQR\n",
    "    Q1 = np.percentile(df['Word Count'], 25, method='midpoint')\n",
    "    Q3 = np.percentile(df['Word Count'], 75, method='midpoint')\n",
    "    IQR = Q3 - Q1\n",
    "    print('Q1: ', int(round(Q1,0)))\n",
    "    print('Q3: ', int(round(Q3,0)))\n",
    "    print('IQR:', int(round(IQR,0)))\n",
    "    print()\n",
    "\n",
    "    # Above Upper bound\n",
    "    upper_limit = int(Q3 + (1.5 * IQR))\n",
    "    upper_array = np.where(df['Word Count'] >= upper_limit)[0]\n",
    "    print(\"Upper Bound:\",upper_limit)\n",
    "    print('Upper Bound Outlier Count:', len(upper_array))\n",
    "    print('Upper Bound Outlier List:', upper_array)\n",
    "    print()\n",
    "\n",
    "    #Below Lower bound\n",
    "    lower_limit = int(Q1 - (1.5 * IQR))\n",
    "    lower_array = np.where(df['Word Count'] <= lower_limit)[0]\n",
    "    print('Lower Bound:', lower_limit)\n",
    "    print('Lower Bound Outlier Count:', len(lower_array))\n",
    "    print('Lower Bound Outlier List:', lower_array)\n",
    "    print()\n",
    "\n",
    "    # Remove the outliers\n",
    "    print('Old Shape:', df.shape)\n",
    "    old_rec_count = df.shape[0]\n",
    "    df.drop(index=upper_array, inplace=True)\n",
    "    df.drop(index=lower_array, inplace=True)\n",
    "    new_rec_count = df.shape[0]\n",
    "    \n",
    "    #Print summary of the action taken and the final result\n",
    "    print('Dropped', round((((old_rec_count - new_rec_count) / old_rec_count) * 100), 2), '% of the records.')\n",
    "    print('New Shape:', df.shape)\n",
    "    \n",
    "    return df"
   ]
  },
  {
   "cell_type": "code",
   "execution_count": 29,
   "id": "9db8ae21",
   "metadata": {
    "execution": {
     "iopub.execute_input": "2023-09-08T19:12:26.423925Z",
     "iopub.status.busy": "2023-09-08T19:12:26.423575Z",
     "iopub.status.idle": "2023-09-08T19:12:26.433102Z",
     "shell.execute_reply": "2023-09-08T19:12:26.432175Z"
    },
    "papermill": {
     "duration": 0.042855,
     "end_time": "2023-09-08T19:12:26.435109",
     "exception": false,
     "start_time": "2023-09-08T19:12:26.392254",
     "status": "completed"
    },
    "tags": []
   },
   "outputs": [
    {
     "name": "stdout",
     "output_type": "stream",
     "text": [
      "Q1:  139\n",
      "Q3:  262\n",
      "IQR: 122\n",
      "\n",
      "Upper Bound: 445\n",
      "Upper Bound Outlier Count: 35\n",
      "Upper Bound Outlier List: [  26   27   63   88   99  106  120  242  264  279  329  364  372  396\n",
      "  431  451  454  476  521  565  826  829  893  898  956  987  997 1057\n",
      " 1122 1167 1258 1371 1417 1439 1464]\n",
      "\n",
      "Lower Bound: -44\n",
      "Lower Bound Outlier Count: 0\n",
      "Lower Bound Outlier List: []\n",
      "\n",
      "Old Shape: (1490, 7)\n",
      "Dropped 2.35 % of the records.\n",
      "New Shape: (1455, 7)\n"
     ]
    }
   ],
   "source": [
    "# Remove outliers from the dataset\n",
    "df_train = remove_outliers(df = df_train)\n",
    "# don't remove outliers from the test dataset as we need a result for all records"
   ]
  },
  {
   "cell_type": "markdown",
   "id": "65e06772",
   "metadata": {
    "papermill": {
     "duration": 0.030795,
     "end_time": "2023-09-08T19:12:26.497223",
     "exception": false,
     "start_time": "2023-09-08T19:12:26.466428",
     "status": "completed"
    },
    "tags": []
   },
   "source": [
    "## Lemmatization of Text\n",
    "\n",
    "Per wikipedia, \"Lemmatisation in linguistics is the process of grouping together the inflected forms of a word so they can be analysed as a single item, identified by the word's lemma, or dictionary form.\" [2] This will be useful in our vectorization as it will begin to standardize different version of the same word to a common representation of the word, resulting in a reduction of linguistic noise in the text documents.\n",
    "\n",
    "To accomplish this function, the NLTK (Natural Language Toolkit) library will be used. This library \"provides easy-to-use interfaces to over 50 corpora and lexical resources such as WordNet, along with a suite of text processing libraries for classification, tokenization, stemming, tagging, parsing, and semantic reasoning, wrappers for industrial-strength NLP libraries.\" [3] Specifically, we will be using the WordNet Lemmatizer to return the specific lemma defined in WordNet. WordNet is \"a lexical database of semantic relations between words that links words into semantic relations\" [5] that is commonly used in automatic text analysis and AI applications. It is freely availible for download."
   ]
  },
  {
   "cell_type": "code",
   "execution_count": 30,
   "id": "3d2259c5",
   "metadata": {
    "execution": {
     "iopub.execute_input": "2023-09-08T19:12:26.561143Z",
     "iopub.status.busy": "2023-09-08T19:12:26.560388Z",
     "iopub.status.idle": "2023-09-08T19:12:26.567394Z",
     "shell.execute_reply": "2023-09-08T19:12:26.566584Z"
    },
    "papermill": {
     "duration": 0.04152,
     "end_time": "2023-09-08T19:12:26.569437",
     "exception": false,
     "start_time": "2023-09-08T19:12:26.527917",
     "status": "completed"
    },
    "tags": []
   },
   "outputs": [],
   "source": [
    "# Tokenize text functions\n",
    "wordnet_lemmatizer = WordNetLemmatizer()\n",
    "# Function to bulkify lemmatize large block of text one word at a time\n",
    "def lemmatizer(text):\n",
    "    lem = [wordnet_lemmatizer.lemmatize(word.lower()) for word in text] \n",
    "    return lem\n",
    "# Function to tokenize the entire article then apply the lemmatize to each article\n",
    "def tokenize_lemmatize(dataframe, text_col):\n",
    "    dataframe['Tokenized Text'] = dataframe.apply(lambda row: nltk.word_tokenize(row[text_col]), axis=1)\n",
    "    dataframe['Lemmatized Text'] = dataframe['Tokenized Text'].apply(lambda string: lemmatizer(string))\n",
    "    return"
   ]
  },
  {
   "cell_type": "code",
   "execution_count": 31,
   "id": "5d40138d",
   "metadata": {
    "execution": {
     "iopub.execute_input": "2023-09-08T19:12:26.634801Z",
     "iopub.status.busy": "2023-09-08T19:12:26.634091Z",
     "iopub.status.idle": "2023-09-08T19:12:37.303920Z",
     "shell.execute_reply": "2023-09-08T19:12:37.303191Z"
    },
    "papermill": {
     "duration": 10.703587,
     "end_time": "2023-09-08T19:12:37.306476",
     "exception": false,
     "start_time": "2023-09-08T19:12:26.602889",
     "status": "completed"
    },
    "tags": []
   },
   "outputs": [
    {
     "data": {
      "text/html": [
       "<div>\n",
       "<style scoped>\n",
       "    .dataframe tbody tr th:only-of-type {\n",
       "        vertical-align: middle;\n",
       "    }\n",
       "\n",
       "    .dataframe tbody tr th {\n",
       "        vertical-align: top;\n",
       "    }\n",
       "\n",
       "    .dataframe thead th {\n",
       "        text-align: right;\n",
       "    }\n",
       "</style>\n",
       "<table border=\"1\" class=\"dataframe\">\n",
       "  <thead>\n",
       "    <tr style=\"text-align: right;\">\n",
       "      <th></th>\n",
       "      <th>ArticleId</th>\n",
       "      <th>Text</th>\n",
       "      <th>Category</th>\n",
       "      <th>Text Length</th>\n",
       "      <th>Word Count</th>\n",
       "      <th>Text Length (Old)</th>\n",
       "      <th>Word Count (Old)</th>\n",
       "      <th>Tokenized Text</th>\n",
       "      <th>Lemmatized Text</th>\n",
       "    </tr>\n",
       "  </thead>\n",
       "  <tbody>\n",
       "    <tr>\n",
       "      <th>0</th>\n",
       "      <td>1833</td>\n",
       "      <td>worldcom exboss launches defence lawyers defen...</td>\n",
       "      <td>business</td>\n",
       "      <td>1388</td>\n",
       "      <td>185</td>\n",
       "      <td>1866</td>\n",
       "      <td>316</td>\n",
       "      <td>[worldcom, exboss, launches, defence, lawyers,...</td>\n",
       "      <td>[worldcom, exboss, launch, defence, lawyer, de...</td>\n",
       "    </tr>\n",
       "    <tr>\n",
       "      <th>1</th>\n",
       "      <td>154</td>\n",
       "      <td>german business confidence slides german busin...</td>\n",
       "      <td>business</td>\n",
       "      <td>1474</td>\n",
       "      <td>194</td>\n",
       "      <td>2016</td>\n",
       "      <td>342</td>\n",
       "      <td>[german, business, confidence, slides, german,...</td>\n",
       "      <td>[german, business, confidence, slide, german, ...</td>\n",
       "    </tr>\n",
       "    <tr>\n",
       "      <th>2</th>\n",
       "      <td>1101</td>\n",
       "      <td>bbc poll indicates economic gloom citizens maj...</td>\n",
       "      <td>business</td>\n",
       "      <td>2061</td>\n",
       "      <td>267</td>\n",
       "      <td>3104</td>\n",
       "      <td>544</td>\n",
       "      <td>[bbc, poll, indicates, economic, gloom, citize...</td>\n",
       "      <td>[bbc, poll, indicates, economic, gloom, citize...</td>\n",
       "    </tr>\n",
       "    <tr>\n",
       "      <th>3</th>\n",
       "      <td>1976</td>\n",
       "      <td>lifestyle governs mobile choice faster better ...</td>\n",
       "      <td>tech</td>\n",
       "      <td>2381</td>\n",
       "      <td>344</td>\n",
       "      <td>3618</td>\n",
       "      <td>670</td>\n",
       "      <td>[lifestyle, governs, mobile, choice, faster, b...</td>\n",
       "      <td>[lifestyle, governs, mobile, choice, faster, b...</td>\n",
       "    </tr>\n",
       "    <tr>\n",
       "      <th>4</th>\n",
       "      <td>917</td>\n",
       "      <td>enron bosses payout eighteen former enron dire...</td>\n",
       "      <td>business</td>\n",
       "      <td>1517</td>\n",
       "      <td>198</td>\n",
       "      <td>2190</td>\n",
       "      <td>382</td>\n",
       "      <td>[enron, bosses, payout, eighteen, former, enro...</td>\n",
       "      <td>[enron, boss, payout, eighteen, former, enron,...</td>\n",
       "    </tr>\n",
       "  </tbody>\n",
       "</table>\n",
       "</div>"
      ],
      "text/plain": [
       "  ArticleId                                               Text  Category  \\\n",
       "0      1833  worldcom exboss launches defence lawyers defen...  business   \n",
       "1       154  german business confidence slides german busin...  business   \n",
       "2      1101  bbc poll indicates economic gloom citizens maj...  business   \n",
       "3      1976  lifestyle governs mobile choice faster better ...      tech   \n",
       "4       917  enron bosses payout eighteen former enron dire...  business   \n",
       "\n",
       "   Text Length  Word Count  Text Length (Old)  Word Count (Old)  \\\n",
       "0         1388         185               1866               316   \n",
       "1         1474         194               2016               342   \n",
       "2         2061         267               3104               544   \n",
       "3         2381         344               3618               670   \n",
       "4         1517         198               2190               382   \n",
       "\n",
       "                                      Tokenized Text  \\\n",
       "0  [worldcom, exboss, launches, defence, lawyers,...   \n",
       "1  [german, business, confidence, slides, german,...   \n",
       "2  [bbc, poll, indicates, economic, gloom, citize...   \n",
       "3  [lifestyle, governs, mobile, choice, faster, b...   \n",
       "4  [enron, bosses, payout, eighteen, former, enro...   \n",
       "\n",
       "                                     Lemmatized Text  \n",
       "0  [worldcom, exboss, launch, defence, lawyer, de...  \n",
       "1  [german, business, confidence, slide, german, ...  \n",
       "2  [bbc, poll, indicates, economic, gloom, citize...  \n",
       "3  [lifestyle, governs, mobile, choice, faster, b...  \n",
       "4  [enron, boss, payout, eighteen, former, enron,...  "
      ]
     },
     "execution_count": 31,
     "metadata": {},
     "output_type": "execute_result"
    }
   ],
   "source": [
    "# Using text cleaning function to clean the text column\n",
    "tokenize_lemmatize(df_train, 'Text')\n",
    "tokenize_lemmatize(df_test, 'Text')\n",
    "df_train.head()"
   ]
  },
  {
   "cell_type": "code",
   "execution_count": 32,
   "id": "4a11ed65",
   "metadata": {
    "execution": {
     "iopub.execute_input": "2023-09-08T19:12:37.371261Z",
     "iopub.status.busy": "2023-09-08T19:12:37.370844Z",
     "iopub.status.idle": "2023-09-08T19:12:37.376567Z",
     "shell.execute_reply": "2023-09-08T19:12:37.375864Z"
    },
    "papermill": {
     "duration": 0.040554,
     "end_time": "2023-09-08T19:12:37.379485",
     "exception": false,
     "start_time": "2023-09-08T19:12:37.338931",
     "status": "completed"
    },
    "tags": []
   },
   "outputs": [
    {
     "name": "stdout",
     "output_type": "stream",
     "text": [
      "worldcom exboss launches defence lawyers defending former worldcom chief bernie ebbers battery fraud charges called company whistleblower first witness cynthia cooper worldcom exhead internal accounting alerted directors irregular accounting practices us telecoms giant warnings led collapse firm following discovery bn bn accounting fraud mr ebbers pleaded guilty charges fraud conspiracy prosecution lawyers argued mr ebbers orchestrated series accounting tricks worldcom ordering employees hide expenses inflate revenues meet wall street earnings estimates ms cooper runs consulting business told jury new york wednesday external auditors arthur andersen approved worldcom accounting early said andersen given green light procedures practices used worldcom mr ebber lawyers said unaware fraud arguing auditors alert problems ms cooper also said shareholder meetings mr ebbers often passed technical questions company finance chief giving brief answers prosecution star witness former worldcom financial chief scott sullivan said mr ebbers ordered accounting adjustments firm telling hit books however ms cooper said mr sullivan mentioned anything uncomfortable worldcom accounting audit committee meeting mr ebbers could face jail sentence years convicted charges facing worldcom emerged bankruptcy protection known mci last week mci agreed buyout verizon communications deal valued bn\n",
      "\n",
      "## change to ##\n",
      "\n",
      "['worldcom', 'exboss', 'launch', 'defence', 'lawyer', 'defending', 'former', 'worldcom', 'chief', 'bernie', 'ebbers', 'battery', 'fraud', 'charge', 'called', 'company', 'whistleblower', 'first', 'witness', 'cynthia', 'cooper', 'worldcom', 'exhead', 'internal', 'accounting', 'alerted', 'director', 'irregular', 'accounting', 'practice', 'u', 'telecom', 'giant', 'warning', 'led', 'collapse', 'firm', 'following', 'discovery', 'bn', 'bn', 'accounting', 'fraud', 'mr', 'ebbers', 'pleaded', 'guilty', 'charge', 'fraud', 'conspiracy', 'prosecution', 'lawyer', 'argued', 'mr', 'ebbers', 'orchestrated', 'series', 'accounting', 'trick', 'worldcom', 'ordering', 'employee', 'hide', 'expense', 'inflate', 'revenue', 'meet', 'wall', 'street', 'earnings', 'estimate', 'm', 'cooper', 'run', 'consulting', 'business', 'told', 'jury', 'new', 'york', 'wednesday', 'external', 'auditor', 'arthur', 'andersen', 'approved', 'worldcom', 'accounting', 'early', 'said', 'andersen', 'given', 'green', 'light', 'procedure', 'practice', 'used', 'worldcom', 'mr', 'ebber', 'lawyer', 'said', 'unaware', 'fraud', 'arguing', 'auditor', 'alert', 'problem', 'm', 'cooper', 'also', 'said', 'shareholder', 'meeting', 'mr', 'ebbers', 'often', 'passed', 'technical', 'question', 'company', 'finance', 'chief', 'giving', 'brief', 'answer', 'prosecution', 'star', 'witness', 'former', 'worldcom', 'financial', 'chief', 'scott', 'sullivan', 'said', 'mr', 'ebbers', 'ordered', 'accounting', 'adjustment', 'firm', 'telling', 'hit', 'book', 'however', 'm', 'cooper', 'said', 'mr', 'sullivan', 'mentioned', 'anything', 'uncomfortable', 'worldcom', 'accounting', 'audit', 'committee', 'meeting', 'mr', 'ebbers', 'could', 'face', 'jail', 'sentence', 'year', 'convicted', 'charge', 'facing', 'worldcom', 'emerged', 'bankruptcy', 'protection', 'known', 'mci', 'last', 'week', 'mci', 'agreed', 'buyout', 'verizon', 'communication', 'deal', 'valued', 'bn']\n"
     ]
    }
   ],
   "source": [
    "# Print a before an after of the tokenization and lematization\n",
    "print(df_train['Text'][0])\n",
    "print('\\n## change to ##\\n')\n",
    "print(df_train['Lemmatized Text'][0])"
   ]
  },
  {
   "cell_type": "code",
   "execution_count": 33,
   "id": "ae2594fd",
   "metadata": {
    "execution": {
     "iopub.execute_input": "2023-09-08T19:12:37.443540Z",
     "iopub.status.busy": "2023-09-08T19:12:37.443126Z",
     "iopub.status.idle": "2023-09-08T19:12:37.451853Z",
     "shell.execute_reply": "2023-09-08T19:12:37.450454Z"
    },
    "papermill": {
     "duration": 0.043512,
     "end_time": "2023-09-08T19:12:37.454083",
     "exception": false,
     "start_time": "2023-09-08T19:12:37.410571",
     "status": "completed"
    },
    "tags": []
   },
   "outputs": [],
   "source": [
    "# Create a funtion to remove temp columns and track text changes\n",
    "def clean_tokenize_lemmatize_columns(df):\n",
    "    # Update the Old or Prior Values\n",
    "    df['Text Length (Old)'] = df['Text Length']\n",
    "    df['Word Count (Old)'] = df['Word Count']\n",
    "    # Calculate the New Values\n",
    "    df['Text'] = df.apply(lambda row: ' '.join(row['Lemmatized Text']), axis=1)\n",
    "    df['Text Length'] = df['Text'].apply(len)\n",
    "    df['Word Count'] = df['Lemmatized Text'].apply(len)\n",
    "    # remove any staging fields\n",
    "    df.drop(columns = ['Tokenized Text'], inplace=True)\n",
    "\n",
    "    return df"
   ]
  },
  {
   "cell_type": "code",
   "execution_count": 34,
   "id": "8eb0833a",
   "metadata": {
    "execution": {
     "iopub.execute_input": "2023-09-08T19:12:37.520914Z",
     "iopub.status.busy": "2023-09-08T19:12:37.520457Z",
     "iopub.status.idle": "2023-09-08T19:12:37.603635Z",
     "shell.execute_reply": "2023-09-08T19:12:37.602343Z"
    },
    "papermill": {
     "duration": 0.119866,
     "end_time": "2023-09-08T19:12:37.605912",
     "exception": false,
     "start_time": "2023-09-08T19:12:37.486046",
     "status": "completed"
    },
    "tags": []
   },
   "outputs": [
    {
     "data": {
      "text/html": [
       "<div>\n",
       "<style scoped>\n",
       "    .dataframe tbody tr th:only-of-type {\n",
       "        vertical-align: middle;\n",
       "    }\n",
       "\n",
       "    .dataframe tbody tr th {\n",
       "        vertical-align: top;\n",
       "    }\n",
       "\n",
       "    .dataframe thead th {\n",
       "        text-align: right;\n",
       "    }\n",
       "</style>\n",
       "<table border=\"1\" class=\"dataframe\">\n",
       "  <thead>\n",
       "    <tr style=\"text-align: right;\">\n",
       "      <th></th>\n",
       "      <th>ArticleId</th>\n",
       "      <th>Text</th>\n",
       "      <th>Category</th>\n",
       "      <th>Text Length</th>\n",
       "      <th>Word Count</th>\n",
       "      <th>Text Length (Old)</th>\n",
       "      <th>Word Count (Old)</th>\n",
       "      <th>Lemmatized Text</th>\n",
       "    </tr>\n",
       "  </thead>\n",
       "  <tbody>\n",
       "    <tr>\n",
       "      <th>0</th>\n",
       "      <td>1833</td>\n",
       "      <td>worldcom exboss launch defence lawyer defendin...</td>\n",
       "      <td>business</td>\n",
       "      <td>1354</td>\n",
       "      <td>185</td>\n",
       "      <td>1388</td>\n",
       "      <td>185</td>\n",
       "      <td>[worldcom, exboss, launch, defence, lawyer, de...</td>\n",
       "    </tr>\n",
       "    <tr>\n",
       "      <th>1</th>\n",
       "      <td>154</td>\n",
       "      <td>german business confidence slide german busine...</td>\n",
       "      <td>business</td>\n",
       "      <td>1448</td>\n",
       "      <td>194</td>\n",
       "      <td>1474</td>\n",
       "      <td>194</td>\n",
       "      <td>[german, business, confidence, slide, german, ...</td>\n",
       "    </tr>\n",
       "    <tr>\n",
       "      <th>2</th>\n",
       "      <td>1101</td>\n",
       "      <td>bbc poll indicates economic gloom citizen majo...</td>\n",
       "      <td>business</td>\n",
       "      <td>2006</td>\n",
       "      <td>267</td>\n",
       "      <td>2061</td>\n",
       "      <td>267</td>\n",
       "      <td>[bbc, poll, indicates, economic, gloom, citize...</td>\n",
       "    </tr>\n",
       "    <tr>\n",
       "      <th>3</th>\n",
       "      <td>1976</td>\n",
       "      <td>lifestyle governs mobile choice faster better ...</td>\n",
       "      <td>tech</td>\n",
       "      <td>2311</td>\n",
       "      <td>344</td>\n",
       "      <td>2381</td>\n",
       "      <td>344</td>\n",
       "      <td>[lifestyle, governs, mobile, choice, faster, b...</td>\n",
       "    </tr>\n",
       "    <tr>\n",
       "      <th>4</th>\n",
       "      <td>917</td>\n",
       "      <td>enron boss payout eighteen former enron direct...</td>\n",
       "      <td>business</td>\n",
       "      <td>1488</td>\n",
       "      <td>198</td>\n",
       "      <td>1517</td>\n",
       "      <td>198</td>\n",
       "      <td>[enron, boss, payout, eighteen, former, enron,...</td>\n",
       "    </tr>\n",
       "  </tbody>\n",
       "</table>\n",
       "</div>"
      ],
      "text/plain": [
       "  ArticleId                                               Text  Category  \\\n",
       "0      1833  worldcom exboss launch defence lawyer defendin...  business   \n",
       "1       154  german business confidence slide german busine...  business   \n",
       "2      1101  bbc poll indicates economic gloom citizen majo...  business   \n",
       "3      1976  lifestyle governs mobile choice faster better ...      tech   \n",
       "4       917  enron boss payout eighteen former enron direct...  business   \n",
       "\n",
       "   Text Length  Word Count  Text Length (Old)  Word Count (Old)  \\\n",
       "0         1354         185               1388               185   \n",
       "1         1448         194               1474               194   \n",
       "2         2006         267               2061               267   \n",
       "3         2311         344               2381               344   \n",
       "4         1488         198               1517               198   \n",
       "\n",
       "                                     Lemmatized Text  \n",
       "0  [worldcom, exboss, launch, defence, lawyer, de...  \n",
       "1  [german, business, confidence, slide, german, ...  \n",
       "2  [bbc, poll, indicates, economic, gloom, citize...  \n",
       "3  [lifestyle, governs, mobile, choice, faster, b...  \n",
       "4  [enron, boss, payout, eighteen, former, enron,...  "
      ]
     },
     "execution_count": 34,
     "metadata": {},
     "output_type": "execute_result"
    }
   ],
   "source": [
    "# execute the change trackign columns and cleanup on test and train datasets\n",
    "df_train = clean_tokenize_lemmatize_columns(df = df_train)\n",
    "df_test = clean_tokenize_lemmatize_columns(df = df_test)\n",
    "df_train.head()"
   ]
  },
  {
   "cell_type": "markdown",
   "id": "08647652",
   "metadata": {
    "papermill": {
     "duration": 0.033518,
     "end_time": "2023-09-08T19:12:37.672471",
     "exception": false,
     "start_time": "2023-09-08T19:12:37.638953",
     "status": "completed"
    },
    "tags": []
   },
   "source": [
    "# 5.&nbsp;Feature Engineering"
   ]
  },
  {
   "cell_type": "markdown",
   "id": "d8521d61",
   "metadata": {
    "papermill": {
     "duration": 0.03027,
     "end_time": "2023-09-08T19:12:37.733981",
     "exception": false,
     "start_time": "2023-09-08T19:12:37.703711",
     "status": "completed"
    },
    "tags": []
   },
   "source": [
    "In this section the text fields will be transformed into matrix form. This will be completed using TfidfVectorizer in the sci-kit learn library. The TfidfVectorizer is equivalent to CountVectorizer followed by TfidfTransformer. In the first step where CountVectorizer is executed, the process the collection of text documents are converted to a sparse matrix of token counts. The result is the creation of feature equivelent to the voaculary size found by analyzing the collection of text documents [7]. In the second step where TfidfTransformer is executed, the full count matrix is transformed to a normalized tf or tf-idf representation. \"Tf means term-frequency while tf-idf means term-frequency times inverse document-frequency.\" [8] The goal of this step is to scale down the impact of tokens that occur with a high frequency in the collection of text documents, focus on more rare tokens with a higher level of information."
   ]
  },
  {
   "cell_type": "code",
   "execution_count": 35,
   "id": "e16fec7f",
   "metadata": {
    "execution": {
     "iopub.execute_input": "2023-09-08T19:12:37.797824Z",
     "iopub.status.busy": "2023-09-08T19:12:37.797433Z",
     "iopub.status.idle": "2023-09-08T19:12:39.314696Z",
     "shell.execute_reply": "2023-09-08T19:12:39.313237Z"
    },
    "papermill": {
     "duration": 1.552744,
     "end_time": "2023-09-08T19:12:39.317519",
     "exception": false,
     "start_time": "2023-09-08T19:12:37.764775",
     "status": "completed"
    },
    "tags": []
   },
   "outputs": [
    {
     "name": "stdout",
     "output_type": "stream",
     "text": [
      "df_train : (1455, 8527)\n",
      "df_test : (735, 8527)\n"
     ]
    }
   ],
   "source": [
    "# configure the term-frequency times inverse document-frequency model\n",
    "tfidf = TfidfVectorizer(sublinear_tf = True,\n",
    "                        stop_words = 'english',\n",
    "                        ngram_range = (1, 2),\n",
    "                        min_df = 5,\n",
    "                        norm = 'l2',\n",
    "                        encoding = 'latin-1',\n",
    "                        lowercase = True)\n",
    "\n",
    "# fit and transform the training dataset\n",
    "ft_train = tfidf.fit_transform(df_train['Text']).toarray()\n",
    "print(df_train.name, ':', ft_train.shape)\n",
    "\n",
    "# fit and transform the testing dataset\n",
    "ft_test = tfidf.transform(df_test['Text']).toarray()\n",
    "print(df_test.name, ':', ft_test.shape)"
   ]
  },
  {
   "cell_type": "markdown",
   "id": "fe08b4b2",
   "metadata": {
    "papermill": {
     "duration": 0.032715,
     "end_time": "2023-09-08T19:12:39.383054",
     "exception": false,
     "start_time": "2023-09-08T19:12:39.350339",
     "status": "completed"
    },
    "tags": []
   },
   "source": [
    "# 6.&nbsp;Model: Unsupervised: None-Negative Matrix Factorization (NMF)"
   ]
  },
  {
   "cell_type": "markdown",
   "id": "8b069770",
   "metadata": {
    "papermill": {
     "duration": 0.031722,
     "end_time": "2023-09-08T19:12:39.448119",
     "exception": false,
     "start_time": "2023-09-08T19:12:39.416397",
     "status": "completed"
    },
    "tags": []
   },
   "source": [
    "The unsupervised model used is Non-Negative Matrix Factorization (NMF). This model finds two non-negative matrices, i.e. matrices with all non-negative elements, (W, H) whose product approximates the non-negative matrix X. This factorization can be used for example for dimensionality reduction, source separation or topic extraction. [9] In this project, we will be using it to extract topics, given feature matrix engineered in the prior step."
   ]
  },
  {
   "cell_type": "code",
   "execution_count": 36,
   "id": "a7f49e9e",
   "metadata": {
    "execution": {
     "iopub.execute_input": "2023-09-08T19:12:39.512719Z",
     "iopub.status.busy": "2023-09-08T19:12:39.512353Z",
     "iopub.status.idle": "2023-09-08T19:12:39.519009Z",
     "shell.execute_reply": "2023-09-08T19:12:39.518193Z"
    },
    "papermill": {
     "duration": 0.041042,
     "end_time": "2023-09-08T19:12:39.520917",
     "exception": false,
     "start_time": "2023-09-08T19:12:39.479875",
     "status": "completed"
    },
    "tags": []
   },
   "outputs": [],
   "source": [
    "# Function to predict the topics for a dataset\n",
    "def predict(w_matrix):\n",
    "    sortedW = np.argsort(w_matrix)\n",
    "    n_predictions, maxValue = sortedW.shape\n",
    "    predictions = [[sortedW[i][maxValue - 1]] for i in range(n_predictions)]\n",
    "    topics = np.empty(n_predictions, dtype = np.int64)\n",
    "    for i in range(n_predictions):\n",
    "        topics[i] = predictions[i][0]\n",
    "    return topics"
   ]
  },
  {
   "cell_type": "code",
   "execution_count": 37,
   "id": "de16b9f6",
   "metadata": {
    "execution": {
     "iopub.execute_input": "2023-09-08T19:12:39.586777Z",
     "iopub.status.busy": "2023-09-08T19:12:39.586356Z",
     "iopub.status.idle": "2023-09-08T19:12:39.593830Z",
     "shell.execute_reply": "2023-09-08T19:12:39.593097Z"
    },
    "papermill": {
     "duration": 0.042201,
     "end_time": "2023-09-08T19:12:39.595681",
     "exception": false,
     "start_time": "2023-09-08T19:12:39.553480",
     "status": "completed"
    },
    "tags": []
   },
   "outputs": [],
   "source": [
    "#Function to build a map of true labels to predicted labels\n",
    "def build_label_map(true_label, pred_label, LOD = 0):\n",
    "    true_label = true_label\n",
    "    pred_label = pred_label\n",
    "    n = len(true_label)\n",
    "    label_map = dict(zip(true_label, pred_label))\n",
    "    if(LOD >= 1):\n",
    "        print('label_map :', label_map)\n",
    "        print('        n :', n, '\\n')\n",
    "    return label_map\n",
    "\n",
    "#Function to map labels for the label dataframe using the mapping function\n",
    "def map_label_to_data(label, label_map, LOD = 0):\n",
    "    df_mapped = label\n",
    "    df_mapped['mapped_label'] = df_mapped['Category']\n",
    "    df_mapped = df_mapped.replace({'mapped_label': label_map})\n",
    "    if(LOD >= 1):\n",
    "        print(df_mapped)\n",
    "    return df_mapped"
   ]
  },
  {
   "cell_type": "code",
   "execution_count": 38,
   "id": "20d31b3f",
   "metadata": {
    "execution": {
     "iopub.execute_input": "2023-09-08T19:12:39.661447Z",
     "iopub.status.busy": "2023-09-08T19:12:39.660261Z",
     "iopub.status.idle": "2023-09-08T19:12:39.668452Z",
     "shell.execute_reply": "2023-09-08T19:12:39.667382Z"
    },
    "papermill": {
     "duration": 0.043317,
     "end_time": "2023-09-08T19:12:39.670621",
     "exception": false,
     "start_time": "2023-09-08T19:12:39.627304",
     "status": "completed"
    },
    "tags": []
   },
   "outputs": [
    {
     "name": "stdout",
     "output_type": "stream",
     "text": [
      "The true label mapping for the feature data: \n",
      "\n",
      "label_map : {'business': 0, 'entertainment': 1, 'politics': 2, 'sport': 3, 'tech': 4}\n",
      "        n : 5 \n",
      "\n"
     ]
    }
   ],
   "source": [
    "# Foundational true labels, represented as text\n",
    "true_label_txt = ['business', 'entertainment', 'politics', 'sport', 'tech']\n",
    "\n",
    "# Function to build the true label text into a true label dictionary\n",
    "def true_label_mapping(true_label, LOD = 0):\n",
    "    true_label_num = range(len(true_label_txt))\n",
    "    if(LOD >= 1):\n",
    "        print('The true label mapping for the feature data:', '\\n')\n",
    "    true_label_map = build_label_map(true_label = true_label_txt, pred_label = true_label_num, LOD = LOD)\n",
    "    return true_label_map\n",
    "\n",
    "true_label_map = true_label_mapping(true_label_txt, LOD = 1)"
   ]
  },
  {
   "cell_type": "code",
   "execution_count": 39,
   "id": "ba55668c",
   "metadata": {
    "execution": {
     "iopub.execute_input": "2023-09-08T19:12:39.735440Z",
     "iopub.status.busy": "2023-09-08T19:12:39.735057Z",
     "iopub.status.idle": "2023-09-08T19:12:39.755013Z",
     "shell.execute_reply": "2023-09-08T19:12:39.753971Z"
    },
    "papermill": {
     "duration": 0.054783,
     "end_time": "2023-09-08T19:12:39.757036",
     "exception": false,
     "start_time": "2023-09-08T19:12:39.702253",
     "status": "completed"
    },
    "tags": []
   },
   "outputs": [],
   "source": [
    "# Function to cycle through all potential label mappings and select the best\n",
    "def label_permute_compare(ytdf, yp, n=5, LOD  = 0):\n",
    "    \"\"\"\n",
    "    ytdf: labels dataframe object\n",
    "    yp: clustering label prediction output\n",
    "    Returns permuted label order and accuracy. \n",
    "    Example output: (3, 4, 1, 2, 0), 0.74 \n",
    "    \"\"\"\n",
    "    if(LOD >= 1):\n",
    "        print()\n",
    "        print('--------------------------------')\n",
    "    # Create a df with the matched label and predicted label\n",
    "    df_tvp = pd.DataFrame()\n",
    "    df_tvp['ytdf'] = ytdf.iloc[:, 0]\n",
    "    df_tvp['yp'] = yp\n",
    "    df_tvp['record_count'] = 1\n",
    "    # Create a flag for each label based on the specific n (wide table)\n",
    "    for i in range(5):\n",
    "        df_tvp[i] = (df_tvp['yp'] == i)\n",
    "    # Drop the predicted label that makes the table skinny\n",
    "    df_tvp = df_tvp.drop(['yp'], axis=1)\n",
    "    # Display the raw table for mapping\n",
    "    def print_wide_df(df):\n",
    "        print()\n",
    "        print('wide df display:')\n",
    "        print(df.head())\n",
    "        print('...')\n",
    "        print(df.tail())\n",
    "    #print_wide_df(df = df_tvp)\n",
    "    \n",
    "    # Summerize the table based on the true label\n",
    "    df_agg = df_tvp.groupby(['ytdf']).agg('sum')\n",
    "    df_agg = df_agg.reset_index()\n",
    "    # Select the winning label and the count of the winning label\n",
    "    df_agg['py_map'] = df_agg.apply(lambda row: dict(zip(range(len(row.iloc[2:])), row.iloc[2:])), axis = 1)\n",
    "    ytdf_order = df_agg['ytdf']\n",
    "    df_agg.insert(1, 'ytdf_order', ytdf_order)\n",
    "    df_agg = df_agg.replace({'ytdf_order': true_label_mapping(true_label_txt, LOD = LOD)})\n",
    "    df_agg.insert(3, 'py', None)\n",
    "    df_agg.insert(4, 'py_count', None)\n",
    "    df_agg.insert(5, 'py_acc', None)\n",
    "    df_agg = df_agg.sort_values(by = 'ytdf_order')\n",
    "    # Display the summary table for mapping\n",
    "    def print_summary_df(df):\n",
    "        print('\\n', 'summary df display:')\n",
    "        print(df)\n",
    "        print('\\n')\n",
    "    #if(LOD >= 1): print_summary_df(df = df_agg)\n",
    "\n",
    "    # build options and test every option perm\n",
    "    options = list(it.permutations(range(n)))\n",
    "    # set base case\n",
    "    acc = 0\n",
    "    # iterate over options and test for best option\n",
    "    if(LOD >= 1): print('Optimizing the Label Mapping to Maximize Accuracy:')\n",
    "    for case in options:\n",
    "        df_test_temp = df_agg.copy()\n",
    "        df_test_temp['py'] = list(case)\n",
    "        df_test_temp['py_count'] = df_test_temp.apply(lambda row: row.iloc[-1][row.iloc[3]], axis = 1)\n",
    "        df_test_temp['py_acc'] = df_test_temp['py_count'] / df_test_temp['record_count']\n",
    "        \n",
    "        # Calculate the final overall accuracy\n",
    "        total_test = df_test_temp['record_count'].agg('sum')\n",
    "        match_test = df_test_temp['py_count'].agg('sum')\n",
    "        acc_test = match_test / total_test\n",
    "        \n",
    "        if acc_test > acc:\n",
    "            # Record the current best overall accuracy\n",
    "            if(LOD >= 1):\n",
    "                print('[+] accuracy increased from',\n",
    "                      '{:.3f}'.format(round(acc, 3)),\n",
    "                      'to',\n",
    "                      '{:.3f}'.format(round(acc_test, 3)),\n",
    "                      'with new label mapping:', case)\n",
    "            acc = acc_test\n",
    "            total_obs = total_test\n",
    "            match_obs = match_test\n",
    "            # Update the current best mapping and stats\n",
    "            df_agg = df_test_temp.copy()\n",
    "            # Create the permuted label order list for the current best\n",
    "            permuted_label = tuple(df_agg['py'])\n",
    "\n",
    "    # Display Best Overall Accuracy\n",
    "    if(LOD >= 1):\n",
    "        print()\n",
    "        print('Best Overall Permuted Label Set with Highest Accuracy:')\n",
    "        print('[.] total          :', total_obs),\n",
    "        print('[.] matched        :', match_obs),\n",
    "        print('[.] accuracy       :', round(acc,4))\n",
    "        print('[.] permuted label :', permuted_label)\n",
    "        print('--------------------------------', '\\n')\n",
    "    # Display the summary table\n",
    "    #print_summary_df(df = df_agg)\n",
    "\n",
    "    #return the label and accuracy\n",
    "    return permuted_label, acc"
   ]
  },
  {
   "cell_type": "code",
   "execution_count": 40,
   "id": "20db4bb1",
   "metadata": {
    "execution": {
     "iopub.execute_input": "2023-09-08T19:12:39.823592Z",
     "iopub.status.busy": "2023-09-08T19:12:39.823200Z",
     "iopub.status.idle": "2023-09-08T19:12:39.834929Z",
     "shell.execute_reply": "2023-09-08T19:12:39.833749Z"
    },
    "papermill": {
     "duration": 0.047985,
     "end_time": "2023-09-08T19:12:39.837285",
     "exception": false,
     "start_time": "2023-09-08T19:12:39.789300",
     "status": "completed"
    },
    "tags": []
   },
   "outputs": [],
   "source": [
    "# Function to create a confusion matrix and display some supporting details\n",
    "def display_confusion_matrix(y_true, y_pred, label_map, accuracy, LOD = 0):\n",
    "    from sklearn.metrics import confusion_matrix\n",
    "    n = len(label_map)\n",
    "    cm = confusion_matrix(y_true, y_pred, labels = range(n))\n",
    "    cf_matrix = pd.DataFrame(cm)\n",
    "    cf_key = 'key: ' + str(sorted(((v, k) for k, v in label_map.items()), reverse=False))\n",
    "    \n",
    "    # Unpack the label dictionary for axis labels\n",
    "    axis_label = [None] * len(label_map)\n",
    "    for key, value in label_map.items():\n",
    "        axis_label[value] = key\n",
    "    \n",
    "    # Print the summary and text based details\n",
    "    if(LOD >= 1):\n",
    "        print()\n",
    "        print('## Initial Model ##', '\\n')\n",
    "        print('Accuracy = ', round(accuracy, 4), '\\n')\n",
    "        print('Confusion Matrix (Text)')\n",
    "        print('\\n', cf_key, '\\n', '\\n', cf_matrix, '\\n', sep = '')\n",
    "        print('Confusion Matrix (Image)')\n",
    "    \n",
    "    # Create a visual heatmap\n",
    "    f = plt.figure(figsize=(4,4))\n",
    "    plt.subplot(1, 1, 1)\n",
    "    cm_viz = sns.heatmap(cf_matrix, xticklabels=axis_label, yticklabels=axis_label,\n",
    "            annot=True, fmt='d', cmap='Blues')\n",
    "    plt.title(\"Confusion Matrix\")\n",
    "    plt.xlabel('Predicted Category')\n",
    "    plt.ylabel('True Category')\n",
    "    \n",
    "    return cf_key, cf_matrix"
   ]
  },
  {
   "cell_type": "code",
   "execution_count": 41,
   "id": "046b0c33",
   "metadata": {
    "execution": {
     "iopub.execute_input": "2023-09-08T19:12:39.904335Z",
     "iopub.status.busy": "2023-09-08T19:12:39.903925Z",
     "iopub.status.idle": "2023-09-08T19:13:16.388782Z",
     "shell.execute_reply": "2023-09-08T19:13:16.387648Z"
    },
    "papermill": {
     "duration": 36.592242,
     "end_time": "2023-09-08T19:13:16.461849",
     "exception": false,
     "start_time": "2023-09-08T19:12:39.869607",
     "status": "completed"
    },
    "tags": []
   },
   "outputs": [
    {
     "data": {
      "text/html": [
       "<style>#sk-container-id-1 {color: black;background-color: white;}#sk-container-id-1 pre{padding: 0;}#sk-container-id-1 div.sk-toggleable {background-color: white;}#sk-container-id-1 label.sk-toggleable__label {cursor: pointer;display: block;width: 100%;margin-bottom: 0;padding: 0.3em;box-sizing: border-box;text-align: center;}#sk-container-id-1 label.sk-toggleable__label-arrow:before {content: \"▸\";float: left;margin-right: 0.25em;color: #696969;}#sk-container-id-1 label.sk-toggleable__label-arrow:hover:before {color: black;}#sk-container-id-1 div.sk-estimator:hover label.sk-toggleable__label-arrow:before {color: black;}#sk-container-id-1 div.sk-toggleable__content {max-height: 0;max-width: 0;overflow: hidden;text-align: left;background-color: #f0f8ff;}#sk-container-id-1 div.sk-toggleable__content pre {margin: 0.2em;color: black;border-radius: 0.25em;background-color: #f0f8ff;}#sk-container-id-1 input.sk-toggleable__control:checked~div.sk-toggleable__content {max-height: 200px;max-width: 100%;overflow: auto;}#sk-container-id-1 input.sk-toggleable__control:checked~label.sk-toggleable__label-arrow:before {content: \"▾\";}#sk-container-id-1 div.sk-estimator input.sk-toggleable__control:checked~label.sk-toggleable__label {background-color: #d4ebff;}#sk-container-id-1 div.sk-label input.sk-toggleable__control:checked~label.sk-toggleable__label {background-color: #d4ebff;}#sk-container-id-1 input.sk-hidden--visually {border: 0;clip: rect(1px 1px 1px 1px);clip: rect(1px, 1px, 1px, 1px);height: 1px;margin: -1px;overflow: hidden;padding: 0;position: absolute;width: 1px;}#sk-container-id-1 div.sk-estimator {font-family: monospace;background-color: #f0f8ff;border: 1px dotted black;border-radius: 0.25em;box-sizing: border-box;margin-bottom: 0.5em;}#sk-container-id-1 div.sk-estimator:hover {background-color: #d4ebff;}#sk-container-id-1 div.sk-parallel-item::after {content: \"\";width: 100%;border-bottom: 1px solid gray;flex-grow: 1;}#sk-container-id-1 div.sk-label:hover label.sk-toggleable__label {background-color: #d4ebff;}#sk-container-id-1 div.sk-serial::before {content: \"\";position: absolute;border-left: 1px solid gray;box-sizing: border-box;top: 0;bottom: 0;left: 50%;z-index: 0;}#sk-container-id-1 div.sk-serial {display: flex;flex-direction: column;align-items: center;background-color: white;padding-right: 0.2em;padding-left: 0.2em;position: relative;}#sk-container-id-1 div.sk-item {position: relative;z-index: 1;}#sk-container-id-1 div.sk-parallel {display: flex;align-items: stretch;justify-content: center;background-color: white;position: relative;}#sk-container-id-1 div.sk-item::before, #sk-container-id-1 div.sk-parallel-item::before {content: \"\";position: absolute;border-left: 1px solid gray;box-sizing: border-box;top: 0;bottom: 0;left: 50%;z-index: -1;}#sk-container-id-1 div.sk-parallel-item {display: flex;flex-direction: column;z-index: 1;position: relative;background-color: white;}#sk-container-id-1 div.sk-parallel-item:first-child::after {align-self: flex-end;width: 50%;}#sk-container-id-1 div.sk-parallel-item:last-child::after {align-self: flex-start;width: 50%;}#sk-container-id-1 div.sk-parallel-item:only-child::after {width: 0;}#sk-container-id-1 div.sk-dashed-wrapped {border: 1px dashed gray;margin: 0 0.4em 0.5em 0.4em;box-sizing: border-box;padding-bottom: 0.4em;background-color: white;}#sk-container-id-1 div.sk-label label {font-family: monospace;font-weight: bold;display: inline-block;line-height: 1.2em;}#sk-container-id-1 div.sk-label-container {text-align: center;}#sk-container-id-1 div.sk-container {/* jupyter's `normalize.less` sets `[hidden] { display: none; }` but bootstrap.min.css set `[hidden] { display: none !important; }` so we also need the `!important` here to be able to override the default hidden behavior on the sphinx rendered scikit-learn.org. See: https://github.com/scikit-learn/scikit-learn/issues/21755 */display: inline-block !important;position: relative;}#sk-container-id-1 div.sk-text-repr-fallback {display: none;}</style><div id=\"sk-container-id-1\" class=\"sk-top-container\"><div class=\"sk-text-repr-fallback\"><pre>NMF(beta_loss=&#x27;kullback-leibler&#x27;, n_components=5, random_state=42, solver=&#x27;mu&#x27;)</pre><b>In a Jupyter environment, please rerun this cell to show the HTML representation or trust the notebook. <br />On GitHub, the HTML representation is unable to render, please try loading this page with nbviewer.org.</b></div><div class=\"sk-container\" hidden><div class=\"sk-item\"><div class=\"sk-estimator sk-toggleable\"><input class=\"sk-toggleable__control sk-hidden--visually\" id=\"sk-estimator-id-1\" type=\"checkbox\" checked><label for=\"sk-estimator-id-1\" class=\"sk-toggleable__label sk-toggleable__label-arrow\">NMF</label><div class=\"sk-toggleable__content\"><pre>NMF(beta_loss=&#x27;kullback-leibler&#x27;, n_components=5, random_state=42, solver=&#x27;mu&#x27;)</pre></div></div></div></div></div>"
      ],
      "text/plain": [
       "NMF(beta_loss='kullback-leibler', n_components=5, random_state=42, solver='mu')"
      ]
     },
     "execution_count": 41,
     "metadata": {},
     "output_type": "execute_result"
    }
   ],
   "source": [
    "# Creating NMF model and fitting in data\n",
    "nmf_model = NMF(\n",
    "    n_components = 5, \n",
    "    solver       = 'mu',\n",
    "    beta_loss    = 'kullback-leibler',\n",
    "    random_state = 42)\n",
    "\n",
    "nmf_model.fit(ft_train)"
   ]
  },
  {
   "cell_type": "code",
   "execution_count": 42,
   "id": "b834a91b",
   "metadata": {
    "execution": {
     "iopub.execute_input": "2023-09-08T19:13:16.545414Z",
     "iopub.status.busy": "2023-09-08T19:13:16.544967Z",
     "iopub.status.idle": "2023-09-08T19:13:22.406734Z",
     "shell.execute_reply": "2023-09-08T19:13:22.399840Z"
    },
    "papermill": {
     "duration": 5.898452,
     "end_time": "2023-09-08T19:13:22.409445",
     "exception": false,
     "start_time": "2023-09-08T19:13:16.510993",
     "status": "completed"
    },
    "tags": []
   },
   "outputs": [
    {
     "name": "stdout",
     "output_type": "stream",
     "text": [
      "\n",
      "--------------------------------\n",
      "The true label mapping for the feature data: \n",
      "\n",
      "label_map : {'business': 0, 'entertainment': 1, 'politics': 2, 'sport': 3, 'tech': 4}\n",
      "        n : 5 \n",
      "\n",
      "Optimizing the Label Mapping to Maximize Accuracy:\n",
      "[+] accuracy increased from 0.000 to 0.192 with new label mapping: (0, 1, 2, 3, 4)\n",
      "[+] accuracy increased from 0.192 to 0.197 with new label mapping: (0, 1, 2, 4, 3)\n",
      "[+] accuracy increased from 0.197 to 0.243 with new label mapping: (0, 2, 3, 1, 4)\n",
      "[+] accuracy increased from 0.243 to 0.247 with new label mapping: (0, 2, 4, 1, 3)\n",
      "[+] accuracy increased from 0.247 to 0.601 with new label mapping: (0, 3, 2, 1, 4)\n",
      "[+] accuracy increased from 0.601 to 0.638 with new label mapping: (4, 0, 2, 1, 3)\n",
      "[+] accuracy increased from 0.638 to 0.964 with new label mapping: (4, 3, 2, 1, 0)\n",
      "\n",
      "Best Overall Permuted Label Set with Highest Accuracy:\n",
      "[.] total          : 1455\n",
      "[.] matched        : 1403\n",
      "[.] accuracy       : 0.9643\n",
      "[.] permuted label : (4, 3, 2, 1, 0)\n",
      "-------------------------------- \n",
      "\n",
      "Training: Model Accuracy Summary:\n",
      "Label Order : (4, 3, 2, 1, 0)\n",
      "Accuracy    : 0.9643 \n",
      "\n"
     ]
    }
   ],
   "source": [
    "# Summarize model results\n",
    "yhat_nmf_train = predict(nmf_model.transform(ft_train))\n",
    "label_order_nmf_train, accuracy_nmf_train = label_permute_compare(\n",
    "                                                ytdf = pd.DataFrame(df_train['Category']),\n",
    "                                                yp   = yhat_nmf_train,\n",
    "                                                n    = 5,\n",
    "                                                LOD  = 1)\n",
    "# Print out the model labels and accuracy\n",
    "print('Training: Model Accuracy Summary:')\n",
    "print('Label Order :', label_order_nmf_train)\n",
    "print('Accuracy    :', round(accuracy_nmf_train,4), '\\n')"
   ]
  },
  {
   "cell_type": "code",
   "execution_count": 43,
   "id": "b351b325",
   "metadata": {
    "execution": {
     "iopub.execute_input": "2023-09-08T19:13:22.477574Z",
     "iopub.status.busy": "2023-09-08T19:13:22.476627Z",
     "iopub.status.idle": "2023-09-08T19:13:22.967232Z",
     "shell.execute_reply": "2023-09-08T19:13:22.965927Z"
    },
    "papermill": {
     "duration": 0.527396,
     "end_time": "2023-09-08T19:13:22.970148",
     "exception": false,
     "start_time": "2023-09-08T19:13:22.442752",
     "status": "completed"
    },
    "tags": []
   },
   "outputs": [
    {
     "name": "stdout",
     "output_type": "stream",
     "text": [
      "label_map : {'business': 4, 'entertainment': 3, 'politics': 2, 'sport': 1, 'tech': 0}\n",
      "        n : 5 \n",
      "\n",
      "\n",
      "           Category mapped_label\n",
      "0          business            4\n",
      "1          business            4\n",
      "2          business            4\n",
      "3              tech            0\n",
      "4          business            4\n",
      "...             ...          ...\n",
      "1485  entertainment            3\n",
      "1486  entertainment            3\n",
      "1487       business            4\n",
      "1488           tech            0\n",
      "1489           tech            0\n",
      "\n",
      "[1455 rows x 2 columns]\n",
      "\n",
      "## Initial Model ## \n",
      "\n",
      "Accuracy =  0.9643 \n",
      "\n",
      "Confusion Matrix (Text)\n",
      "\n",
      "key: [(0, 'tech'), (1, 'sport'), (2, 'politics'), (3, 'entertainment'), (4, 'business')]\n",
      "\n",
      "     0    1    2    3    4\n",
      "0  233    0    2    7    2\n",
      "1    0  337    1    0    1\n",
      "2    1    1  266    1    2\n",
      "3    9    0    2  257    1\n",
      "4   12    1    8    1  310\n",
      "\n",
      "Confusion Matrix (Image)\n"
     ]
    },
    {
     "data": {
      "image/png": "[encoded data removed]",
      "text/plain": [
       "<Figure size 400x400 with 2 Axes>"
      ]
     },
     "metadata": {},
     "output_type": "display_data"
    }
   ],
   "source": [
    "#Map labels to new label numbers\n",
    "label_map_nmf_train = build_label_map(\n",
    "                        true_label = true_label_txt,\n",
    "                        pred_label = label_order_nmf_train,\n",
    "                        LOD        = 1)\n",
    "print()\n",
    "#Map validate labels to new number lables\n",
    "df_mapped_nmf_train = map_label_to_data(\n",
    "                        label     = pd.DataFrame(df_train['Category']),\n",
    "                        label_map = label_map_nmf_train,\n",
    "                        LOD       = 1)\n",
    "# Print out summary\n",
    "cf_key, cf_matrix = display_confusion_matrix(\n",
    "                        y_true    = df_mapped_nmf_train['mapped_label'],\n",
    "                        y_pred    = yhat_nmf_train,\n",
    "                        label_map = label_map_nmf_train,\n",
    "                        accuracy  = accuracy_nmf_train,\n",
    "                        LOD       = 1)"
   ]
  },
  {
   "cell_type": "markdown",
   "id": "3f13c60d",
   "metadata": {
    "papermill": {
     "duration": 0.034291,
     "end_time": "2023-09-08T19:13:23.038568",
     "exception": false,
     "start_time": "2023-09-08T19:13:23.004277",
     "status": "completed"
    },
    "tags": []
   },
   "source": [
    "## Create Kaggle Submission File\n"
   ]
  },
  {
   "cell_type": "code",
   "execution_count": 44,
   "id": "d7a956e7",
   "metadata": {
    "execution": {
     "iopub.execute_input": "2023-09-08T19:13:23.109354Z",
     "iopub.status.busy": "2023-09-08T19:13:23.108733Z",
     "iopub.status.idle": "2023-09-08T19:13:23.115378Z",
     "shell.execute_reply": "2023-09-08T19:13:23.114027Z"
    },
    "papermill": {
     "duration": 0.04447,
     "end_time": "2023-09-08T19:13:23.117647",
     "exception": false,
     "start_time": "2023-09-08T19:13:23.073177",
     "status": "completed"
    },
    "tags": []
   },
   "outputs": [
    {
     "name": "stdout",
     "output_type": "stream",
     "text": [
      "label mapping: {'business': 4, 'entertainment': 3, 'politics': 2, 'sport': 1, 'tech': 0}\n",
      "inverted label mapping: {4: 'business', 3: 'entertainment', 2: 'politics', 1: 'sport', 0: 'tech'}\n"
     ]
    }
   ],
   "source": [
    "#invert label mapping dictionary\n",
    "print('label mapping:', label_map_nmf_train)\n",
    "inv_label_map_nmf_train = {v: k for k, v in label_map_nmf_train.items()}\n",
    "print('inverted label mapping:', inv_label_map_nmf_train)"
   ]
  },
  {
   "cell_type": "code",
   "execution_count": 45,
   "id": "616bd970",
   "metadata": {
    "execution": {
     "iopub.execute_input": "2023-09-08T19:13:23.187382Z",
     "iopub.status.busy": "2023-09-08T19:13:23.186225Z",
     "iopub.status.idle": "2023-09-08T19:13:23.193872Z",
     "shell.execute_reply": "2023-09-08T19:13:23.193127Z"
    },
    "papermill": {
     "duration": 0.045501,
     "end_time": "2023-09-08T19:13:23.196146",
     "exception": false,
     "start_time": "2023-09-08T19:13:23.150645",
     "status": "completed"
    },
    "tags": []
   },
   "outputs": [],
   "source": [
    "# Function to predict the training data\n",
    "def create_test_predictions_nmf(model_type, model, ft_t, df_t):\n",
    "    yhat_test = predict(model.transform(ft_t))\n",
    "\n",
    "    #join df_test with predicted labels\n",
    "    df_test_pred = df_t.copy()\n",
    "    df_test_pred['Category'] = yhat_test\n",
    "    df_test_pred.drop(columns = ['Text Length', 'Word Count', 'Text Length (Old)', 'Word Count (Old)', 'Lemmatized Text'], inplace=True)\n",
    "    df_test_pred.drop(columns = ['Text'], inplace=True)\n",
    "    \n",
    "    # save the test results to a csv for sumbission\n",
    "    dest = '/kaggle/working/' + model_type + '_submission.csv'\n",
    "    df_test_pred.to_csv(dest, index = False)\n",
    "    \n",
    "    return df_test_pred"
   ]
  },
  {
   "cell_type": "code",
   "execution_count": 46,
   "id": "b1119751",
   "metadata": {
    "execution": {
     "iopub.execute_input": "2023-09-08T19:13:23.265510Z",
     "iopub.status.busy": "2023-09-08T19:13:23.264877Z",
     "iopub.status.idle": "2023-09-08T19:13:26.088458Z",
     "shell.execute_reply": "2023-09-08T19:13:26.086913Z"
    },
    "papermill": {
     "duration": 2.862854,
     "end_time": "2023-09-08T19:13:26.093031",
     "exception": false,
     "start_time": "2023-09-08T19:13:23.230177",
     "status": "completed"
    },
    "tags": []
   },
   "outputs": [],
   "source": [
    "# Create test data prediction\n",
    "df_test_nmf_pred = create_test_predictions_nmf(model_type = 'nmf', model = nmf_model,\n",
    "                                          ft_t = ft_test, df_t = df_test)"
   ]
  },
  {
   "cell_type": "code",
   "execution_count": 47,
   "id": "a084287c",
   "metadata": {
    "execution": {
     "iopub.execute_input": "2023-09-08T19:13:26.217836Z",
     "iopub.status.busy": "2023-09-08T19:13:26.216811Z",
     "iopub.status.idle": "2023-09-08T19:13:26.229824Z",
     "shell.execute_reply": "2023-09-08T19:13:26.228570Z"
    },
    "papermill": {
     "duration": 0.062267,
     "end_time": "2023-09-08T19:13:26.232468",
     "exception": false,
     "start_time": "2023-09-08T19:13:26.170201",
     "status": "completed"
    },
    "tags": []
   },
   "outputs": [
    {
     "data": {
      "text/html": [
       "<div>\n",
       "<style scoped>\n",
       "    .dataframe tbody tr th:only-of-type {\n",
       "        vertical-align: middle;\n",
       "    }\n",
       "\n",
       "    .dataframe tbody tr th {\n",
       "        vertical-align: top;\n",
       "    }\n",
       "\n",
       "    .dataframe thead th {\n",
       "        text-align: right;\n",
       "    }\n",
       "</style>\n",
       "<table border=\"1\" class=\"dataframe\">\n",
       "  <thead>\n",
       "    <tr style=\"text-align: right;\">\n",
       "      <th></th>\n",
       "      <th>ArticleId</th>\n",
       "      <th>Category</th>\n",
       "    </tr>\n",
       "  </thead>\n",
       "  <tbody>\n",
       "    <tr>\n",
       "      <th>0</th>\n",
       "      <td>1018</td>\n",
       "      <td>1</td>\n",
       "    </tr>\n",
       "    <tr>\n",
       "      <th>1</th>\n",
       "      <td>1319</td>\n",
       "      <td>0</td>\n",
       "    </tr>\n",
       "  </tbody>\n",
       "</table>\n",
       "</div>"
      ],
      "text/plain": [
       "   ArticleId  Category\n",
       "0       1018         1\n",
       "1       1319         0"
      ]
     },
     "execution_count": 47,
     "metadata": {},
     "output_type": "execute_result"
    }
   ],
   "source": [
    "# validate file was created\n",
    "df_saved_file = pd.read_csv('/kaggle/working/nmf_submission.csv')\n",
    "df_saved_file.head(2)"
   ]
  },
  {
   "cell_type": "markdown",
   "id": "f3f44a63",
   "metadata": {
    "papermill": {
     "duration": 0.034675,
     "end_time": "2023-09-08T19:13:26.303211",
     "exception": false,
     "start_time": "2023-09-08T19:13:26.268536",
     "status": "completed"
    },
    "tags": []
   },
   "source": [
    "# 7.&nbsp; Model: Supervised: Random Forest (RF)"
   ]
  },
  {
   "cell_type": "code",
   "execution_count": 48,
   "id": "654ed7d6",
   "metadata": {
    "execution": {
     "iopub.execute_input": "2023-09-08T19:13:26.376146Z",
     "iopub.status.busy": "2023-09-08T19:13:26.374981Z",
     "iopub.status.idle": "2023-09-08T19:13:26.596039Z",
     "shell.execute_reply": "2023-09-08T19:13:26.594911Z"
    },
    "papermill": {
     "duration": 0.260053,
     "end_time": "2023-09-08T19:13:26.598448",
     "exception": false,
     "start_time": "2023-09-08T19:13:26.338395",
     "status": "completed"
    },
    "tags": []
   },
   "outputs": [
    {
     "data": {
      "text/html": [
       "<style>#sk-container-id-2 {color: black;background-color: white;}#sk-container-id-2 pre{padding: 0;}#sk-container-id-2 div.sk-toggleable {background-color: white;}#sk-container-id-2 label.sk-toggleable__label {cursor: pointer;display: block;width: 100%;margin-bottom: 0;padding: 0.3em;box-sizing: border-box;text-align: center;}#sk-container-id-2 label.sk-toggleable__label-arrow:before {content: \"▸\";float: left;margin-right: 0.25em;color: #696969;}#sk-container-id-2 label.sk-toggleable__label-arrow:hover:before {color: black;}#sk-container-id-2 div.sk-estimator:hover label.sk-toggleable__label-arrow:before {color: black;}#sk-container-id-2 div.sk-toggleable__content {max-height: 0;max-width: 0;overflow: hidden;text-align: left;background-color: #f0f8ff;}#sk-container-id-2 div.sk-toggleable__content pre {margin: 0.2em;color: black;border-radius: 0.25em;background-color: #f0f8ff;}#sk-container-id-2 input.sk-toggleable__control:checked~div.sk-toggleable__content {max-height: 200px;max-width: 100%;overflow: auto;}#sk-container-id-2 input.sk-toggleable__control:checked~label.sk-toggleable__label-arrow:before {content: \"▾\";}#sk-container-id-2 div.sk-estimator input.sk-toggleable__control:checked~label.sk-toggleable__label {background-color: #d4ebff;}#sk-container-id-2 div.sk-label input.sk-toggleable__control:checked~label.sk-toggleable__label {background-color: #d4ebff;}#sk-container-id-2 input.sk-hidden--visually {border: 0;clip: rect(1px 1px 1px 1px);clip: rect(1px, 1px, 1px, 1px);height: 1px;margin: -1px;overflow: hidden;padding: 0;position: absolute;width: 1px;}#sk-container-id-2 div.sk-estimator {font-family: monospace;background-color: #f0f8ff;border: 1px dotted black;border-radius: 0.25em;box-sizing: border-box;margin-bottom: 0.5em;}#sk-container-id-2 div.sk-estimator:hover {background-color: #d4ebff;}#sk-container-id-2 div.sk-parallel-item::after {content: \"\";width: 100%;border-bottom: 1px solid gray;flex-grow: 1;}#sk-container-id-2 div.sk-label:hover label.sk-toggleable__label {background-color: #d4ebff;}#sk-container-id-2 div.sk-serial::before {content: \"\";position: absolute;border-left: 1px solid gray;box-sizing: border-box;top: 0;bottom: 0;left: 50%;z-index: 0;}#sk-container-id-2 div.sk-serial {display: flex;flex-direction: column;align-items: center;background-color: white;padding-right: 0.2em;padding-left: 0.2em;position: relative;}#sk-container-id-2 div.sk-item {position: relative;z-index: 1;}#sk-container-id-2 div.sk-parallel {display: flex;align-items: stretch;justify-content: center;background-color: white;position: relative;}#sk-container-id-2 div.sk-item::before, #sk-container-id-2 div.sk-parallel-item::before {content: \"\";position: absolute;border-left: 1px solid gray;box-sizing: border-box;top: 0;bottom: 0;left: 50%;z-index: -1;}#sk-container-id-2 div.sk-parallel-item {display: flex;flex-direction: column;z-index: 1;position: relative;background-color: white;}#sk-container-id-2 div.sk-parallel-item:first-child::after {align-self: flex-end;width: 50%;}#sk-container-id-2 div.sk-parallel-item:last-child::after {align-self: flex-start;width: 50%;}#sk-container-id-2 div.sk-parallel-item:only-child::after {width: 0;}#sk-container-id-2 div.sk-dashed-wrapped {border: 1px dashed gray;margin: 0 0.4em 0.5em 0.4em;box-sizing: border-box;padding-bottom: 0.4em;background-color: white;}#sk-container-id-2 div.sk-label label {font-family: monospace;font-weight: bold;display: inline-block;line-height: 1.2em;}#sk-container-id-2 div.sk-label-container {text-align: center;}#sk-container-id-2 div.sk-container {/* jupyter's `normalize.less` sets `[hidden] { display: none; }` but bootstrap.min.css set `[hidden] { display: none !important; }` so we also need the `!important` here to be able to override the default hidden behavior on the sphinx rendered scikit-learn.org. See: https://github.com/scikit-learn/scikit-learn/issues/21755 */display: inline-block !important;position: relative;}#sk-container-id-2 div.sk-text-repr-fallback {display: none;}</style><div id=\"sk-container-id-2\" class=\"sk-top-container\"><div class=\"sk-text-repr-fallback\"><pre>RandomForestClassifier(max_depth=10, max_features=10, min_samples_leaf=5,\n",
       "                       n_estimators=50)</pre><b>In a Jupyter environment, please rerun this cell to show the HTML representation or trust the notebook. <br />On GitHub, the HTML representation is unable to render, please try loading this page with nbviewer.org.</b></div><div class=\"sk-container\" hidden><div class=\"sk-item\"><div class=\"sk-estimator sk-toggleable\"><input class=\"sk-toggleable__control sk-hidden--visually\" id=\"sk-estimator-id-2\" type=\"checkbox\" checked><label for=\"sk-estimator-id-2\" class=\"sk-toggleable__label sk-toggleable__label-arrow\">RandomForestClassifier</label><div class=\"sk-toggleable__content\"><pre>RandomForestClassifier(max_depth=10, max_features=10, min_samples_leaf=5,\n",
       "                       n_estimators=50)</pre></div></div></div></div></div>"
      ],
      "text/plain": [
       "RandomForestClassifier(max_depth=10, max_features=10, min_samples_leaf=5,\n",
       "                       n_estimators=50)"
      ]
     },
     "execution_count": 48,
     "metadata": {},
     "output_type": "execute_result"
    }
   ],
   "source": [
    "# Creating Rsandom Forest model and fitting in data\n",
    "rf_model = RandomForestClassifier(\n",
    "              bootstrap = True,\n",
    "              verbose = 0,\n",
    "              criterion = 'gini',\n",
    "              n_estimators = 50,\n",
    "              max_depth = 10,\n",
    "              min_samples_leaf = 5,\n",
    "              max_features = 10\n",
    "              )\n",
    "\n",
    "rf_model.fit(ft_train, df_train['Category'])"
   ]
  },
  {
   "cell_type": "code",
   "execution_count": 49,
   "id": "98730134",
   "metadata": {
    "execution": {
     "iopub.execute_input": "2023-09-08T19:13:26.670065Z",
     "iopub.status.busy": "2023-09-08T19:13:26.669662Z",
     "iopub.status.idle": "2023-09-08T19:13:27.026318Z",
     "shell.execute_reply": "2023-09-08T19:13:27.025031Z"
    },
    "papermill": {
     "duration": 0.395172,
     "end_time": "2023-09-08T19:13:27.028609",
     "exception": false,
     "start_time": "2023-09-08T19:13:26.633437",
     "status": "completed"
    },
    "tags": []
   },
   "outputs": [
    {
     "name": "stdout",
     "output_type": "stream",
     "text": [
      "\n",
      "--------------------------------\n",
      "The true label mapping for the feature data: \n",
      "\n",
      "label_map : {'business': 0, 'entertainment': 1, 'politics': 2, 'sport': 3, 'tech': 4}\n",
      "        n : 5 \n",
      "\n",
      "Optimizing the Label Mapping to Maximize Accuracy:\n",
      "[+] accuracy increased from 0.000 to 0.883 with new label mapping: (0, 1, 2, 3, 4)\n",
      "\n",
      "Best Overall Permuted Label Set with Highest Accuracy:\n",
      "[.] total          : 1455\n",
      "[.] matched        : 1285\n",
      "[.] accuracy       : 0.8832\n",
      "[.] permuted label : (0, 1, 2, 3, 4)\n",
      "-------------------------------- \n",
      "\n",
      "Training: Model Accuracy Summary:\n",
      "Label Order : (0, 1, 2, 3, 4)\n",
      "Accuracy    : 0.8832 \n",
      "\n"
     ]
    }
   ],
   "source": [
    "# Summarize model results\n",
    "yhat_rf_train = rf_model.predict(ft_train)\n",
    "yhat_rf_train = pd.DataFrame(yhat_rf_train, columns = ['Category']).replace({'Category': true_label_map})\n",
    "yhat_rf_train = np.array(yhat_rf_train)\n",
    "label_order_rf_train, accuracy_rf_train = label_permute_compare(\n",
    "                                                ytdf = pd.DataFrame(df_train['Category']),\n",
    "                                                yp   = yhat_rf_train,\n",
    "                                                n    = 5,\n",
    "                                                LOD  = 1)\n",
    "\n",
    "print('Training: Model Accuracy Summary:')\n",
    "print('Label Order :', label_order_rf_train)\n",
    "print('Accuracy    :', round(accuracy_rf_train,4), '\\n')"
   ]
  },
  {
   "cell_type": "code",
   "execution_count": 50,
   "id": "a33a8e75",
   "metadata": {
    "execution": {
     "iopub.execute_input": "2023-09-08T19:13:27.101638Z",
     "iopub.status.busy": "2023-09-08T19:13:27.100724Z",
     "iopub.status.idle": "2023-09-08T19:13:27.501144Z",
     "shell.execute_reply": "2023-09-08T19:13:27.499893Z"
    },
    "papermill": {
     "duration": 0.439907,
     "end_time": "2023-09-08T19:13:27.503847",
     "exception": false,
     "start_time": "2023-09-08T19:13:27.063940",
     "status": "completed"
    },
    "tags": []
   },
   "outputs": [
    {
     "name": "stdout",
     "output_type": "stream",
     "text": [
      "label_map : {'business': 0, 'entertainment': 1, 'politics': 2, 'sport': 3, 'tech': 4}\n",
      "        n : 5 \n",
      "\n",
      "\n",
      "           Category mapped_label\n",
      "0          business            0\n",
      "1          business            0\n",
      "2          business            0\n",
      "3              tech            4\n",
      "4          business            0\n",
      "...             ...          ...\n",
      "1485  entertainment            1\n",
      "1486  entertainment            1\n",
      "1487       business            0\n",
      "1488           tech            4\n",
      "1489           tech            4\n",
      "\n",
      "[1455 rows x 2 columns]\n",
      "\n",
      "## Initial Model ## \n",
      "\n",
      "Accuracy =  0.8832 \n",
      "\n",
      "Confusion Matrix (Text)\n",
      "\n",
      "key: [(0, 'business'), (1, 'entertainment'), (2, 'politics'), (3, 'sport'), (4, 'tech')]\n",
      "\n",
      "     0    1    2    3    4\n",
      "0  326    0    1    5    0\n",
      "1   23  196    1   49    0\n",
      "2   16    0  228   24    3\n",
      "3    0    0    1  338    0\n",
      "4   27    1    1   18  197\n",
      "\n",
      "Confusion Matrix (Image)\n"
     ]
    },
    {
     "data": {
      "image/png": "[encoded data removed]",
      "text/plain": [
       "<Figure size 400x400 with 2 Axes>"
      ]
     },
     "metadata": {},
     "output_type": "display_data"
    }
   ],
   "source": [
    "#Map labels to new label numbers\n",
    "label_map_rf_train = build_label_map(\n",
    "                        true_label = true_label_txt,\n",
    "                        pred_label = label_order_rf_train,\n",
    "                        LOD        = 1)\n",
    "print()\n",
    "#Map validate labels to new number lables\n",
    "df_mapped_rf_train = map_label_to_data(\n",
    "                        label     = pd.DataFrame(df_train['Category']),\n",
    "                        label_map = label_map_rf_train,\n",
    "                        LOD       = 1)\n",
    "\n",
    "# Print out summary\n",
    "cf_key, cf_matrix = display_confusion_matrix(\n",
    "                        y_true    = df_mapped_rf_train['mapped_label'],\n",
    "                        y_pred    = yhat_rf_train,\n",
    "                        label_map = label_map_rf_train,\n",
    "                        accuracy  = accuracy_rf_train,\n",
    "                        LOD       = 1\n",
    ")"
   ]
  },
  {
   "cell_type": "markdown",
   "id": "de8d60d2",
   "metadata": {
    "papermill": {
     "duration": 0.03702,
     "end_time": "2023-09-08T19:13:27.577605",
     "exception": false,
     "start_time": "2023-09-08T19:13:27.540585",
     "status": "completed"
    },
    "tags": []
   },
   "source": [
    "## Create Kaggle Submission File"
   ]
  },
  {
   "cell_type": "code",
   "execution_count": 51,
   "id": "f330fed1",
   "metadata": {
    "execution": {
     "iopub.execute_input": "2023-09-08T19:13:27.651118Z",
     "iopub.status.busy": "2023-09-08T19:13:27.650696Z",
     "iopub.status.idle": "2023-09-08T19:13:27.656404Z",
     "shell.execute_reply": "2023-09-08T19:13:27.655667Z"
    },
    "papermill": {
     "duration": 0.045858,
     "end_time": "2023-09-08T19:13:27.659120",
     "exception": false,
     "start_time": "2023-09-08T19:13:27.613262",
     "status": "completed"
    },
    "tags": []
   },
   "outputs": [
    {
     "name": "stdout",
     "output_type": "stream",
     "text": [
      "label mapping: {'business': 0, 'entertainment': 1, 'politics': 2, 'sport': 3, 'tech': 4}\n",
      "inverted label mapping: {0: 'business', 1: 'entertainment', 2: 'politics', 3: 'sport', 4: 'tech'}\n"
     ]
    }
   ],
   "source": [
    "#invert label mapping dictionary\n",
    "print('label mapping:', label_map_rf_train)\n",
    "inv_label_map_rf_train = {v: k for k, v in label_map_rf_train.items()}\n",
    "print('inverted label mapping:', inv_label_map_rf_train)"
   ]
  },
  {
   "cell_type": "code",
   "execution_count": 52,
   "id": "ea4f7f5e",
   "metadata": {
    "execution": {
     "iopub.execute_input": "2023-09-08T19:13:27.735391Z",
     "iopub.status.busy": "2023-09-08T19:13:27.734972Z",
     "iopub.status.idle": "2023-09-08T19:13:27.742279Z",
     "shell.execute_reply": "2023-09-08T19:13:27.741036Z"
    },
    "papermill": {
     "duration": 0.048096,
     "end_time": "2023-09-08T19:13:27.744514",
     "exception": false,
     "start_time": "2023-09-08T19:13:27.696418",
     "status": "completed"
    },
    "tags": []
   },
   "outputs": [],
   "source": [
    "# Function to predict the training data\n",
    "def create_test_predictions(model_type, model, ft_t, df_t):\n",
    "    yhat_test = model.predict(ft_t)\n",
    "\n",
    "    #join df_test with predicted labels\n",
    "    df_test_pred = df_t.copy()\n",
    "    df_test_pred['Category'] = yhat_test\n",
    "    df_test_pred.drop(columns = ['Text Length', 'Word Count', 'Text Length (Old)', 'Word Count (Old)', 'Lemmatized Text'], inplace=True)\n",
    "    df_test_pred.drop(columns = ['Text'], inplace=True)\n",
    "    \n",
    "    # save the test results to a csv for sumbission\n",
    "    dest = '/kaggle/working/' + model_type + '_submission.csv'\n",
    "    df_test_pred.to_csv(dest, index = False)\n",
    "    \n",
    "    return df_test_pred"
   ]
  },
  {
   "cell_type": "code",
   "execution_count": 53,
   "id": "7bc68d6a",
   "metadata": {
    "execution": {
     "iopub.execute_input": "2023-09-08T19:13:27.820794Z",
     "iopub.status.busy": "2023-09-08T19:13:27.819606Z",
     "iopub.status.idle": "2023-09-08T19:13:27.858567Z",
     "shell.execute_reply": "2023-09-08T19:13:27.857585Z"
    },
    "papermill": {
     "duration": 0.079603,
     "end_time": "2023-09-08T19:13:27.861169",
     "exception": false,
     "start_time": "2023-09-08T19:13:27.781566",
     "status": "completed"
    },
    "tags": []
   },
   "outputs": [],
   "source": [
    "# Create test data prediction\n",
    "df_test_rf_pred = create_test_predictions(model_type = 'rf', model = rf_model,\n",
    "                                          ft_t = ft_test, df_t = df_test)"
   ]
  },
  {
   "cell_type": "code",
   "execution_count": 54,
   "id": "e814764f",
   "metadata": {
    "execution": {
     "iopub.execute_input": "2023-09-08T19:13:27.935751Z",
     "iopub.status.busy": "2023-09-08T19:13:27.935322Z",
     "iopub.status.idle": "2023-09-08T19:13:27.949900Z",
     "shell.execute_reply": "2023-09-08T19:13:27.948916Z"
    },
    "papermill": {
     "duration": 0.054761,
     "end_time": "2023-09-08T19:13:27.952174",
     "exception": false,
     "start_time": "2023-09-08T19:13:27.897413",
     "status": "completed"
    },
    "tags": []
   },
   "outputs": [
    {
     "data": {
      "text/html": [
       "<div>\n",
       "<style scoped>\n",
       "    .dataframe tbody tr th:only-of-type {\n",
       "        vertical-align: middle;\n",
       "    }\n",
       "\n",
       "    .dataframe tbody tr th {\n",
       "        vertical-align: top;\n",
       "    }\n",
       "\n",
       "    .dataframe thead th {\n",
       "        text-align: right;\n",
       "    }\n",
       "</style>\n",
       "<table border=\"1\" class=\"dataframe\">\n",
       "  <thead>\n",
       "    <tr style=\"text-align: right;\">\n",
       "      <th></th>\n",
       "      <th>ArticleId</th>\n",
       "      <th>Category</th>\n",
       "    </tr>\n",
       "  </thead>\n",
       "  <tbody>\n",
       "    <tr>\n",
       "      <th>0</th>\n",
       "      <td>1018</td>\n",
       "      <td>sport</td>\n",
       "    </tr>\n",
       "    <tr>\n",
       "      <th>1</th>\n",
       "      <td>1319</td>\n",
       "      <td>tech</td>\n",
       "    </tr>\n",
       "  </tbody>\n",
       "</table>\n",
       "</div>"
      ],
      "text/plain": [
       "   ArticleId Category\n",
       "0       1018    sport\n",
       "1       1319     tech"
      ]
     },
     "execution_count": 54,
     "metadata": {},
     "output_type": "execute_result"
    }
   ],
   "source": [
    "# validate file was created\n",
    "df_saved_file = pd.read_csv('/kaggle/working/rf_submission.csv')\n",
    "df_saved_file.head(2)"
   ]
  },
  {
   "cell_type": "markdown",
   "id": "c5497d06",
   "metadata": {
    "papermill": {
     "duration": 0.035991,
     "end_time": "2023-09-08T19:13:28.024316",
     "exception": false,
     "start_time": "2023-09-08T19:13:27.988325",
     "status": "completed"
    },
    "tags": []
   },
   "source": [
    "## Explore Sampling the Data\n",
    "\n",
    "Discuss comparison with the unsupervised approach.\n",
    "You may try changing the train data size\n",
    "(e.g., Include only 10%, 20%, 50% of labels, and observe train/test performance changes).\n",
    "Which methods are data-efficient\n",
    "(require a smaller amount of data to achieve similar results)?\n",
    "What about overfitting?"
   ]
  },
  {
   "cell_type": "code",
   "execution_count": 55,
   "id": "0d314b45",
   "metadata": {
    "execution": {
     "iopub.execute_input": "2023-09-08T19:13:28.099443Z",
     "iopub.status.busy": "2023-09-08T19:13:28.098596Z",
     "iopub.status.idle": "2023-09-08T19:13:28.114105Z",
     "shell.execute_reply": "2023-09-08T19:13:28.112382Z"
    },
    "papermill": {
     "duration": 0.055672,
     "end_time": "2023-09-08T19:13:28.116646",
     "exception": false,
     "start_time": "2023-09-08T19:13:28.060974",
     "status": "completed"
    },
    "tags": []
   },
   "outputs": [
    {
     "name": "stdout",
     "output_type": "stream",
     "text": [
      "total features = 8527\n",
      "test run: 1 \ttest run pct:   0pct \tfeatures to include: 2\n",
      "test run: 2 \ttest run pct:   0pct \tfeatures to include: 4\n",
      "test run: 3 \ttest run pct:   0pct \tfeatures to include: 8\n",
      "test run: 4 \ttest run pct:   0pct \tfeatures to include: 16\n",
      "test run: 5 \ttest run pct:   0pct \tfeatures to include: 32\n",
      "test run: 6 \ttest run pct:   1pct \tfeatures to include: 85\n",
      "test run: 7 \ttest run pct:   2pct \tfeatures to include: 170\n",
      "test run: 8 \ttest run pct:   3pct \tfeatures to include: 255\n",
      "test run: 9 \ttest run pct:   4pct \tfeatures to include: 341\n",
      "test run: 10 \ttest run pct:   5pct \tfeatures to include: 426\n",
      "test run: 11 \ttest run pct:   6pct \tfeatures to include: 511\n",
      "test run: 12 \ttest run pct:   7pct \tfeatures to include: 596\n",
      "test run: 13 \ttest run pct:   8pct \tfeatures to include: 682\n",
      "test run: 14 \ttest run pct:   9pct \tfeatures to include: 767\n",
      "test run: 15 \ttest run pct:  10pct \tfeatures to include: 852\n",
      "test run: 16 \ttest run pct:  20pct \tfeatures to include: 1705\n",
      "test run: 17 \ttest run pct:  30pct \tfeatures to include: 2558\n",
      "test run: 18 \ttest run pct:  40pct \tfeatures to include: 3410\n",
      "test run: 19 \ttest run pct:  50pct \tfeatures to include: 4263\n",
      "test run: 20 \ttest run pct:  60pct \tfeatures to include: 5116\n",
      "test run: 21 \ttest run pct:  70pct \tfeatures to include: 5968\n",
      "test run: 22 \ttest run pct:  80pct \tfeatures to include: 6821\n",
      "test run: 23 \ttest run pct:  90pct \tfeatures to include: 7674\n",
      "test run: 24 \ttest run pct: 100pct \tfeatures to include: 8527\n"
     ]
    }
   ],
   "source": [
    "# get the number of features\n",
    "total_features = ft_train.shape[1]\n",
    "print('total features =', total_features)\n",
    "\n",
    "feature_test_run = []\n",
    "feature_test_run_pct = []\n",
    "feature_size_to_test = []\n",
    "\n",
    "def add_feature_size(step_type, run, pct, size, total, i):\n",
    "    if step_type == 'int':\n",
    "        r = len(run) + 1\n",
    "        s = int(np.floor(i/100*total))\n",
    "        p = str(int(round(s/total*100,0))).rjust(3) + 'pct'\n",
    "\n",
    "    elif step_type == 'exp':\n",
    "        r = len(run) + 1\n",
    "        s = 2 ** i\n",
    "        p = str(int(round(s/total*100,0))).rjust(3) + 'pct'\n",
    "    else:\n",
    "        print('[!] Error: Bad step type!')\n",
    "    # add the values to the list\n",
    "    run.append(r); pct.append(p); size.append(s)\n",
    "    # display a summary of the values added\n",
    "    print('test run:', run[-1],\n",
    "          '\\ttest run pct:', pct[-1],\n",
    "          '\\tfeatures to include:', size[-1])\n",
    "\n",
    "\n",
    "for i in range(1,6,1):\n",
    "    add_feature_size(step_type = 'exp', i = i,\n",
    "                     run = feature_test_run,\n",
    "                     pct = feature_test_run_pct,\n",
    "                     size = feature_size_to_test,\n",
    "                     total = total_features)\n",
    "\n",
    "for i in range(1,10,1):\n",
    "    add_feature_size(step_type = 'int', i = i,\n",
    "                     run = feature_test_run,\n",
    "                     pct = feature_test_run_pct,\n",
    "                     size = feature_size_to_test,\n",
    "                     total = total_features)\n",
    "    \n",
    "for i in range(10,101,10):\n",
    "    add_feature_size(step_type = 'int', i = i,\n",
    "                     run = feature_test_run,\n",
    "                     pct = feature_test_run_pct,\n",
    "                     size = feature_size_to_test,\n",
    "                     total = total_features)"
   ]
  },
  {
   "cell_type": "code",
   "execution_count": 56,
   "id": "3b464a77",
   "metadata": {
    "execution": {
     "iopub.execute_input": "2023-09-08T19:13:28.190824Z",
     "iopub.status.busy": "2023-09-08T19:13:28.190430Z",
     "iopub.status.idle": "2023-09-08T19:13:28.198216Z",
     "shell.execute_reply": "2023-09-08T19:13:28.197194Z"
    },
    "papermill": {
     "duration": 0.046937,
     "end_time": "2023-09-08T19:13:28.200668",
     "exception": false,
     "start_time": "2023-09-08T19:13:28.153731",
     "status": "completed"
    },
    "tags": []
   },
   "outputs": [],
   "source": [
    "# a function to execute test predicitons with a variable number of features\n",
    "def rf_sample_features(model_type, rf_model, ft_x, df_y, ft_t, df_t, n = 100):\n",
    "    #Randomly sample the features\n",
    "    ft_x_samp = pd.DataFrame(ft_x).sample(n = n,axis='columns')\n",
    "    ft_t_samp = pd.DataFrame(ft_t).sample(n = n,axis='columns')\n",
    "    # Creating Random Forest model and fitting in data\n",
    "    rf_model = RandomForestClassifier(n_estimators = 100)\n",
    "    rf_model.fit(ft_x_samp, df_y)\n",
    "    # Calculate the training accuracy\n",
    "    rf_acc_train = rf_model.score(ft_x_samp, df_y)\n",
    "    print('Accuracy :', round(rf_acc_train,4))\n",
    "    # Create test data prediction\n",
    "    df_test_rf_pred = create_test_predictions(model_type = model_type, model = rf_model,\n",
    "                                          ft_t = ft_t_samp, df_t = df_t)\n",
    "    \n",
    "    return rf_acc_train"
   ]
  },
  {
   "cell_type": "code",
   "execution_count": 57,
   "id": "5332e6ce",
   "metadata": {
    "execution": {
     "iopub.execute_input": "2023-09-08T19:13:28.274543Z",
     "iopub.status.busy": "2023-09-08T19:13:28.273548Z",
     "iopub.status.idle": "2023-09-08T19:13:53.380395Z",
     "shell.execute_reply": "2023-09-08T19:13:53.379010Z"
    },
    "papermill": {
     "duration": 25.146353,
     "end_time": "2023-09-08T19:13:53.382960",
     "exception": false,
     "start_time": "2023-09-08T19:13:28.236607",
     "status": "completed"
    },
    "tags": []
   },
   "outputs": [
    {
     "name": "stdout",
     "output_type": "stream",
     "text": [
      "[.] run: 1 \tpct :   0pct \tfeatures: 2 \t||\tAccuracy : 0.246\n",
      "[.] run: 2 \tpct :   0pct \tfeatures: 4 \t||\tAccuracy : 0.2584\n",
      "[.] run: 3 \tpct :   0pct \tfeatures: 8 \t||\tAccuracy : 0.3162\n",
      "[.] run: 4 \tpct :   0pct \tfeatures: 16 \t||\tAccuracy : 0.3072\n",
      "[.] run: 5 \tpct :   0pct \tfeatures: 32 \t||\tAccuracy : 0.6089\n",
      "[.] run: 6 \tpct :   1pct \tfeatures: 85 \t||\tAccuracy : 0.7636\n",
      "[.] run: 7 \tpct :   2pct \tfeatures: 170 \t||\tAccuracy : 0.9244\n",
      "[.] run: 8 \tpct :   3pct \tfeatures: 255 \t||\tAccuracy : 0.9856\n",
      "[.] run: 9 \tpct :   4pct \tfeatures: 341 \t||\tAccuracy : 0.9828\n",
      "[.] run: 10 \tpct :   5pct \tfeatures: 426 \t||\tAccuracy : 0.9966\n",
      "[.] run: 11 \tpct :   6pct \tfeatures: 511 \t||\tAccuracy : 0.9966\n",
      "[.] run: 12 \tpct :   7pct \tfeatures: 596 \t||\tAccuracy : 0.9993\n",
      "[.] run: 13 \tpct :   8pct \tfeatures: 682 \t||\tAccuracy : 0.9993\n",
      "[.] run: 14 \tpct :   9pct \tfeatures: 767 \t||\tAccuracy : 1.0\n",
      "[.] run: 15 \tpct :  10pct \tfeatures: 852 \t||\tAccuracy : 1.0\n",
      "[.] run: 16 \tpct :  20pct \tfeatures: 1705 \t||\tAccuracy : 1.0\n",
      "[.] run: 17 \tpct :  30pct \tfeatures: 2558 \t||\tAccuracy : 1.0\n",
      "[.] run: 18 \tpct :  40pct \tfeatures: 3410 \t||\tAccuracy : 1.0\n",
      "[.] run: 19 \tpct :  50pct \tfeatures: 4263 \t||\tAccuracy : 1.0\n",
      "[.] run: 20 \tpct :  60pct \tfeatures: 5116 \t||\tAccuracy : 1.0\n",
      "[.] run: 21 \tpct :  70pct \tfeatures: 5968 \t||\tAccuracy : 1.0\n",
      "[.] run: 22 \tpct :  80pct \tfeatures: 6821 \t||\tAccuracy : 1.0\n",
      "[.] run: 23 \tpct :  90pct \tfeatures: 7674 \t||\tAccuracy : 1.0\n",
      "[.] run: 24 \tpct : 100pct \tfeatures: 8527 \t||\tAccuracy : 1.0\n"
     ]
    }
   ],
   "source": [
    "feature_train_acc = []\n",
    "\n",
    "for (run, pct, size) in zip(feature_test_run, feature_test_run_pct, feature_size_to_test):\n",
    "    print('[.] run:', run, '\\tpct :', pct, '\\tfeatures:', size, '\\t||\\t', end='')\n",
    "    model_type = 'rf_r' + str(run).zfill(2) + '_s' + str(size).zfill(4)\n",
    "    acc = rf_sample_features(model_type = model_type, rf_model = rf_model,\n",
    "                   ft_x = ft_train, df_y = df_train['Category'],\n",
    "                   ft_t = ft_test, df_t = df_test,\n",
    "                   n = size)\n",
    "    feature_train_acc.append(acc)"
   ]
  },
  {
   "cell_type": "code",
   "execution_count": 58,
   "id": "8cb1aee8",
   "metadata": {
    "execution": {
     "iopub.execute_input": "2023-09-08T19:13:53.462878Z",
     "iopub.status.busy": "2023-09-08T19:13:53.462501Z",
     "iopub.status.idle": "2023-09-08T19:13:53.477159Z",
     "shell.execute_reply": "2023-09-08T19:13:53.476076Z"
    },
    "papermill": {
     "duration": 0.057098,
     "end_time": "2023-09-08T19:13:53.479281",
     "exception": false,
     "start_time": "2023-09-08T19:13:53.422183",
     "status": "completed"
    },
    "tags": []
   },
   "outputs": [
    {
     "data": {
      "text/html": [
       "<div>\n",
       "<style scoped>\n",
       "    .dataframe tbody tr th:only-of-type {\n",
       "        vertical-align: middle;\n",
       "    }\n",
       "\n",
       "    .dataframe tbody tr th {\n",
       "        vertical-align: top;\n",
       "    }\n",
       "\n",
       "    .dataframe thead th {\n",
       "        text-align: right;\n",
       "    }\n",
       "</style>\n",
       "<table border=\"1\" class=\"dataframe\">\n",
       "  <thead>\n",
       "    <tr style=\"text-align: right;\">\n",
       "      <th></th>\n",
       "      <th>ArticleId</th>\n",
       "      <th>Category</th>\n",
       "    </tr>\n",
       "  </thead>\n",
       "  <tbody>\n",
       "    <tr>\n",
       "      <th>0</th>\n",
       "      <td>1018</td>\n",
       "      <td>business</td>\n",
       "    </tr>\n",
       "    <tr>\n",
       "      <th>1</th>\n",
       "      <td>1319</td>\n",
       "      <td>sport</td>\n",
       "    </tr>\n",
       "    <tr>\n",
       "      <th>2</th>\n",
       "      <td>1138</td>\n",
       "      <td>business</td>\n",
       "    </tr>\n",
       "    <tr>\n",
       "      <th>3</th>\n",
       "      <td>459</td>\n",
       "      <td>business</td>\n",
       "    </tr>\n",
       "    <tr>\n",
       "      <th>4</th>\n",
       "      <td>1020</td>\n",
       "      <td>business</td>\n",
       "    </tr>\n",
       "    <tr>\n",
       "      <th>...</th>\n",
       "      <td>...</td>\n",
       "      <td>...</td>\n",
       "    </tr>\n",
       "    <tr>\n",
       "      <th>730</th>\n",
       "      <td>1923</td>\n",
       "      <td>business</td>\n",
       "    </tr>\n",
       "    <tr>\n",
       "      <th>731</th>\n",
       "      <td>373</td>\n",
       "      <td>business</td>\n",
       "    </tr>\n",
       "    <tr>\n",
       "      <th>732</th>\n",
       "      <td>1704</td>\n",
       "      <td>sport</td>\n",
       "    </tr>\n",
       "    <tr>\n",
       "      <th>733</th>\n",
       "      <td>206</td>\n",
       "      <td>business</td>\n",
       "    </tr>\n",
       "    <tr>\n",
       "      <th>734</th>\n",
       "      <td>471</td>\n",
       "      <td>business</td>\n",
       "    </tr>\n",
       "  </tbody>\n",
       "</table>\n",
       "<p>735 rows × 2 columns</p>\n",
       "</div>"
      ],
      "text/plain": [
       "     ArticleId  Category\n",
       "0         1018  business\n",
       "1         1319     sport\n",
       "2         1138  business\n",
       "3          459  business\n",
       "4         1020  business\n",
       "..         ...       ...\n",
       "730       1923  business\n",
       "731        373  business\n",
       "732       1704     sport\n",
       "733        206  business\n",
       "734        471  business\n",
       "\n",
       "[735 rows x 2 columns]"
      ]
     },
     "execution_count": 58,
     "metadata": {},
     "output_type": "execute_result"
    }
   ],
   "source": [
    "# validate file was created\n",
    "df_saved_file = pd.read_csv('/kaggle/working/rf_r15_s0852_submission.csv')\n",
    "df_saved_file"
   ]
  },
  {
   "cell_type": "code",
   "execution_count": 59,
   "id": "a20f009f",
   "metadata": {
    "execution": {
     "iopub.execute_input": "2023-09-08T19:13:53.561350Z",
     "iopub.status.busy": "2023-09-08T19:13:53.560563Z",
     "iopub.status.idle": "2023-09-08T19:13:53.786830Z",
     "shell.execute_reply": "2023-09-08T19:13:53.785605Z"
    },
    "papermill": {
     "duration": 0.271011,
     "end_time": "2023-09-08T19:13:53.789160",
     "exception": false,
     "start_time": "2023-09-08T19:13:53.518149",
     "status": "completed"
    },
    "tags": []
   },
   "outputs": [
    {
     "data": {
      "image/png": "[encoded data removed]",
      "text/plain": [
       "<Figure size 800x300 with 1 Axes>"
      ]
     },
     "metadata": {},
     "output_type": "display_data"
    }
   ],
   "source": [
    "# create figure\n",
    "fig = plt.figure(figsize=(8,3))\n",
    "ax = fig.add_subplot(111)\n",
    "# define x and y\n",
    "x = feature_size_to_test\n",
    "y = feature_train_acc\n",
    "plt.plot(np.arange(0,5000,1),[1] * 5000, color='orange', lw=1, linestyle='--')\n",
    "plt.plot(x, y, color='blue', lw=2)\n",
    "plt.xlabel('Features Included')\n",
    "plt.ylabel('Accuracy')\n",
    "plt.title('Training Accuracy vs. Number of Random Features Included')\n",
    "ax.set_xlim([-10, 1200])\n",
    "ax.set_ylim([-0.1, 1.1])\n",
    "plt.show()"
   ]
  },
  {
   "cell_type": "code",
   "execution_count": 60,
   "id": "fadc8704",
   "metadata": {
    "execution": {
     "iopub.execute_input": "2023-09-08T19:13:53.868422Z",
     "iopub.status.busy": "2023-09-08T19:13:53.867974Z",
     "iopub.status.idle": "2023-09-08T19:13:53.878061Z",
     "shell.execute_reply": "2023-09-08T19:13:53.877005Z"
    },
    "papermill": {
     "duration": 0.052873,
     "end_time": "2023-09-08T19:13:53.880416",
     "exception": false,
     "start_time": "2023-09-08T19:13:53.827543",
     "status": "completed"
    },
    "tags": []
   },
   "outputs": [],
   "source": [
    "data = [( 1,   2,0.2259), ( 2,   4,0.2204), ( 3,   8,0.2272), ( 4,  16,0.2626), ( 5,  32,0.2585),\n",
    "        ( 6,  85,0.2041), ( 7, 170,0.2190), ( 8, 255,0.2095), ( 9, 341,0.2054), (10, 426,0.2367),\n",
    "        (11, 511,0.2109), (12, 596,0.2122), (13, 682,0.2082), (14, 767,0.2313), (15, 852,0.2313),\n",
    "        (16,1705,0.2014), (17,2558,0.2027), (18,3410,0.1714), (19,4263,0.4263), (20,5116,0.2354),\n",
    "       ]\n",
    "feature_test_acc = pd.DataFrame(data, columns =['run', 'size', 'acc'])"
   ]
  },
  {
   "cell_type": "code",
   "execution_count": 61,
   "id": "3a028285",
   "metadata": {
    "execution": {
     "iopub.execute_input": "2023-09-08T19:13:53.961818Z",
     "iopub.status.busy": "2023-09-08T19:13:53.961403Z",
     "iopub.status.idle": "2023-09-08T19:13:54.214206Z",
     "shell.execute_reply": "2023-09-08T19:13:54.212991Z"
    },
    "papermill": {
     "duration": 0.296625,
     "end_time": "2023-09-08T19:13:54.216942",
     "exception": false,
     "start_time": "2023-09-08T19:13:53.920317",
     "status": "completed"
    },
    "tags": []
   },
   "outputs": [
    {
     "data": {
      "image/png": "[encoded data removed]",
      "text/plain": [
       "<Figure size 800x300 with 1 Axes>"
      ]
     },
     "metadata": {},
     "output_type": "display_data"
    }
   ],
   "source": [
    "# create figure\n",
    "fig = plt.figure(figsize=(8,3))\n",
    "ax = fig.add_subplot(111)\n",
    "# define x and y\n",
    "x = feature_test_acc['size']\n",
    "y = feature_test_acc['acc']\n",
    "plt.plot(np.arange(0,5000,1),[1] * 5000, color='orange', lw=1, linestyle='--')\n",
    "plt.plot(x, y, color='blue', lw=2)\n",
    "plt.xlabel('Features Included')\n",
    "plt.ylabel('Accuracy')\n",
    "plt.title('Training Accuracy vs. Number of Random Features Included')\n",
    "ax.set_xlim([-10, 1200])\n",
    "ax.set_ylim([0, .4])\n",
    "plt.show()"
   ]
  },
  {
   "cell_type": "markdown",
   "id": "0eaa02e2",
   "metadata": {
    "papermill": {
     "duration": 0.040867,
     "end_time": "2023-09-08T19:13:54.298514",
     "exception": false,
     "start_time": "2023-09-08T19:13:54.257647",
     "status": "completed"
    },
    "tags": []
   },
   "source": [
    "## Compare with supervised learning [30 pts]\n",
    "\n",
    "1) Pick and train a supervised learning method(s) and compare the results (train and test performance)\n",
    "\n",
    "\n",
    "\n",
    "\n",
    "2) Discuss comparison with the unsupervised approach. You may try changing the train data size (e.g., Include only 10%, 20%, 50% of labels, and observe train/test performance changes).\n",
    "\n",
    "\n",
    "\n",
    "Which methods are data-efficient (require a smaller amount of data to achieve similar results)? What about overfitting?"
   ]
  },
  {
   "cell_type": "markdown",
   "id": "b3953feb",
   "metadata": {
    "papermill": {
     "duration": 0.041052,
     "end_time": "2023-09-08T19:13:54.379451",
     "exception": false,
     "start_time": "2023-09-08T19:13:54.338399",
     "status": "completed"
    },
    "tags": []
   },
   "source": [
    "# 8.&nbsp; Model Comparison"
   ]
  },
  {
   "cell_type": "markdown",
   "id": "a9896596",
   "metadata": {
    "papermill": {
     "duration": 0.039341,
     "end_time": "2023-09-08T19:13:54.458697",
     "exception": false,
     "start_time": "2023-09-08T19:13:54.419356",
     "status": "completed"
    },
    "tags": []
   },
   "source": [
    "# 9.&nbsp; Results"
   ]
  },
  {
   "cell_type": "markdown",
   "id": "8b7cfa3a",
   "metadata": {
    "papermill": {
     "duration": 0.040218,
     "end_time": "2023-09-08T19:13:54.538911",
     "exception": false,
     "start_time": "2023-09-08T19:13:54.498693",
     "status": "completed"
    },
    "tags": []
   },
   "source": [
    "# 10.&nbsp; References\n",
    "\n",
    "**Competition**\n",
    "- [1] BBC News Classification: News Articles Categorization https://www.kaggle.com/competitions/learn-ai-bbc/overview\n",
    "\n",
    "**Documentation and References**\n",
    "- [2] Lemmatization, https://en.wikipedia.org/wiki/Lemmatization\n",
    "- [3] WordNet, https://en.wikipedia.org/wiki/WordNet\n",
    "- [4] Natural Language Toolkit (NLTK), https://www.nltk.org/index.html\n",
    "- [5] nltk.stem.wordnet, https://www.nltk.org/_modules/nltk/stem/wordnet.html\n",
    "- [6] sklearn.feature_extraction.text.TfidfVectorizer, https://scikit-learn.org/stable/modules/generated/sklearn.feature_extraction.text.TfidfVectorizer.html\n",
    "- [7] sklearn.feature_extraction.text.CountVectorizer, https://scikit-learn.org/stable/modules/generated/sklearn.feature_extraction.text.CountVectorizer.html\n",
    "- [8] sklearn.feature_extraction.text.TfidfTransformer, https://scikit-learn.org/stable/modules/generated/sklearn.feature_extraction.text.TfidfTransformer.html#\n",
    "- [9] sklearn.decomposition.NMF, https://scikit-learn.org/stable/modules/generated/sklearn.decomposition.NMF.html\n",
    "- [10] \n",
    "\n",
    "**Other Kaggle Reports**\n",
    "- [] Kaggle: bbc article classification https://www.kaggle.com/code/scrambledgabs/bbc-article-classification\n",
    "- [] Kaggle: BBC News Classification https://www.kaggle.com/code/conradkleykamp/bbc-news-classification#Unsupervised-Model:-Matrix-Factorization-(NMF)\n",
    "- [] Kaggle: Unsupervised - Matrix Factorization https://www.kaggle.com/code/mattison/unsupervised-matrix-factorization\n",
    "- [] Kaggle: Make a Classification for BBC News BY LSTM https://www.kaggle.com/code/mohamedbakrey/make-a-classification-for-bbc-news-by-lstm"
   ]
  },
  {
   "cell_type": "code",
   "execution_count": null,
   "id": "35eb6b05",
   "metadata": {
    "papermill": {
     "duration": 0.039601,
     "end_time": "2023-09-08T19:13:54.618936",
     "exception": false,
     "start_time": "2023-09-08T19:13:54.579335",
     "status": "completed"
    },
    "tags": []
   },
   "outputs": [],
   "source": []
  }
 ],
 "kernelspec": {
  "display_name": "Python 3",
  "language": "python",
  "name": "python3"
 },
 "language_info": {
  "codemirror_mode": {
   "name": "ipython",
   "version": 3
  },
  "file_extension": ".py",
  "mimetype": "text/x-python",
  "name": "python",
  "nbconvert_exporter": "python",
  "pygments_lexer": "ipython3",
  "version": "3.6.4"
 },
 "metadata": {
  "kernelspec": {
   "display_name": "Python 3",
   "language": "python",
   "name": "python3"
  },
  "language_info": {
   "codemirror_mode": {
    "name": "ipython",
    "version": 3
   },
   "file_extension": ".py",
   "mimetype": "text/x-python",
   "name": "python",
   "nbconvert_exporter": "python",
   "pygments_lexer": "ipython3",
   "version": "3.10.12"
  },
  "papermill": {
   "default_parameters": {},
   "duration": 131.491901,
   "end_time": "2023-09-08T19:13:56.084164",
   "environment_variables": {},
   "exception": null,
   "input_path": "__notebook__.ipynb",
   "output_path": "__notebook__.ipynb",
   "parameters": {},
   "start_time": "2023-09-08T19:11:44.592263",
   "version": "2.4.0"
  }
 },
 "nbformat": 4,
 "nbformat_minor": 5
}
