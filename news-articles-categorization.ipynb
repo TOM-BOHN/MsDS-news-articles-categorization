{
 "cells": [
  {
   "cell_type": "code",
   "execution_count": 1,
   "id": "bd18e997",
   "metadata": {
    "_cell_guid": "b1076dfc-b9ad-4769-8c92-a6c4dae69d19",
    "_uuid": "8f2839f25d086af736a60e9eeb907d3b93b6e0e5",
    "execution": {
     "iopub.execute_input": "2023-09-07T21:57:45.612220Z",
     "iopub.status.busy": "2023-09-07T21:57:45.611798Z",
     "iopub.status.idle": "2023-09-07T21:57:45.617336Z",
     "shell.execute_reply": "2023-09-07T21:57:45.615557Z"
    },
    "papermill": {
     "duration": 0.025447,
     "end_time": "2023-09-07T21:57:45.619295",
     "exception": false,
     "start_time": "2023-09-07T21:57:45.593848",
     "status": "completed"
    },
    "tags": []
   },
   "outputs": [],
   "source": [
    "# This Python 3 environment comes with many helpful analytics libraries installed\n",
    "# It is defined by the kaggle/python Docker image: https://github.com/kaggle/docker-python"
   ]
  },
  {
   "cell_type": "markdown",
   "id": "8ef086f1",
   "metadata": {
    "papermill": {
     "duration": 0.016541,
     "end_time": "2023-09-07T21:57:45.651826",
     "exception": false,
     "start_time": "2023-09-07T21:57:45.635285",
     "status": "completed"
    },
    "tags": []
   },
   "source": [
    "# News Articles Categorization\n",
    "**Thomas Bohn**   --   **2023-08-25**\n",
    "\n",
    "A report focused on modeling news artical categorization for BBC News focused on the application of natural language processing, unsupervised learning with matrxi factorization, and a comparison to supervised learning.\n",
    "\n",
    "--  [Main Report](https://github.com/TOM-BOHN/MsDS-news-articles-categorization/blob/main/news-articles-categorization.ipynb)  --  [Github Repo](https://github.com/TOM-BOHN/MsDS-news-articles-categorization)  --  [Presentation Slides](TBD)  --  [Presentation Video](TBD) --"
   ]
  },
  {
   "cell_type": "markdown",
   "id": "704ef347",
   "metadata": {
    "papermill": {
     "duration": 0.015701,
     "end_time": "2023-09-07T21:57:45.683558",
     "exception": false,
     "start_time": "2023-09-07T21:57:45.667857",
     "status": "completed"
    },
    "tags": []
   },
   "source": [
    "# 1.&nbsp;Introduction"
   ]
  },
  {
   "cell_type": "code",
   "execution_count": null,
   "id": "c3ef4f29",
   "metadata": {
    "papermill": {
     "duration": 0.015699,
     "end_time": "2023-09-07T21:57:45.715201",
     "exception": false,
     "start_time": "2023-09-07T21:57:45.699502",
     "status": "completed"
    },
    "tags": []
   },
   "outputs": [],
   "source": []
  },
  {
   "cell_type": "markdown",
   "id": "082b8e96",
   "metadata": {
    "papermill": {
     "duration": 0.016375,
     "end_time": "2023-09-07T21:57:45.747396",
     "exception": false,
     "start_time": "2023-09-07T21:57:45.731021",
     "status": "completed"
    },
    "tags": []
   },
   "source": [
    "## Python Libraries\n",
    "\n",
    "The following python libraries are used in this notebook."
   ]
  },
  {
   "cell_type": "code",
   "execution_count": 2,
   "id": "b7e0e3a4",
   "metadata": {
    "execution": {
     "iopub.execute_input": "2023-09-07T21:57:45.787204Z",
     "iopub.status.busy": "2023-09-07T21:57:45.786429Z",
     "iopub.status.idle": "2023-09-07T21:57:48.349140Z",
     "shell.execute_reply": "2023-09-07T21:57:48.348312Z"
    },
    "papermill": {
     "duration": 2.584529,
     "end_time": "2023-09-07T21:57:48.351465",
     "exception": false,
     "start_time": "2023-09-07T21:57:45.766936",
     "status": "completed"
    },
    "tags": []
   },
   "outputs": [
    {
     "name": "stderr",
     "output_type": "stream",
     "text": [
      "/opt/conda/lib/python3.10/site-packages/scipy/__init__.py:146: UserWarning: A NumPy version >=1.16.5 and <1.23.0 is required for this version of SciPy (detected version 1.23.5\n",
      "  warnings.warn(f\"A NumPy version >={np_minversion} and <{np_maxversion}\"\n"
     ]
    }
   ],
   "source": [
    "# File Connection and File Manipulation\n",
    "import os\n",
    "# from google.colab import drive\n",
    "\n",
    "# Basic Data Science Toolkits\n",
    "import pandas as pd\n",
    "import numpy as np\n",
    "import math\n",
    "import time\n",
    "import itertools as it\n",
    "\n",
    "# Data Vizualization\n",
    "import matplotlib.pyplot as plt\n",
    "from matplotlib.colors import Normalize\n",
    "from matplotlib import ticker\n",
    "import seaborn as sns\n",
    "\n",
    "# Text Mining\n",
    "import string\n",
    "from textblob import TextBlob\n",
    "\n",
    "\n",
    "#NLP Text Cleanup\n",
    "import re\n",
    "import nltk\n",
    "import nltk.corpus\n",
    "from nltk.corpus import stopwords\n",
    "\n",
    "# NLP Tokenizer and Lemmatizer\n",
    "import nltk\n",
    "import nltk.corpus\n",
    "from nltk.corpus import wordnet\n",
    "from nltk.tokenize import word_tokenize\n",
    "from nltk.stem import WordNetLemmatizer\n",
    "from string import digits\n",
    "\n",
    "# Feature Engineering\n",
    "import sklearn\n",
    "from sklearn.feature_extraction.text import TfidfVectorizer\n",
    "\n",
    "#Data Model Unsupervised NFM\n",
    "import sklearn\n",
    "from sklearn.decomposition import NMF\n",
    "\n",
    "#Data Model Unsupervised SVD\n",
    "import sklearn\n",
    "from sklearn.decomposition import TruncatedSVD\n",
    "\n",
    "# Data Models\n",
    "import sklearn\n",
    "from sklearn.ensemble import RandomForestClassifier\n",
    "\n",
    "# Data Model Scores\n",
    "from sklearn.metrics import roc_auc_score\n",
    "from sklearn.metrics import accuracy_score\n",
    "from sklearn.metrics import precision_score\n",
    "from sklearn.metrics import recall_score\n",
    "from sklearn.metrics import f1_score\n",
    "from sklearn.metrics import roc_curve\n",
    "\n",
    "# Import Data Model Evaluations\n",
    "from sklearn.model_selection import train_test_split\n",
    "from sklearn.datasets import make_classification\n",
    "from sklearn.metrics import make_scorer\n",
    "\n",
    "# Cross Validation, Grid Search, and K-Fold\n",
    "from sklearn.model_selection import cross_validate\n",
    "from sklearn.model_selection import cross_val_score\n",
    "from sklearn.model_selection import GridSearchCV\n",
    "from sklearn.model_selection import RepeatedStratifiedKFold"
   ]
  },
  {
   "cell_type": "markdown",
   "id": "af8f00d7",
   "metadata": {
    "papermill": {
     "duration": 0.015644,
     "end_time": "2023-09-07T21:57:48.383119",
     "exception": false,
     "start_time": "2023-09-07T21:57:48.367475",
     "status": "completed"
    },
    "tags": []
   },
   "source": [
    "## Installing NLTK Data"
   ]
  },
  {
   "cell_type": "code",
   "execution_count": 3,
   "id": "69658957",
   "metadata": {
    "execution": {
     "iopub.execute_input": "2023-09-07T21:57:48.418290Z",
     "iopub.status.busy": "2023-09-07T21:57:48.417358Z",
     "iopub.status.idle": "2023-09-07T21:57:49.713609Z",
     "shell.execute_reply": "2023-09-07T21:57:49.712633Z"
    },
    "papermill": {
     "duration": 1.315455,
     "end_time": "2023-09-07T21:57:49.715583",
     "exception": false,
     "start_time": "2023-09-07T21:57:48.400128",
     "status": "completed"
    },
    "tags": []
   },
   "outputs": [
    {
     "data": {
      "text/plain": [
       "['The', 'Fulton', 'County', 'Grand', 'Jury', 'said', ...]"
      ]
     },
     "execution_count": 3,
     "metadata": {},
     "output_type": "execute_result"
    }
   ],
   "source": [
    "#Install the necessary datasets/models for specific functions to work\n",
    "nltk.download('popular', quiet=True)\n",
    "# Test to confirm the download worked\n",
    "from nltk.corpus import brown\n",
    "brown.words()\n",
    "#dir(nltk)"
   ]
  },
  {
   "cell_type": "code",
   "execution_count": 4,
   "id": "0a0faaa6",
   "metadata": {
    "execution": {
     "iopub.execute_input": "2023-09-07T21:57:49.750979Z",
     "iopub.status.busy": "2023-09-07T21:57:49.750606Z",
     "iopub.status.idle": "2023-09-07T21:57:50.297463Z",
     "shell.execute_reply": "2023-09-07T21:57:50.296367Z"
    },
    "papermill": {
     "duration": 0.56696,
     "end_time": "2023-09-07T21:57:50.299860",
     "exception": false,
     "start_time": "2023-09-07T21:57:49.732900",
     "status": "completed"
    },
    "tags": []
   },
   "outputs": [
    {
     "name": "stdout",
     "output_type": "stream",
     "text": [
      "/usr/share/nltk_data/corpora\n",
      "/usr/share/nltk_data/corpora/wordnet\n"
     ]
    }
   ],
   "source": [
    "# unzip the wordnet file as a workaround for a bug\n",
    "!unzip -q -o /usr/share/nltk_data/corpora/wordnet.zip -d /usr/share/nltk_data/corpora/\n",
    "# verify that paths exist\n",
    "#!ls /usr/share/nltk_data/corpora\n",
    "print(nltk.find('corpora'))\n",
    "print(nltk.find('corpora/wordnet'))"
   ]
  },
  {
   "cell_type": "markdown",
   "id": "23cbbbf2",
   "metadata": {
    "papermill": {
     "duration": 0.015186,
     "end_time": "2023-09-07T21:57:50.331363",
     "exception": false,
     "start_time": "2023-09-07T21:57:50.316177",
     "status": "completed"
    },
    "tags": []
   },
   "source": [
    "## Global Variables\n",
    "\n",
    "The following are global variables referenced in this notebook."
   ]
  },
  {
   "cell_type": "code",
   "execution_count": 5,
   "id": "25597a13",
   "metadata": {
    "execution": {
     "iopub.execute_input": "2023-09-07T21:57:50.366857Z",
     "iopub.status.busy": "2023-09-07T21:57:50.366174Z",
     "iopub.status.idle": "2023-09-07T21:57:50.372324Z",
     "shell.execute_reply": "2023-09-07T21:57:50.370914Z"
    },
    "papermill": {
     "duration": 0.026321,
     "end_time": "2023-09-07T21:57:50.375136",
     "exception": false,
     "start_time": "2023-09-07T21:57:50.348815",
     "status": "completed"
    },
    "tags": []
   },
   "outputs": [
    {
     "name": "stdout",
     "output_type": "stream",
     "text": [
      "Level of Detail for functions is set to: 2\n"
     ]
    }
   ],
   "source": [
    "# Global Debug flag used to turn on and off more chatty blocks of code\n",
    "gDEBUG = False\n",
    "if gDEBUG: print('Debug is set to:', gDEBUG)\n",
    "# Global Level of Detail of table stats and details\n",
    "gLOD = 2\n",
    "print('Level of Detail for functions is set to:', gLOD)"
   ]
  },
  {
   "cell_type": "markdown",
   "id": "7c9ebf04",
   "metadata": {
    "papermill": {
     "duration": 0.016103,
     "end_time": "2023-09-07T21:57:50.408205",
     "exception": false,
     "start_time": "2023-09-07T21:57:50.392102",
     "status": "completed"
    },
    "tags": []
   },
   "source": [
    "# 2.&nbsp;Data Source"
   ]
  },
  {
   "cell_type": "code",
   "execution_count": 6,
   "id": "5f9c595b",
   "metadata": {
    "execution": {
     "iopub.execute_input": "2023-09-07T21:57:50.442874Z",
     "iopub.status.busy": "2023-09-07T21:57:50.442469Z",
     "iopub.status.idle": "2023-09-07T21:57:50.450870Z",
     "shell.execute_reply": "2023-09-07T21:57:50.449778Z"
    },
    "papermill": {
     "duration": 0.028214,
     "end_time": "2023-09-07T21:57:50.452705",
     "exception": false,
     "start_time": "2023-09-07T21:57:50.424491",
     "status": "completed"
    },
    "tags": []
   },
   "outputs": [
    {
     "name": "stdout",
     "output_type": "stream",
     "text": [
      "/kaggle/input/learn-ai-bbc/BBC News Train.csv\n",
      "/kaggle/input/learn-ai-bbc/BBC News Sample Solution.csv\n",
      "/kaggle/input/learn-ai-bbc/BBC News Test.csv\n"
     ]
    }
   ],
   "source": [
    "# Input data files are available in the read-only \"../input/\" directory\n",
    "# List all files under the input directory\n",
    "for dirname, _, filenames in os.walk('/kaggle/input'):\n",
    "    for filename in filenames:\n",
    "        print(os.path.join(dirname, filename))"
   ]
  },
  {
   "cell_type": "code",
   "execution_count": 7,
   "id": "8d7883d6",
   "metadata": {
    "execution": {
     "iopub.execute_input": "2023-09-07T21:57:50.487664Z",
     "iopub.status.busy": "2023-09-07T21:57:50.486336Z",
     "iopub.status.idle": "2023-09-07T21:57:50.492776Z",
     "shell.execute_reply": "2023-09-07T21:57:50.491070Z"
    },
    "papermill": {
     "duration": 0.025697,
     "end_time": "2023-09-07T21:57:50.494870",
     "exception": false,
     "start_time": "2023-09-07T21:57:50.469173",
     "status": "completed"
    },
    "tags": []
   },
   "outputs": [],
   "source": [
    "#label file paths\n",
    "path_dir = '/kaggle/input/learn-ai-bbc/'\n",
    "train_path = path_dir + 'BBC News Train.csv'\n",
    "test_path = path_dir + 'BBC News Test.csv'\n",
    "sample_solution_path = path_dir + 'BBC News Sample Solution.csv'"
   ]
  },
  {
   "cell_type": "code",
   "execution_count": 8,
   "id": "0158e082",
   "metadata": {
    "execution": {
     "iopub.execute_input": "2023-09-07T21:57:50.529563Z",
     "iopub.status.busy": "2023-09-07T21:57:50.529141Z",
     "iopub.status.idle": "2023-09-07T21:57:50.687800Z",
     "shell.execute_reply": "2023-09-07T21:57:50.686354Z"
    },
    "papermill": {
     "duration": 0.178794,
     "end_time": "2023-09-07T21:57:50.690224",
     "exception": false,
     "start_time": "2023-09-07T21:57:50.511430",
     "status": "completed"
    },
    "tags": []
   },
   "outputs": [],
   "source": [
    "#import data\n",
    "df_train = pd.read_csv(train_path)\n",
    "df_test = pd.read_csv(test_path)\n",
    "df_sample_solution = pd.read_csv(sample_solution_path)\n",
    "\n",
    "#assign names to tables\n",
    "df_train.name = 'df_train'\n",
    "df_test.name = 'df_test'\n",
    "df_sample_solution.name = 'df_sample_solution'"
   ]
  },
  {
   "cell_type": "code",
   "execution_count": 9,
   "id": "ca808e9b",
   "metadata": {
    "execution": {
     "iopub.execute_input": "2023-09-07T21:57:50.724928Z",
     "iopub.status.busy": "2023-09-07T21:57:50.724020Z",
     "iopub.status.idle": "2023-09-07T21:57:50.731936Z",
     "shell.execute_reply": "2023-09-07T21:57:50.731237Z"
    },
    "papermill": {
     "duration": 0.026808,
     "end_time": "2023-09-07T21:57:50.733750",
     "exception": false,
     "start_time": "2023-09-07T21:57:50.706942",
     "status": "completed"
    },
    "tags": []
   },
   "outputs": [],
   "source": [
    "# Create a function to print key table details\n",
    "def quick_table_details (df_name, df, level_of_detail = 10):\n",
    "  # describe the shape and column summary\n",
    "  if level_of_detail >= 1:\n",
    "    print('\\n####', df_name, '####')\n",
    "    num_rows = df.shape[0]\n",
    "    num_cols = df.shape[1]\n",
    "    print('number of features (columns) = ' + str(num_cols))\n",
    "    print('number of observations (rows) = ' + str(num_rows))\n",
    "    print('----------------------------', '\\n')\n",
    "  # print the datatype counts\n",
    "  if level_of_detail >= 2:\n",
    "    print('DataType Counts:')\n",
    "    print(df.dtypes.value_counts())\n",
    "    print('----------------------------', '\\n')\n",
    "  # print a full list of column names\n",
    "  if level_of_detail >= 3:\n",
    "    print('Columns:')\n",
    "    print(df.columns)\n",
    "    print('----------------------------', '\\n')\n",
    "  #  expanded table details\n",
    "  if level_of_detail >= 4:\n",
    "    print('Description:')\n",
    "    print(df.describe(include='all'))\n",
    "    print('----------------------------', '\\n')\n",
    "    print('Info:')\n",
    "    print(df.info())\n",
    "    print('----------------------------', '\\n')\n",
    "  #  table records preview\n",
    "  if level_of_detail >= 5:\n",
    "    print('Table Preview:')\n",
    "    x_records = 3\n",
    "    print(df.head(x_records))\n",
    "    print('....')\n",
    "    print(df.tail(x_records))\n",
    "    print('----------------------------', '\\n')\n",
    "        "
   ]
  },
  {
   "cell_type": "code",
   "execution_count": 10,
   "id": "3c33abab",
   "metadata": {
    "execution": {
     "iopub.execute_input": "2023-09-07T21:57:50.767557Z",
     "iopub.status.busy": "2023-09-07T21:57:50.767189Z",
     "iopub.status.idle": "2023-09-07T21:57:50.835110Z",
     "shell.execute_reply": "2023-09-07T21:57:50.833222Z"
    },
    "papermill": {
     "duration": 0.08683,
     "end_time": "2023-09-07T21:57:50.837091",
     "exception": false,
     "start_time": "2023-09-07T21:57:50.750261",
     "status": "completed"
    },
    "tags": []
   },
   "outputs": [
    {
     "name": "stdout",
     "output_type": "stream",
     "text": [
      "\n",
      "#### df_train ####\n",
      "number of features (columns) = 3\n",
      "number of observations (rows) = 1490\n",
      "---------------------------- \n",
      "\n",
      "DataType Counts:\n",
      "object    2\n",
      "int64     1\n",
      "dtype: int64\n",
      "---------------------------- \n",
      "\n",
      "Columns:\n",
      "Index(['ArticleId', 'Text', 'Category'], dtype='object')\n",
      "---------------------------- \n",
      "\n",
      "Description:\n",
      "          ArticleId                                               Text  \\\n",
      "count   1490.000000                                               1490   \n",
      "unique          NaN                                               1440   \n",
      "top             NaN  microsoft seeking spyware trojan microsoft is ...   \n",
      "freq            NaN                                                  2   \n",
      "mean    1119.696644                                                NaN   \n",
      "std      641.826283                                                NaN   \n",
      "min        2.000000                                                NaN   \n",
      "25%      565.250000                                                NaN   \n",
      "50%     1112.500000                                                NaN   \n",
      "75%     1680.750000                                                NaN   \n",
      "max     2224.000000                                                NaN   \n",
      "\n",
      "       Category  \n",
      "count      1490  \n",
      "unique        5  \n",
      "top       sport  \n",
      "freq        346  \n",
      "mean        NaN  \n",
      "std         NaN  \n",
      "min         NaN  \n",
      "25%         NaN  \n",
      "50%         NaN  \n",
      "75%         NaN  \n",
      "max         NaN  \n",
      "---------------------------- \n",
      "\n",
      "Info:\n",
      "<class 'pandas.core.frame.DataFrame'>\n",
      "RangeIndex: 1490 entries, 0 to 1489\n",
      "Data columns (total 3 columns):\n",
      " #   Column     Non-Null Count  Dtype \n",
      "---  ------     --------------  ----- \n",
      " 0   ArticleId  1490 non-null   int64 \n",
      " 1   Text       1490 non-null   object\n",
      " 2   Category   1490 non-null   object\n",
      "dtypes: int64(1), object(2)\n",
      "memory usage: 35.0+ KB\n",
      "None\n",
      "---------------------------- \n",
      "\n",
      "Table Preview:\n",
      "   ArticleId                                               Text  Category\n",
      "0       1833  worldcom ex-boss launches defence lawyers defe...  business\n",
      "1        154  german business confidence slides german busin...  business\n",
      "2       1101  bbc poll indicates economic gloom citizens in ...  business\n",
      "....\n",
      "      ArticleId                                               Text  Category\n",
      "1487       1590  weak dollar hits reuters revenues at media gro...  business\n",
      "1488       1587  apple ipod family expands market apple has exp...      tech\n",
      "1489        538  santy worm makes unwelcome visit thousands of ...      tech\n",
      "---------------------------- \n",
      "\n",
      "\n",
      "#### df_test ####\n",
      "number of features (columns) = 2\n",
      "number of observations (rows) = 735\n",
      "---------------------------- \n",
      "\n",
      "DataType Counts:\n",
      "int64     1\n",
      "object    1\n",
      "dtype: int64\n",
      "---------------------------- \n",
      "\n",
      "Columns:\n",
      "Index(['ArticleId', 'Text'], dtype='object')\n",
      "---------------------------- \n",
      "\n",
      "Description:\n",
      "          ArticleId                                               Text\n",
      "count    735.000000                                                735\n",
      "unique          NaN                                                722\n",
      "top             NaN  boothroyd calls for lords speaker betty boothr...\n",
      "freq            NaN                                                  2\n",
      "mean    1099.424490                                                NaN\n",
      "std      643.925514                                                NaN\n",
      "min        1.000000                                                NaN\n",
      "25%      545.500000                                                NaN\n",
      "50%     1116.000000                                                NaN\n",
      "75%     1657.500000                                                NaN\n",
      "max     2225.000000                                                NaN\n",
      "---------------------------- \n",
      "\n",
      "Info:\n",
      "<class 'pandas.core.frame.DataFrame'>\n",
      "RangeIndex: 735 entries, 0 to 734\n",
      "Data columns (total 2 columns):\n",
      " #   Column     Non-Null Count  Dtype \n",
      "---  ------     --------------  ----- \n",
      " 0   ArticleId  735 non-null    int64 \n",
      " 1   Text       735 non-null    object\n",
      "dtypes: int64(1), object(1)\n",
      "memory usage: 11.6+ KB\n",
      "None\n",
      "---------------------------- \n",
      "\n",
      "Table Preview:\n",
      "   ArticleId                                               Text\n",
      "0       1018  qpr keeper day heads for preston queens park r...\n",
      "1       1319  software watching while you work software that...\n",
      "2       1138  d arcy injury adds to ireland woe gordon d arc...\n",
      "....\n",
      "     ArticleId                                               Text\n",
      "732       1704  sport betting rules in spotlight a group of mp...\n",
      "733        206  alfa romeos  to get gm engines  fiat is to sto...\n",
      "734        471  citizenship event for 18s touted citizenship c...\n",
      "---------------------------- \n",
      "\n",
      "\n",
      "#### df_sample_solution ####\n",
      "number of features (columns) = 2\n",
      "number of observations (rows) = 735\n",
      "---------------------------- \n",
      "\n",
      "DataType Counts:\n",
      "int64     1\n",
      "object    1\n",
      "dtype: int64\n",
      "---------------------------- \n",
      "\n",
      "Columns:\n",
      "Index(['ArticleId', 'Category'], dtype='object')\n",
      "---------------------------- \n",
      "\n",
      "Description:\n",
      "          ArticleId Category\n",
      "count    735.000000      735\n",
      "unique          NaN        5\n",
      "top             NaN    sport\n",
      "freq            NaN      147\n",
      "mean    1099.424490      NaN\n",
      "std      643.925514      NaN\n",
      "min        1.000000      NaN\n",
      "25%      545.500000      NaN\n",
      "50%     1116.000000      NaN\n",
      "75%     1657.500000      NaN\n",
      "max     2225.000000      NaN\n",
      "---------------------------- \n",
      "\n",
      "Info:\n",
      "<class 'pandas.core.frame.DataFrame'>\n",
      "RangeIndex: 735 entries, 0 to 734\n",
      "Data columns (total 2 columns):\n",
      " #   Column     Non-Null Count  Dtype \n",
      "---  ------     --------------  ----- \n",
      " 0   ArticleId  735 non-null    int64 \n",
      " 1   Category   735 non-null    object\n",
      "dtypes: int64(1), object(1)\n",
      "memory usage: 11.6+ KB\n",
      "None\n",
      "---------------------------- \n",
      "\n",
      "Table Preview:\n",
      "   ArticleId  Category\n",
      "0       1018     sport\n",
      "1       1319      tech\n",
      "2       1138  business\n",
      "....\n",
      "     ArticleId       Category\n",
      "732       1704       business\n",
      "733        206  entertainment\n",
      "734        471       politics\n",
      "---------------------------- \n",
      "\n"
     ]
    }
   ],
   "source": [
    "quick_table_details (df_train.name, df_train, level_of_detail = 10)\n",
    "quick_table_details (df_test.name, df_test, level_of_detail = 10)\n",
    "quick_table_details (df_sample_solution.name, df_sample_solution, level_of_detail = 10)"
   ]
  },
  {
   "cell_type": "markdown",
   "id": "777e5f69",
   "metadata": {
    "papermill": {
     "duration": 0.016533,
     "end_time": "2023-09-07T21:57:50.870297",
     "exception": false,
     "start_time": "2023-09-07T21:57:50.853764",
     "status": "completed"
    },
    "tags": []
   },
   "source": []
  },
  {
   "cell_type": "markdown",
   "id": "29d86f91",
   "metadata": {
    "papermill": {
     "duration": 0.016113,
     "end_time": "2023-09-07T21:57:50.902625",
     "exception": false,
     "start_time": "2023-09-07T21:57:50.886512",
     "status": "completed"
    },
    "tags": []
   },
   "source": []
  },
  {
   "cell_type": "markdown",
   "id": "2177777c",
   "metadata": {
    "papermill": {
     "duration": 0.016199,
     "end_time": "2023-09-07T21:57:50.934654",
     "exception": false,
     "start_time": "2023-09-07T21:57:50.918455",
     "status": "completed"
    },
    "tags": []
   },
   "source": [
    "# 3.&nbsp;Exploratory Data Analysis (EDA)"
   ]
  },
  {
   "cell_type": "markdown",
   "id": "86755517",
   "metadata": {
    "papermill": {
     "duration": 0.015984,
     "end_time": "2023-09-07T21:57:50.967218",
     "exception": false,
     "start_time": "2023-09-07T21:57:50.951234",
     "status": "completed"
    },
    "tags": []
   },
   "source": [
    "## Review the Distribution of Categories"
   ]
  },
  {
   "cell_type": "code",
   "execution_count": 11,
   "id": "bb92e275",
   "metadata": {
    "execution": {
     "iopub.execute_input": "2023-09-07T21:57:51.000949Z",
     "iopub.status.busy": "2023-09-07T21:57:51.000624Z",
     "iopub.status.idle": "2023-09-07T21:57:51.006375Z",
     "shell.execute_reply": "2023-09-07T21:57:51.004937Z"
    },
    "papermill": {
     "duration": 0.025145,
     "end_time": "2023-09-07T21:57:51.008375",
     "exception": false,
     "start_time": "2023-09-07T21:57:50.983230",
     "status": "completed"
    },
    "tags": []
   },
   "outputs": [
    {
     "name": "stdout",
     "output_type": "stream",
     "text": [
      "columns in df_train: Index(['ArticleId', 'Text', 'Category'], dtype='object')\n",
      "columns in df_test: Index(['ArticleId', 'Text'], dtype='object')\n",
      "columns in df_sample_solution: Index(['ArticleId', 'Category'], dtype='object')\n"
     ]
    }
   ],
   "source": [
    "print('columns in df_train:', df_train.columns)\n",
    "print('columns in df_test:', df_test.columns)\n",
    "print('columns in df_sample_solution:', df_sample_solution.columns)"
   ]
  },
  {
   "cell_type": "code",
   "execution_count": 12,
   "id": "3d5bb140",
   "metadata": {
    "execution": {
     "iopub.execute_input": "2023-09-07T21:57:51.044662Z",
     "iopub.status.busy": "2023-09-07T21:57:51.044298Z",
     "iopub.status.idle": "2023-09-07T21:57:51.061133Z",
     "shell.execute_reply": "2023-09-07T21:57:51.059894Z"
    },
    "papermill": {
     "duration": 0.037639,
     "end_time": "2023-09-07T21:57:51.063454",
     "exception": false,
     "start_time": "2023-09-07T21:57:51.025815",
     "status": "completed"
    },
    "tags": []
   },
   "outputs": [
    {
     "name": "stdout",
     "output_type": "stream",
     "text": [
      "        Category  Count  Pct of Total Pct of Total Text\n",
      "0          sport    346          0.23              23 %\n",
      "1       business    336          0.23              23 %\n",
      "2       politics    274          0.18              18 %\n",
      "3  entertainment    273          0.18              18 %\n",
      "4           tech    261          0.18              18 %\n"
     ]
    }
   ],
   "source": [
    "def count_field(df, field = 'Category'):\n",
    "    df_cat_count = pd.DataFrame(df[field].value_counts()).reset_index()\n",
    "    df_cat_count = df_cat_count.rename(columns={'Category': 'Count', 'index': 'Category'})\n",
    "    df_cat_count = df_cat_count.sort_values(by = ['Count'], ascending = False)\n",
    "    df_cat_count['Pct of Total'] = round(df_cat_count['Count'] / df_cat_count['Count'].sum(), 2)\n",
    "    df_cat_count['Pct of Total Text'] = (df_cat_count['Pct of Total'] * 100).apply(int).apply(str) + ' %'\n",
    "    return df_cat_count\n",
    "\n",
    "df_cat_count_train = count_field(df = df_train, field = 'Category')\n",
    "df_cat_count_df_sample_solution = count_field(df = df_sample_solution, field = 'Category')\n",
    "\n",
    "print(df_cat_count_train)"
   ]
  },
  {
   "cell_type": "code",
   "execution_count": 13,
   "id": "d9d3997b",
   "metadata": {
    "execution": {
     "iopub.execute_input": "2023-09-07T21:57:51.097817Z",
     "iopub.status.busy": "2023-09-07T21:57:51.097476Z",
     "iopub.status.idle": "2023-09-07T21:57:51.105309Z",
     "shell.execute_reply": "2023-09-07T21:57:51.104177Z"
    },
    "papermill": {
     "duration": 0.027285,
     "end_time": "2023-09-07T21:57:51.107282",
     "exception": false,
     "start_time": "2023-09-07T21:57:51.079997",
     "status": "completed"
    },
    "tags": []
   },
   "outputs": [],
   "source": [
    "def shape_df_for_stacked_barchart(df, group_by, stack_by, normalize=True):\n",
    "  df_chart = (df\n",
    "              .groupby(group_by)[stack_by]\n",
    "              .value_counts(normalize = normalize)\n",
    "              .round(2)\n",
    "              .unstack())\n",
    "  return df_chart\n",
    "\n",
    "def create_single_stacked_bar(df, group_by, stack_by, fig_size = (5,5), normalize=True):\n",
    "  df_chart = shape_df_for_stacked_barchart(df = df, group_by = group_by, stack_by = stack_by, normalize = normalize)\n",
    "  if gDEBUG: print(df_chart, '\\n')\n",
    "  fig, ax = plt.subplots(figsize = fig_size)\n",
    "  # plot the chart\n",
    "  chart = df_chart.plot.bar(stacked = True,\n",
    "                    ax = ax,\n",
    "                    width = 0.3,\n",
    "                    edgecolor = \"black\")\n",
    "  # Customising legend\n",
    "  ax.legend(fontsize = 10, title_fontsize = 10)\n",
    "\n",
    "  ax.set_title(group_by, fontsize=10)\n",
    "  ax.set_xlabel(group_by, fontsize=8)\n",
    "  ax.set_ylabel('Record Count', fontsize=8)\n",
    "  return fig"
   ]
  },
  {
   "cell_type": "code",
   "execution_count": 14,
   "id": "f41fb390",
   "metadata": {
    "execution": {
     "iopub.execute_input": "2023-09-07T21:57:51.141609Z",
     "iopub.status.busy": "2023-09-07T21:57:51.141273Z",
     "iopub.status.idle": "2023-09-07T21:57:51.516663Z",
     "shell.execute_reply": "2023-09-07T21:57:51.515500Z"
    },
    "papermill": {
     "duration": 0.394966,
     "end_time": "2023-09-07T21:57:51.518777",
     "exception": false,
     "start_time": "2023-09-07T21:57:51.123811",
     "status": "completed"
    },
    "tags": []
   },
   "outputs": [
    {
     "name": "stdout",
     "output_type": "stream",
     "text": [
      "[-] the catgory of sport makes up 23 % of the data.\n",
      "[-] the catgory of business makes up 23 % of the data.\n",
      "[-] the catgory of politics makes up 18 % of the data.\n",
      "[-] the catgory of entertainment makes up 18 % of the data.\n",
      "[-] the catgory of tech makes up 18 % of the data.\n"
     ]
    },
    {
     "data": {
      "image/png": "[encoded data removed]",
      "text/plain": [
       "<Figure size 400x400 with 1 Axes>"
      ]
     },
     "metadata": {},
     "output_type": "display_data"
    }
   ],
   "source": [
    "# Summarize the target in the dataset\n",
    "chart = create_single_stacked_bar(df = df_train, group_by = 'Category', stack_by = 'Category', fig_size = (4,4), normalize = False)\n",
    "table = shape_df_for_stacked_barchart(df = df_train, group_by = 'Category', stack_by = 'Category', normalize = False)\n",
    "\n",
    "for i in range(len(df_cat_count_train)):\n",
    "    print('[-] the catgory of', df_cat_count_train['Category'].iloc[i], 'makes up',\n",
    "           df_cat_count_train['Pct of Total Text'].iloc[i], 'of the data.')"
   ]
  },
  {
   "cell_type": "markdown",
   "id": "7ba51349",
   "metadata": {
    "papermill": {
     "duration": 0.016736,
     "end_time": "2023-09-07T21:57:51.552654",
     "exception": false,
     "start_time": "2023-09-07T21:57:51.535918",
     "status": "completed"
    },
    "tags": []
   },
   "source": [
    "## Review of the Text"
   ]
  },
  {
   "cell_type": "code",
   "execution_count": 15,
   "id": "e18e0b10",
   "metadata": {
    "execution": {
     "iopub.execute_input": "2023-09-07T21:57:51.589645Z",
     "iopub.status.busy": "2023-09-07T21:57:51.589301Z",
     "iopub.status.idle": "2023-09-07T21:57:52.114298Z",
     "shell.execute_reply": "2023-09-07T21:57:52.113140Z"
    },
    "papermill": {
     "duration": 0.546,
     "end_time": "2023-09-07T21:57:52.116781",
     "exception": false,
     "start_time": "2023-09-07T21:57:51.570781",
     "status": "completed"
    },
    "tags": []
   },
   "outputs": [
    {
     "data": {
      "text/plain": [
       "Text(0, 0.5, 'Record Count')"
      ]
     },
     "execution_count": 15,
     "metadata": {},
     "output_type": "execute_result"
    },
    {
     "data": {
      "image/png": "[encoded data removed]",
      "text/plain": [
       "<Figure size 600x300 with 1 Axes>"
      ]
     },
     "metadata": {},
     "output_type": "display_data"
    }
   ],
   "source": [
    "# add a length column to the dataframe\n",
    "df_train['Text Length'] = df_train['Text'].apply(len)\n",
    "#create a figure\n",
    "fig, ax = plt.subplots(figsize = (6,3))\n",
    "# create a histogram of the length of text\n",
    "#chart = plt.hist(x = df_s['Text Length'])\n",
    "chart = sns.histplot(x = df_train['Text Length'], kde=True)\n",
    "# Customising legend\n",
    "ax.set_title('Histogram of Text Length', fontsize=10)\n",
    "ax.set_xlabel('Text Length', fontsize=8)\n",
    "ax.set_ylabel('Record Count', fontsize=8)"
   ]
  },
  {
   "cell_type": "code",
   "execution_count": 16,
   "id": "ec3ac008",
   "metadata": {
    "execution": {
     "iopub.execute_input": "2023-09-07T21:57:52.154517Z",
     "iopub.status.busy": "2023-09-07T21:57:52.154179Z",
     "iopub.status.idle": "2023-09-07T21:57:52.306927Z",
     "shell.execute_reply": "2023-09-07T21:57:52.306198Z"
    },
    "papermill": {
     "duration": 0.17406,
     "end_time": "2023-09-07T21:57:52.308714",
     "exception": false,
     "start_time": "2023-09-07T21:57:52.134654",
     "status": "completed"
    },
    "tags": []
   },
   "outputs": [
    {
     "data": {
      "text/plain": [
       "Text(0.5, 1.0, 'Boxplot of Text Length')"
      ]
     },
     "execution_count": 16,
     "metadata": {},
     "output_type": "execute_result"
    },
    {
     "data": {
      "image/png": "[encoded data removed]",
      "text/plain": [
       "<Figure size 600x300 with 1 Axes>"
      ]
     },
     "metadata": {},
     "output_type": "display_data"
    }
   ],
   "source": [
    "# add a length column to the dataframe\n",
    "df_train['Text Length'] = df_train['Text'].apply(len)\n",
    "df_test['Text Length'] = df_test['Text'].apply(len)\n",
    "#create a figure\n",
    "fig, ax = plt.subplots(figsize = (6,3))\n",
    "# create a boxplot of the length of text\n",
    "chart = sns.boxplot(x = df_train['Text Length'])\n",
    "ax.set_title('Boxplot of Text Length', fontsize=10)"
   ]
  },
  {
   "cell_type": "code",
   "execution_count": 17,
   "id": "b1601560",
   "metadata": {
    "execution": {
     "iopub.execute_input": "2023-09-07T21:57:52.346695Z",
     "iopub.status.busy": "2023-09-07T21:57:52.346107Z",
     "iopub.status.idle": "2023-09-07T21:57:57.956331Z",
     "shell.execute_reply": "2023-09-07T21:57:57.955618Z"
    },
    "papermill": {
     "duration": 5.631713,
     "end_time": "2023-09-07T21:57:57.958272",
     "exception": false,
     "start_time": "2023-09-07T21:57:52.326559",
     "status": "completed"
    },
    "tags": []
   },
   "outputs": [
    {
     "data": {
      "text/plain": [
       "Text(0.5, 1.0, 'Boxplot of Word Count')"
      ]
     },
     "execution_count": 17,
     "metadata": {},
     "output_type": "execute_result"
    },
    {
     "data": {
      "image/png": "[encoded data removed]",
      "text/plain": [
       "<Figure size 600x300 with 1 Axes>"
      ]
     },
     "metadata": {},
     "output_type": "display_data"
    }
   ],
   "source": [
    "# define a function to add the word count to a dataframe\n",
    "def add_word_count(df):\n",
    "    df['Text Tokens'] = df.apply(lambda row: nltk.word_tokenize(row['Text']), axis=1)\n",
    "    df['Word Count'] = df['Text Tokens'].apply(len)\n",
    "    df.drop(columns = ['Text Tokens'], inplace=True)\n",
    "    return df\n",
    "# add a length column to the dataframe for wordcount\n",
    "df_train = add_word_count(df = df_train)\n",
    "df_test = add_word_count(df = df_test)\n",
    "#create a figure\n",
    "fig, ax = plt.subplots(figsize = (6,3))\n",
    "# create a boxplot of the length of text\n",
    "chart = sns.boxplot(x = df_train['Word Count'])\n",
    "ax.set_title('Boxplot of Word Count', fontsize=10)"
   ]
  },
  {
   "cell_type": "markdown",
   "id": "7be17a3a",
   "metadata": {
    "papermill": {
     "duration": 0.016939,
     "end_time": "2023-09-07T21:57:57.993130",
     "exception": false,
     "start_time": "2023-09-07T21:57:57.976191",
     "status": "completed"
    },
    "tags": []
   },
   "source": [
    "# 4.&nbsp;Data Cleansing"
   ]
  },
  {
   "cell_type": "markdown",
   "id": "108432f5",
   "metadata": {
    "papermill": {
     "duration": 0.017237,
     "end_time": "2023-09-07T21:57:58.027889",
     "exception": false,
     "start_time": "2023-09-07T21:57:58.010652",
     "status": "completed"
    },
    "tags": []
   },
   "source": [
    "## Data Type Munging"
   ]
  },
  {
   "cell_type": "code",
   "execution_count": 18,
   "id": "a20368e9",
   "metadata": {
    "execution": {
     "iopub.execute_input": "2023-09-07T21:57:58.065795Z",
     "iopub.status.busy": "2023-09-07T21:57:58.065171Z",
     "iopub.status.idle": "2023-09-07T21:57:58.073841Z",
     "shell.execute_reply": "2023-09-07T21:57:58.072751Z"
    },
    "papermill": {
     "duration": 0.029353,
     "end_time": "2023-09-07T21:57:58.075743",
     "exception": false,
     "start_time": "2023-09-07T21:57:58.046390",
     "status": "completed"
    },
    "tags": []
   },
   "outputs": [],
   "source": [
    "# convert a list of fields to a specific datatype\n",
    "def convert_dtype_basic(df, data_type, col_list, LOD = 10):\n",
    "  print('## Updating the datatypes in dataframe =', df.name,'##')\n",
    "  for field in col_list:\n",
    "    if field in df.columns:\n",
    "      # drop the fields\n",
    "      df[field] = df[field].astype(data_type)\n",
    "      print('[-]', 'field =', field, 'change to datatype =', data_type)\n",
    "    else:\n",
    "      # display a message that the drop did not work\n",
    "      print('[!]', 'field =', field, 'is not in the DataFrame.')\n",
    "  print()\n",
    "  return df\n",
    "\n",
    "# create a function to review how many fields still need to be mapped to a datatype\n",
    "def dtype_review_update(df, completed_list):\n",
    "  all_cols = df.columns\n",
    "  remaining_cols = set(all_cols)\n",
    "  # remove any field on the completed list from the remaining col list\n",
    "  for i in range(len(completed_list)):\n",
    "    remaining_cols = remaining_cols - set(completed_list[i])\n",
    "  remaining_cols = list(remaining_cols)\n",
    "\n",
    "  #Pritn a summary of columns remaining\n",
    "  print('There are', len(remaining_cols), 'columns to still map.')\n",
    "  print('List of remaining columns:', remaining_cols)\n",
    "  print()\n",
    "  if gDEBUG: print(df_s.dtypes[remaining_cols])\n",
    "  if gDEBUG: print()\n",
    "\n",
    "  return remaining_cols\n",
    "    \n",
    "# display a summary message once the datatype mapping is completed\n",
    "def dtype_update_completed(df, dtype_list, completed_list):\n",
    "  df_dtype_count = df.dtypes.value_counts()\n",
    "  #print(df_dtype_count)\n",
    "  print('Completed update of data type for', len(df.columns), 'columns.')\n",
    "  for i in range(df_dtype_count.shape[0]):\n",
    "      print('-- Corrected or validated data type for', df_dtype_count.iloc[i], list(df_dtype_count.index)[i], 'columns.')\n",
    "  print()\n",
    "  if gDEBUG: print(df.info())\n",
    "  if gDEBUG: print('')"
   ]
  },
  {
   "cell_type": "code",
   "execution_count": 19,
   "id": "5ef0a7b6",
   "metadata": {
    "execution": {
     "iopub.execute_input": "2023-09-07T21:57:58.113443Z",
     "iopub.status.busy": "2023-09-07T21:57:58.112795Z",
     "iopub.status.idle": "2023-09-07T21:57:58.127182Z",
     "shell.execute_reply": "2023-09-07T21:57:58.126175Z"
    },
    "papermill": {
     "duration": 0.035581,
     "end_time": "2023-09-07T21:57:58.129429",
     "exception": false,
     "start_time": "2023-09-07T21:57:58.093848",
     "status": "completed"
    },
    "tags": []
   },
   "outputs": [
    {
     "name": "stdout",
     "output_type": "stream",
     "text": [
      "## Updating the datatypes in dataframe = df_train ##\n",
      "[-] field = ArticleId change to datatype = object\n",
      "[-] field = Text change to datatype = object\n",
      "\n",
      "## Updating the datatypes in dataframe = df_train ##\n",
      "[-] field = Category change to datatype = category\n",
      "\n",
      "## Updating the datatypes in dataframe = df_test ##\n",
      "[-] field = ArticleId change to datatype = object\n",
      "[-] field = Text change to datatype = object\n",
      "\n",
      "## Updating the datatypes in dataframe = df_test ##\n",
      "[!] field = Category is not in the DataFrame.\n",
      "\n",
      "## Updating the datatypes in dataframe = df_sample_solution ##\n",
      "[-] field = ArticleId change to datatype = object\n",
      "[!] field = Text is not in the DataFrame.\n",
      "\n",
      "## Updating the datatypes in dataframe = df_sample_solution ##\n",
      "[-] field = Category change to datatype = category\n",
      "\n",
      "There are 2 columns to still map.\n",
      "List of remaining columns: ['Word Count', 'Text Length']\n",
      "\n",
      "There are 2 columns to still map.\n",
      "List of remaining columns: ['Word Count', 'Text Length']\n",
      "\n",
      "There are 0 columns to still map.\n",
      "List of remaining columns: []\n",
      "\n",
      "Completed update of data type for 5 columns.\n",
      "-- Corrected or validated data type for 2 object columns.\n",
      "-- Corrected or validated data type for 2 int64 columns.\n",
      "-- Corrected or validated data type for 1 category columns.\n",
      "\n",
      "Completed update of data type for 4 columns.\n",
      "-- Corrected or validated data type for 2 object columns.\n",
      "-- Corrected or validated data type for 2 int64 columns.\n",
      "\n",
      "Completed update of data type for 2 columns.\n",
      "-- Corrected or validated data type for 1 object columns.\n",
      "-- Corrected or validated data type for 1 category columns.\n",
      "\n"
     ]
    }
   ],
   "source": [
    "# Convert String, Categoriy fields\n",
    "str_cols = ['ArticleId', 'Text']\n",
    "cat_cols = ['Category']\n",
    "# df_train\n",
    "df_train = convert_dtype_basic(df = df_train, data_type = 'object', col_list = str_cols)\n",
    "df_train = convert_dtype_basic(df = df_train, data_type = 'category', col_list = cat_cols)\n",
    "# df_test\n",
    "df_test = convert_dtype_basic(df = df_test, data_type = 'object', col_list = str_cols)\n",
    "df_test = convert_dtype_basic(df = df_test, data_type = 'category', col_list = cat_cols)\n",
    "# df_sample_solution\n",
    "df_sample_solution = convert_dtype_basic(df = df_sample_solution, data_type = 'object', col_list = str_cols)\n",
    "df_sample_solution = convert_dtype_basic(df = df_sample_solution, data_type = 'category', col_list = cat_cols)\n",
    "\n",
    "# check the progress of datatype mapping\n",
    "completed_list = [str_cols, cat_cols]\n",
    "# there should be no fields left to map\n",
    "fields_to_review = dtype_review_update(df = df_train, completed_list = completed_list)\n",
    "fields_to_review = dtype_review_update(df = df_test, completed_list = completed_list)\n",
    "fields_to_review = dtype_review_update(df = df_sample_solution, completed_list = completed_list)\n",
    "\n",
    "# display a the datatype mapping complete message and summary\n",
    "dtype_list = ['string', 'category']\n",
    "dtype_update_completed(df = df_train, dtype_list = dtype_list, completed_list = completed_list)\n",
    "dtype_update_completed(df = df_test, dtype_list = dtype_list, completed_list = completed_list)\n",
    "dtype_update_completed(df = df_sample_solution, dtype_list = dtype_list, completed_list = completed_list)"
   ]
  },
  {
   "cell_type": "markdown",
   "id": "f5cf80fb",
   "metadata": {
    "papermill": {
     "duration": 0.018638,
     "end_time": "2023-09-07T21:57:58.166621",
     "exception": false,
     "start_time": "2023-09-07T21:57:58.147983",
     "status": "completed"
    },
    "tags": []
   },
   "source": [
    "## Check for Null Values"
   ]
  },
  {
   "cell_type": "code",
   "execution_count": 20,
   "id": "ada8bea9",
   "metadata": {
    "execution": {
     "iopub.execute_input": "2023-09-07T21:57:58.205552Z",
     "iopub.status.busy": "2023-09-07T21:57:58.204506Z",
     "iopub.status.idle": "2023-09-07T21:57:58.210947Z",
     "shell.execute_reply": "2023-09-07T21:57:58.209722Z"
    },
    "papermill": {
     "duration": 0.028218,
     "end_time": "2023-09-07T21:57:58.212977",
     "exception": false,
     "start_time": "2023-09-07T21:57:58.184759",
     "status": "completed"
    },
    "tags": []
   },
   "outputs": [],
   "source": [
    "# Inspect observations (rows) with null values\n",
    "def count_all_rows_with_null(df):\n",
    "  df_null = df.isnull()\n",
    "  df_null['null_count'] = df_null.sum(axis=1)\n",
    "  df_null['null_flag'] = df_null['null_count'].apply(lambda x: 1 if x > 0 else 0)\n",
    "\n",
    "  df_null = df_null[df_null['null_count'] > 0]\n",
    "  print(df.name, 'count of observations with nulls:',df_null['null_flag'].sum())"
   ]
  },
  {
   "cell_type": "code",
   "execution_count": 21,
   "id": "1c94f7cc",
   "metadata": {
    "execution": {
     "iopub.execute_input": "2023-09-07T21:57:58.250951Z",
     "iopub.status.busy": "2023-09-07T21:57:58.250587Z",
     "iopub.status.idle": "2023-09-07T21:57:58.265956Z",
     "shell.execute_reply": "2023-09-07T21:57:58.264938Z"
    },
    "papermill": {
     "duration": 0.03642,
     "end_time": "2023-09-07T21:57:58.267759",
     "exception": false,
     "start_time": "2023-09-07T21:57:58.231339",
     "status": "completed"
    },
    "tags": []
   },
   "outputs": [
    {
     "name": "stdout",
     "output_type": "stream",
     "text": [
      "df_train count of observations with nulls: 0\n",
      "df_test count of observations with nulls: 0\n",
      "df_sample_solution count of observations with nulls: 0\n"
     ]
    }
   ],
   "source": [
    "# Count all null records\n",
    "count_all_rows_with_null(df = df_train)\n",
    "count_all_rows_with_null(df = df_test)\n",
    "count_all_rows_with_null(df = df_sample_solution)"
   ]
  },
  {
   "cell_type": "markdown",
   "id": "bc872593",
   "metadata": {
    "papermill": {
     "duration": 0.017996,
     "end_time": "2023-09-07T21:57:58.303865",
     "exception": false,
     "start_time": "2023-09-07T21:57:58.285869",
     "status": "completed"
    },
    "tags": []
   },
   "source": [
    "## Clean Text for Modeling"
   ]
  },
  {
   "cell_type": "code",
   "execution_count": 22,
   "id": "a3050abe",
   "metadata": {
    "execution": {
     "iopub.execute_input": "2023-09-07T21:57:58.341111Z",
     "iopub.status.busy": "2023-09-07T21:57:58.340747Z",
     "iopub.status.idle": "2023-09-07T21:57:58.346764Z",
     "shell.execute_reply": "2023-09-07T21:57:58.345948Z"
    },
    "papermill": {
     "duration": 0.02695,
     "end_time": "2023-09-07T21:57:58.348529",
     "exception": false,
     "start_time": "2023-09-07T21:57:58.321579",
     "status": "completed"
    },
    "tags": []
   },
   "outputs": [],
   "source": [
    "# Create a funtion to clean a dataframe with text\n",
    "def clean_text(df, text_col):\n",
    "    \n",
    "    # removes punctuation\n",
    "    df['no_punct'] = df[text_col].apply(\n",
    "        lambda row: re.sub(r'[^\\w\\s]+', '', row))\n",
    "    \n",
    "    # removes numbers\n",
    "    df['no_punct_num'] = df['no_punct'].apply(\n",
    "        lambda row: re.sub(r'[0-9]+', '', row))\n",
    "    \n",
    "    # removes stop words, e.g. a, an, and, but, in, on, the...\n",
    "    stop_words = stopwords.words('english')\n",
    "    df['no_stopwords'] = df['no_punct_num'].apply(\n",
    "        lambda x: ' '.join([word for word in x.split() if word not in (stop_words)]))\n",
    "    \n",
    "    # removes extra spaces\n",
    "    df['Clean Text'] = df['no_stopwords'].apply(\n",
    "        lambda x: re.sub(' +', ' ', x))\n",
    "    \n",
    "    return"
   ]
  },
  {
   "cell_type": "code",
   "execution_count": 23,
   "id": "1699d5d5",
   "metadata": {
    "execution": {
     "iopub.execute_input": "2023-09-07T21:57:58.387671Z",
     "iopub.status.busy": "2023-09-07T21:57:58.387322Z",
     "iopub.status.idle": "2023-09-07T21:58:00.112745Z",
     "shell.execute_reply": "2023-09-07T21:58:00.111552Z"
    },
    "papermill": {
     "duration": 1.747402,
     "end_time": "2023-09-07T21:58:00.115034",
     "exception": false,
     "start_time": "2023-09-07T21:57:58.367632",
     "status": "completed"
    },
    "tags": []
   },
   "outputs": [
    {
     "data": {
      "text/html": [
       "<div>\n",
       "<style scoped>\n",
       "    .dataframe tbody tr th:only-of-type {\n",
       "        vertical-align: middle;\n",
       "    }\n",
       "\n",
       "    .dataframe tbody tr th {\n",
       "        vertical-align: top;\n",
       "    }\n",
       "\n",
       "    .dataframe thead th {\n",
       "        text-align: right;\n",
       "    }\n",
       "</style>\n",
       "<table border=\"1\" class=\"dataframe\">\n",
       "  <thead>\n",
       "    <tr style=\"text-align: right;\">\n",
       "      <th></th>\n",
       "      <th>ArticleId</th>\n",
       "      <th>Text</th>\n",
       "      <th>Category</th>\n",
       "      <th>Text Length</th>\n",
       "      <th>Word Count</th>\n",
       "      <th>no_punct</th>\n",
       "      <th>no_punct_num</th>\n",
       "      <th>no_stopwords</th>\n",
       "      <th>Clean Text</th>\n",
       "    </tr>\n",
       "  </thead>\n",
       "  <tbody>\n",
       "    <tr>\n",
       "      <th>0</th>\n",
       "      <td>1833</td>\n",
       "      <td>worldcom ex-boss launches defence lawyers defe...</td>\n",
       "      <td>business</td>\n",
       "      <td>1866</td>\n",
       "      <td>316</td>\n",
       "      <td>worldcom exboss launches defence lawyers defen...</td>\n",
       "      <td>worldcom exboss launches defence lawyers defen...</td>\n",
       "      <td>worldcom exboss launches defence lawyers defen...</td>\n",
       "      <td>worldcom exboss launches defence lawyers defen...</td>\n",
       "    </tr>\n",
       "    <tr>\n",
       "      <th>1</th>\n",
       "      <td>154</td>\n",
       "      <td>german business confidence slides german busin...</td>\n",
       "      <td>business</td>\n",
       "      <td>2016</td>\n",
       "      <td>342</td>\n",
       "      <td>german business confidence slides german busin...</td>\n",
       "      <td>german business confidence slides german busin...</td>\n",
       "      <td>german business confidence slides german busin...</td>\n",
       "      <td>german business confidence slides german busin...</td>\n",
       "    </tr>\n",
       "    <tr>\n",
       "      <th>2</th>\n",
       "      <td>1101</td>\n",
       "      <td>bbc poll indicates economic gloom citizens in ...</td>\n",
       "      <td>business</td>\n",
       "      <td>3104</td>\n",
       "      <td>544</td>\n",
       "      <td>bbc poll indicates economic gloom citizens in ...</td>\n",
       "      <td>bbc poll indicates economic gloom citizens in ...</td>\n",
       "      <td>bbc poll indicates economic gloom citizens maj...</td>\n",
       "      <td>bbc poll indicates economic gloom citizens maj...</td>\n",
       "    </tr>\n",
       "    <tr>\n",
       "      <th>3</th>\n",
       "      <td>1976</td>\n",
       "      <td>lifestyle  governs mobile choice  faster  bett...</td>\n",
       "      <td>tech</td>\n",
       "      <td>3618</td>\n",
       "      <td>670</td>\n",
       "      <td>lifestyle  governs mobile choice  faster  bett...</td>\n",
       "      <td>lifestyle  governs mobile choice  faster  bett...</td>\n",
       "      <td>lifestyle governs mobile choice faster better ...</td>\n",
       "      <td>lifestyle governs mobile choice faster better ...</td>\n",
       "    </tr>\n",
       "    <tr>\n",
       "      <th>4</th>\n",
       "      <td>917</td>\n",
       "      <td>enron bosses in $168m payout eighteen former e...</td>\n",
       "      <td>business</td>\n",
       "      <td>2190</td>\n",
       "      <td>382</td>\n",
       "      <td>enron bosses in 168m payout eighteen former en...</td>\n",
       "      <td>enron bosses in m payout eighteen former enron...</td>\n",
       "      <td>enron bosses payout eighteen former enron dire...</td>\n",
       "      <td>enron bosses payout eighteen former enron dire...</td>\n",
       "    </tr>\n",
       "  </tbody>\n",
       "</table>\n",
       "</div>"
      ],
      "text/plain": [
       "  ArticleId                                               Text  Category  \\\n",
       "0      1833  worldcom ex-boss launches defence lawyers defe...  business   \n",
       "1       154  german business confidence slides german busin...  business   \n",
       "2      1101  bbc poll indicates economic gloom citizens in ...  business   \n",
       "3      1976  lifestyle  governs mobile choice  faster  bett...      tech   \n",
       "4       917  enron bosses in $168m payout eighteen former e...  business   \n",
       "\n",
       "   Text Length  Word Count                                           no_punct  \\\n",
       "0         1866         316  worldcom exboss launches defence lawyers defen...   \n",
       "1         2016         342  german business confidence slides german busin...   \n",
       "2         3104         544  bbc poll indicates economic gloom citizens in ...   \n",
       "3         3618         670  lifestyle  governs mobile choice  faster  bett...   \n",
       "4         2190         382  enron bosses in 168m payout eighteen former en...   \n",
       "\n",
       "                                        no_punct_num  \\\n",
       "0  worldcom exboss launches defence lawyers defen...   \n",
       "1  german business confidence slides german busin...   \n",
       "2  bbc poll indicates economic gloom citizens in ...   \n",
       "3  lifestyle  governs mobile choice  faster  bett...   \n",
       "4  enron bosses in m payout eighteen former enron...   \n",
       "\n",
       "                                        no_stopwords  \\\n",
       "0  worldcom exboss launches defence lawyers defen...   \n",
       "1  german business confidence slides german busin...   \n",
       "2  bbc poll indicates economic gloom citizens maj...   \n",
       "3  lifestyle governs mobile choice faster better ...   \n",
       "4  enron bosses payout eighteen former enron dire...   \n",
       "\n",
       "                                          Clean Text  \n",
       "0  worldcom exboss launches defence lawyers defen...  \n",
       "1  german business confidence slides german busin...  \n",
       "2  bbc poll indicates economic gloom citizens maj...  \n",
       "3  lifestyle governs mobile choice faster better ...  \n",
       "4  enron bosses payout eighteen former enron dire...  "
      ]
     },
     "execution_count": 23,
     "metadata": {},
     "output_type": "execute_result"
    }
   ],
   "source": [
    "# add a length column to the dataframe\n",
    "df_train['Text Length'] = df_train['Text'].apply(len)\n",
    "df_test['Text Length'] = df_test['Text'].apply(len)\n",
    "\n",
    "# Using 'clean_text' function to clean 'Text' column\n",
    "clean_text(df = df_train, text_col = 'Text')\n",
    "clean_text(df = df_test, text_col = 'Text')\n",
    "df_train.head()"
   ]
  },
  {
   "cell_type": "code",
   "execution_count": 24,
   "id": "9cc370c8",
   "metadata": {
    "execution": {
     "iopub.execute_input": "2023-09-07T21:58:00.154361Z",
     "iopub.status.busy": "2023-09-07T21:58:00.153714Z",
     "iopub.status.idle": "2023-09-07T21:58:00.161245Z",
     "shell.execute_reply": "2023-09-07T21:58:00.159532Z"
    },
    "papermill": {
     "duration": 0.029858,
     "end_time": "2023-09-07T21:58:00.163636",
     "exception": false,
     "start_time": "2023-09-07T21:58:00.133778",
     "status": "completed"
    },
    "tags": []
   },
   "outputs": [
    {
     "name": "stdout",
     "output_type": "stream",
     "text": [
      "worldcom ex-boss launches defence lawyers defending former worldcom chief bernie ebbers against a battery of fraud charges have called a company whistleblower as their first witness.  cynthia cooper  worldcom s ex-head of internal accounting  alerted directors to irregular accounting practices at the us telecoms giant in 2002. her warnings led to the collapse of the firm following the discovery of an $11bn (£5.7bn) accounting fraud. mr ebbers has pleaded not guilty to charges of fraud and conspiracy.  prosecution lawyers have argued that mr ebbers orchestrated a series of accounting tricks at worldcom  ordering employees to hide expenses and inflate revenues to meet wall street earnings estimates. but ms cooper  who now runs her own consulting business  told a jury in new york on wednesday that external auditors arthur andersen had approved worldcom s accounting in early 2001 and 2002. she said andersen had given a  green light  to the procedures and practices used by worldcom. mr ebber s lawyers have said he was unaware of the fraud  arguing that auditors did not alert him to any problems.  ms cooper also said that during shareholder meetings mr ebbers often passed over technical questions to the company s finance chief  giving only  brief  answers himself. the prosecution s star witness  former worldcom financial chief scott sullivan  has said that mr ebbers ordered accounting adjustments at the firm  telling him to  hit our books . however  ms cooper said mr sullivan had not mentioned  anything uncomfortable  about worldcom s accounting during a 2001 audit committee meeting. mr ebbers could face a jail sentence of 85 years if convicted of all the charges he is facing. worldcom emerged from bankruptcy protection in 2004  and is now known as mci. last week  mci agreed to a buyout by verizon communications in a deal valued at $6.75bn.\n",
      "\n",
      "## change to ##\n",
      "\n",
      "worldcom exboss launches defence lawyers defending former worldcom chief bernie ebbers battery fraud charges called company whistleblower first witness cynthia cooper worldcom exhead internal accounting alerted directors irregular accounting practices us telecoms giant warnings led collapse firm following discovery bn bn accounting fraud mr ebbers pleaded guilty charges fraud conspiracy prosecution lawyers argued mr ebbers orchestrated series accounting tricks worldcom ordering employees hide expenses inflate revenues meet wall street earnings estimates ms cooper runs consulting business told jury new york wednesday external auditors arthur andersen approved worldcom accounting early said andersen given green light procedures practices used worldcom mr ebber lawyers said unaware fraud arguing auditors alert problems ms cooper also said shareholder meetings mr ebbers often passed technical questions company finance chief giving brief answers prosecution star witness former worldcom financial chief scott sullivan said mr ebbers ordered accounting adjustments firm telling hit books however ms cooper said mr sullivan mentioned anything uncomfortable worldcom accounting audit committee meeting mr ebbers could face jail sentence years convicted charges facing worldcom emerged bankruptcy protection known mci last week mci agreed buyout verizon communications deal valued bn\n"
     ]
    }
   ],
   "source": [
    "print(df_train['Text'][0])\n",
    "print('\\n## change to ##\\n')\n",
    "print(df_train['Clean Text'][0])"
   ]
  },
  {
   "cell_type": "code",
   "execution_count": 25,
   "id": "f222e341",
   "metadata": {
    "execution": {
     "iopub.execute_input": "2023-09-07T21:58:00.204503Z",
     "iopub.status.busy": "2023-09-07T21:58:00.204188Z",
     "iopub.status.idle": "2023-09-07T21:58:02.235753Z",
     "shell.execute_reply": "2023-09-07T21:58:02.234858Z"
    },
    "papermill": {
     "duration": 2.054068,
     "end_time": "2023-09-07T21:58:02.237562",
     "exception": false,
     "start_time": "2023-09-07T21:58:00.183494",
     "status": "completed"
    },
    "tags": []
   },
   "outputs": [
    {
     "data": {
      "text/html": [
       "<div>\n",
       "<style scoped>\n",
       "    .dataframe tbody tr th:only-of-type {\n",
       "        vertical-align: middle;\n",
       "    }\n",
       "\n",
       "    .dataframe tbody tr th {\n",
       "        vertical-align: top;\n",
       "    }\n",
       "\n",
       "    .dataframe thead th {\n",
       "        text-align: right;\n",
       "    }\n",
       "</style>\n",
       "<table border=\"1\" class=\"dataframe\">\n",
       "  <thead>\n",
       "    <tr style=\"text-align: right;\">\n",
       "      <th></th>\n",
       "      <th>ArticleId</th>\n",
       "      <th>Text</th>\n",
       "      <th>Category</th>\n",
       "      <th>Text Length</th>\n",
       "      <th>Word Count</th>\n",
       "      <th>Text Length (Old)</th>\n",
       "      <th>Word Count (Old)</th>\n",
       "    </tr>\n",
       "  </thead>\n",
       "  <tbody>\n",
       "    <tr>\n",
       "      <th>0</th>\n",
       "      <td>1833</td>\n",
       "      <td>worldcom exboss launches defence lawyers defen...</td>\n",
       "      <td>business</td>\n",
       "      <td>1388</td>\n",
       "      <td>185</td>\n",
       "      <td>1866</td>\n",
       "      <td>316</td>\n",
       "    </tr>\n",
       "    <tr>\n",
       "      <th>1</th>\n",
       "      <td>154</td>\n",
       "      <td>german business confidence slides german busin...</td>\n",
       "      <td>business</td>\n",
       "      <td>1474</td>\n",
       "      <td>194</td>\n",
       "      <td>2016</td>\n",
       "      <td>342</td>\n",
       "    </tr>\n",
       "    <tr>\n",
       "      <th>2</th>\n",
       "      <td>1101</td>\n",
       "      <td>bbc poll indicates economic gloom citizens maj...</td>\n",
       "      <td>business</td>\n",
       "      <td>2061</td>\n",
       "      <td>267</td>\n",
       "      <td>3104</td>\n",
       "      <td>544</td>\n",
       "    </tr>\n",
       "    <tr>\n",
       "      <th>3</th>\n",
       "      <td>1976</td>\n",
       "      <td>lifestyle governs mobile choice faster better ...</td>\n",
       "      <td>tech</td>\n",
       "      <td>2381</td>\n",
       "      <td>344</td>\n",
       "      <td>3618</td>\n",
       "      <td>670</td>\n",
       "    </tr>\n",
       "    <tr>\n",
       "      <th>4</th>\n",
       "      <td>917</td>\n",
       "      <td>enron bosses payout eighteen former enron dire...</td>\n",
       "      <td>business</td>\n",
       "      <td>1517</td>\n",
       "      <td>198</td>\n",
       "      <td>2190</td>\n",
       "      <td>382</td>\n",
       "    </tr>\n",
       "  </tbody>\n",
       "</table>\n",
       "</div>"
      ],
      "text/plain": [
       "  ArticleId                                               Text  Category  \\\n",
       "0      1833  worldcom exboss launches defence lawyers defen...  business   \n",
       "1       154  german business confidence slides german busin...  business   \n",
       "2      1101  bbc poll indicates economic gloom citizens maj...  business   \n",
       "3      1976  lifestyle governs mobile choice faster better ...      tech   \n",
       "4       917  enron bosses payout eighteen former enron dire...  business   \n",
       "\n",
       "   Text Length  Word Count  Text Length (Old)  Word Count (Old)  \n",
       "0         1388         185               1866               316  \n",
       "1         1474         194               2016               342  \n",
       "2         2061         267               3104               544  \n",
       "3         2381         344               3618               670  \n",
       "4         1517         198               2190               382  "
      ]
     },
     "execution_count": 25,
     "metadata": {},
     "output_type": "execute_result"
    }
   ],
   "source": [
    "# Create a funtion to remove temp columns and track text changes\n",
    "def clean_text_columns(df):\n",
    "    # Update the Old or Prior Values\n",
    "    df['Text Length (Old)'] = df['Text Length']\n",
    "    df['Word Count (Old)'] = df['Word Count']\n",
    "    # Calculate the New Values\n",
    "    df['Text'] = df['Clean Text']\n",
    "    df['Text Length'] = df['Text'].apply(len)\n",
    "    df['Text Tokens Temp'] = df.apply(lambda row: nltk.word_tokenize(row['Text']), axis=1)\n",
    "    df['Word Count'] = df['Text Tokens Temp'].apply(len)\n",
    "    df.drop(columns = ['Text Tokens Temp'], inplace=True)\n",
    "    df.drop(columns = ['no_punct','no_punct_num','no_stopwords', 'Clean Text'], inplace=True)\n",
    "    \n",
    "    return\n",
    "    \n",
    "    \n",
    "clean_text_columns(df = df_train)\n",
    "clean_text_columns(df = df_test)\n",
    "df_train.head()"
   ]
  },
  {
   "cell_type": "markdown",
   "id": "b1c67716",
   "metadata": {
    "papermill": {
     "duration": 0.018255,
     "end_time": "2023-09-07T21:58:02.274731",
     "exception": false,
     "start_time": "2023-09-07T21:58:02.256476",
     "status": "completed"
    },
    "tags": []
   },
   "source": [
    "## Remove Outliers Based on Text Length"
   ]
  },
  {
   "cell_type": "code",
   "execution_count": 26,
   "id": "77f0ad4f",
   "metadata": {
    "execution": {
     "iopub.execute_input": "2023-09-07T21:58:02.314291Z",
     "iopub.status.busy": "2023-09-07T21:58:02.313923Z",
     "iopub.status.idle": "2023-09-07T21:58:02.322649Z",
     "shell.execute_reply": "2023-09-07T21:58:02.321121Z"
    },
    "papermill": {
     "duration": 0.031673,
     "end_time": "2023-09-07T21:58:02.325438",
     "exception": false,
     "start_time": "2023-09-07T21:58:02.293765",
     "status": "completed"
    },
    "tags": []
   },
   "outputs": [],
   "source": [
    "def remove_outliers(df):\n",
    "    # IQR\n",
    "    Q1 = np.percentile(df['Word Count'], 25, method='midpoint')\n",
    "    Q3 = np.percentile(df['Word Count'], 75, method='midpoint')\n",
    "    IQR = Q3 - Q1\n",
    "    print('Q1: ', int(round(Q1,0)))\n",
    "    print('Q3: ', int(round(Q3,0)))\n",
    "    print('IQR:', int(round(IQR,0)))\n",
    "    print()\n",
    "\n",
    "    # Above Upper bound\n",
    "    upper_limit = int(Q3 + (1.5 * IQR))\n",
    "    upper_array = np.where(df['Word Count'] >= upper_limit)[0]\n",
    "    print(\"Upper Bound:\",upper_limit)\n",
    "    print('Upper Bound Outlier Count:', len(upper_array))\n",
    "    print('Upper Bound Outlier List:', upper_array)\n",
    "    print()\n",
    "\n",
    "    #Below Lower bound\n",
    "    lower_limit = int(Q1 - (1.5 * IQR))\n",
    "    lower_array = np.where(df['Word Count'] <= lower_limit)[0]\n",
    "    print('Lower Bound:', lower_limit)\n",
    "    print('Lower Bound Outlier Count:', len(lower_array))\n",
    "    print('Lower Bound Outlier List:', lower_array)\n",
    "    print()\n",
    "\n",
    "    # Remove the outliers\n",
    "    print('Old Shape:', df.shape)\n",
    "    old_rec_count = df.shape[0]\n",
    "    df.drop(index=upper_array, inplace=True)\n",
    "    df.drop(index=lower_array, inplace=True)\n",
    "    new_rec_count = df.shape[0]\n",
    "\n",
    "    print('Dropped', round((((old_rec_count - new_rec_count) / old_rec_count) * 100), 2), '% of the records.')\n",
    "    print('New Shape:', df.shape)\n",
    "    \n",
    "    return df"
   ]
  },
  {
   "cell_type": "code",
   "execution_count": 27,
   "id": "c88aba25",
   "metadata": {
    "execution": {
     "iopub.execute_input": "2023-09-07T21:58:02.366983Z",
     "iopub.status.busy": "2023-09-07T21:58:02.366663Z",
     "iopub.status.idle": "2023-09-07T21:58:02.376304Z",
     "shell.execute_reply": "2023-09-07T21:58:02.374960Z"
    },
    "papermill": {
     "duration": 0.032798,
     "end_time": "2023-09-07T21:58:02.377991",
     "exception": false,
     "start_time": "2023-09-07T21:58:02.345193",
     "status": "completed"
    },
    "tags": []
   },
   "outputs": [
    {
     "name": "stdout",
     "output_type": "stream",
     "text": [
      "Q1:  139\n",
      "Q3:  262\n",
      "IQR: 122\n",
      "\n",
      "Upper Bound: 445\n",
      "Upper Bound Outlier Count: 35\n",
      "Upper Bound Outlier List: [  26   27   63   88   99  106  120  242  264  279  329  364  372  396\n",
      "  431  451  454  476  521  565  826  829  893  898  956  987  997 1057\n",
      " 1122 1167 1258 1371 1417 1439 1464]\n",
      "\n",
      "Lower Bound: -44\n",
      "Lower Bound Outlier Count: 0\n",
      "Lower Bound Outlier List: []\n",
      "\n",
      "Old Shape: (1490, 7)\n",
      "Dropped 2.35 % of the records.\n",
      "New Shape: (1455, 7)\n"
     ]
    }
   ],
   "source": [
    "df_train = remove_outliers(df = df_train)"
   ]
  },
  {
   "cell_type": "markdown",
   "id": "42e2d807",
   "metadata": {
    "papermill": {
     "duration": 0.018125,
     "end_time": "2023-09-07T21:58:02.417551",
     "exception": false,
     "start_time": "2023-09-07T21:58:02.399426",
     "status": "completed"
    },
    "tags": []
   },
   "source": [
    "## Lemmatization of Text\n",
    "\n",
    "Lemmatization, https://en.wikipedia.org/wiki/Lemmatization\n",
    "WordNet, https://en.wikipedia.org/wiki/WordNet\n",
    "Natural Language Toolkit (NLTK), https://www.nltk.org/index.html\n",
    "nltk.stem.wordnet, https://www.nltk.org/_modules/nltk/stem/wordnet.html\n",
    "\n",
    "Per wikipedia, \"Lemmatisation in linguistics is the process of grouping together the inflected forms of a word so they can be analysed as a single item, identified by the word's lemma, or dictionary form.\" [] This will be useful in our vectorization as it will begin to standardize different version of the same word to a common representation of the word, resulting in a reduction of linguistic noise in the text documents.\n",
    "\n",
    "To accomplish this function, the NLTK (Natural Language Toolkit) library will be used. This library \"provides easy-to-use interfaces to over 50 corpora and lexical resources such as WordNet, along with a suite of text processing libraries for classification, tokenization, stemming, tagging, parsing, and semantic reasoning, wrappers for industrial-strength NLP libraries.\" [] Specifically, we will be using the WordNet Lemmatizer to return the specific lemma defined in WordNet. WordNet is \"a lexical database of semantic relations between words that links words into semantic relations\" [] that is commonly used in automatic text analysis and AI applications. It is freely availible for download."
   ]
  },
  {
   "cell_type": "code",
   "execution_count": 28,
   "id": "a2e0ac77",
   "metadata": {
    "execution": {
     "iopub.execute_input": "2023-09-07T21:58:02.455965Z",
     "iopub.status.busy": "2023-09-07T21:58:02.455635Z",
     "iopub.status.idle": "2023-09-07T21:58:02.461989Z",
     "shell.execute_reply": "2023-09-07T21:58:02.461139Z"
    },
    "papermill": {
     "duration": 0.028098,
     "end_time": "2023-09-07T21:58:02.463906",
     "exception": false,
     "start_time": "2023-09-07T21:58:02.435808",
     "status": "completed"
    },
    "tags": []
   },
   "outputs": [],
   "source": [
    "# tokenize text function\n",
    "wordnet_lemmatizer = WordNetLemmatizer()\n",
    "def lemmatizer(text):\n",
    "    ''' \n",
    "    A helper function to lemmatize an entire sentence/string\n",
    "    '''\n",
    "    lem = [wordnet_lemmatizer.lemmatize(word.lower()) for word in text] \n",
    "    return lem\n",
    "\n",
    "def tokenize_lemmatize(dataframe, text_col):\n",
    "    '''\n",
    "    A helper function to tokenize then lemmatize the string.\n",
    "    Also, add column which counts the number of words in that string.\n",
    "    '''\n",
    "    dataframe['Tokenized Text'] = dataframe.apply(lambda row: nltk.word_tokenize(row[text_col]), axis=1)\n",
    "    dataframe['Lemmatized Text'] = dataframe['Tokenized Text'].apply(lambda string: lemmatizer(string))\n",
    "    return"
   ]
  },
  {
   "cell_type": "code",
   "execution_count": 29,
   "id": "b261b31e",
   "metadata": {
    "execution": {
     "iopub.execute_input": "2023-09-07T21:58:02.502798Z",
     "iopub.status.busy": "2023-09-07T21:58:02.502481Z",
     "iopub.status.idle": "2023-09-07T21:58:08.038533Z",
     "shell.execute_reply": "2023-09-07T21:58:08.037739Z"
    },
    "papermill": {
     "duration": 5.558212,
     "end_time": "2023-09-07T21:58:08.040974",
     "exception": false,
     "start_time": "2023-09-07T21:58:02.482762",
     "status": "completed"
    },
    "tags": []
   },
   "outputs": [
    {
     "data": {
      "text/html": [
       "<div>\n",
       "<style scoped>\n",
       "    .dataframe tbody tr th:only-of-type {\n",
       "        vertical-align: middle;\n",
       "    }\n",
       "\n",
       "    .dataframe tbody tr th {\n",
       "        vertical-align: top;\n",
       "    }\n",
       "\n",
       "    .dataframe thead th {\n",
       "        text-align: right;\n",
       "    }\n",
       "</style>\n",
       "<table border=\"1\" class=\"dataframe\">\n",
       "  <thead>\n",
       "    <tr style=\"text-align: right;\">\n",
       "      <th></th>\n",
       "      <th>ArticleId</th>\n",
       "      <th>Text</th>\n",
       "      <th>Category</th>\n",
       "      <th>Text Length</th>\n",
       "      <th>Word Count</th>\n",
       "      <th>Text Length (Old)</th>\n",
       "      <th>Word Count (Old)</th>\n",
       "      <th>Tokenized Text</th>\n",
       "      <th>Lemmatized Text</th>\n",
       "    </tr>\n",
       "  </thead>\n",
       "  <tbody>\n",
       "    <tr>\n",
       "      <th>0</th>\n",
       "      <td>1833</td>\n",
       "      <td>worldcom exboss launches defence lawyers defen...</td>\n",
       "      <td>business</td>\n",
       "      <td>1388</td>\n",
       "      <td>185</td>\n",
       "      <td>1866</td>\n",
       "      <td>316</td>\n",
       "      <td>[worldcom, exboss, launches, defence, lawyers,...</td>\n",
       "      <td>[worldcom, exboss, launch, defence, lawyer, de...</td>\n",
       "    </tr>\n",
       "    <tr>\n",
       "      <th>1</th>\n",
       "      <td>154</td>\n",
       "      <td>german business confidence slides german busin...</td>\n",
       "      <td>business</td>\n",
       "      <td>1474</td>\n",
       "      <td>194</td>\n",
       "      <td>2016</td>\n",
       "      <td>342</td>\n",
       "      <td>[german, business, confidence, slides, german,...</td>\n",
       "      <td>[german, business, confidence, slide, german, ...</td>\n",
       "    </tr>\n",
       "    <tr>\n",
       "      <th>2</th>\n",
       "      <td>1101</td>\n",
       "      <td>bbc poll indicates economic gloom citizens maj...</td>\n",
       "      <td>business</td>\n",
       "      <td>2061</td>\n",
       "      <td>267</td>\n",
       "      <td>3104</td>\n",
       "      <td>544</td>\n",
       "      <td>[bbc, poll, indicates, economic, gloom, citize...</td>\n",
       "      <td>[bbc, poll, indicates, economic, gloom, citize...</td>\n",
       "    </tr>\n",
       "    <tr>\n",
       "      <th>3</th>\n",
       "      <td>1976</td>\n",
       "      <td>lifestyle governs mobile choice faster better ...</td>\n",
       "      <td>tech</td>\n",
       "      <td>2381</td>\n",
       "      <td>344</td>\n",
       "      <td>3618</td>\n",
       "      <td>670</td>\n",
       "      <td>[lifestyle, governs, mobile, choice, faster, b...</td>\n",
       "      <td>[lifestyle, governs, mobile, choice, faster, b...</td>\n",
       "    </tr>\n",
       "    <tr>\n",
       "      <th>4</th>\n",
       "      <td>917</td>\n",
       "      <td>enron bosses payout eighteen former enron dire...</td>\n",
       "      <td>business</td>\n",
       "      <td>1517</td>\n",
       "      <td>198</td>\n",
       "      <td>2190</td>\n",
       "      <td>382</td>\n",
       "      <td>[enron, bosses, payout, eighteen, former, enro...</td>\n",
       "      <td>[enron, boss, payout, eighteen, former, enron,...</td>\n",
       "    </tr>\n",
       "  </tbody>\n",
       "</table>\n",
       "</div>"
      ],
      "text/plain": [
       "  ArticleId                                               Text  Category  \\\n",
       "0      1833  worldcom exboss launches defence lawyers defen...  business   \n",
       "1       154  german business confidence slides german busin...  business   \n",
       "2      1101  bbc poll indicates economic gloom citizens maj...  business   \n",
       "3      1976  lifestyle governs mobile choice faster better ...      tech   \n",
       "4       917  enron bosses payout eighteen former enron dire...  business   \n",
       "\n",
       "   Text Length  Word Count  Text Length (Old)  Word Count (Old)  \\\n",
       "0         1388         185               1866               316   \n",
       "1         1474         194               2016               342   \n",
       "2         2061         267               3104               544   \n",
       "3         2381         344               3618               670   \n",
       "4         1517         198               2190               382   \n",
       "\n",
       "                                      Tokenized Text  \\\n",
       "0  [worldcom, exboss, launches, defence, lawyers,...   \n",
       "1  [german, business, confidence, slides, german,...   \n",
       "2  [bbc, poll, indicates, economic, gloom, citize...   \n",
       "3  [lifestyle, governs, mobile, choice, faster, b...   \n",
       "4  [enron, bosses, payout, eighteen, former, enro...   \n",
       "\n",
       "                                     Lemmatized Text  \n",
       "0  [worldcom, exboss, launch, defence, lawyer, de...  \n",
       "1  [german, business, confidence, slide, german, ...  \n",
       "2  [bbc, poll, indicates, economic, gloom, citize...  \n",
       "3  [lifestyle, governs, mobile, choice, faster, b...  \n",
       "4  [enron, boss, payout, eighteen, former, enron,...  "
      ]
     },
     "execution_count": 29,
     "metadata": {},
     "output_type": "execute_result"
    }
   ],
   "source": [
    "# Using 'clean_text' function to clean 'Text' column\n",
    "tokenize_lemmatize(df_train, 'Text')\n",
    "tokenize_lemmatize(df_test, 'Text')\n",
    "df_train.head()"
   ]
  },
  {
   "cell_type": "code",
   "execution_count": 30,
   "id": "6c571c96",
   "metadata": {
    "execution": {
     "iopub.execute_input": "2023-09-07T21:58:08.081822Z",
     "iopub.status.busy": "2023-09-07T21:58:08.081457Z",
     "iopub.status.idle": "2023-09-07T21:58:08.087527Z",
     "shell.execute_reply": "2023-09-07T21:58:08.086104Z"
    },
    "papermill": {
     "duration": 0.029917,
     "end_time": "2023-09-07T21:58:08.090241",
     "exception": false,
     "start_time": "2023-09-07T21:58:08.060324",
     "status": "completed"
    },
    "tags": []
   },
   "outputs": [
    {
     "name": "stdout",
     "output_type": "stream",
     "text": [
      "worldcom exboss launches defence lawyers defending former worldcom chief bernie ebbers battery fraud charges called company whistleblower first witness cynthia cooper worldcom exhead internal accounting alerted directors irregular accounting practices us telecoms giant warnings led collapse firm following discovery bn bn accounting fraud mr ebbers pleaded guilty charges fraud conspiracy prosecution lawyers argued mr ebbers orchestrated series accounting tricks worldcom ordering employees hide expenses inflate revenues meet wall street earnings estimates ms cooper runs consulting business told jury new york wednesday external auditors arthur andersen approved worldcom accounting early said andersen given green light procedures practices used worldcom mr ebber lawyers said unaware fraud arguing auditors alert problems ms cooper also said shareholder meetings mr ebbers often passed technical questions company finance chief giving brief answers prosecution star witness former worldcom financial chief scott sullivan said mr ebbers ordered accounting adjustments firm telling hit books however ms cooper said mr sullivan mentioned anything uncomfortable worldcom accounting audit committee meeting mr ebbers could face jail sentence years convicted charges facing worldcom emerged bankruptcy protection known mci last week mci agreed buyout verizon communications deal valued bn\n",
      "\n",
      "## change to ##\n",
      "\n",
      "['worldcom', 'exboss', 'launch', 'defence', 'lawyer', 'defending', 'former', 'worldcom', 'chief', 'bernie', 'ebbers', 'battery', 'fraud', 'charge', 'called', 'company', 'whistleblower', 'first', 'witness', 'cynthia', 'cooper', 'worldcom', 'exhead', 'internal', 'accounting', 'alerted', 'director', 'irregular', 'accounting', 'practice', 'u', 'telecom', 'giant', 'warning', 'led', 'collapse', 'firm', 'following', 'discovery', 'bn', 'bn', 'accounting', 'fraud', 'mr', 'ebbers', 'pleaded', 'guilty', 'charge', 'fraud', 'conspiracy', 'prosecution', 'lawyer', 'argued', 'mr', 'ebbers', 'orchestrated', 'series', 'accounting', 'trick', 'worldcom', 'ordering', 'employee', 'hide', 'expense', 'inflate', 'revenue', 'meet', 'wall', 'street', 'earnings', 'estimate', 'm', 'cooper', 'run', 'consulting', 'business', 'told', 'jury', 'new', 'york', 'wednesday', 'external', 'auditor', 'arthur', 'andersen', 'approved', 'worldcom', 'accounting', 'early', 'said', 'andersen', 'given', 'green', 'light', 'procedure', 'practice', 'used', 'worldcom', 'mr', 'ebber', 'lawyer', 'said', 'unaware', 'fraud', 'arguing', 'auditor', 'alert', 'problem', 'm', 'cooper', 'also', 'said', 'shareholder', 'meeting', 'mr', 'ebbers', 'often', 'passed', 'technical', 'question', 'company', 'finance', 'chief', 'giving', 'brief', 'answer', 'prosecution', 'star', 'witness', 'former', 'worldcom', 'financial', 'chief', 'scott', 'sullivan', 'said', 'mr', 'ebbers', 'ordered', 'accounting', 'adjustment', 'firm', 'telling', 'hit', 'book', 'however', 'm', 'cooper', 'said', 'mr', 'sullivan', 'mentioned', 'anything', 'uncomfortable', 'worldcom', 'accounting', 'audit', 'committee', 'meeting', 'mr', 'ebbers', 'could', 'face', 'jail', 'sentence', 'year', 'convicted', 'charge', 'facing', 'worldcom', 'emerged', 'bankruptcy', 'protection', 'known', 'mci', 'last', 'week', 'mci', 'agreed', 'buyout', 'verizon', 'communication', 'deal', 'valued', 'bn']\n"
     ]
    }
   ],
   "source": [
    "print(df_train['Text'][0])\n",
    "print('\\n## change to ##\\n')\n",
    "print(df_train['Lemmatized Text'][0])"
   ]
  },
  {
   "cell_type": "code",
   "execution_count": 31,
   "id": "e9f17f87",
   "metadata": {
    "execution": {
     "iopub.execute_input": "2023-09-07T21:58:08.130821Z",
     "iopub.status.busy": "2023-09-07T21:58:08.130460Z",
     "iopub.status.idle": "2023-09-07T21:58:08.181878Z",
     "shell.execute_reply": "2023-09-07T21:58:08.180950Z"
    },
    "papermill": {
     "duration": 0.073662,
     "end_time": "2023-09-07T21:58:08.183606",
     "exception": false,
     "start_time": "2023-09-07T21:58:08.109944",
     "status": "completed"
    },
    "tags": []
   },
   "outputs": [
    {
     "data": {
      "text/html": [
       "<div>\n",
       "<style scoped>\n",
       "    .dataframe tbody tr th:only-of-type {\n",
       "        vertical-align: middle;\n",
       "    }\n",
       "\n",
       "    .dataframe tbody tr th {\n",
       "        vertical-align: top;\n",
       "    }\n",
       "\n",
       "    .dataframe thead th {\n",
       "        text-align: right;\n",
       "    }\n",
       "</style>\n",
       "<table border=\"1\" class=\"dataframe\">\n",
       "  <thead>\n",
       "    <tr style=\"text-align: right;\">\n",
       "      <th></th>\n",
       "      <th>ArticleId</th>\n",
       "      <th>Text</th>\n",
       "      <th>Category</th>\n",
       "      <th>Text Length</th>\n",
       "      <th>Word Count</th>\n",
       "      <th>Text Length (Old)</th>\n",
       "      <th>Word Count (Old)</th>\n",
       "      <th>Lemmatized Text</th>\n",
       "    </tr>\n",
       "  </thead>\n",
       "  <tbody>\n",
       "    <tr>\n",
       "      <th>0</th>\n",
       "      <td>1833</td>\n",
       "      <td>worldcom exboss launch defence lawyer defendin...</td>\n",
       "      <td>business</td>\n",
       "      <td>1354</td>\n",
       "      <td>185</td>\n",
       "      <td>1388</td>\n",
       "      <td>185</td>\n",
       "      <td>[worldcom, exboss, launch, defence, lawyer, de...</td>\n",
       "    </tr>\n",
       "    <tr>\n",
       "      <th>1</th>\n",
       "      <td>154</td>\n",
       "      <td>german business confidence slide german busine...</td>\n",
       "      <td>business</td>\n",
       "      <td>1448</td>\n",
       "      <td>194</td>\n",
       "      <td>1474</td>\n",
       "      <td>194</td>\n",
       "      <td>[german, business, confidence, slide, german, ...</td>\n",
       "    </tr>\n",
       "    <tr>\n",
       "      <th>2</th>\n",
       "      <td>1101</td>\n",
       "      <td>bbc poll indicates economic gloom citizen majo...</td>\n",
       "      <td>business</td>\n",
       "      <td>2006</td>\n",
       "      <td>267</td>\n",
       "      <td>2061</td>\n",
       "      <td>267</td>\n",
       "      <td>[bbc, poll, indicates, economic, gloom, citize...</td>\n",
       "    </tr>\n",
       "    <tr>\n",
       "      <th>3</th>\n",
       "      <td>1976</td>\n",
       "      <td>lifestyle governs mobile choice faster better ...</td>\n",
       "      <td>tech</td>\n",
       "      <td>2311</td>\n",
       "      <td>344</td>\n",
       "      <td>2381</td>\n",
       "      <td>344</td>\n",
       "      <td>[lifestyle, governs, mobile, choice, faster, b...</td>\n",
       "    </tr>\n",
       "    <tr>\n",
       "      <th>4</th>\n",
       "      <td>917</td>\n",
       "      <td>enron boss payout eighteen former enron direct...</td>\n",
       "      <td>business</td>\n",
       "      <td>1488</td>\n",
       "      <td>198</td>\n",
       "      <td>1517</td>\n",
       "      <td>198</td>\n",
       "      <td>[enron, boss, payout, eighteen, former, enron,...</td>\n",
       "    </tr>\n",
       "  </tbody>\n",
       "</table>\n",
       "</div>"
      ],
      "text/plain": [
       "  ArticleId                                               Text  Category  \\\n",
       "0      1833  worldcom exboss launch defence lawyer defendin...  business   \n",
       "1       154  german business confidence slide german busine...  business   \n",
       "2      1101  bbc poll indicates economic gloom citizen majo...  business   \n",
       "3      1976  lifestyle governs mobile choice faster better ...      tech   \n",
       "4       917  enron boss payout eighteen former enron direct...  business   \n",
       "\n",
       "   Text Length  Word Count  Text Length (Old)  Word Count (Old)  \\\n",
       "0         1354         185               1388               185   \n",
       "1         1448         194               1474               194   \n",
       "2         2006         267               2061               267   \n",
       "3         2311         344               2381               344   \n",
       "4         1488         198               1517               198   \n",
       "\n",
       "                                     Lemmatized Text  \n",
       "0  [worldcom, exboss, launch, defence, lawyer, de...  \n",
       "1  [german, business, confidence, slide, german, ...  \n",
       "2  [bbc, poll, indicates, economic, gloom, citize...  \n",
       "3  [lifestyle, governs, mobile, choice, faster, b...  \n",
       "4  [enron, boss, payout, eighteen, former, enron,...  "
      ]
     },
     "execution_count": 31,
     "metadata": {},
     "output_type": "execute_result"
    }
   ],
   "source": [
    "# Create a funtion to remove temp columns and track text changes\n",
    "def clean_tokenize_lemmatize_columns(df):\n",
    "    # Update the Old or Prior Values\n",
    "    df['Text Length (Old)'] = df['Text Length']\n",
    "    df['Word Count (Old)'] = df['Word Count']\n",
    "    # Calculate the New Values\n",
    "    df['Text'] = df.apply(lambda row: ' '.join(row['Lemmatized Text']), axis=1)\n",
    "    df['Text Length'] = df['Text'].apply(len)\n",
    "    df['Word Count'] = df['Lemmatized Text'].apply(len)\n",
    "    # remove any staging fields\n",
    "    df.drop(columns = ['Tokenized Text'], inplace=True)\n",
    "\n",
    "    return df\n",
    "\n",
    "\n",
    "df_train = clean_tokenize_lemmatize_columns(df = df_train)\n",
    "df_test = clean_tokenize_lemmatize_columns(df = df_test)\n",
    "df_train.head()"
   ]
  },
  {
   "cell_type": "markdown",
   "id": "186cb652",
   "metadata": {
    "papermill": {
     "duration": 0.018481,
     "end_time": "2023-09-07T21:58:08.222463",
     "exception": false,
     "start_time": "2023-09-07T21:58:08.203982",
     "status": "completed"
    },
    "tags": []
   },
   "source": [
    "# 5.&nbsp;Feature Engineering"
   ]
  },
  {
   "cell_type": "markdown",
   "id": "289671a3",
   "metadata": {
    "papermill": {
     "duration": 0.018551,
     "end_time": "2023-09-07T21:58:08.259777",
     "exception": false,
     "start_time": "2023-09-07T21:58:08.241226",
     "status": "completed"
    },
    "tags": []
   },
   "source": [
    "In this section the text fields will be transformed into matrix form. This will be completed using TfidfVectorizer in the sci-kit learn library. The TfidfVectorizer is equivalent to CountVectorizer followed by TfidfTransformer. In the first step where CountVectorizer is executed, the process the collection of text documents are converted to a sparse matrix of token counts. The result is the creation of feature equivelent to the voaculary size found by analyzing the collection of text documents []. In the second step where TfidfTransformer is executed, the full count matrix is transformed to a normalized tf or tf-idf representation. \"Tf means term-frequency while tf-idf means term-frequency times inverse document-frequency.\" [] The goal of this step is to scale down the impact of tokens that occur with a high frequency in the collection of text documents, focus on more rare tokens with a higher level of information.\n",
    "\n",
    "sklearn.feature_extraction.text.TfidfVectorizer, https://scikit-learn.org/stable/modules/generated/sklearn.feature_extraction.text.TfidfVectorizer.html\n",
    "sklearn.feature_extraction.text.CountVectorizer, https://scikit-learn.org/stable/modules/generated/sklearn.feature_extraction.text.CountVectorizer.html\n",
    "sklearn.feature_extraction.text.TfidfTransformer, https://scikit-learn.org/stable/modules/generated/sklearn.feature_extraction.text.TfidfTransformer.html#"
   ]
  },
  {
   "cell_type": "code",
   "execution_count": 32,
   "id": "6ab9c816",
   "metadata": {
    "execution": {
     "iopub.execute_input": "2023-09-07T21:58:08.299862Z",
     "iopub.status.busy": "2023-09-07T21:58:08.299522Z",
     "iopub.status.idle": "2023-09-07T21:58:09.254978Z",
     "shell.execute_reply": "2023-09-07T21:58:09.253443Z"
    },
    "papermill": {
     "duration": 0.978438,
     "end_time": "2023-09-07T21:58:09.257572",
     "exception": false,
     "start_time": "2023-09-07T21:58:08.279134",
     "status": "completed"
    },
    "tags": []
   },
   "outputs": [
    {
     "name": "stdout",
     "output_type": "stream",
     "text": [
      "df_train : (1455, 8527)\n",
      "df_test : (735, 8527)\n"
     ]
    }
   ],
   "source": [
    "# configure the term-frequency times inverse document-frequency model\n",
    "tfidf = TfidfVectorizer(sublinear_tf = True,\n",
    "                        stop_words = 'english',\n",
    "                        ngram_range = (1, 2),\n",
    "                        min_df = 5,\n",
    "                        norm = 'l2',\n",
    "                        encoding = 'latin-1',\n",
    "                        lowercase = True)\n",
    "\n",
    "# fit and transform the training dataset\n",
    "ft_train = tfidf.fit_transform(df_train['Text']).toarray()\n",
    "print(df_train.name, ':', ft_train.shape)\n",
    "\n",
    "# fit and transform the testing dataset\n",
    "ft_test = tfidf.transform(df_test['Text']).toarray()\n",
    "print(df_test.name, ':', ft_test.shape)"
   ]
  },
  {
   "cell_type": "code",
   "execution_count": 33,
   "id": "79223c50",
   "metadata": {
    "execution": {
     "iopub.execute_input": "2023-09-07T21:58:09.298412Z",
     "iopub.status.busy": "2023-09-07T21:58:09.298068Z",
     "iopub.status.idle": "2023-09-07T21:58:09.303325Z",
     "shell.execute_reply": "2023-09-07T21:58:09.301872Z"
    },
    "papermill": {
     "duration": 0.028701,
     "end_time": "2023-09-07T21:58:09.305915",
     "exception": false,
     "start_time": "2023-09-07T21:58:09.277214",
     "status": "completed"
    },
    "tags": []
   },
   "outputs": [],
   "source": [
    "#from sklearn.manifold import TSNE\n",
    "\n"
   ]
  },
  {
   "cell_type": "markdown",
   "id": "b3498ec6",
   "metadata": {
    "papermill": {
     "duration": 0.019536,
     "end_time": "2023-09-07T21:58:09.345418",
     "exception": false,
     "start_time": "2023-09-07T21:58:09.325882",
     "status": "completed"
    },
    "tags": []
   },
   "source": [
    "# 6.&nbsp;Model: Unsupervised: None-Negative Matrix Factorization (NMF)"
   ]
  },
  {
   "cell_type": "markdown",
   "id": "283bb46c",
   "metadata": {
    "papermill": {
     "duration": 0.019747,
     "end_time": "2023-09-07T21:58:09.384905",
     "exception": false,
     "start_time": "2023-09-07T21:58:09.365158",
     "status": "completed"
    },
    "tags": []
   },
   "source": [
    "Non-Negative Matrix Factorization (NMF).\n",
    "\n",
    "Find two non-negative matrices, i.e. matrices with all non-negative elements, (W, H) whose product approximates the non-negative matrix X. This factorization can be used for example for dimensionality reduction, source separation or topic extraction.\n",
    "\n",
    "\n",
    "sklearn.decomposition.NMF, https://scikit-learn.org/stable/modules/generated/sklearn.decomposition.NMF.html"
   ]
  },
  {
   "cell_type": "code",
   "execution_count": 34,
   "id": "6d6ca719",
   "metadata": {
    "execution": {
     "iopub.execute_input": "2023-09-07T21:58:09.428670Z",
     "iopub.status.busy": "2023-09-07T21:58:09.428328Z",
     "iopub.status.idle": "2023-09-07T21:58:09.434131Z",
     "shell.execute_reply": "2023-09-07T21:58:09.432868Z"
    },
    "papermill": {
     "duration": 0.031401,
     "end_time": "2023-09-07T21:58:09.436408",
     "exception": false,
     "start_time": "2023-09-07T21:58:09.405007",
     "status": "completed"
    },
    "tags": []
   },
   "outputs": [],
   "source": [
    "def predict(w_matrix):\n",
    "    sortedW = np.argsort(w_matrix)\n",
    "    n_predictions, maxValue = sortedW.shape\n",
    "    predictions = [[sortedW[i][maxValue - 1]] for i in range(n_predictions)]\n",
    "    topics = np.empty(n_predictions, dtype = np.int64)\n",
    "    for i in range(n_predictions):\n",
    "        topics[i] = predictions[i][0]\n",
    "    return topics"
   ]
  },
  {
   "cell_type": "code",
   "execution_count": 35,
   "id": "d543e160",
   "metadata": {
    "execution": {
     "iopub.execute_input": "2023-09-07T21:58:09.477472Z",
     "iopub.status.busy": "2023-09-07T21:58:09.477137Z",
     "iopub.status.idle": "2023-09-07T21:58:09.484427Z",
     "shell.execute_reply": "2023-09-07T21:58:09.482767Z"
    },
    "papermill": {
     "duration": 0.03057,
     "end_time": "2023-09-07T21:58:09.486754",
     "exception": false,
     "start_time": "2023-09-07T21:58:09.456184",
     "status": "completed"
    },
    "tags": []
   },
   "outputs": [],
   "source": [
    "#Function to build a map of true labels to predicted labels\n",
    "def build_label_map(true_label, pred_label, LOD = 0):\n",
    "    true_label = true_label\n",
    "    pred_label = pred_label\n",
    "    n = len(true_label)\n",
    "    label_map = dict(zip(true_label, pred_label))\n",
    "    if(LOD >= 1):\n",
    "        print('label_map :', label_map)\n",
    "        print('        n :', n, '\\n')\n",
    "    return label_map\n",
    "\n",
    "#Function to map labels for the label dataframe using the mapping function\n",
    "def map_label_to_data(label, label_map, LOD = 0):\n",
    "    df_mapped = label\n",
    "    df_mapped['mapped_label'] = df_mapped['Category']\n",
    "    df_mapped = df_mapped.replace({'mapped_label': label_map})\n",
    "    if(LOD >= 1):\n",
    "        print(df_mapped)\n",
    "    return df_mapped"
   ]
  },
  {
   "cell_type": "code",
   "execution_count": 36,
   "id": "dcf5bd30",
   "metadata": {
    "execution": {
     "iopub.execute_input": "2023-09-07T21:58:09.528807Z",
     "iopub.status.busy": "2023-09-07T21:58:09.528444Z",
     "iopub.status.idle": "2023-09-07T21:58:09.535657Z",
     "shell.execute_reply": "2023-09-07T21:58:09.534481Z"
    },
    "papermill": {
     "duration": 0.030804,
     "end_time": "2023-09-07T21:58:09.537939",
     "exception": false,
     "start_time": "2023-09-07T21:58:09.507135",
     "status": "completed"
    },
    "tags": []
   },
   "outputs": [
    {
     "name": "stdout",
     "output_type": "stream",
     "text": [
      "The true label mapping for the feature data: \n",
      "\n",
      "label_map : {'business': 0, 'entertainment': 1, 'politics': 2, 'sport': 3, 'tech': 4}\n",
      "        n : 5 \n",
      "\n"
     ]
    }
   ],
   "source": [
    "true_label_txt = ['business', 'entertainment', 'politics', 'sport', 'tech']\n",
    "\n",
    "def true_label_mapping(true_label, LOD = 0):\n",
    "    true_label_num = range(len(true_label_txt))\n",
    "    if(LOD >= 1):\n",
    "        print('The true label mapping for the feature data:', '\\n')\n",
    "    true_label_map = build_label_map(true_label = true_label_txt, pred_label = true_label_num, LOD = LOD)\n",
    "    return true_label_map\n",
    "\n",
    "true_label_map = true_label_mapping(true_label_txt, LOD = 1)"
   ]
  },
  {
   "cell_type": "code",
   "execution_count": 37,
   "id": "953cb428",
   "metadata": {
    "execution": {
     "iopub.execute_input": "2023-09-07T21:58:09.579715Z",
     "iopub.status.busy": "2023-09-07T21:58:09.579353Z",
     "iopub.status.idle": "2023-09-07T21:58:09.593941Z",
     "shell.execute_reply": "2023-09-07T21:58:09.593218Z"
    },
    "papermill": {
     "duration": 0.037503,
     "end_time": "2023-09-07T21:58:09.595899",
     "exception": false,
     "start_time": "2023-09-07T21:58:09.558396",
     "status": "completed"
    },
    "tags": []
   },
   "outputs": [],
   "source": [
    "def label_permute_compare(ytdf, yp, n=5, LOD  = 0):\n",
    "    \"\"\"\n",
    "    ytdf: labels dataframe object\n",
    "    yp: clustering label prediction output\n",
    "    Returns permuted label order and accuracy. \n",
    "    Example output: (3, 4, 1, 2, 0), 0.74 \n",
    "    \"\"\"\n",
    "    # your code here\n",
    "    if(LOD >= 1):\n",
    "        print()\n",
    "        print('--------------------------------')\n",
    "    # Create a df with the matched label and predicted label\n",
    "    df_tvp = pd.DataFrame()\n",
    "    df_tvp['ytdf'] = ytdf.iloc[:, 0]\n",
    "    df_tvp['yp'] = yp\n",
    "    df_tvp['record_count'] = 1\n",
    "    # Create a flag for each label based on the specific n (wide table)\n",
    "    for i in range(5):\n",
    "        df_tvp[i] = (df_tvp['yp'] == i)\n",
    "    # Drop the predicted label that makes the table skinny\n",
    "    df_tvp = df_tvp.drop(['yp'], axis=1)\n",
    "    # Display the raw table for mapping\n",
    "    def print_wide_df(df):\n",
    "        print()\n",
    "        print('wide df display:')\n",
    "        print(df.head())\n",
    "        print('...')\n",
    "        print(df.tail())\n",
    "    #print_wide_df(df = df_tvp)\n",
    "    \n",
    "    # Summerize the table based on the true label\n",
    "    df_agg = df_tvp.groupby(['ytdf']).agg('sum')\n",
    "    df_agg = df_agg.reset_index()\n",
    "    # Select the winning label and the count of the winning label\n",
    "    df_agg['py_map'] = df_agg.apply(lambda row: dict(zip(range(len(row.iloc[2:])), row.iloc[2:])), axis = 1)\n",
    "    ytdf_order = df_agg['ytdf']\n",
    "    df_agg.insert(1, 'ytdf_order', ytdf_order)\n",
    "    df_agg = df_agg.replace({'ytdf_order': true_label_mapping(true_label_txt, LOD = LOD)})\n",
    "    df_agg.insert(3, 'py', None)\n",
    "    df_agg.insert(4, 'py_count', None)\n",
    "    df_agg.insert(5, 'py_acc', None)\n",
    "    df_agg = df_agg.sort_values(by = 'ytdf_order')\n",
    "    # Display the summary table for mapping\n",
    "    def print_summary_df(df):\n",
    "        print('\\n', 'summary df display:')\n",
    "        print(df)\n",
    "        print('\\n')\n",
    "    #if(LOD >= 1): print_summary_df(df = df_agg)\n",
    "\n",
    "    # build options and test every option perm\n",
    "    options = list(it.permutations(range(n)))\n",
    "    # set base case\n",
    "    acc = 0\n",
    "    # iterate over options and test for best option\n",
    "    if(LOD >= 1): print('Optimizing the Label Mapping to Maximize Accuracy:')\n",
    "    for case in options:\n",
    "        df_test_temp = df_agg.copy()\n",
    "        df_test_temp['py'] = list(case)\n",
    "        df_test_temp['py_count'] = df_test_temp.apply(lambda row: row.iloc[-1][row.iloc[3]], axis = 1)\n",
    "        df_test_temp['py_acc'] = df_test_temp['py_count'] / df_test_temp['record_count']\n",
    "        \n",
    "        # Calculate the final overall accuracy\n",
    "        total_test = df_test_temp['record_count'].agg('sum')\n",
    "        match_test = df_test_temp['py_count'].agg('sum')\n",
    "        acc_test = match_test / total_test\n",
    "        \n",
    "        if acc_test > acc:\n",
    "            # Record the current best overall accuracy\n",
    "            if(LOD >= 1):\n",
    "                print('[+] accuracy increased from',\n",
    "                      '{:.3f}'.format(round(acc, 3)),\n",
    "                      'to',\n",
    "                      '{:.3f}'.format(round(acc_test, 3)),\n",
    "                      'with new label mapping:', case)\n",
    "            acc = acc_test\n",
    "            total_obs = total_test\n",
    "            match_obs = match_test\n",
    "            # Update the current best mapping and stats\n",
    "            df_agg = df_test_temp.copy()\n",
    "            # Create the permuted label order list for the current best\n",
    "            permuted_label = tuple(df_agg['py'])\n",
    "\n",
    "    # Display Best Overall Accuracy\n",
    "    if(LOD >= 1):\n",
    "        print()\n",
    "        print('Best Overall Permuted Label Set with Highest Accuracy:')\n",
    "        print('[.] total          :', total_obs),\n",
    "        print('[.] matched        :', match_obs),\n",
    "        print('[.] accuracy       :', round(acc,4))\n",
    "        print('[.] permuted label :', permuted_label)\n",
    "        print('--------------------------------', '\\n')\n",
    "    # Display the summary table\n",
    "    #print_summary_df(df = df_agg)\n",
    "\n",
    "    #return the label and accuracy\n",
    "    return permuted_label, acc"
   ]
  },
  {
   "cell_type": "code",
   "execution_count": 38,
   "id": "c5be41e2",
   "metadata": {
    "execution": {
     "iopub.execute_input": "2023-09-07T21:58:09.637016Z",
     "iopub.status.busy": "2023-09-07T21:58:09.636672Z",
     "iopub.status.idle": "2023-09-07T21:58:09.645943Z",
     "shell.execute_reply": "2023-09-07T21:58:09.644728Z"
    },
    "papermill": {
     "duration": 0.031892,
     "end_time": "2023-09-07T21:58:09.647689",
     "exception": false,
     "start_time": "2023-09-07T21:58:09.615797",
     "status": "completed"
    },
    "tags": []
   },
   "outputs": [],
   "source": [
    "# display confusion matrix here \n",
    "# your code here\n",
    "\n",
    "def display_confusion_matrix(y_true, y_pred, label_map, accuracy, LOD = 0):\n",
    "    from sklearn.metrics import confusion_matrix\n",
    "    n = len(label_map)\n",
    "    cm = confusion_matrix(y_true, y_pred, labels = range(n))\n",
    "    cf_matrix = pd.DataFrame(cm)\n",
    "    cf_key = 'key: ' + str(sorted(((v, k) for k, v in label_map.items()), reverse=False))\n",
    "    \n",
    "    # Unpack the label dictionary for axis labels\n",
    "    axis_label = [None] * len(label_map)\n",
    "    for key, value in label_map.items():\n",
    "        axis_label[value] = key\n",
    "    \n",
    "    # Print the summary and text based details\n",
    "    if(LOD >= 1):\n",
    "        print()\n",
    "        print('## Initial Model ##', '\\n')\n",
    "        print('Accuracy = ', round(accuracy, 4), '\\n')\n",
    "        print('Confusion Matrix (Text)')\n",
    "        print('\\n', cf_key, '\\n', '\\n', cf_matrix, '\\n', sep = '')\n",
    "        print('Confusion Matrix (Image)')\n",
    "    \n",
    "    # Create a visual heatmap\n",
    "    f = plt.figure(figsize=(4,4))\n",
    "    plt.subplot(1, 1, 1)\n",
    "    cm_viz = sns.heatmap(cf_matrix, xticklabels=axis_label, yticklabels=axis_label,\n",
    "            annot=True, fmt='d', cmap='Blues')\n",
    "    plt.title(\"Confusion Matrix\")\n",
    "    plt.xlabel('Predicted Category')\n",
    "    plt.ylabel('True Category')\n",
    "    \n",
    "    return cf_key, cf_matrix"
   ]
  },
  {
   "cell_type": "code",
   "execution_count": 39,
   "id": "5c81d821",
   "metadata": {
    "execution": {
     "iopub.execute_input": "2023-09-07T21:58:09.688939Z",
     "iopub.status.busy": "2023-09-07T21:58:09.688591Z",
     "iopub.status.idle": "2023-09-07T21:58:24.806491Z",
     "shell.execute_reply": "2023-09-07T21:58:24.805766Z"
    },
    "papermill": {
     "duration": 15.140747,
     "end_time": "2023-09-07T21:58:24.808369",
     "exception": false,
     "start_time": "2023-09-07T21:58:09.667622",
     "status": "completed"
    },
    "tags": []
   },
   "outputs": [
    {
     "data": {
      "text/html": [
       "<style>#sk-container-id-1 {color: black;background-color: white;}#sk-container-id-1 pre{padding: 0;}#sk-container-id-1 div.sk-toggleable {background-color: white;}#sk-container-id-1 label.sk-toggleable__label {cursor: pointer;display: block;width: 100%;margin-bottom: 0;padding: 0.3em;box-sizing: border-box;text-align: center;}#sk-container-id-1 label.sk-toggleable__label-arrow:before {content: \"▸\";float: left;margin-right: 0.25em;color: #696969;}#sk-container-id-1 label.sk-toggleable__label-arrow:hover:before {color: black;}#sk-container-id-1 div.sk-estimator:hover label.sk-toggleable__label-arrow:before {color: black;}#sk-container-id-1 div.sk-toggleable__content {max-height: 0;max-width: 0;overflow: hidden;text-align: left;background-color: #f0f8ff;}#sk-container-id-1 div.sk-toggleable__content pre {margin: 0.2em;color: black;border-radius: 0.25em;background-color: #f0f8ff;}#sk-container-id-1 input.sk-toggleable__control:checked~div.sk-toggleable__content {max-height: 200px;max-width: 100%;overflow: auto;}#sk-container-id-1 input.sk-toggleable__control:checked~label.sk-toggleable__label-arrow:before {content: \"▾\";}#sk-container-id-1 div.sk-estimator input.sk-toggleable__control:checked~label.sk-toggleable__label {background-color: #d4ebff;}#sk-container-id-1 div.sk-label input.sk-toggleable__control:checked~label.sk-toggleable__label {background-color: #d4ebff;}#sk-container-id-1 input.sk-hidden--visually {border: 0;clip: rect(1px 1px 1px 1px);clip: rect(1px, 1px, 1px, 1px);height: 1px;margin: -1px;overflow: hidden;padding: 0;position: absolute;width: 1px;}#sk-container-id-1 div.sk-estimator {font-family: monospace;background-color: #f0f8ff;border: 1px dotted black;border-radius: 0.25em;box-sizing: border-box;margin-bottom: 0.5em;}#sk-container-id-1 div.sk-estimator:hover {background-color: #d4ebff;}#sk-container-id-1 div.sk-parallel-item::after {content: \"\";width: 100%;border-bottom: 1px solid gray;flex-grow: 1;}#sk-container-id-1 div.sk-label:hover label.sk-toggleable__label {background-color: #d4ebff;}#sk-container-id-1 div.sk-serial::before {content: \"\";position: absolute;border-left: 1px solid gray;box-sizing: border-box;top: 0;bottom: 0;left: 50%;z-index: 0;}#sk-container-id-1 div.sk-serial {display: flex;flex-direction: column;align-items: center;background-color: white;padding-right: 0.2em;padding-left: 0.2em;position: relative;}#sk-container-id-1 div.sk-item {position: relative;z-index: 1;}#sk-container-id-1 div.sk-parallel {display: flex;align-items: stretch;justify-content: center;background-color: white;position: relative;}#sk-container-id-1 div.sk-item::before, #sk-container-id-1 div.sk-parallel-item::before {content: \"\";position: absolute;border-left: 1px solid gray;box-sizing: border-box;top: 0;bottom: 0;left: 50%;z-index: -1;}#sk-container-id-1 div.sk-parallel-item {display: flex;flex-direction: column;z-index: 1;position: relative;background-color: white;}#sk-container-id-1 div.sk-parallel-item:first-child::after {align-self: flex-end;width: 50%;}#sk-container-id-1 div.sk-parallel-item:last-child::after {align-self: flex-start;width: 50%;}#sk-container-id-1 div.sk-parallel-item:only-child::after {width: 0;}#sk-container-id-1 div.sk-dashed-wrapped {border: 1px dashed gray;margin: 0 0.4em 0.5em 0.4em;box-sizing: border-box;padding-bottom: 0.4em;background-color: white;}#sk-container-id-1 div.sk-label label {font-family: monospace;font-weight: bold;display: inline-block;line-height: 1.2em;}#sk-container-id-1 div.sk-label-container {text-align: center;}#sk-container-id-1 div.sk-container {/* jupyter's `normalize.less` sets `[hidden] { display: none; }` but bootstrap.min.css set `[hidden] { display: none !important; }` so we also need the `!important` here to be able to override the default hidden behavior on the sphinx rendered scikit-learn.org. See: https://github.com/scikit-learn/scikit-learn/issues/21755 */display: inline-block !important;position: relative;}#sk-container-id-1 div.sk-text-repr-fallback {display: none;}</style><div id=\"sk-container-id-1\" class=\"sk-top-container\"><div class=\"sk-text-repr-fallback\"><pre>NMF(beta_loss=&#x27;kullback-leibler&#x27;, n_components=5, random_state=42, solver=&#x27;mu&#x27;)</pre><b>In a Jupyter environment, please rerun this cell to show the HTML representation or trust the notebook. <br />On GitHub, the HTML representation is unable to render, please try loading this page with nbviewer.org.</b></div><div class=\"sk-container\" hidden><div class=\"sk-item\"><div class=\"sk-estimator sk-toggleable\"><input class=\"sk-toggleable__control sk-hidden--visually\" id=\"sk-estimator-id-1\" type=\"checkbox\" checked><label for=\"sk-estimator-id-1\" class=\"sk-toggleable__label sk-toggleable__label-arrow\">NMF</label><div class=\"sk-toggleable__content\"><pre>NMF(beta_loss=&#x27;kullback-leibler&#x27;, n_components=5, random_state=42, solver=&#x27;mu&#x27;)</pre></div></div></div></div></div>"
      ],
      "text/plain": [
       "NMF(beta_loss='kullback-leibler', n_components=5, random_state=42, solver='mu')"
      ]
     },
     "execution_count": 39,
     "metadata": {},
     "output_type": "execute_result"
    }
   ],
   "source": [
    "# Creating NMF model and fitting in data\n",
    "nmf_model = NMF(\n",
    "    n_components = 5, \n",
    "    solver       = 'mu',\n",
    "    beta_loss    = 'kullback-leibler',\n",
    "    random_state = 42)\n",
    "\n",
    "nmf_model.fit(ft_train)"
   ]
  },
  {
   "cell_type": "code",
   "execution_count": 40,
   "id": "07ac1f69",
   "metadata": {
    "execution": {
     "iopub.execute_input": "2023-09-07T21:58:24.861595Z",
     "iopub.status.busy": "2023-09-07T21:58:24.861210Z",
     "iopub.status.idle": "2023-09-07T21:58:27.615188Z",
     "shell.execute_reply": "2023-09-07T21:58:27.614272Z"
    },
    "papermill": {
     "duration": 2.782843,
     "end_time": "2023-09-07T21:58:27.617189",
     "exception": false,
     "start_time": "2023-09-07T21:58:24.834346",
     "status": "completed"
    },
    "tags": []
   },
   "outputs": [
    {
     "name": "stdout",
     "output_type": "stream",
     "text": [
      "\n",
      "--------------------------------\n",
      "The true label mapping for the feature data: \n",
      "\n",
      "label_map : {'business': 0, 'entertainment': 1, 'politics': 2, 'sport': 3, 'tech': 4}\n",
      "        n : 5 \n",
      "\n",
      "Optimizing the Label Mapping to Maximize Accuracy:\n",
      "[+] accuracy increased from 0.000 to 0.192 with new label mapping: (0, 1, 2, 3, 4)\n",
      "[+] accuracy increased from 0.192 to 0.197 with new label mapping: (0, 1, 2, 4, 3)\n",
      "[+] accuracy increased from 0.197 to 0.243 with new label mapping: (0, 2, 3, 1, 4)\n",
      "[+] accuracy increased from 0.243 to 0.247 with new label mapping: (0, 2, 4, 1, 3)\n",
      "[+] accuracy increased from 0.247 to 0.601 with new label mapping: (0, 3, 2, 1, 4)\n",
      "[+] accuracy increased from 0.601 to 0.638 with new label mapping: (4, 0, 2, 1, 3)\n",
      "[+] accuracy increased from 0.638 to 0.964 with new label mapping: (4, 3, 2, 1, 0)\n",
      "\n",
      "Best Overall Permuted Label Set with Highest Accuracy:\n",
      "[.] total          : 1455\n",
      "[.] matched        : 1403\n",
      "[.] accuracy       : 0.9643\n",
      "[.] permuted label : (4, 3, 2, 1, 0)\n",
      "-------------------------------- \n",
      "\n",
      "Training: Model Accuracy Summary:\n",
      "Label Order : (4, 3, 2, 1, 0)\n",
      "Accuracy    : 0.9643 \n",
      "\n"
     ]
    }
   ],
   "source": [
    "# Summarize model results\n",
    "yhat_nmf_train = predict(nmf_model.transform(ft_train))\n",
    "label_order_nmf_train, accuracy_nmf_train = label_permute_compare(\n",
    "                                                ytdf = pd.DataFrame(df_train['Category']),\n",
    "                                                yp   = yhat_nmf_train,\n",
    "                                                n    = 5,\n",
    "                                                LOD  = 1)\n",
    "\n",
    "print('Training: Model Accuracy Summary:')\n",
    "print('Label Order :', label_order_nmf_train)\n",
    "print('Accuracy    :', round(accuracy_nmf_train,4), '\\n')"
   ]
  },
  {
   "cell_type": "code",
   "execution_count": 41,
   "id": "c42e61a1",
   "metadata": {
    "execution": {
     "iopub.execute_input": "2023-09-07T21:58:27.658648Z",
     "iopub.status.busy": "2023-09-07T21:58:27.657855Z",
     "iopub.status.idle": "2023-09-07T21:58:27.663690Z",
     "shell.execute_reply": "2023-09-07T21:58:27.663010Z"
    },
    "papermill": {
     "duration": 0.028773,
     "end_time": "2023-09-07T21:58:27.665908",
     "exception": false,
     "start_time": "2023-09-07T21:58:27.637135",
     "status": "completed"
    },
    "tags": []
   },
   "outputs": [
    {
     "data": {
      "text/plain": [
       "array([4, 4, 4, ..., 4, 0, 0])"
      ]
     },
     "execution_count": 41,
     "metadata": {},
     "output_type": "execute_result"
    }
   ],
   "source": [
    "yhat_nmf_train"
   ]
  },
  {
   "cell_type": "code",
   "execution_count": 42,
   "id": "c7a58076",
   "metadata": {
    "execution": {
     "iopub.execute_input": "2023-09-07T21:58:27.708344Z",
     "iopub.status.busy": "2023-09-07T21:58:27.707950Z",
     "iopub.status.idle": "2023-09-07T21:58:28.026858Z",
     "shell.execute_reply": "2023-09-07T21:58:28.025972Z"
    },
    "papermill": {
     "duration": 0.343223,
     "end_time": "2023-09-07T21:58:28.029495",
     "exception": false,
     "start_time": "2023-09-07T21:58:27.686272",
     "status": "completed"
    },
    "tags": []
   },
   "outputs": [
    {
     "name": "stdout",
     "output_type": "stream",
     "text": [
      "label_map : {'business': 4, 'entertainment': 3, 'politics': 2, 'sport': 1, 'tech': 0}\n",
      "        n : 5 \n",
      "\n",
      "\n",
      "           Category mapped_label\n",
      "0          business            4\n",
      "1          business            4\n",
      "2          business            4\n",
      "3              tech            0\n",
      "4          business            4\n",
      "...             ...          ...\n",
      "1485  entertainment            3\n",
      "1486  entertainment            3\n",
      "1487       business            4\n",
      "1488           tech            0\n",
      "1489           tech            0\n",
      "\n",
      "[1455 rows x 2 columns]\n",
      "\n",
      "## Initial Model ## \n",
      "\n",
      "Accuracy =  0.9643 \n",
      "\n",
      "Confusion Matrix (Text)\n",
      "\n",
      "key: [(0, 'tech'), (1, 'sport'), (2, 'politics'), (3, 'entertainment'), (4, 'business')]\n",
      "\n",
      "     0    1    2    3    4\n",
      "0  233    0    2    7    2\n",
      "1    0  337    1    0    1\n",
      "2    1    1  266    1    2\n",
      "3    9    0    2  257    1\n",
      "4   12    1    8    1  310\n",
      "\n",
      "Confusion Matrix (Image)\n"
     ]
    },
    {
     "data": {
      "image/png": "[encoded data removed]",
      "text/plain": [
       "<Figure size 400x400 with 2 Axes>"
      ]
     },
     "metadata": {},
     "output_type": "display_data"
    }
   ],
   "source": [
    "#Map labels to new label numbers\n",
    "label_map_nmf_train = build_label_map(\n",
    "                        true_label = true_label_txt,\n",
    "                        pred_label = label_order_nmf_train,\n",
    "                        LOD        = 1)\n",
    "print()\n",
    "#Map validate labels to new number lables\n",
    "df_mapped_nmf_train = map_label_to_data(\n",
    "                        label     = pd.DataFrame(df_train['Category']),\n",
    "                        label_map = label_map_nmf_train,\n",
    "                        LOD       = 1)\n",
    "\n",
    "# Print out summary\n",
    "cf_key, cf_matrix = display_confusion_matrix(\n",
    "                        y_true    = df_mapped_nmf_train['mapped_label'],\n",
    "                        y_pred    = yhat_nmf_train,\n",
    "                        label_map = label_map_nmf_train,\n",
    "                        accuracy  = accuracy_nmf_train,\n",
    "                        LOD       = 1\n",
    ")"
   ]
  },
  {
   "cell_type": "markdown",
   "id": "693c3728",
   "metadata": {
    "papermill": {
     "duration": 0.02057,
     "end_time": "2023-09-07T21:58:28.070945",
     "exception": false,
     "start_time": "2023-09-07T21:58:28.050375",
     "status": "completed"
    },
    "tags": []
   },
   "source": [
    "## Create Kaggle Submission File\n"
   ]
  },
  {
   "cell_type": "code",
   "execution_count": 43,
   "id": "0dc99c73",
   "metadata": {
    "execution": {
     "iopub.execute_input": "2023-09-07T21:58:28.113696Z",
     "iopub.status.busy": "2023-09-07T21:58:28.113313Z",
     "iopub.status.idle": "2023-09-07T21:58:28.119796Z",
     "shell.execute_reply": "2023-09-07T21:58:28.118408Z"
    },
    "papermill": {
     "duration": 0.030359,
     "end_time": "2023-09-07T21:58:28.122006",
     "exception": false,
     "start_time": "2023-09-07T21:58:28.091647",
     "status": "completed"
    },
    "tags": []
   },
   "outputs": [
    {
     "name": "stdout",
     "output_type": "stream",
     "text": [
      "label mapping: {'business': 4, 'entertainment': 3, 'politics': 2, 'sport': 1, 'tech': 0}\n",
      "inverted label mapping: {4: 'business', 3: 'entertainment', 2: 'politics', 1: 'sport', 0: 'tech'}\n"
     ]
    }
   ],
   "source": [
    "#invert label mapping dictionary\n",
    "print('label mapping:', label_map_nmf_train)\n",
    "inv_label_map_nmf_train = {v: k for k, v in label_map_nmf_train.items()}\n",
    "print('inverted label mapping:', inv_label_map_nmf_train)"
   ]
  },
  {
   "cell_type": "code",
   "execution_count": 44,
   "id": "132a8178",
   "metadata": {
    "execution": {
     "iopub.execute_input": "2023-09-07T21:58:28.165759Z",
     "iopub.status.busy": "2023-09-07T21:58:28.165369Z",
     "iopub.status.idle": "2023-09-07T21:58:29.527761Z",
     "shell.execute_reply": "2023-09-07T21:58:29.526985Z"
    },
    "papermill": {
     "duration": 1.386907,
     "end_time": "2023-09-07T21:58:29.530034",
     "exception": false,
     "start_time": "2023-09-07T21:58:28.143127",
     "status": "completed"
    },
    "tags": []
   },
   "outputs": [],
   "source": [
    "# predict the training data\n",
    "yhat_nmf_test = predict(nmf_model.transform(ft_test))\n",
    "\n",
    "#join df_test with predicted labels\n",
    "df_test_nmf_pred = df_test.copy()\n",
    "df_test_nmf_pred['mapped_label'] = yhat_nmf_test\n",
    "df_test_nmf_pred['Category'] = yhat_nmf_test\n",
    "df_test_nmf_pred = df_test_nmf_pred.replace({'Category': inv_label_map_nmf_train})\n",
    "df_test_nmf_pred.drop(columns = ['Text Length', 'Word Count', 'Text Length (Old)', 'Word Count (Old)', 'Lemmatized Text'], inplace=True)\n",
    "df_test_nmf_pred.drop(columns = ['Text', 'mapped_label'], inplace=True)"
   ]
  },
  {
   "cell_type": "code",
   "execution_count": 45,
   "id": "cc3db316",
   "metadata": {
    "execution": {
     "iopub.execute_input": "2023-09-07T21:58:29.586222Z",
     "iopub.status.busy": "2023-09-07T21:58:29.585639Z",
     "iopub.status.idle": "2023-09-07T21:58:29.604836Z",
     "shell.execute_reply": "2023-09-07T21:58:29.604116Z"
    },
    "papermill": {
     "duration": 0.049184,
     "end_time": "2023-09-07T21:58:29.606894",
     "exception": false,
     "start_time": "2023-09-07T21:58:29.557710",
     "status": "completed"
    },
    "tags": []
   },
   "outputs": [
    {
     "data": {
      "text/html": [
       "<div>\n",
       "<style scoped>\n",
       "    .dataframe tbody tr th:only-of-type {\n",
       "        vertical-align: middle;\n",
       "    }\n",
       "\n",
       "    .dataframe tbody tr th {\n",
       "        vertical-align: top;\n",
       "    }\n",
       "\n",
       "    .dataframe thead th {\n",
       "        text-align: right;\n",
       "    }\n",
       "</style>\n",
       "<table border=\"1\" class=\"dataframe\">\n",
       "  <thead>\n",
       "    <tr style=\"text-align: right;\">\n",
       "      <th></th>\n",
       "      <th>ArticleId</th>\n",
       "      <th>Category</th>\n",
       "    </tr>\n",
       "  </thead>\n",
       "  <tbody>\n",
       "    <tr>\n",
       "      <th>0</th>\n",
       "      <td>1018</td>\n",
       "      <td>sport</td>\n",
       "    </tr>\n",
       "    <tr>\n",
       "      <th>1</th>\n",
       "      <td>1319</td>\n",
       "      <td>tech</td>\n",
       "    </tr>\n",
       "    <tr>\n",
       "      <th>2</th>\n",
       "      <td>1138</td>\n",
       "      <td>sport</td>\n",
       "    </tr>\n",
       "    <tr>\n",
       "      <th>3</th>\n",
       "      <td>459</td>\n",
       "      <td>business</td>\n",
       "    </tr>\n",
       "    <tr>\n",
       "      <th>4</th>\n",
       "      <td>1020</td>\n",
       "      <td>sport</td>\n",
       "    </tr>\n",
       "    <tr>\n",
       "      <th>...</th>\n",
       "      <td>...</td>\n",
       "      <td>...</td>\n",
       "    </tr>\n",
       "    <tr>\n",
       "      <th>730</th>\n",
       "      <td>1923</td>\n",
       "      <td>business</td>\n",
       "    </tr>\n",
       "    <tr>\n",
       "      <th>731</th>\n",
       "      <td>373</td>\n",
       "      <td>entertainment</td>\n",
       "    </tr>\n",
       "    <tr>\n",
       "      <th>732</th>\n",
       "      <td>1704</td>\n",
       "      <td>politics</td>\n",
       "    </tr>\n",
       "    <tr>\n",
       "      <th>733</th>\n",
       "      <td>206</td>\n",
       "      <td>business</td>\n",
       "    </tr>\n",
       "    <tr>\n",
       "      <th>734</th>\n",
       "      <td>471</td>\n",
       "      <td>politics</td>\n",
       "    </tr>\n",
       "  </tbody>\n",
       "</table>\n",
       "<p>735 rows × 2 columns</p>\n",
       "</div>"
      ],
      "text/plain": [
       "     ArticleId       Category\n",
       "0         1018          sport\n",
       "1         1319           tech\n",
       "2         1138          sport\n",
       "3          459       business\n",
       "4         1020          sport\n",
       "..         ...            ...\n",
       "730       1923       business\n",
       "731        373  entertainment\n",
       "732       1704       politics\n",
       "733        206       business\n",
       "734        471       politics\n",
       "\n",
       "[735 rows x 2 columns]"
      ]
     },
     "execution_count": 45,
     "metadata": {},
     "output_type": "execute_result"
    }
   ],
   "source": [
    "# save the test results to a csv for sumbission\n",
    "df_test_nmf_pred.to_csv('/kaggle/working/nmf_submission.csv', index = False)\n",
    "\n",
    "\n",
    "df_saved_file = pd.read_csv('/kaggle/working/nmf_submission.csv')\n",
    "df_saved_file"
   ]
  },
  {
   "cell_type": "code",
   "execution_count": 46,
   "id": "c3508e92",
   "metadata": {
    "execution": {
     "iopub.execute_input": "2023-09-07T21:58:29.656912Z",
     "iopub.status.busy": "2023-09-07T21:58:29.656577Z",
     "iopub.status.idle": "2023-09-07T21:58:29.660188Z",
     "shell.execute_reply": "2023-09-07T21:58:29.659380Z"
    },
    "papermill": {
     "duration": 0.027799,
     "end_time": "2023-09-07T21:58:29.661921",
     "exception": false,
     "start_time": "2023-09-07T21:58:29.634122",
     "status": "completed"
    },
    "tags": []
   },
   "outputs": [],
   "source": [
    "#!kaggle competitions submit -c learn-ai-bbc -f nmf_submission.csv -m \"Submission via API\"\n",
    "#!kaggle competitions  leaderboard learn-ai-bbc --show"
   ]
  },
  {
   "cell_type": "markdown",
   "id": "0838eeb2",
   "metadata": {
    "papermill": {
     "duration": 0.020665,
     "end_time": "2023-09-07T21:58:29.703592",
     "exception": false,
     "start_time": "2023-09-07T21:58:29.682927",
     "status": "completed"
    },
    "tags": []
   },
   "source": [
    "# 7.&nbsp;Model: Unsupervised: Singular Value Decomposition (SVD)"
   ]
  },
  {
   "cell_type": "markdown",
   "id": "a8ba15ac",
   "metadata": {
    "papermill": {
     "duration": 0.020464,
     "end_time": "2023-09-07T21:58:29.744954",
     "exception": false,
     "start_time": "2023-09-07T21:58:29.724490",
     "status": "completed"
    },
    "tags": []
   },
   "source": [
    "# 8.&nbsp; Model: Supervised: TBDsingular value decomposition (SVD)"
   ]
  },
  {
   "cell_type": "code",
   "execution_count": 47,
   "id": "52ab2cb9",
   "metadata": {
    "execution": {
     "iopub.execute_input": "2023-09-07T21:58:29.788197Z",
     "iopub.status.busy": "2023-09-07T21:58:29.787847Z",
     "iopub.status.idle": "2023-09-07T21:58:29.791443Z",
     "shell.execute_reply": "2023-09-07T21:58:29.790599Z"
    },
    "papermill": {
     "duration": 0.027216,
     "end_time": "2023-09-07T21:58:29.793216",
     "exception": false,
     "start_time": "2023-09-07T21:58:29.766000",
     "status": "completed"
    },
    "tags": []
   },
   "outputs": [],
   "source": [
    "#y = df.copy()\n",
    "#X = df.copy()"
   ]
  },
  {
   "cell_type": "code",
   "execution_count": 48,
   "id": "048293b4",
   "metadata": {
    "execution": {
     "iopub.execute_input": "2023-09-07T21:58:29.836920Z",
     "iopub.status.busy": "2023-09-07T21:58:29.836600Z",
     "iopub.status.idle": "2023-09-07T21:58:29.984102Z",
     "shell.execute_reply": "2023-09-07T21:58:29.982856Z"
    },
    "papermill": {
     "duration": 0.172165,
     "end_time": "2023-09-07T21:58:29.986262",
     "exception": false,
     "start_time": "2023-09-07T21:58:29.814097",
     "status": "completed"
    },
    "tags": []
   },
   "outputs": [
    {
     "data": {
      "text/html": [
       "<style>#sk-container-id-2 {color: black;background-color: white;}#sk-container-id-2 pre{padding: 0;}#sk-container-id-2 div.sk-toggleable {background-color: white;}#sk-container-id-2 label.sk-toggleable__label {cursor: pointer;display: block;width: 100%;margin-bottom: 0;padding: 0.3em;box-sizing: border-box;text-align: center;}#sk-container-id-2 label.sk-toggleable__label-arrow:before {content: \"▸\";float: left;margin-right: 0.25em;color: #696969;}#sk-container-id-2 label.sk-toggleable__label-arrow:hover:before {color: black;}#sk-container-id-2 div.sk-estimator:hover label.sk-toggleable__label-arrow:before {color: black;}#sk-container-id-2 div.sk-toggleable__content {max-height: 0;max-width: 0;overflow: hidden;text-align: left;background-color: #f0f8ff;}#sk-container-id-2 div.sk-toggleable__content pre {margin: 0.2em;color: black;border-radius: 0.25em;background-color: #f0f8ff;}#sk-container-id-2 input.sk-toggleable__control:checked~div.sk-toggleable__content {max-height: 200px;max-width: 100%;overflow: auto;}#sk-container-id-2 input.sk-toggleable__control:checked~label.sk-toggleable__label-arrow:before {content: \"▾\";}#sk-container-id-2 div.sk-estimator input.sk-toggleable__control:checked~label.sk-toggleable__label {background-color: #d4ebff;}#sk-container-id-2 div.sk-label input.sk-toggleable__control:checked~label.sk-toggleable__label {background-color: #d4ebff;}#sk-container-id-2 input.sk-hidden--visually {border: 0;clip: rect(1px 1px 1px 1px);clip: rect(1px, 1px, 1px, 1px);height: 1px;margin: -1px;overflow: hidden;padding: 0;position: absolute;width: 1px;}#sk-container-id-2 div.sk-estimator {font-family: monospace;background-color: #f0f8ff;border: 1px dotted black;border-radius: 0.25em;box-sizing: border-box;margin-bottom: 0.5em;}#sk-container-id-2 div.sk-estimator:hover {background-color: #d4ebff;}#sk-container-id-2 div.sk-parallel-item::after {content: \"\";width: 100%;border-bottom: 1px solid gray;flex-grow: 1;}#sk-container-id-2 div.sk-label:hover label.sk-toggleable__label {background-color: #d4ebff;}#sk-container-id-2 div.sk-serial::before {content: \"\";position: absolute;border-left: 1px solid gray;box-sizing: border-box;top: 0;bottom: 0;left: 50%;z-index: 0;}#sk-container-id-2 div.sk-serial {display: flex;flex-direction: column;align-items: center;background-color: white;padding-right: 0.2em;padding-left: 0.2em;position: relative;}#sk-container-id-2 div.sk-item {position: relative;z-index: 1;}#sk-container-id-2 div.sk-parallel {display: flex;align-items: stretch;justify-content: center;background-color: white;position: relative;}#sk-container-id-2 div.sk-item::before, #sk-container-id-2 div.sk-parallel-item::before {content: \"\";position: absolute;border-left: 1px solid gray;box-sizing: border-box;top: 0;bottom: 0;left: 50%;z-index: -1;}#sk-container-id-2 div.sk-parallel-item {display: flex;flex-direction: column;z-index: 1;position: relative;background-color: white;}#sk-container-id-2 div.sk-parallel-item:first-child::after {align-self: flex-end;width: 50%;}#sk-container-id-2 div.sk-parallel-item:last-child::after {align-self: flex-start;width: 50%;}#sk-container-id-2 div.sk-parallel-item:only-child::after {width: 0;}#sk-container-id-2 div.sk-dashed-wrapped {border: 1px dashed gray;margin: 0 0.4em 0.5em 0.4em;box-sizing: border-box;padding-bottom: 0.4em;background-color: white;}#sk-container-id-2 div.sk-label label {font-family: monospace;font-weight: bold;display: inline-block;line-height: 1.2em;}#sk-container-id-2 div.sk-label-container {text-align: center;}#sk-container-id-2 div.sk-container {/* jupyter's `normalize.less` sets `[hidden] { display: none; }` but bootstrap.min.css set `[hidden] { display: none !important; }` so we also need the `!important` here to be able to override the default hidden behavior on the sphinx rendered scikit-learn.org. See: https://github.com/scikit-learn/scikit-learn/issues/21755 */display: inline-block !important;position: relative;}#sk-container-id-2 div.sk-text-repr-fallback {display: none;}</style><div id=\"sk-container-id-2\" class=\"sk-top-container\"><div class=\"sk-text-repr-fallback\"><pre>RandomForestClassifier(max_depth=10, max_features=10, min_samples_leaf=5,\n",
       "                       n_estimators=50)</pre><b>In a Jupyter environment, please rerun this cell to show the HTML representation or trust the notebook. <br />On GitHub, the HTML representation is unable to render, please try loading this page with nbviewer.org.</b></div><div class=\"sk-container\" hidden><div class=\"sk-item\"><div class=\"sk-estimator sk-toggleable\"><input class=\"sk-toggleable__control sk-hidden--visually\" id=\"sk-estimator-id-2\" type=\"checkbox\" checked><label for=\"sk-estimator-id-2\" class=\"sk-toggleable__label sk-toggleable__label-arrow\">RandomForestClassifier</label><div class=\"sk-toggleable__content\"><pre>RandomForestClassifier(max_depth=10, max_features=10, min_samples_leaf=5,\n",
       "                       n_estimators=50)</pre></div></div></div></div></div>"
      ],
      "text/plain": [
       "RandomForestClassifier(max_depth=10, max_features=10, min_samples_leaf=5,\n",
       "                       n_estimators=50)"
      ]
     },
     "execution_count": 48,
     "metadata": {},
     "output_type": "execute_result"
    }
   ],
   "source": [
    "# Creating Rsandom Forest model and fitting in data\n",
    "rf_model = RandomForestClassifier(\n",
    "              bootstrap = True,\n",
    "              verbose = 0,\n",
    "              criterion = 'gini',\n",
    "              n_estimators = 50,\n",
    "              max_depth = 10,\n",
    "              min_samples_leaf = 5,\n",
    "              max_features = 10\n",
    "              )\n",
    "\n",
    "rf_model.fit(ft_train, df_train['Category'])"
   ]
  },
  {
   "cell_type": "code",
   "execution_count": 49,
   "id": "cbc3b0e3",
   "metadata": {
    "execution": {
     "iopub.execute_input": "2023-09-07T21:58:30.030605Z",
     "iopub.status.busy": "2023-09-07T21:58:30.029727Z",
     "iopub.status.idle": "2023-09-07T21:58:30.298194Z",
     "shell.execute_reply": "2023-09-07T21:58:30.297172Z"
    },
    "papermill": {
     "duration": 0.29326,
     "end_time": "2023-09-07T21:58:30.300538",
     "exception": false,
     "start_time": "2023-09-07T21:58:30.007278",
     "status": "completed"
    },
    "tags": []
   },
   "outputs": [
    {
     "name": "stdout",
     "output_type": "stream",
     "text": [
      "\n",
      "--------------------------------\n",
      "The true label mapping for the feature data: \n",
      "\n",
      "label_map : {'business': 0, 'entertainment': 1, 'politics': 2, 'sport': 3, 'tech': 4}\n",
      "        n : 5 \n",
      "\n",
      "Optimizing the Label Mapping to Maximize Accuracy:\n",
      "[+] accuracy increased from 0.000 to 0.887 with new label mapping: (0, 1, 2, 3, 4)\n",
      "\n",
      "Best Overall Permuted Label Set with Highest Accuracy:\n",
      "[.] total          : 1455\n",
      "[.] matched        : 1290\n",
      "[.] accuracy       : 0.8866\n",
      "[.] permuted label : (0, 1, 2, 3, 4)\n",
      "-------------------------------- \n",
      "\n",
      "Training: Model Accuracy Summary:\n",
      "Label Order : (0, 1, 2, 3, 4)\n",
      "Accuracy    : 0.8866 \n",
      "\n"
     ]
    }
   ],
   "source": [
    "# Summarize model results\n",
    "yhat_rf_train = rf_model.predict(ft_train)\n",
    "yhat_rf_train = pd.DataFrame(yhat_rf_train, columns = ['Category']).replace({'Category': true_label_map})\n",
    "yhat_rf_train = np.array(yhat_rf_train)\n",
    "label_order_rf_train, accuracy_rf_train = label_permute_compare(\n",
    "                                                ytdf = pd.DataFrame(df_train['Category']),\n",
    "                                                yp   = yhat_rf_train,\n",
    "                                                n    = 5,\n",
    "                                                LOD  = 1)\n",
    "\n",
    "print('Training: Model Accuracy Summary:')\n",
    "print('Label Order :', label_order_rf_train)\n",
    "print('Accuracy    :', round(accuracy_rf_train,4), '\\n')"
   ]
  },
  {
   "cell_type": "code",
   "execution_count": 50,
   "id": "c2043509",
   "metadata": {
    "execution": {
     "iopub.execute_input": "2023-09-07T21:58:30.345168Z",
     "iopub.status.busy": "2023-09-07T21:58:30.344757Z",
     "iopub.status.idle": "2023-09-07T21:58:30.661168Z",
     "shell.execute_reply": "2023-09-07T21:58:30.659762Z"
    },
    "papermill": {
     "duration": 0.341379,
     "end_time": "2023-09-07T21:58:30.663271",
     "exception": false,
     "start_time": "2023-09-07T21:58:30.321892",
     "status": "completed"
    },
    "tags": []
   },
   "outputs": [
    {
     "name": "stdout",
     "output_type": "stream",
     "text": [
      "label_map : {'business': 0, 'entertainment': 1, 'politics': 2, 'sport': 3, 'tech': 4}\n",
      "        n : 5 \n",
      "\n",
      "\n",
      "           Category mapped_label\n",
      "0          business            0\n",
      "1          business            0\n",
      "2          business            0\n",
      "3              tech            4\n",
      "4          business            0\n",
      "...             ...          ...\n",
      "1485  entertainment            1\n",
      "1486  entertainment            1\n",
      "1487       business            0\n",
      "1488           tech            4\n",
      "1489           tech            4\n",
      "\n",
      "[1455 rows x 2 columns]\n",
      "\n",
      "## Initial Model ## \n",
      "\n",
      "Accuracy =  0.8866 \n",
      "\n",
      "Confusion Matrix (Text)\n",
      "\n",
      "key: [(0, 'business'), (1, 'entertainment'), (2, 'politics'), (3, 'sport'), (4, 'tech')]\n",
      "\n",
      "     0    1    2    3    4\n",
      "0  328    0    1    3    0\n",
      "1   17  227    0   25    0\n",
      "2   23    0  225   23    0\n",
      "3    0    0    1  338    0\n",
      "4   40    5    2   25  172\n",
      "\n",
      "Confusion Matrix (Image)\n"
     ]
    },
    {
     "data": {
      "image/png": "[encoded data removed]",
      "text/plain": [
       "<Figure size 400x400 with 2 Axes>"
      ]
     },
     "metadata": {},
     "output_type": "display_data"
    }
   ],
   "source": [
    "#Map labels to new label numbers\n",
    "label_map_rf_train = build_label_map(\n",
    "                        true_label = true_label_txt,\n",
    "                        pred_label = label_order_rf_train,\n",
    "                        LOD        = 1)\n",
    "print()\n",
    "#Map validate labels to new number lables\n",
    "df_mapped_rf_train = map_label_to_data(\n",
    "                        label     = pd.DataFrame(df_train['Category']),\n",
    "                        label_map = label_map_rf_train,\n",
    "                        LOD       = 1)\n",
    "\n",
    "# Print out summary\n",
    "cf_key, cf_matrix = display_confusion_matrix(\n",
    "                        y_true    = df_mapped_rf_train['mapped_label'],\n",
    "                        y_pred    = yhat_rf_train,\n",
    "                        label_map = label_map_rf_train,\n",
    "                        accuracy  = accuracy_rf_train,\n",
    "                        LOD       = 1\n",
    ")"
   ]
  },
  {
   "cell_type": "markdown",
   "id": "83bbc07d",
   "metadata": {
    "papermill": {
     "duration": 0.021452,
     "end_time": "2023-09-07T21:58:30.707424",
     "exception": false,
     "start_time": "2023-09-07T21:58:30.685972",
     "status": "completed"
    },
    "tags": []
   },
   "source": [
    "## Create Kaggle Submission File"
   ]
  },
  {
   "cell_type": "code",
   "execution_count": 51,
   "id": "ccf69475",
   "metadata": {
    "execution": {
     "iopub.execute_input": "2023-09-07T21:58:30.753099Z",
     "iopub.status.busy": "2023-09-07T21:58:30.752753Z",
     "iopub.status.idle": "2023-09-07T21:58:30.759236Z",
     "shell.execute_reply": "2023-09-07T21:58:30.757430Z"
    },
    "papermill": {
     "duration": 0.031482,
     "end_time": "2023-09-07T21:58:30.761610",
     "exception": false,
     "start_time": "2023-09-07T21:58:30.730128",
     "status": "completed"
    },
    "tags": []
   },
   "outputs": [
    {
     "name": "stdout",
     "output_type": "stream",
     "text": [
      "label mapping: {'business': 0, 'entertainment': 1, 'politics': 2, 'sport': 3, 'tech': 4}\n",
      "inverted label mapping: {0: 'business', 1: 'entertainment', 2: 'politics', 3: 'sport', 4: 'tech'}\n"
     ]
    }
   ],
   "source": [
    "#invert label mapping dictionary\n",
    "print('label mapping:', label_map_rf_train)\n",
    "inv_label_map_rf_train = {v: k for k, v in label_map_rf_train.items()}\n",
    "print('inverted label mapping:', inv_label_map_rf_train)"
   ]
  },
  {
   "cell_type": "code",
   "execution_count": 52,
   "id": "2d4f1a9b",
   "metadata": {
    "execution": {
     "iopub.execute_input": "2023-09-07T21:58:30.808265Z",
     "iopub.status.busy": "2023-09-07T21:58:30.807878Z",
     "iopub.status.idle": "2023-09-07T21:58:30.832844Z",
     "shell.execute_reply": "2023-09-07T21:58:30.831510Z"
    },
    "papermill": {
     "duration": 0.051154,
     "end_time": "2023-09-07T21:58:30.835227",
     "exception": false,
     "start_time": "2023-09-07T21:58:30.784073",
     "status": "completed"
    },
    "tags": []
   },
   "outputs": [],
   "source": [
    "# predict the training data\n",
    "yhat_rf_test = rf_model.predict(ft_test)\n",
    "\n",
    "#join df_test with predicted labels\n",
    "df_test_rf_pred = df_test.copy()\n",
    "df_test_rf_pred['Category'] = yhat_rf_test\n",
    "df_test_rf_pred.drop(columns = ['Text Length', 'Word Count', 'Text Length (Old)', 'Word Count (Old)', 'Lemmatized Text'], inplace=True)\n",
    "df_test_rf_pred.drop(columns = ['Text'], inplace=True)"
   ]
  },
  {
   "cell_type": "code",
   "execution_count": 53,
   "id": "8bc878be",
   "metadata": {
    "execution": {
     "iopub.execute_input": "2023-09-07T21:58:30.881739Z",
     "iopub.status.busy": "2023-09-07T21:58:30.880819Z",
     "iopub.status.idle": "2023-09-07T21:58:30.895607Z",
     "shell.execute_reply": "2023-09-07T21:58:30.894345Z"
    },
    "papermill": {
     "duration": 0.040616,
     "end_time": "2023-09-07T21:58:30.897962",
     "exception": false,
     "start_time": "2023-09-07T21:58:30.857346",
     "status": "completed"
    },
    "tags": []
   },
   "outputs": [
    {
     "data": {
      "text/html": [
       "<div>\n",
       "<style scoped>\n",
       "    .dataframe tbody tr th:only-of-type {\n",
       "        vertical-align: middle;\n",
       "    }\n",
       "\n",
       "    .dataframe tbody tr th {\n",
       "        vertical-align: top;\n",
       "    }\n",
       "\n",
       "    .dataframe thead th {\n",
       "        text-align: right;\n",
       "    }\n",
       "</style>\n",
       "<table border=\"1\" class=\"dataframe\">\n",
       "  <thead>\n",
       "    <tr style=\"text-align: right;\">\n",
       "      <th></th>\n",
       "      <th>ArticleId</th>\n",
       "      <th>Category</th>\n",
       "    </tr>\n",
       "  </thead>\n",
       "  <tbody>\n",
       "    <tr>\n",
       "      <th>0</th>\n",
       "      <td>1018</td>\n",
       "      <td>sport</td>\n",
       "    </tr>\n",
       "    <tr>\n",
       "      <th>1</th>\n",
       "      <td>1319</td>\n",
       "      <td>tech</td>\n",
       "    </tr>\n",
       "    <tr>\n",
       "      <th>2</th>\n",
       "      <td>1138</td>\n",
       "      <td>sport</td>\n",
       "    </tr>\n",
       "    <tr>\n",
       "      <th>3</th>\n",
       "      <td>459</td>\n",
       "      <td>business</td>\n",
       "    </tr>\n",
       "    <tr>\n",
       "      <th>4</th>\n",
       "      <td>1020</td>\n",
       "      <td>sport</td>\n",
       "    </tr>\n",
       "    <tr>\n",
       "      <th>...</th>\n",
       "      <td>...</td>\n",
       "      <td>...</td>\n",
       "    </tr>\n",
       "    <tr>\n",
       "      <th>730</th>\n",
       "      <td>1923</td>\n",
       "      <td>business</td>\n",
       "    </tr>\n",
       "    <tr>\n",
       "      <th>731</th>\n",
       "      <td>373</td>\n",
       "      <td>entertainment</td>\n",
       "    </tr>\n",
       "    <tr>\n",
       "      <th>732</th>\n",
       "      <td>1704</td>\n",
       "      <td>sport</td>\n",
       "    </tr>\n",
       "    <tr>\n",
       "      <th>733</th>\n",
       "      <td>206</td>\n",
       "      <td>business</td>\n",
       "    </tr>\n",
       "    <tr>\n",
       "      <th>734</th>\n",
       "      <td>471</td>\n",
       "      <td>politics</td>\n",
       "    </tr>\n",
       "  </tbody>\n",
       "</table>\n",
       "<p>735 rows × 2 columns</p>\n",
       "</div>"
      ],
      "text/plain": [
       "     ArticleId       Category\n",
       "0         1018          sport\n",
       "1         1319           tech\n",
       "2         1138          sport\n",
       "3          459       business\n",
       "4         1020          sport\n",
       "..         ...            ...\n",
       "730       1923       business\n",
       "731        373  entertainment\n",
       "732       1704          sport\n",
       "733        206       business\n",
       "734        471       politics\n",
       "\n",
       "[735 rows x 2 columns]"
      ]
     },
     "execution_count": 53,
     "metadata": {},
     "output_type": "execute_result"
    }
   ],
   "source": [
    "# save the test results to a csv for sumbission\n",
    "df_test_rf_pred.to_csv('/kaggle/working/rf_submission.csv', index = False)\n",
    "\n",
    "\n",
    "df_saved_file = pd.read_csv('/kaggle/working/rf_submission.csv')\n",
    "df_saved_file"
   ]
  },
  {
   "cell_type": "markdown",
   "id": "8bca4fbc",
   "metadata": {
    "papermill": {
     "duration": 0.02157,
     "end_time": "2023-09-07T21:58:30.942017",
     "exception": false,
     "start_time": "2023-09-07T21:58:30.920447",
     "status": "completed"
    },
    "tags": []
   },
   "source": [
    "# 9.&nbsp; Model Comparison"
   ]
  },
  {
   "cell_type": "markdown",
   "id": "8b6ad838",
   "metadata": {
    "papermill": {
     "duration": 0.021795,
     "end_time": "2023-09-07T21:58:30.986691",
     "exception": false,
     "start_time": "2023-09-07T21:58:30.964896",
     "status": "completed"
    },
    "tags": []
   },
   "source": [
    "# 10.&nbsp; Results"
   ]
  },
  {
   "cell_type": "markdown",
   "id": "76e2d0db",
   "metadata": {
    "papermill": {
     "duration": 0.0217,
     "end_time": "2023-09-07T21:58:31.030316",
     "exception": false,
     "start_time": "2023-09-07T21:58:31.008616",
     "status": "completed"
    },
    "tags": []
   },
   "source": [
    "# 11.&nbsp; References\n",
    "\n",
    "**Competition**\n",
    "- [] BBC News Classification: News Articles Categorization https://www.kaggle.com/competitions/learn-ai-bbc/overview\n",
    "\n",
    "**Documentation and References**\n",
    "- [] sklearn.decomposition.TruncatedSVD https://scikit-learn.org/stable/modules/generated/sklearn.decomposition.TruncatedSVD.html\n",
    "- [] Lemmatization, https://en.wikipedia.org/wiki/Lemmatization\n",
    "- []\n",
    "- []\n",
    "- []\n",
    "\n",
    "**Other Kaggle Reports**\n",
    "- [] Kaggle: bbc article classification https://www.kaggle.com/code/scrambledgabs/bbc-article-classification\n",
    "- [] Kaggle: BBC News Classification https://www.kaggle.com/code/conradkleykamp/bbc-news-classification#Unsupervised-Model:-Matrix-Factorization-(NMF)\n",
    "- [] Kaggle: Unsupervised - Matrix Factorization https://www.kaggle.com/code/mattison/unsupervised-matrix-factorization\n",
    "- [] Kaggle: Make a Classification for BBC News BY LSTM https://www.kaggle.com/code/mohamedbakrey/make-a-classification-for-bbc-news-by-lstm"
   ]
  },
  {
   "cell_type": "code",
   "execution_count": null,
   "id": "55dfcf91",
   "metadata": {
    "papermill": {
     "duration": 0.021813,
     "end_time": "2023-09-07T21:58:31.074427",
     "exception": false,
     "start_time": "2023-09-07T21:58:31.052614",
     "status": "completed"
    },
    "tags": []
   },
   "outputs": [],
   "source": []
  }
 ],
 "kernelspec": {
  "display_name": "Python 3",
  "language": "python",
  "name": "python3"
 },
 "language_info": {
  "codemirror_mode": {
   "name": "ipython",
   "version": 3
  },
  "file_extension": ".py",
  "mimetype": "text/x-python",
  "name": "python",
  "nbconvert_exporter": "python",
  "pygments_lexer": "ipython3",
  "version": "3.6.4"
 },
 "metadata": {
  "kernelspec": {
   "display_name": "Python 3",
   "language": "python",
   "name": "python3"
  },
  "language_info": {
   "codemirror_mode": {
    "name": "ipython",
    "version": 3
   },
   "file_extension": ".py",
   "mimetype": "text/x-python",
   "name": "python",
   "nbconvert_exporter": "python",
   "pygments_lexer": "ipython3",
   "version": "3.10.12"
  },
  "papermill": {
   "default_parameters": {},
   "duration": 55.892264,
   "end_time": "2023-09-07T21:58:32.420904",
   "environment_variables": {},
   "exception": null,
   "input_path": "__notebook__.ipynb",
   "output_path": "__notebook__.ipynb",
   "parameters": {},
   "start_time": "2023-09-07T21:57:36.528640",
   "version": "2.4.0"
  }
 },
 "nbformat": 4,
 "nbformat_minor": 5
}
