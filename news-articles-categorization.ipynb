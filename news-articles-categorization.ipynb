{
 "cells": [
  {
   "cell_type": "code",
   "execution_count": 1,
   "id": "efe0c2b0",
   "metadata": {
    "_cell_guid": "b1076dfc-b9ad-4769-8c92-a6c4dae69d19",
    "_uuid": "8f2839f25d086af736a60e9eeb907d3b93b6e0e5",
    "execution": {
     "iopub.execute_input": "2023-09-05T22:14:58.664902Z",
     "iopub.status.busy": "2023-09-05T22:14:58.664432Z",
     "iopub.status.idle": "2023-09-05T22:14:58.669621Z",
     "shell.execute_reply": "2023-09-05T22:14:58.668664Z"
    },
    "papermill": {
     "duration": 0.023329,
     "end_time": "2023-09-05T22:14:58.673909",
     "exception": false,
     "start_time": "2023-09-05T22:14:58.650580",
     "status": "completed"
    },
    "tags": []
   },
   "outputs": [],
   "source": [
    "# This Python 3 environment comes with many helpful analytics libraries installed\n",
    "# It is defined by the kaggle/python Docker image: https://github.com/kaggle/docker-python"
   ]
  },
  {
   "cell_type": "markdown",
   "id": "1c09ef60",
   "metadata": {
    "papermill": {
     "duration": 0.00882,
     "end_time": "2023-09-05T22:14:58.692500",
     "exception": false,
     "start_time": "2023-09-05T22:14:58.683680",
     "status": "completed"
    },
    "tags": []
   },
   "source": [
    "# News Articles Categorization\n",
    "**Thomas Bohn**   --   **2023-08-25**\n",
    "\n",
    "A report focused on modeling news artical categorization for BBC News focused on the application of natural language processing, unsupervised learning with matrxi factorization, and a comparison to supervised learning.\n",
    "\n",
    "--  [Main Report](https://github.com/TOM-BOHN/MsDS-news-articles-categorization/blob/main/news-articles-categorization.ipynb)  --  [Github Repo](https://github.com/TOM-BOHN/MsDS-news-articles-categorization)  --  [Presentation Slides](TBD)  --  [Presentation Video](TBD) --"
   ]
  },
  {
   "cell_type": "markdown",
   "id": "a8298071",
   "metadata": {
    "papermill": {
     "duration": 0.00952,
     "end_time": "2023-09-05T22:14:58.711202",
     "exception": false,
     "start_time": "2023-09-05T22:14:58.701682",
     "status": "completed"
    },
    "tags": []
   },
   "source": [
    "# 1.&nbsp;Introduction"
   ]
  },
  {
   "cell_type": "code",
   "execution_count": null,
   "id": "1ceaf39e",
   "metadata": {
    "papermill": {
     "duration": 0.009006,
     "end_time": "2023-09-05T22:14:58.729259",
     "exception": false,
     "start_time": "2023-09-05T22:14:58.720253",
     "status": "completed"
    },
    "tags": []
   },
   "outputs": [],
   "source": []
  },
  {
   "cell_type": "markdown",
   "id": "817857dd",
   "metadata": {
    "papermill": {
     "duration": 0.008655,
     "end_time": "2023-09-05T22:14:58.747061",
     "exception": false,
     "start_time": "2023-09-05T22:14:58.738406",
     "status": "completed"
    },
    "tags": []
   },
   "source": [
    "## Python Libraries\n",
    "\n",
    "The following python libraries are used in this notebook."
   ]
  },
  {
   "cell_type": "code",
   "execution_count": 2,
   "id": "22db3adf",
   "metadata": {
    "execution": {
     "iopub.execute_input": "2023-09-05T22:14:58.766270Z",
     "iopub.status.busy": "2023-09-05T22:14:58.765888Z",
     "iopub.status.idle": "2023-09-05T22:15:01.048176Z",
     "shell.execute_reply": "2023-09-05T22:15:01.047377Z"
    },
    "papermill": {
     "duration": 2.295138,
     "end_time": "2023-09-05T22:15:01.050701",
     "exception": false,
     "start_time": "2023-09-05T22:14:58.755563",
     "status": "completed"
    },
    "tags": []
   },
   "outputs": [
    {
     "name": "stderr",
     "output_type": "stream",
     "text": [
      "/opt/conda/lib/python3.10/site-packages/scipy/__init__.py:146: UserWarning: A NumPy version >=1.16.5 and <1.23.0 is required for this version of SciPy (detected version 1.23.5\n",
      "  warnings.warn(f\"A NumPy version >={np_minversion} and <{np_maxversion}\"\n"
     ]
    }
   ],
   "source": [
    "# File Connection and File Manipulation\n",
    "import os\n",
    "# from google.colab import drive\n",
    "\n",
    "# Basic Data Science Toolkits\n",
    "import pandas as pd\n",
    "import numpy as np\n",
    "import math\n",
    "import time\n",
    "\n",
    "# Data Vizualization\n",
    "import matplotlib.pyplot as plt\n",
    "from matplotlib.colors import Normalize\n",
    "from matplotlib import ticker\n",
    "import seaborn as sns\n",
    "\n",
    "# Text Mining\n",
    "import string\n",
    "from textblob import TextBlob\n",
    "\n",
    "\n",
    "# Data Models\n",
    "import sklearn\n",
    "from sklearn.ensemble import RandomForestClassifier\n",
    "\n",
    "# Data Model Scores\n",
    "from sklearn.metrics import roc_auc_score\n",
    "from sklearn.metrics import accuracy_score\n",
    "from sklearn.metrics import precision_score\n",
    "from sklearn.metrics import recall_score\n",
    "from sklearn.metrics import f1_score\n",
    "from sklearn.metrics import roc_curve\n",
    "\n",
    "# Import Data Model Evaluations\n",
    "from sklearn.model_selection import train_test_split\n",
    "from sklearn.datasets import make_classification\n",
    "from sklearn.metrics import make_scorer\n",
    "\n",
    "# Cross Validation, Grid Search, and K-Fold\n",
    "from sklearn.model_selection import cross_validate\n",
    "from sklearn.model_selection import cross_val_score\n",
    "from sklearn.model_selection import GridSearchCV\n",
    "from sklearn.model_selection import RepeatedStratifiedKFold"
   ]
  },
  {
   "cell_type": "markdown",
   "id": "2edf8ccb",
   "metadata": {
    "papermill": {
     "duration": 0.009224,
     "end_time": "2023-09-05T22:15:01.069714",
     "exception": false,
     "start_time": "2023-09-05T22:15:01.060490",
     "status": "completed"
    },
    "tags": []
   },
   "source": [
    "## Global Variables\n",
    "\n",
    "The following are global variables referenced in this notebook."
   ]
  },
  {
   "cell_type": "code",
   "execution_count": 3,
   "id": "d13a255a",
   "metadata": {
    "execution": {
     "iopub.execute_input": "2023-09-05T22:15:01.090035Z",
     "iopub.status.busy": "2023-09-05T22:15:01.089405Z",
     "iopub.status.idle": "2023-09-05T22:15:01.095440Z",
     "shell.execute_reply": "2023-09-05T22:15:01.094376Z"
    },
    "papermill": {
     "duration": 0.018439,
     "end_time": "2023-09-05T22:15:01.097348",
     "exception": false,
     "start_time": "2023-09-05T22:15:01.078909",
     "status": "completed"
    },
    "tags": []
   },
   "outputs": [
    {
     "name": "stdout",
     "output_type": "stream",
     "text": [
      "Level of Detail for functions is set to: 2\n"
     ]
    }
   ],
   "source": [
    "# Global Debug flag used to turn on and off more chatty blocks of code\n",
    "gDEBUG = False\n",
    "if gDEBUG: print('Debug is set to:', gDEBUG)\n",
    "# Global Level of Detail of table stats and details\n",
    "gLOD = 2\n",
    "print('Level of Detail for functions is set to:', gLOD)"
   ]
  },
  {
   "cell_type": "markdown",
   "id": "ffa6a23c",
   "metadata": {
    "papermill": {
     "duration": 0.00924,
     "end_time": "2023-09-05T22:15:01.115894",
     "exception": false,
     "start_time": "2023-09-05T22:15:01.106654",
     "status": "completed"
    },
    "tags": []
   },
   "source": [
    "# 2.&nbsp;Data Source"
   ]
  },
  {
   "cell_type": "code",
   "execution_count": 4,
   "id": "ca816616",
   "metadata": {
    "execution": {
     "iopub.execute_input": "2023-09-05T22:15:01.137138Z",
     "iopub.status.busy": "2023-09-05T22:15:01.136094Z",
     "iopub.status.idle": "2023-09-05T22:15:01.142661Z",
     "shell.execute_reply": "2023-09-05T22:15:01.141594Z"
    },
    "papermill": {
     "duration": 0.019144,
     "end_time": "2023-09-05T22:15:01.144653",
     "exception": false,
     "start_time": "2023-09-05T22:15:01.125509",
     "status": "completed"
    },
    "tags": []
   },
   "outputs": [
    {
     "name": "stdout",
     "output_type": "stream",
     "text": [
      "/kaggle/input/learn-ai-bbc/BBC News Train.csv\n",
      "/kaggle/input/learn-ai-bbc/BBC News Sample Solution.csv\n",
      "/kaggle/input/learn-ai-bbc/BBC News Test.csv\n"
     ]
    }
   ],
   "source": [
    "# Input data files are available in the read-only \"../input/\" directory\n",
    "# List all files under the input directory\n",
    "for dirname, _, filenames in os.walk('/kaggle/input'):\n",
    "    for filename in filenames:\n",
    "        print(os.path.join(dirname, filename))"
   ]
  },
  {
   "cell_type": "code",
   "execution_count": 5,
   "id": "43fcfefb",
   "metadata": {
    "execution": {
     "iopub.execute_input": "2023-09-05T22:15:01.164864Z",
     "iopub.status.busy": "2023-09-05T22:15:01.164216Z",
     "iopub.status.idle": "2023-09-05T22:15:01.168790Z",
     "shell.execute_reply": "2023-09-05T22:15:01.167858Z"
    },
    "papermill": {
     "duration": 0.017011,
     "end_time": "2023-09-05T22:15:01.170837",
     "exception": false,
     "start_time": "2023-09-05T22:15:01.153826",
     "status": "completed"
    },
    "tags": []
   },
   "outputs": [],
   "source": [
    "#label file paths\n",
    "path_dir = '/kaggle/input/learn-ai-bbc/'\n",
    "train_path = path_dir + 'BBC News Train.csv'\n",
    "test_path = path_dir + 'BBC News Test.csv'\n",
    "sample_solution_path = path_dir + 'BBC News Sample Solution.csv'"
   ]
  },
  {
   "cell_type": "code",
   "execution_count": 6,
   "id": "baa956b5",
   "metadata": {
    "execution": {
     "iopub.execute_input": "2023-09-05T22:15:01.190398Z",
     "iopub.status.busy": "2023-09-05T22:15:01.190075Z",
     "iopub.status.idle": "2023-09-05T22:15:01.400763Z",
     "shell.execute_reply": "2023-09-05T22:15:01.399682Z"
    },
    "papermill": {
     "duration": 0.223363,
     "end_time": "2023-09-05T22:15:01.403241",
     "exception": false,
     "start_time": "2023-09-05T22:15:01.179878",
     "status": "completed"
    },
    "tags": []
   },
   "outputs": [],
   "source": [
    "#import data\n",
    "df_train = pd.read_csv(train_path)\n",
    "df_test = pd.read_csv(test_path)\n",
    "df_sample_solution = pd.read_csv(sample_solution_path)\n",
    "\n",
    "#assign names to tables\n",
    "df_train.name = 'df_train'\n",
    "df_test.name = 'df_test'\n",
    "df_sample_solution.name = 'df_sample_solution'"
   ]
  },
  {
   "cell_type": "code",
   "execution_count": 7,
   "id": "265191ea",
   "metadata": {
    "execution": {
     "iopub.execute_input": "2023-09-05T22:15:01.424698Z",
     "iopub.status.busy": "2023-09-05T22:15:01.423867Z",
     "iopub.status.idle": "2023-09-05T22:15:01.433709Z",
     "shell.execute_reply": "2023-09-05T22:15:01.432796Z"
    },
    "papermill": {
     "duration": 0.022873,
     "end_time": "2023-09-05T22:15:01.435747",
     "exception": false,
     "start_time": "2023-09-05T22:15:01.412874",
     "status": "completed"
    },
    "tags": []
   },
   "outputs": [],
   "source": [
    "# Create a function to print key table details\n",
    "def quick_table_details (df_name, df, level_of_detail = 10):\n",
    "  # describe the shape and column summary\n",
    "  if level_of_detail >= 1:\n",
    "    print('\\n####', df_name, '####')\n",
    "    num_rows = df.shape[0]\n",
    "    num_cols = df.shape[1]\n",
    "    print('number of features (columns) = ' + str(num_cols))\n",
    "    print('number of observations (rows) = ' + str(num_rows))\n",
    "    print('----------------------------', '\\n')\n",
    "  # print the datatype counts\n",
    "  if level_of_detail >= 2:\n",
    "    print('DataType Counts:')\n",
    "    print(df.dtypes.value_counts())\n",
    "    print('----------------------------', '\\n')\n",
    "  # print a full list of column names\n",
    "  if level_of_detail >= 3:\n",
    "    print('Columns:')\n",
    "    print(df.columns)\n",
    "    print('----------------------------', '\\n')\n",
    "  #  expanded table details\n",
    "  if level_of_detail >= 4:\n",
    "    print('Description:')\n",
    "    print(df.describe(include='all'))\n",
    "    print('----------------------------', '\\n')\n",
    "    print('Info:')\n",
    "    print(df.info())\n",
    "    print('----------------------------', '\\n')\n",
    "  #  table records preview\n",
    "  if level_of_detail >= 5:\n",
    "    print('Table Preview:')\n",
    "    x_records = 3\n",
    "    print(df.head(x_records))\n",
    "    print('....')\n",
    "    print(df.tail(x_records))\n",
    "    print('----------------------------', '\\n')\n",
    "        "
   ]
  },
  {
   "cell_type": "code",
   "execution_count": 8,
   "id": "ad501802",
   "metadata": {
    "execution": {
     "iopub.execute_input": "2023-09-05T22:15:01.456270Z",
     "iopub.status.busy": "2023-09-05T22:15:01.455728Z",
     "iopub.status.idle": "2023-09-05T22:15:01.533249Z",
     "shell.execute_reply": "2023-09-05T22:15:01.530872Z"
    },
    "papermill": {
     "duration": 0.090377,
     "end_time": "2023-09-05T22:15:01.535715",
     "exception": false,
     "start_time": "2023-09-05T22:15:01.445338",
     "status": "completed"
    },
    "tags": []
   },
   "outputs": [
    {
     "name": "stdout",
     "output_type": "stream",
     "text": [
      "\n",
      "#### df_train ####\n",
      "number of features (columns) = 3\n",
      "number of observations (rows) = 1490\n",
      "---------------------------- \n",
      "\n",
      "DataType Counts:\n",
      "object    2\n",
      "int64     1\n",
      "dtype: int64\n",
      "---------------------------- \n",
      "\n",
      "Columns:\n",
      "Index(['ArticleId', 'Text', 'Category'], dtype='object')\n",
      "---------------------------- \n",
      "\n",
      "Description:\n",
      "          ArticleId                                               Text  \\\n",
      "count   1490.000000                                               1490   \n",
      "unique          NaN                                               1440   \n",
      "top             NaN  microsoft seeking spyware trojan microsoft is ...   \n",
      "freq            NaN                                                  2   \n",
      "mean    1119.696644                                                NaN   \n",
      "std      641.826283                                                NaN   \n",
      "min        2.000000                                                NaN   \n",
      "25%      565.250000                                                NaN   \n",
      "50%     1112.500000                                                NaN   \n",
      "75%     1680.750000                                                NaN   \n",
      "max     2224.000000                                                NaN   \n",
      "\n",
      "       Category  \n",
      "count      1490  \n",
      "unique        5  \n",
      "top       sport  \n",
      "freq        346  \n",
      "mean        NaN  \n",
      "std         NaN  \n",
      "min         NaN  \n",
      "25%         NaN  \n",
      "50%         NaN  \n",
      "75%         NaN  \n",
      "max         NaN  \n",
      "---------------------------- \n",
      "\n",
      "Info:\n",
      "<class 'pandas.core.frame.DataFrame'>\n",
      "RangeIndex: 1490 entries, 0 to 1489\n",
      "Data columns (total 3 columns):\n",
      " #   Column     Non-Null Count  Dtype \n",
      "---  ------     --------------  ----- \n",
      " 0   ArticleId  1490 non-null   int64 \n",
      " 1   Text       1490 non-null   object\n",
      " 2   Category   1490 non-null   object\n",
      "dtypes: int64(1), object(2)\n",
      "memory usage: 35.0+ KB\n",
      "None\n",
      "---------------------------- \n",
      "\n",
      "Table Preview:\n",
      "   ArticleId                                               Text  Category\n",
      "0       1833  worldcom ex-boss launches defence lawyers defe...  business\n",
      "1        154  german business confidence slides german busin...  business\n",
      "2       1101  bbc poll indicates economic gloom citizens in ...  business\n",
      "....\n",
      "      ArticleId                                               Text  Category\n",
      "1487       1590  weak dollar hits reuters revenues at media gro...  business\n",
      "1488       1587  apple ipod family expands market apple has exp...      tech\n",
      "1489        538  santy worm makes unwelcome visit thousands of ...      tech\n",
      "---------------------------- \n",
      "\n",
      "\n",
      "#### df_test ####\n",
      "number of features (columns) = 2\n",
      "number of observations (rows) = 735\n",
      "---------------------------- \n",
      "\n",
      "DataType Counts:\n",
      "int64     1\n",
      "object    1\n",
      "dtype: int64\n",
      "---------------------------- \n",
      "\n",
      "Columns:\n",
      "Index(['ArticleId', 'Text'], dtype='object')\n",
      "---------------------------- \n",
      "\n",
      "Description:\n",
      "          ArticleId                                               Text\n",
      "count    735.000000                                                735\n",
      "unique          NaN                                                722\n",
      "top             NaN  boothroyd calls for lords speaker betty boothr...\n",
      "freq            NaN                                                  2\n",
      "mean    1099.424490                                                NaN\n",
      "std      643.925514                                                NaN\n",
      "min        1.000000                                                NaN\n",
      "25%      545.500000                                                NaN\n",
      "50%     1116.000000                                                NaN\n",
      "75%     1657.500000                                                NaN\n",
      "max     2225.000000                                                NaN\n",
      "---------------------------- \n",
      "\n",
      "Info:\n",
      "<class 'pandas.core.frame.DataFrame'>\n",
      "RangeIndex: 735 entries, 0 to 734\n",
      "Data columns (total 2 columns):\n",
      " #   Column     Non-Null Count  Dtype \n",
      "---  ------     --------------  ----- \n",
      " 0   ArticleId  735 non-null    int64 \n",
      " 1   Text       735 non-null    object\n",
      "dtypes: int64(1), object(1)\n",
      "memory usage: 11.6+ KB\n",
      "None\n",
      "---------------------------- \n",
      "\n",
      "Table Preview:\n",
      "   ArticleId                                               Text\n",
      "0       1018  qpr keeper day heads for preston queens park r...\n",
      "1       1319  software watching while you work software that...\n",
      "2       1138  d arcy injury adds to ireland woe gordon d arc...\n",
      "....\n",
      "     ArticleId                                               Text\n",
      "732       1704  sport betting rules in spotlight a group of mp...\n",
      "733        206  alfa romeos  to get gm engines  fiat is to sto...\n",
      "734        471  citizenship event for 18s touted citizenship c...\n",
      "---------------------------- \n",
      "\n",
      "\n",
      "#### df_sample_solution ####\n",
      "number of features (columns) = 2\n",
      "number of observations (rows) = 735\n",
      "---------------------------- \n",
      "\n",
      "DataType Counts:\n",
      "int64     1\n",
      "object    1\n",
      "dtype: int64\n",
      "---------------------------- \n",
      "\n",
      "Columns:\n",
      "Index(['ArticleId', 'Category'], dtype='object')\n",
      "---------------------------- \n",
      "\n",
      "Description:\n",
      "          ArticleId Category\n",
      "count    735.000000      735\n",
      "unique          NaN        5\n",
      "top             NaN    sport\n",
      "freq            NaN      147\n",
      "mean    1099.424490      NaN\n",
      "std      643.925514      NaN\n",
      "min        1.000000      NaN\n",
      "25%      545.500000      NaN\n",
      "50%     1116.000000      NaN\n",
      "75%     1657.500000      NaN\n",
      "max     2225.000000      NaN\n",
      "---------------------------- \n",
      "\n",
      "Info:\n",
      "<class 'pandas.core.frame.DataFrame'>\n",
      "RangeIndex: 735 entries, 0 to 734\n",
      "Data columns (total 2 columns):\n",
      " #   Column     Non-Null Count  Dtype \n",
      "---  ------     --------------  ----- \n",
      " 0   ArticleId  735 non-null    int64 \n",
      " 1   Category   735 non-null    object\n",
      "dtypes: int64(1), object(1)\n",
      "memory usage: 11.6+ KB\n",
      "None\n",
      "---------------------------- \n",
      "\n",
      "Table Preview:\n",
      "   ArticleId  Category\n",
      "0       1018     sport\n",
      "1       1319      tech\n",
      "2       1138  business\n",
      "....\n",
      "     ArticleId       Category\n",
      "732       1704       business\n",
      "733        206  entertainment\n",
      "734        471       politics\n",
      "---------------------------- \n",
      "\n"
     ]
    }
   ],
   "source": [
    "quick_table_details (df_train.name, df_train, level_of_detail = 10)\n",
    "quick_table_details (df_test.name, df_test, level_of_detail = 10)\n",
    "quick_table_details (df_sample_solution.name, df_sample_solution, level_of_detail = 10)"
   ]
  },
  {
   "cell_type": "markdown",
   "id": "83377820",
   "metadata": {
    "papermill": {
     "duration": 0.009668,
     "end_time": "2023-09-05T22:15:01.555483",
     "exception": false,
     "start_time": "2023-09-05T22:15:01.545815",
     "status": "completed"
    },
    "tags": []
   },
   "source": []
  },
  {
   "cell_type": "markdown",
   "id": "dc566640",
   "metadata": {
    "papermill": {
     "duration": 0.009494,
     "end_time": "2023-09-05T22:15:01.574931",
     "exception": false,
     "start_time": "2023-09-05T22:15:01.565437",
     "status": "completed"
    },
    "tags": []
   },
   "source": []
  },
  {
   "cell_type": "markdown",
   "id": "9126455e",
   "metadata": {
    "papermill": {
     "duration": 0.009324,
     "end_time": "2023-09-05T22:15:01.593943",
     "exception": false,
     "start_time": "2023-09-05T22:15:01.584619",
     "status": "completed"
    },
    "tags": []
   },
   "source": [
    "# 3.&nbsp;Exploratory Data Analysis (EDA)"
   ]
  },
  {
   "cell_type": "markdown",
   "id": "ec82b97e",
   "metadata": {
    "papermill": {
     "duration": 0.00934,
     "end_time": "2023-09-05T22:15:01.612621",
     "exception": false,
     "start_time": "2023-09-05T22:15:01.603281",
     "status": "completed"
    },
    "tags": []
   },
   "source": [
    "# 4.&nbsp;Data Cleansing"
   ]
  },
  {
   "cell_type": "markdown",
   "id": "c3ecbe31",
   "metadata": {
    "papermill": {
     "duration": 0.009609,
     "end_time": "2023-09-05T22:15:01.631725",
     "exception": false,
     "start_time": "2023-09-05T22:15:01.622116",
     "status": "completed"
    },
    "tags": []
   },
   "source": [
    "## Data Type Munging"
   ]
  },
  {
   "cell_type": "code",
   "execution_count": 9,
   "id": "72cd57af",
   "metadata": {
    "execution": {
     "iopub.execute_input": "2023-09-05T22:15:01.653365Z",
     "iopub.status.busy": "2023-09-05T22:15:01.652313Z",
     "iopub.status.idle": "2023-09-05T22:15:01.664122Z",
     "shell.execute_reply": "2023-09-05T22:15:01.663389Z"
    },
    "papermill": {
     "duration": 0.02483,
     "end_time": "2023-09-05T22:15:01.666098",
     "exception": false,
     "start_time": "2023-09-05T22:15:01.641268",
     "status": "completed"
    },
    "tags": []
   },
   "outputs": [],
   "source": [
    "# convert a list of fields to a specific datatype\n",
    "def convert_dtype_basic(df, data_type, col_list, LOD = 10):\n",
    "  print('## Updating the datatypes in dataframe =', df.name,'##')\n",
    "  for field in col_list:\n",
    "    if field in df.columns:\n",
    "      # drop the fields\n",
    "      df[field] = df[field].astype(data_type)\n",
    "      print('[-]', 'field =', field, 'change to datatype =', data_type)\n",
    "    else:\n",
    "      # display a message that the drop did not work\n",
    "      print('[!]', 'field =', field, 'is not in the DataFrame.')\n",
    "  print()\n",
    "  return df\n",
    "\n",
    "# create a function to review how many fields still need to be mapped to a datatype\n",
    "def dtype_review_update(df, completed_list):\n",
    "  all_cols = df.columns\n",
    "  remaining_cols = set(all_cols)\n",
    "  # remove any field on the completed list from the remaining col list\n",
    "  for i in range(len(completed_list)):\n",
    "    remaining_cols = remaining_cols - set(completed_list[i])\n",
    "  remaining_cols = list(remaining_cols)\n",
    "\n",
    "  #Pritn a summary of columns remaining\n",
    "  print('There are', len(remaining_cols), 'columns to still map.')\n",
    "  print('List of remaining columns:', remaining_cols)\n",
    "  print()\n",
    "  if gDEBUG: print(df_s.dtypes[remaining_cols])\n",
    "  if gDEBUG: print()\n",
    "\n",
    "  return remaining_cols\n",
    "    \n",
    "# display a summary message once the datatype mapping is completed\n",
    "def dtype_update_completed(df, dtype_list, completed_list):\n",
    "  df_dtype_count = df.dtypes.value_counts()\n",
    "  #print(df_dtype_count)\n",
    "  print('Completed update of data type for', len(df.columns), 'columns.')\n",
    "  for i in range(df_dtype_count.shape[0]):\n",
    "      print('-- Corrected or validated data type for', df_dtype_count.iloc[i], list(df_dtype_count.index)[i], 'columns.')\n",
    "  print()\n",
    "  if gDEBUG: print(df.info())\n",
    "  if gDEBUG: print('')"
   ]
  },
  {
   "cell_type": "code",
   "execution_count": 10,
   "id": "a58d231b",
   "metadata": {
    "execution": {
     "iopub.execute_input": "2023-09-05T22:15:01.687286Z",
     "iopub.status.busy": "2023-09-05T22:15:01.686755Z",
     "iopub.status.idle": "2023-09-05T22:15:01.704152Z",
     "shell.execute_reply": "2023-09-05T22:15:01.702745Z"
    },
    "papermill": {
     "duration": 0.030392,
     "end_time": "2023-09-05T22:15:01.706317",
     "exception": false,
     "start_time": "2023-09-05T22:15:01.675925",
     "status": "completed"
    },
    "tags": []
   },
   "outputs": [
    {
     "name": "stdout",
     "output_type": "stream",
     "text": [
      "## Updating the datatypes in dataframe = df_train ##\n",
      "[-] field = ArticleId change to datatype = object\n",
      "[-] field = Text change to datatype = object\n",
      "\n",
      "## Updating the datatypes in dataframe = df_train ##\n",
      "[-] field = Category change to datatype = category\n",
      "\n",
      "## Updating the datatypes in dataframe = df_test ##\n",
      "[-] field = ArticleId change to datatype = object\n",
      "[-] field = Text change to datatype = object\n",
      "\n",
      "## Updating the datatypes in dataframe = df_test ##\n",
      "[!] field = Category is not in the DataFrame.\n",
      "\n",
      "## Updating the datatypes in dataframe = df_sample_solution ##\n",
      "[-] field = ArticleId change to datatype = object\n",
      "[!] field = Text is not in the DataFrame.\n",
      "\n",
      "## Updating the datatypes in dataframe = df_sample_solution ##\n",
      "[-] field = Category change to datatype = category\n",
      "\n",
      "There are 0 columns to still map.\n",
      "List of remaining columns: []\n",
      "\n",
      "There are 0 columns to still map.\n",
      "List of remaining columns: []\n",
      "\n",
      "There are 0 columns to still map.\n",
      "List of remaining columns: []\n",
      "\n",
      "Completed update of data type for 3 columns.\n",
      "-- Corrected or validated data type for 2 object columns.\n",
      "-- Corrected or validated data type for 1 category columns.\n",
      "\n",
      "Completed update of data type for 2 columns.\n",
      "-- Corrected or validated data type for 2 object columns.\n",
      "\n",
      "Completed update of data type for 2 columns.\n",
      "-- Corrected or validated data type for 1 object columns.\n",
      "-- Corrected or validated data type for 1 category columns.\n",
      "\n"
     ]
    }
   ],
   "source": [
    "# Convert String, Categoriy fields\n",
    "str_cols = ['ArticleId', 'Text']\n",
    "cat_cols = ['Category']\n",
    "# df_train\n",
    "df_train = convert_dtype_basic(df = df_train, data_type = 'object', col_list = str_cols)\n",
    "df_train = convert_dtype_basic(df = df_train, data_type = 'category', col_list = cat_cols)\n",
    "# df_test\n",
    "df_test = convert_dtype_basic(df = df_test, data_type = 'object', col_list = str_cols)\n",
    "df_test = convert_dtype_basic(df = df_test, data_type = 'category', col_list = cat_cols)\n",
    "# df_sample_solution\n",
    "df_sample_solution = convert_dtype_basic(df = df_sample_solution, data_type = 'object', col_list = str_cols)\n",
    "df_sample_solution = convert_dtype_basic(df = df_sample_solution, data_type = 'category', col_list = cat_cols)\n",
    "\n",
    "# check the progress of datatype mapping\n",
    "completed_list = [str_cols, cat_cols]\n",
    "# there should be no fields left to map\n",
    "fields_to_review = dtype_review_update(df = df_train, completed_list = completed_list)\n",
    "fields_to_review = dtype_review_update(df = df_test, completed_list = completed_list)\n",
    "fields_to_review = dtype_review_update(df = df_sample_solution, completed_list = completed_list)\n",
    "\n",
    "# display a the datatype mapping complete message and summary\n",
    "dtype_list = ['string', 'category']\n",
    "dtype_update_completed(df = df_train, dtype_list = dtype_list, completed_list = completed_list)\n",
    "dtype_update_completed(df = df_test, dtype_list = dtype_list, completed_list = completed_list)\n",
    "dtype_update_completed(df = df_sample_solution, dtype_list = dtype_list, completed_list = completed_list)"
   ]
  },
  {
   "cell_type": "markdown",
   "id": "33ca1653",
   "metadata": {
    "papermill": {
     "duration": 0.009952,
     "end_time": "2023-09-05T22:15:01.726520",
     "exception": false,
     "start_time": "2023-09-05T22:15:01.716568",
     "status": "completed"
    },
    "tags": []
   },
   "source": [
    "# 5.&nbsp;Feature Engineering"
   ]
  },
  {
   "cell_type": "markdown",
   "id": "7d4e09ef",
   "metadata": {
    "papermill": {
     "duration": 0.009869,
     "end_time": "2023-09-05T22:15:01.746259",
     "exception": false,
     "start_time": "2023-09-05T22:15:01.736390",
     "status": "completed"
    },
    "tags": []
   },
   "source": [
    "# 6.&nbsp;Model: Unsupervised: None-Negative Matrix Factorization (NMF)"
   ]
  },
  {
   "cell_type": "markdown",
   "id": "3f908ea2",
   "metadata": {
    "papermill": {
     "duration": 0.009352,
     "end_time": "2023-09-05T22:15:01.764803",
     "exception": false,
     "start_time": "2023-09-05T22:15:01.755451",
     "status": "completed"
    },
    "tags": []
   },
   "source": [
    "# 7.&nbsp;Model: Unsupervised: Singular Value Decomposition (SVD)"
   ]
  },
  {
   "cell_type": "markdown",
   "id": "3e5836d8",
   "metadata": {
    "papermill": {
     "duration": 0.009397,
     "end_time": "2023-09-05T22:15:01.783635",
     "exception": false,
     "start_time": "2023-09-05T22:15:01.774238",
     "status": "completed"
    },
    "tags": []
   },
   "source": [
    "# 8.&nbsp; Model: Supervised: TBDsingular value decomposition (SVD)"
   ]
  },
  {
   "cell_type": "markdown",
   "id": "6378be47",
   "metadata": {
    "papermill": {
     "duration": 0.00925,
     "end_time": "2023-09-05T22:15:01.802022",
     "exception": false,
     "start_time": "2023-09-05T22:15:01.792772",
     "status": "completed"
    },
    "tags": []
   },
   "source": [
    "# 9.&nbsp; Model Comparison"
   ]
  },
  {
   "cell_type": "markdown",
   "id": "89e570da",
   "metadata": {
    "papermill": {
     "duration": 0.009256,
     "end_time": "2023-09-05T22:15:01.821017",
     "exception": false,
     "start_time": "2023-09-05T22:15:01.811761",
     "status": "completed"
    },
    "tags": []
   },
   "source": [
    "# 10.&nbsp; Results"
   ]
  },
  {
   "cell_type": "markdown",
   "id": "2939d7e3",
   "metadata": {
    "papermill": {
     "duration": 0.009404,
     "end_time": "2023-09-05T22:15:01.839782",
     "exception": false,
     "start_time": "2023-09-05T22:15:01.830378",
     "status": "completed"
    },
    "tags": []
   },
   "source": [
    "# 11.&nbsp; References\n",
    "\n",
    "**Competition**\n",
    "- [] BBC News Classification: News Articles Categorization https://www.kaggle.com/competitions/learn-ai-bbc/overview\n",
    "\n",
    "**Documentation and References**\n",
    "- [] sklearn.decomposition.TruncatedSVD https://scikit-learn.org/stable/modules/generated/sklearn.decomposition.TruncatedSVD.html\n",
    "- []\n",
    "- []\n",
    "- []\n",
    "- []\n",
    "\n",
    "**Other Kaggle Reports**\n",
    "- [] Kaggle: bbc article classification https://www.kaggle.com/code/scrambledgabs/bbc-article-classification\n",
    "- [] Kaggle: BBC News Classification https://www.kaggle.com/code/conradkleykamp/bbc-news-classification#Unsupervised-Model:-Matrix-Factorization-(NMF)\n",
    "- [] Kaggle: Unsupervised - Matrix Factorization https://www.kaggle.com/code/mattison/unsupervised-matrix-factorization\n",
    "- [] Kaggle: Make a Classification for BBC News BY LSTM https://www.kaggle.com/code/mohamedbakrey/make-a-classification-for-bbc-news-by-lstm"
   ]
  },
  {
   "cell_type": "code",
   "execution_count": null,
   "id": "3b0ed8c3",
   "metadata": {
    "papermill": {
     "duration": 0.009358,
     "end_time": "2023-09-05T22:15:01.858683",
     "exception": false,
     "start_time": "2023-09-05T22:15:01.849325",
     "status": "completed"
    },
    "tags": []
   },
   "outputs": [],
   "source": []
  }
 ],
 "kernelspec": {
  "display_name": "Python 3",
  "language": "python",
  "name": "python3"
 },
 "language_info": {
  "codemirror_mode": {
   "name": "ipython",
   "version": 3
  },
  "file_extension": ".py",
  "mimetype": "text/x-python",
  "name": "python",
  "nbconvert_exporter": "python",
  "pygments_lexer": "ipython3",
  "version": "3.6.4"
 },
 "metadata": {
  "kernelspec": {
   "display_name": "Python 3",
   "language": "python",
   "name": "python3"
  },
  "language_info": {
   "codemirror_mode": {
    "name": "ipython",
    "version": 3
   },
   "file_extension": ".py",
   "mimetype": "text/x-python",
   "name": "python",
   "nbconvert_exporter": "python",
   "pygments_lexer": "ipython3",
   "version": "3.10.12"
  },
  "papermill": {
   "default_parameters": {},
   "duration": 14.68596,
   "end_time": "2023-09-05T22:15:02.789971",
   "environment_variables": {},
   "exception": null,
   "input_path": "__notebook__.ipynb",
   "output_path": "__notebook__.ipynb",
   "parameters": {},
   "start_time": "2023-09-05T22:14:48.104011",
   "version": "2.4.0"
  }
 },
 "nbformat": 4,
 "nbformat_minor": 5
}
