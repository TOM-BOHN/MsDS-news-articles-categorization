{
 "cells": [
  {
   "cell_type": "code",
   "execution_count": 1,
   "id": "aa38837e",
   "metadata": {
    "_cell_guid": "b1076dfc-b9ad-4769-8c92-a6c4dae69d19",
    "_uuid": "8f2839f25d086af736a60e9eeb907d3b93b6e0e5",
    "execution": {
     "iopub.execute_input": "2023-08-25T22:17:19.468282Z",
     "iopub.status.busy": "2023-08-25T22:17:19.467879Z",
     "iopub.status.idle": "2023-08-25T22:17:19.474287Z",
     "shell.execute_reply": "2023-08-25T22:17:19.473144Z"
    },
    "papermill": {
     "duration": 0.015574,
     "end_time": "2023-08-25T22:17:19.476915",
     "exception": false,
     "start_time": "2023-08-25T22:17:19.461341",
     "status": "completed"
    },
    "tags": []
   },
   "outputs": [],
   "source": [
    "# This Python 3 environment comes with many helpful analytics libraries installed\n",
    "# It is defined by the kaggle/python Docker image: https://github.com/kaggle/docker-python"
   ]
  },
  {
   "cell_type": "markdown",
   "id": "dd775270",
   "metadata": {
    "papermill": {
     "duration": 0.004,
     "end_time": "2023-08-25T22:17:19.485419",
     "exception": false,
     "start_time": "2023-08-25T22:17:19.481419",
     "status": "completed"
    },
    "tags": []
   },
   "source": [
    "# News Articles Categorization\n",
    "**Thomas Bohn**   --   **2023-08-25**\n",
    "\n",
    "A report focused on modeling news artical categorization for BBC News focused on the application of natural language processing, unsupervised learning with matrxi factorization, and a comparison to supervised learning.\n",
    "\n",
    "--  [Main Report](https://github.com/TOM-BOHN/MsDS-news-articles-categorization/blob/main/news-articles-categorization.ipynb)  --  [Github Repo](https://github.com/TOM-BOHN/MsDS-news-articles-categorization)  --  [Presentation Slides](TBD)  --  [Presentation Video](TBD) --"
   ]
  },
  {
   "cell_type": "markdown",
   "id": "71ea0122",
   "metadata": {
    "papermill": {
     "duration": 0.004195,
     "end_time": "2023-08-25T22:17:19.494426",
     "exception": false,
     "start_time": "2023-08-25T22:17:19.490231",
     "status": "completed"
    },
    "tags": []
   },
   "source": [
    "# 1.&nbsp;Introduction"
   ]
  },
  {
   "cell_type": "code",
   "execution_count": null,
   "id": "2ed082e4",
   "metadata": {
    "papermill": {
     "duration": 0.003865,
     "end_time": "2023-08-25T22:17:19.502483",
     "exception": false,
     "start_time": "2023-08-25T22:17:19.498618",
     "status": "completed"
    },
    "tags": []
   },
   "outputs": [],
   "source": []
  },
  {
   "cell_type": "markdown",
   "id": "b38e0399",
   "metadata": {
    "papermill": {
     "duration": 0.004103,
     "end_time": "2023-08-25T22:17:19.510977",
     "exception": false,
     "start_time": "2023-08-25T22:17:19.506874",
     "status": "completed"
    },
    "tags": []
   },
   "source": [
    "## Python Libraries\n",
    "\n",
    "The following python libraries are used in this notebook."
   ]
  },
  {
   "cell_type": "code",
   "execution_count": 2,
   "id": "2b3d4f83",
   "metadata": {
    "execution": {
     "iopub.execute_input": "2023-08-25T22:17:19.520973Z",
     "iopub.status.busy": "2023-08-25T22:17:19.520580Z",
     "iopub.status.idle": "2023-08-25T22:17:22.426028Z",
     "shell.execute_reply": "2023-08-25T22:17:22.424162Z"
    },
    "papermill": {
     "duration": 2.914161,
     "end_time": "2023-08-25T22:17:22.429245",
     "exception": false,
     "start_time": "2023-08-25T22:17:19.515084",
     "status": "completed"
    },
    "tags": []
   },
   "outputs": [
    {
     "name": "stderr",
     "output_type": "stream",
     "text": [
      "/opt/conda/lib/python3.10/site-packages/scipy/__init__.py:146: UserWarning: A NumPy version >=1.16.5 and <1.23.0 is required for this version of SciPy (detected version 1.23.5\n",
      "  warnings.warn(f\"A NumPy version >={np_minversion} and <{np_maxversion}\"\n"
     ]
    }
   ],
   "source": [
    "# File Connection and File Manipulation\n",
    "import os\n",
    "# from google.colab import drive\n",
    "\n",
    "# Basic Data Science Toolkits\n",
    "import pandas as pd\n",
    "import numpy as np\n",
    "import math\n",
    "import time\n",
    "\n",
    "# Data Vizualization\n",
    "import matplotlib.pyplot as plt\n",
    "from matplotlib.colors import Normalize\n",
    "from matplotlib import ticker\n",
    "import seaborn as sns\n",
    "\n",
    "# Text Mining\n",
    "import string\n",
    "from textblob import TextBlob\n",
    "\n",
    "\n",
    "# Data Models\n",
    "import sklearn\n",
    "from sklearn.ensemble import RandomForestClassifier\n",
    "\n",
    "# Data Model Scores\n",
    "from sklearn.metrics import roc_auc_score\n",
    "from sklearn.metrics import accuracy_score\n",
    "from sklearn.metrics import precision_score\n",
    "from sklearn.metrics import recall_score\n",
    "from sklearn.metrics import f1_score\n",
    "from sklearn.metrics import roc_curve\n",
    "\n",
    "# Import Data Model Evaluations\n",
    "from sklearn.model_selection import train_test_split\n",
    "from sklearn.datasets import make_classification\n",
    "from sklearn.metrics import make_scorer\n",
    "\n",
    "# Cross Validation, Grid Search, and K-Fold\n",
    "from sklearn.model_selection import cross_validate\n",
    "from sklearn.model_selection import cross_val_score\n",
    "from sklearn.model_selection import GridSearchCV\n",
    "from sklearn.model_selection import RepeatedStratifiedKFold"
   ]
  },
  {
   "cell_type": "markdown",
   "id": "eac45f73",
   "metadata": {
    "papermill": {
     "duration": 0.004057,
     "end_time": "2023-08-25T22:17:22.440475",
     "exception": false,
     "start_time": "2023-08-25T22:17:22.436418",
     "status": "completed"
    },
    "tags": []
   },
   "source": [
    "# 2.&nbsp;Data Source"
   ]
  },
  {
   "cell_type": "code",
   "execution_count": 3,
   "id": "61fc4200",
   "metadata": {
    "execution": {
     "iopub.execute_input": "2023-08-25T22:17:22.450954Z",
     "iopub.status.busy": "2023-08-25T22:17:22.450588Z",
     "iopub.status.idle": "2023-08-25T22:17:22.456862Z",
     "shell.execute_reply": "2023-08-25T22:17:22.456137Z"
    },
    "papermill": {
     "duration": 0.014006,
     "end_time": "2023-08-25T22:17:22.458676",
     "exception": false,
     "start_time": "2023-08-25T22:17:22.444670",
     "status": "completed"
    },
    "tags": []
   },
   "outputs": [
    {
     "name": "stdout",
     "output_type": "stream",
     "text": [
      "/kaggle/input/learn-ai-bbc/BBC News Train.csv\n",
      "/kaggle/input/learn-ai-bbc/BBC News Sample Solution.csv\n",
      "/kaggle/input/learn-ai-bbc/BBC News Test.csv\n"
     ]
    }
   ],
   "source": [
    "# Input data files are available in the read-only \"../input/\" directory\n",
    "# List all files under the input directory\n",
    "for dirname, _, filenames in os.walk('/kaggle/input'):\n",
    "    for filename in filenames:\n",
    "        print(os.path.join(dirname, filename))"
   ]
  },
  {
   "cell_type": "code",
   "execution_count": 4,
   "id": "b0237b7d",
   "metadata": {
    "execution": {
     "iopub.execute_input": "2023-08-25T22:17:22.472862Z",
     "iopub.status.busy": "2023-08-25T22:17:22.472172Z",
     "iopub.status.idle": "2023-08-25T22:17:22.476951Z",
     "shell.execute_reply": "2023-08-25T22:17:22.475791Z"
    },
    "papermill": {
     "duration": 0.014405,
     "end_time": "2023-08-25T22:17:22.479547",
     "exception": false,
     "start_time": "2023-08-25T22:17:22.465142",
     "status": "completed"
    },
    "tags": []
   },
   "outputs": [],
   "source": [
    "#label file paths\n",
    "path_dir = '/kaggle/input/learn-ai-bbc/'\n",
    "train_path = path_dir + 'BBC News Train.csv'\n",
    "test_path = path_dir + 'BBC News Test.csv'\n",
    "sample_solution_path = path_dir + 'BBC News Sample Solution.csv'"
   ]
  },
  {
   "cell_type": "code",
   "execution_count": 5,
   "id": "e57c1635",
   "metadata": {
    "execution": {
     "iopub.execute_input": "2023-08-25T22:17:22.492375Z",
     "iopub.status.busy": "2023-08-25T22:17:22.491910Z",
     "iopub.status.idle": "2023-08-25T22:17:22.647118Z",
     "shell.execute_reply": "2023-08-25T22:17:22.646141Z"
    },
    "papermill": {
     "duration": 0.165308,
     "end_time": "2023-08-25T22:17:22.649664",
     "exception": false,
     "start_time": "2023-08-25T22:17:22.484356",
     "status": "completed"
    },
    "tags": []
   },
   "outputs": [],
   "source": [
    "#import data\n",
    "df_train = pd.read_csv(train_path)\n",
    "df_test = pd.read_csv(test_path)\n",
    "df_sample_solution = pd.read_csv(sample_solution_path)"
   ]
  },
  {
   "cell_type": "code",
   "execution_count": 6,
   "id": "4d3abb0a",
   "metadata": {
    "execution": {
     "iopub.execute_input": "2023-08-25T22:17:22.660477Z",
     "iopub.status.busy": "2023-08-25T22:17:22.660084Z",
     "iopub.status.idle": "2023-08-25T22:17:22.668600Z",
     "shell.execute_reply": "2023-08-25T22:17:22.667528Z"
    },
    "papermill": {
     "duration": 0.016599,
     "end_time": "2023-08-25T22:17:22.670955",
     "exception": false,
     "start_time": "2023-08-25T22:17:22.654356",
     "status": "completed"
    },
    "tags": []
   },
   "outputs": [],
   "source": [
    "# Create a function to print key table details\n",
    "def quick_table_details (df_name, df, level_of_detail = 10):\n",
    "  # describe the shape and column summary\n",
    "  if level_of_detail >= 1:\n",
    "    print('\\n####', df_name, '####')\n",
    "    num_rows = df.shape[0]\n",
    "    num_cols = df.shape[1]\n",
    "    print('number of features (columns) = ' + str(num_cols))\n",
    "    print('number of observations (rows) = ' + str(num_rows))\n",
    "    print('----------------------------', '\\n')\n",
    "  # print the datatype counts\n",
    "  if level_of_detail >= 2:\n",
    "    print('DataType Counts:')\n",
    "    print(df.dtypes.value_counts())\n",
    "    print('----------------------------', '\\n')\n",
    "  # print a full list of column names\n",
    "  if level_of_detail >= 3:\n",
    "    print('Columns:')\n",
    "    print(df.columns)\n",
    "    print('----------------------------', '\\n')\n",
    "  #  expanded table details\n",
    "  if level_of_detail >= 4:\n",
    "    print('Description:')\n",
    "    print(df.describe(include='all'))\n",
    "    print('----------------------------', '\\n')\n",
    "    print('Info:')\n",
    "    print(df.info())\n",
    "    print('----------------------------', '\\n')\n",
    "  #  table records preview\n",
    "  if level_of_detail >= 5:\n",
    "    print('Table Preview:')\n",
    "    x_records = 3\n",
    "    print(df.head(x_records))\n",
    "    print('....')\n",
    "    print(df.tail(x_records))\n",
    "    print('----------------------------', '\\n')\n",
    "        "
   ]
  },
  {
   "cell_type": "code",
   "execution_count": 7,
   "id": "76f6424e",
   "metadata": {
    "execution": {
     "iopub.execute_input": "2023-08-25T22:17:22.682759Z",
     "iopub.status.busy": "2023-08-25T22:17:22.682234Z",
     "iopub.status.idle": "2023-08-25T22:17:22.763678Z",
     "shell.execute_reply": "2023-08-25T22:17:22.761539Z"
    },
    "papermill": {
     "duration": 0.09065,
     "end_time": "2023-08-25T22:17:22.766269",
     "exception": false,
     "start_time": "2023-08-25T22:17:22.675619",
     "status": "completed"
    },
    "tags": []
   },
   "outputs": [
    {
     "name": "stdout",
     "output_type": "stream",
     "text": [
      "\n",
      "#### df_train ####\n",
      "number of features (columns) = 3\n",
      "number of observations (rows) = 1490\n",
      "---------------------------- \n",
      "\n",
      "DataType Counts:\n",
      "object    2\n",
      "int64     1\n",
      "dtype: int64\n",
      "---------------------------- \n",
      "\n",
      "Columns:\n",
      "Index(['ArticleId', 'Text', 'Category'], dtype='object')\n",
      "---------------------------- \n",
      "\n",
      "Description:\n",
      "          ArticleId                                               Text  \\\n",
      "count   1490.000000                                               1490   \n",
      "unique          NaN                                               1440   \n",
      "top             NaN  microsoft seeking spyware trojan microsoft is ...   \n",
      "freq            NaN                                                  2   \n",
      "mean    1119.696644                                                NaN   \n",
      "std      641.826283                                                NaN   \n",
      "min        2.000000                                                NaN   \n",
      "25%      565.250000                                                NaN   \n",
      "50%     1112.500000                                                NaN   \n",
      "75%     1680.750000                                                NaN   \n",
      "max     2224.000000                                                NaN   \n",
      "\n",
      "       Category  \n",
      "count      1490  \n",
      "unique        5  \n",
      "top       sport  \n",
      "freq        346  \n",
      "mean        NaN  \n",
      "std         NaN  \n",
      "min         NaN  \n",
      "25%         NaN  \n",
      "50%         NaN  \n",
      "75%         NaN  \n",
      "max         NaN  \n",
      "---------------------------- \n",
      "\n",
      "Info:\n",
      "<class 'pandas.core.frame.DataFrame'>\n",
      "RangeIndex: 1490 entries, 0 to 1489\n",
      "Data columns (total 3 columns):\n",
      " #   Column     Non-Null Count  Dtype \n",
      "---  ------     --------------  ----- \n",
      " 0   ArticleId  1490 non-null   int64 \n",
      " 1   Text       1490 non-null   object\n",
      " 2   Category   1490 non-null   object\n",
      "dtypes: int64(1), object(2)\n",
      "memory usage: 35.0+ KB\n",
      "None\n",
      "---------------------------- \n",
      "\n",
      "Table Preview:\n",
      "   ArticleId                                               Text  Category\n",
      "0       1833  worldcom ex-boss launches defence lawyers defe...  business\n",
      "1        154  german business confidence slides german busin...  business\n",
      "2       1101  bbc poll indicates economic gloom citizens in ...  business\n",
      "....\n",
      "      ArticleId                                               Text  Category\n",
      "1487       1590  weak dollar hits reuters revenues at media gro...  business\n",
      "1488       1587  apple ipod family expands market apple has exp...      tech\n",
      "1489        538  santy worm makes unwelcome visit thousands of ...      tech\n",
      "---------------------------- \n",
      "\n",
      "\n",
      "#### df_test ####\n",
      "number of features (columns) = 2\n",
      "number of observations (rows) = 735\n",
      "---------------------------- \n",
      "\n",
      "DataType Counts:\n",
      "int64     1\n",
      "object    1\n",
      "dtype: int64\n",
      "---------------------------- \n",
      "\n",
      "Columns:\n",
      "Index(['ArticleId', 'Text'], dtype='object')\n",
      "---------------------------- \n",
      "\n",
      "Description:\n",
      "          ArticleId                                               Text\n",
      "count    735.000000                                                735\n",
      "unique          NaN                                                722\n",
      "top             NaN  boothroyd calls for lords speaker betty boothr...\n",
      "freq            NaN                                                  2\n",
      "mean    1099.424490                                                NaN\n",
      "std      643.925514                                                NaN\n",
      "min        1.000000                                                NaN\n",
      "25%      545.500000                                                NaN\n",
      "50%     1116.000000                                                NaN\n",
      "75%     1657.500000                                                NaN\n",
      "max     2225.000000                                                NaN\n",
      "---------------------------- \n",
      "\n",
      "Info:\n",
      "<class 'pandas.core.frame.DataFrame'>\n",
      "RangeIndex: 735 entries, 0 to 734\n",
      "Data columns (total 2 columns):\n",
      " #   Column     Non-Null Count  Dtype \n",
      "---  ------     --------------  ----- \n",
      " 0   ArticleId  735 non-null    int64 \n",
      " 1   Text       735 non-null    object\n",
      "dtypes: int64(1), object(1)\n",
      "memory usage: 11.6+ KB\n",
      "None\n",
      "---------------------------- \n",
      "\n",
      "Table Preview:\n",
      "   ArticleId                                               Text\n",
      "0       1018  qpr keeper day heads for preston queens park r...\n",
      "1       1319  software watching while you work software that...\n",
      "2       1138  d arcy injury adds to ireland woe gordon d arc...\n",
      "....\n",
      "     ArticleId                                               Text\n",
      "732       1704  sport betting rules in spotlight a group of mp...\n",
      "733        206  alfa romeos  to get gm engines  fiat is to sto...\n",
      "734        471  citizenship event for 18s touted citizenship c...\n",
      "---------------------------- \n",
      "\n",
      "\n",
      "#### df_sample_solution ####\n",
      "number of features (columns) = 2\n",
      "number of observations (rows) = 735\n",
      "---------------------------- \n",
      "\n",
      "DataType Counts:\n",
      "int64     1\n",
      "object    1\n",
      "dtype: int64\n",
      "---------------------------- \n",
      "\n",
      "Columns:\n",
      "Index(['ArticleId', 'Category'], dtype='object')\n",
      "---------------------------- \n",
      "\n",
      "Description:\n",
      "          ArticleId Category\n",
      "count    735.000000      735\n",
      "unique          NaN        5\n",
      "top             NaN    sport\n",
      "freq            NaN      147\n",
      "mean    1099.424490      NaN\n",
      "std      643.925514      NaN\n",
      "min        1.000000      NaN\n",
      "25%      545.500000      NaN\n",
      "50%     1116.000000      NaN\n",
      "75%     1657.500000      NaN\n",
      "max     2225.000000      NaN\n",
      "---------------------------- \n",
      "\n",
      "Info:\n",
      "<class 'pandas.core.frame.DataFrame'>\n",
      "RangeIndex: 735 entries, 0 to 734\n",
      "Data columns (total 2 columns):\n",
      " #   Column     Non-Null Count  Dtype \n",
      "---  ------     --------------  ----- \n",
      " 0   ArticleId  735 non-null    int64 \n",
      " 1   Category   735 non-null    object\n",
      "dtypes: int64(1), object(1)\n",
      "memory usage: 11.6+ KB\n",
      "None\n",
      "---------------------------- \n",
      "\n",
      "Table Preview:\n",
      "   ArticleId  Category\n",
      "0       1018     sport\n",
      "1       1319      tech\n",
      "2       1138  business\n",
      "....\n",
      "     ArticleId       Category\n",
      "732       1704       business\n",
      "733        206  entertainment\n",
      "734        471       politics\n",
      "---------------------------- \n",
      "\n"
     ]
    }
   ],
   "source": [
    "quick_table_details ('df_train', df_train, level_of_detail = 10)\n",
    "quick_table_details ('df_test', df_test, level_of_detail = 10)\n",
    "quick_table_details ('df_sample_solution', df_sample_solution, level_of_detail = 10)"
   ]
  },
  {
   "cell_type": "markdown",
   "id": "70d4e55d",
   "metadata": {
    "papermill": {
     "duration": 0.004299,
     "end_time": "2023-08-25T22:17:22.775578",
     "exception": false,
     "start_time": "2023-08-25T22:17:22.771279",
     "status": "completed"
    },
    "tags": []
   },
   "source": []
  },
  {
   "cell_type": "markdown",
   "id": "2f74580f",
   "metadata": {
    "papermill": {
     "duration": 0.005107,
     "end_time": "2023-08-25T22:17:22.785216",
     "exception": false,
     "start_time": "2023-08-25T22:17:22.780109",
     "status": "completed"
    },
    "tags": []
   },
   "source": [
    "# 3.&nbsp;Exploratory Data Analysis (EDA)"
   ]
  },
  {
   "cell_type": "markdown",
   "id": "3879c4a3",
   "metadata": {
    "papermill": {
     "duration": 0.004792,
     "end_time": "2023-08-25T22:17:22.796322",
     "exception": false,
     "start_time": "2023-08-25T22:17:22.791530",
     "status": "completed"
    },
    "tags": []
   },
   "source": [
    "# 4.&nbsp;Data Cleansing"
   ]
  },
  {
   "cell_type": "markdown",
   "id": "cedf8a36",
   "metadata": {
    "papermill": {
     "duration": 0.004484,
     "end_time": "2023-08-25T22:17:22.805468",
     "exception": false,
     "start_time": "2023-08-25T22:17:22.800984",
     "status": "completed"
    },
    "tags": []
   },
   "source": [
    "# 5.&nbsp;Feature Engineering"
   ]
  },
  {
   "cell_type": "markdown",
   "id": "6a15a0df",
   "metadata": {
    "papermill": {
     "duration": 0.004313,
     "end_time": "2023-08-25T22:17:22.814583",
     "exception": false,
     "start_time": "2023-08-25T22:17:22.810270",
     "status": "completed"
    },
    "tags": []
   },
   "source": [
    "# 6.&nbsp;Model: Unsupervised: None-Negative Matrix Factorization (NMF)"
   ]
  },
  {
   "cell_type": "markdown",
   "id": "e45d784e",
   "metadata": {
    "papermill": {
     "duration": 0.004314,
     "end_time": "2023-08-25T22:17:22.823629",
     "exception": false,
     "start_time": "2023-08-25T22:17:22.819315",
     "status": "completed"
    },
    "tags": []
   },
   "source": [
    "# 7.&nbsp;Model: Unsupervised: Singular Value Decomposition (SVD)"
   ]
  },
  {
   "cell_type": "markdown",
   "id": "103d5203",
   "metadata": {
    "papermill": {
     "duration": 0.00433,
     "end_time": "2023-08-25T22:17:22.832493",
     "exception": false,
     "start_time": "2023-08-25T22:17:22.828163",
     "status": "completed"
    },
    "tags": []
   },
   "source": [
    "# 8.&nbsp; Model: Supervised: TBDsingular value decomposition (SVD)"
   ]
  },
  {
   "cell_type": "markdown",
   "id": "d81df7cf",
   "metadata": {
    "papermill": {
     "duration": 0.004284,
     "end_time": "2023-08-25T22:17:22.841326",
     "exception": false,
     "start_time": "2023-08-25T22:17:22.837042",
     "status": "completed"
    },
    "tags": []
   },
   "source": [
    "# 9.&nbsp; Model Comparison"
   ]
  },
  {
   "cell_type": "markdown",
   "id": "4d9f8ace",
   "metadata": {
    "papermill": {
     "duration": 0.004443,
     "end_time": "2023-08-25T22:17:22.850549",
     "exception": false,
     "start_time": "2023-08-25T22:17:22.846106",
     "status": "completed"
    },
    "tags": []
   },
   "source": [
    "# 10.&nbsp; Results"
   ]
  },
  {
   "cell_type": "markdown",
   "id": "92eb8d93",
   "metadata": {
    "papermill": {
     "duration": 0.004638,
     "end_time": "2023-08-25T22:17:22.860492",
     "exception": false,
     "start_time": "2023-08-25T22:17:22.855854",
     "status": "completed"
    },
    "tags": []
   },
   "source": [
    "# 11.&nbsp; References\n",
    "\n",
    "**Competition**\n",
    "- [] BBC News Classification: News Articles Categorization https://www.kaggle.com/competitions/learn-ai-bbc/overview\n",
    "\n",
    "**Documentation and References**\n",
    "- [] sklearn.decomposition.TruncatedSVD https://scikit-learn.org/stable/modules/generated/sklearn.decomposition.TruncatedSVD.html\n",
    "- []\n",
    "- []\n",
    "- []\n",
    "- []\n",
    "\n",
    "**Other Kaggle Reports**\n",
    "- [] Kaggle: bbc article classification https://www.kaggle.com/code/scrambledgabs/bbc-article-classification\n",
    "- [] Kaggle: BBC News Classification https://www.kaggle.com/code/conradkleykamp/bbc-news-classification#Unsupervised-Model:-Matrix-Factorization-(NMF)\n",
    "- [] Kaggle: Unsupervised - Matrix Factorization https://www.kaggle.com/code/mattison/unsupervised-matrix-factorization\n",
    "- [] Kaggle: Make a Classification for BBC News BY LSTM https://www.kaggle.com/code/mohamedbakrey/make-a-classification-for-bbc-news-by-lstm"
   ]
  },
  {
   "cell_type": "code",
   "execution_count": null,
   "id": "60dd2439",
   "metadata": {
    "papermill": {
     "duration": 0.00563,
     "end_time": "2023-08-25T22:17:22.872145",
     "exception": false,
     "start_time": "2023-08-25T22:17:22.866515",
     "status": "completed"
    },
    "tags": []
   },
   "outputs": [],
   "source": []
  }
 ],
 "metadata": {
  "kernelspec": {
   "display_name": "Python 3",
   "language": "python",
   "name": "python3"
  },
  "language_info": {
   "codemirror_mode": {
    "name": "ipython",
    "version": 3
   },
   "file_extension": ".py",
   "mimetype": "text/x-python",
   "name": "python",
   "nbconvert_exporter": "python",
   "pygments_lexer": "ipython3",
   "version": "3.10.12"
  },
  "papermill": {
   "default_parameters": {},
   "duration": 14.120393,
   "end_time": "2023-08-25T22:17:24.002086",
   "environment_variables": {},
   "exception": null,
   "input_path": "__notebook__.ipynb",
   "output_path": "__notebook__.ipynb",
   "parameters": {},
   "start_time": "2023-08-25T22:17:09.881693",
   "version": "2.4.0"
  }
 },
 "nbformat": 4,
 "nbformat_minor": 5
}
